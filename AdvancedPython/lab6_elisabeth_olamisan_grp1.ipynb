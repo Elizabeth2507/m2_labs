{
  "cells": [
    {
      "cell_type": "markdown",
      "metadata": {
        "tags": [],
        "id": "ZiwNhg-MPn0e"
      },
      "source": [
        "# Lab 6: getting to know classes\n",
        "\n",
        "## Goals of this lab\n",
        "\n",
        "This lab will familiarize you with the basics of python object-oriented programming style (or \"OOP\" for short). The main point of this lab is to have you understand the basics of objects in python, as they are ubiquitous and very handy."
      ]
    },
    {
      "cell_type": "markdown",
      "metadata": {
        "id": "6xjw3De0Pn0h"
      },
      "source": [
        "## Part #1 A Tale of One Hero\n",
        "**Pay attention to an empty list in parent class. Check if list an empty,  you have to reinitialize it in constructor!!!**\n"
      ]
    },
    {
      "cell_type": "markdown",
      "metadata": {
        "id": "ukNeTQjoPn0i"
      },
      "source": [
        "## Review #1: custom types, or \"classes\"\n",
        "\n",
        "As you now know, variables in python have different types: a `str` such as `\"42\"` is different from an `int` such as `42`. More complex types like `list` allow you to handle more complex variables with multiple elements.\n",
        "\n",
        "Object oriented programming allows you to extend the existing base types and define your own types. We refer to these custom types as \"classes\". Here's an example:"
      ]
    },
    {
      "cell_type": "code",
      "execution_count": 186,
      "metadata": {
        "id": "2keIw3euPn0j"
      },
      "outputs": [],
      "source": [
        "class Monkey:\n",
        "    \"\"\"A class describing monkeys.\"\"\"\n",
        "    def __init__(self, monkey_species, number_of_peanuts_owned):\n",
        "        self.monkey_species = monkey_species\n",
        "        self.number_of_peanuts = number_of_peanuts_owned"
      ]
    },
    {
      "cell_type": "markdown",
      "metadata": {
        "id": "yYQuXp47Pn0k"
      },
      "source": [
        "\n",
        "Here, we just implemented a class `Monkey` which we'll be using to describe monkeys throughout our code.\n",
        "\n",
        "The class contains one bound function, or a **method**, called `__init__`. This is a special method we call a **constructor**: it *creates* one monkey, using external information we pass as arguments (what species of monkey we're dealing with, how many peanuts do our monkeys have...).\n",
        "\n",
        "Another thing of note is the `self` argument of this constructor. This refers to a specific monkey **object**, i.e., an instance of the class `Monkey`, the actual monkey being constructed here.\n",
        "\n",
        "Having implemented the `Monkey` class, we can now represent monkeys in our code:\n"
      ]
    },
    {
      "cell_type": "code",
      "execution_count": 187,
      "metadata": {
        "id": "UsSWJfu8Pn0l",
        "colab": {
          "base_uri": "https://localhost:8080/"
        },
        "outputId": "bbd63957-b76d-46b9-c8d0-6c8fcd7bb821"
      },
      "outputs": [
        {
          "output_type": "stream",
          "name": "stdout",
          "text": [
            "<__main__.Monkey object at 0x7b6dbb177d00>\n",
            "<__main__.Monkey object at 0x7b6dbb177d30>\n",
            "chimpanzee\n",
            "pirate gorilla\n",
            "42\n",
            "1\n"
          ]
        }
      ],
      "source": [
        "noam_chimpsky = Monkey(\"chimpanzee\", 42)\n",
        "harambe = Monkey(\"pirate gorilla\", 1)\n",
        "\n",
        "print(noam_chimpsky)\n",
        "print(harambe)\n",
        "\n",
        "print(noam_chimpsky.monkey_species)\n",
        "print(harambe.monkey_species)\n",
        "\n",
        "print(noam_chimpsky.number_of_peanuts)\n",
        "print(harambe.number_of_peanuts)\n"
      ]
    },
    {
      "cell_type": "markdown",
      "metadata": {
        "id": "g2W3u1QlPn0l"
      },
      "source": [
        "As you can see, we have managed to create `Monkey` objects.\n",
        "\n",
        "What's more, our monkeys also have specific **attributes**: they each have their species, as well as a number of peanuts. These attributes allow us to describe information regarding our objects. Different objects of the same class may have different values for the same attribute, but they all have the attribute.\n",
        "\n",
        "## Exercise #1: Name your monkeys\n",
        "\n",
        "Re-implement the `Monkey` class in the cell below so that constructed monkeys also have a `name` attribute."
      ]
    },
    {
      "cell_type": "code",
      "execution_count": 188,
      "metadata": {
        "id": "OCe76VvYPn0m",
        "colab": {
          "base_uri": "https://localhost:8080/"
        },
        "outputId": "62fe80de-8a94-4689-e97c-5f160dcefa06"
      },
      "outputs": [
        {
          "output_type": "stream",
          "name": "stdout",
          "text": [
            "Noam Chimpsky\n",
            "Harambe\n"
          ]
        }
      ],
      "source": [
        "class Monkey:\n",
        "    \"\"\"A class describing monkeys.\"\"\"\n",
        "    def __init__(self, name, monkey_species, number_of_peanuts_owned):\n",
        "        self.name = name\n",
        "        self.monkey_species = monkey_species\n",
        "        self.number_of_peanuts_owned = number_of_peanuts_owned\n",
        "\n",
        "\n",
        "noam_chimpsky = Monkey(\"Noam Chimpsky\", \"chimpanzee\", 42)\n",
        "harambe = Monkey(\"Harambe\", \"pirate gorilla\", 1)\n",
        "print(noam_chimpsky.name)\n",
        "print(harambe.name)"
      ]
    },
    {
      "cell_type": "markdown",
      "metadata": {
        "id": "c3J5BOW2Pn0m"
      },
      "source": [
        "### Side-note: naming conventions\n",
        "\n",
        "As a general rule of thumb, python classes are named in \"camel case\": capitalized first letters, no space. So, suppose you want to represent bad guys, then you'd name the corresponding class `BadGuy`.\n",
        "\n",
        "In python, variables and objects are also conventionally named in \"snake case\": everything in lowercase, with spaces represented by underscores `_`. Hence the `noam_chimpsky`\n",
        "\n",
        "## Exercise #2: Create your own class\n",
        "\n",
        "Create a class called `Hero`. `Hero` objects should have two attributes: a `name` and a `super_power`."
      ]
    },
    {
      "cell_type": "code",
      "execution_count": 189,
      "metadata": {
        "id": "Bt0mNkk_Pn0n",
        "colab": {
          "base_uri": "https://localhost:8080/"
        },
        "outputId": "01bcb9f0-f91d-4dea-e728-ff2c0bed217e"
      },
      "outputs": [
        {
          "output_type": "stream",
          "name": "stdout",
          "text": [
            "Lucky Luke\n",
            "shooting faster than his shadow\n"
          ]
        }
      ],
      "source": [
        "class Hero:\n",
        "    def __init__(self, name, super_power):\n",
        "        self.name = name\n",
        "        self.super_power = super_power\n",
        "\n",
        "\n",
        "lucky_luke = Hero(\"Lucky Luke\", super_power=\"shooting faster than his shadow\")\n",
        "print(lucky_luke.name)\n",
        "print(lucky_luke.super_power)"
      ]
    },
    {
      "cell_type": "markdown",
      "metadata": {
        "id": "K72DK3OjPn0n"
      },
      "source": [
        "## Review #2:  Bound functions, or \"methods\"\n",
        "\n",
        "One very powerful aspect of objects is that we can supplement them with custom functions. This allows us to define behavior specifically for objects of our class.\n",
        "\n",
        "One example of a method is the function `list.append(elem)`, which adds an element at the end of a list. This behavior is specific for lists, and it wouldn't make sense to have it for integers or monkeys.\n",
        "\n",
        "Here's how we implement methods:"
      ]
    },
    {
      "cell_type": "code",
      "execution_count": 190,
      "metadata": {
        "id": "2d-20mOJPn0o",
        "colab": {
          "base_uri": "https://localhost:8080/"
        },
        "outputId": "8e04c5e2-1282-49ba-a1e7-7ac60f4f9e51"
      },
      "outputs": [
        {
          "output_type": "stream",
          "name": "stdout",
          "text": [
            "Welcome to my evil lair, hero!\n",
            "I am Dr. Doom!\n",
            "I am so evil that I have stolen 0 peanuts from random monkeys!\n"
          ]
        }
      ],
      "source": [
        "class BadGuy:\n",
        "    \"\"\"A class describing the arch-nemisis of a hero!\"\"\"\n",
        "    def __init__(self, name):\n",
        "        self.name = name\n",
        "        self.stolen_peanuts = 0\n",
        "\n",
        "    def greetings(self):\n",
        "        print(\"Welcome to my evil lair, hero!\")\n",
        "        print(\"I am %s!\" % self.name)\n",
        "        print(\"I am so evil that I have stolen %i peanuts from random monkeys!\" % self.stolen_peanuts)\n",
        "\n",
        "dr_doom = BadGuy(\"Dr. Doom\")\n",
        "dr_doom.greetings()"
      ]
    },
    {
      "cell_type": "markdown",
      "metadata": {
        "id": "fEUCA4yWPn0o"
      },
      "source": [
        "As you can see, we use the `self` argument to represent the object itself. This `self` argument gives you access to the attributes of the object itself.\n",
        "\n",
        "**NB**: All object methods must contain this `self` argument, as the first positional argument of the method. Otherwise the python interpreter will be unable to correctly handle your code.\n",
        "\n",
        "## Exercise #3: With great powers come great implementations\n",
        "\n",
        "Modify your implementation of the `Hero` class to add a method called `use_power`. When called, this method should print a message describing the hero using his super power!\n"
      ]
    },
    {
      "cell_type": "code",
      "execution_count": 191,
      "metadata": {
        "id": "7qhj8Q9pPn0o",
        "colab": {
          "base_uri": "https://localhost:8080/"
        },
        "outputId": "fbd5d335-0aea-4d2b-8104-04d5763b3c47"
      },
      "outputs": [
        {
          "output_type": "stream",
          "name": "stdout",
          "text": [
            "I'm Lucky Luke and I'm using my powers of shooting faster than their shadow!\n"
          ]
        }
      ],
      "source": [
        "# Modify your implementation of the `Hero` class from exercise 2\n",
        "class Hero:\n",
        "    def __init__(self, name, super_power):\n",
        "        self.name = name\n",
        "        self.super_power = super_power\n",
        "\n",
        "    def use_power(self):\n",
        "        print(f\"I'm {self.name} and I'm using my powers of {self.super_power}!\")\n",
        "\n",
        "\n",
        "lucky_luke = Hero(\"Lucky Luke\", super_power=\"shooting faster than their shadow\")\n",
        "lucky_luke.use_power()\n",
        "# Should print \"I'm Lucky Luke and I'm using my powers of shooting faster than their shadow!\""
      ]
    },
    {
      "cell_type": "markdown",
      "metadata": {
        "id": "sA3VkBlNPn0p"
      },
      "source": [
        "## Exercise #4:  Tying it all up\n",
        "\n",
        "Modify the implementation of the `BadGuy` class in review 2, to add a method called `steal_peanut`.\n",
        "\n",
        "- This method should have one positional argument `monkey_victim`, which should be a `Monkey ` object.\n",
        "- If the `Monkey` object owns a positive number of peanuts, then remove one peanut from it, add one to the amount of peanuts stolen by the `BadGuy` object. Print a message to describe the process.\n",
        "- If the `Monkey` has zero peanuts, print a message saying that the `BadGuy` couldn't steal peanuts as the `monkey` didn't have any.\n",
        "\n",
        "Modify the implementation of the `Hero` class to add a method called `defeat`.\n",
        "- This method should have one positional argument `loser_badguy`, as well as one keyword argument `mistreated_monkeys`, defaulting to an empty list.\n",
        "- Start by using the hero's super-power, by calling the hero's `use_power` method.\n",
        "- Print a message stating that the `BadGuy` has been vanquished.\n",
        "- Retrieve all the peanuts stolen by the `BadGuy`: get the number of peanuts stolen by the `BadGuy`, and then set the bad guy's `stolen_peanuts` attribute to zero.\n",
        "- Print a message stating how many peanuts were retrieved.\n",
        "- If there are any victim `Monkey` in your `mistreated_monkeys`, distribute the retrieved peanuts fairly among them (all monkeys should receive the same number of peanuts) and print a custom message stating how many peanuts are given to each monkey (state the names of the monkeys!). (Note: if there are any remaining peanuts that you cannot distribute fairly, the monkeys are happy to let you have those as a reward for helping them.)\n",
        "\n",
        "**You are free to decide the exact messages that you display**.\n",
        "\n",
        "Once you're done, uncomment the last instruction in the following cell and run it to see the story unfold!"
      ]
    },
    {
      "cell_type": "code",
      "execution_count": 192,
      "metadata": {
        "id": "3XhOWUIxPn0p",
        "colab": {
          "base_uri": "https://localhost:8080/"
        },
        "outputId": "c0e5d53f-d7c7-4796-9c1f-877f23aa2c30"
      },
      "outputs": [
        {
          "output_type": "stream",
          "name": "stdout",
          "text": [
            "Bad guy Dr. Doom stealed peanuts of Noam Chimpsky monkey.\n",
            "Bad guy Dr. Doom stealed peanuts of Harambe monkey.\n",
            "Bad guy Dr. Doom stealed peanuts of Noam Chimpsky monkey.\n",
            "BadGuy Dr. Doom couldn't steal peanuts as the monkey Harambe didn't have any.\n",
            "Bad guy Dr. Doom stealed peanuts of Noam Chimpsky monkey.\n",
            "BadGuy Dr. Doom couldn't steal peanuts as the monkey Harambe didn't have any.\n",
            "Bad guy Dr. Doom stealed peanuts of Noam Chimpsky monkey.\n",
            "BadGuy Dr. Doom couldn't steal peanuts as the monkey Harambe didn't have any.\n",
            "Bad guy Dr. Doom stealed peanuts of Noam Chimpsky monkey.\n",
            "BadGuy Dr. Doom couldn't steal peanuts as the monkey Harambe didn't have any.\n",
            "Bad guy Dr. Doom stealed peanuts of Noam Chimpsky monkey.\n",
            "BadGuy Dr. Doom couldn't steal peanuts as the monkey Harambe didn't have any.\n",
            "Bad guy Dr. Doom stealed peanuts of Noam Chimpsky monkey.\n",
            "BadGuy Dr. Doom couldn't steal peanuts as the monkey Harambe didn't have any.\n",
            "Bad guy Dr. Doom stealed peanuts of Noam Chimpsky monkey.\n",
            "BadGuy Dr. Doom couldn't steal peanuts as the monkey Harambe didn't have any.\n",
            "Bad guy Dr. Doom stealed peanuts of Noam Chimpsky monkey.\n",
            "BadGuy Dr. Doom couldn't steal peanuts as the monkey Harambe didn't have any.\n",
            "Bad guy Dr. Doom stealed peanuts of Noam Chimpsky monkey.\n",
            "BadGuy Dr. Doom couldn't steal peanuts as the monkey Harambe didn't have any.\n",
            "Welcome to my evil lair, hero!\n",
            "I am Dr. Doom!\n",
            "I am so evil that I have stolen 11 peanuts from random monkeys!\n",
            "I'm Lucky Luke and I'm using my powers of shooting faster than his shadow!\n",
            "BadGuy Lucky Luke has been vanquished.\n",
            "11 peanuts stolen by Dr. Doom\n",
            "11 were retrieved.\n",
            "Number of peanuts:  11\n",
            "Monkeys:  2\n",
            "1\n",
            "Gifted peanuts: 1\n"
          ]
        }
      ],
      "source": [
        "class BadGuy:\n",
        "    \"\"\"A class describing the arch-nemisis of a hero!\"\"\"\n",
        "    def __init__(self, name):\n",
        "        self.name = name\n",
        "        self.stolen_peanuts = 0\n",
        "\n",
        "    def greetings(self):\n",
        "        print(\"Welcome to my evil lair, hero!\")\n",
        "        print(\"I am %s!\" % self.name)\n",
        "        print(\"I am so evil that I have stolen %i peanuts from random monkeys!\" % self.stolen_peanuts)\n",
        "\n",
        "    def steal_peanut(self, monkey_victim: Monkey) -> None:\n",
        "        if monkey_victim.number_of_peanuts_owned > 0:\n",
        "            monkey_victim.number_of_peanuts_owned -= 1\n",
        "            self.stolen_peanuts += 1\n",
        "            print(f\"Bad guy {self.name} stealed peanuts of {monkey_victim.name} monkey.\")\n",
        "        else:\n",
        "            print(f\"BadGuy {self.name} couldn't steal peanuts as the monkey {monkey_victim.name} didn't have any.\")\n",
        "\n",
        "\n",
        "class Hero:\n",
        "    def __init__(self, name, super_power):\n",
        "        self.name = name\n",
        "        self.super_power = super_power\n",
        "\n",
        "    def use_power(self):\n",
        "        print(f\"I'm {self.name} and I'm using my powers of {self.super_power}!\")\n",
        "\n",
        "    def defeat(self, loser_badguy, mistreated_monkeys=list()):\n",
        "        self.use_power()\n",
        "        print(f\"BadGuy {self.name} has been vanquished.\")\n",
        "        print(f\"{loser_badguy.stolen_peanuts} peanuts stolen by {loser_badguy.name}\")\n",
        "        retrieved_peanuts = loser_badguy.stolen_peanuts\n",
        "        loser_badguy.stolen_peanuts = 0\n",
        "        print(f\"{retrieved_peanuts} were retrieved.\")\n",
        "\n",
        "        gifted_peanuts = 0\n",
        "        # Distribute stolen peanuts\n",
        "        print(\"Number of peanuts: \", retrieved_peanuts)\n",
        "        if mistreated_monkeys is None:\n",
        "          mistreated_monkeys = []\n",
        "\n",
        "        num_mistreated_monkeys = len(mistreated_monkeys)\n",
        "        print(\"Monkeys: \", num_mistreated_monkeys)\n",
        "\n",
        "        if num_mistreated_monkeys != 0:\n",
        "            print(retrieved_peanuts % num_mistreated_monkeys)\n",
        "            if retrieved_peanuts % num_mistreated_monkeys != 0:\n",
        "                gifted_peanuts = retrieved_peanuts % num_mistreated_monkeys\n",
        "                print(f\"Gifted peanuts: {gifted_peanuts}\")\n",
        "            else:\n",
        "                print(\"The peanuts distributed fairly\")\n",
        "        else:\n",
        "            print(\"No monkeys were provided for distribution.\")\n",
        "\n",
        "\n",
        "def tell_a_story():\n",
        "    \"\"\"Tells the great tale of a heroic cow-boy saving oppressed monkeys for the cruel Dr. Doom\"\"\"\n",
        "    monkeys = [\n",
        "        Monkey(\"Noam Chimpsky\", \"chimpanzee\", 10),\n",
        "        Monkey(\"Harambe\", \"pirate gorilla\", 1),\n",
        "    ]\n",
        "    bad_guy = BadGuy(\"Dr. Doom\")\n",
        "\n",
        "    while any(m.number_of_peanuts_owned > 0 for m in monkeys):\n",
        "        for monkey in monkeys:\n",
        "            bad_guy.steal_peanut(monkey)\n",
        "\n",
        "    hero = Hero(\"Lucky Luke\", super_power=\"shooting faster than his shadow\")\n",
        "    bad_guy.greetings()\n",
        "    hero.defeat(bad_guy, mistreated_monkeys=monkeys)\n",
        "\n",
        "\n",
        "# Uncomment this when you're done implementing everything\n",
        "tell_a_story()"
      ]
    },
    {
      "cell_type": "markdown",
      "metadata": {
        "id": "00yAHwGJPn0p"
      },
      "source": [
        "## Part #2 Primatology"
      ]
    },
    {
      "cell_type": "markdown",
      "metadata": {
        "id": "SJnAB_17Pn0q"
      },
      "source": [
        "### Review #3 Basic Class\n",
        "\n",
        "Let’s create a class to represent all possible apes! To start with, our friendly apes will all have their own names, stash of nuts, last known living place, as well as whether they understand American Sign Language.\n",
        "\n",
        "```Python\n",
        "class Ape:\n",
        "    def __init__(self, name, nut_stash, location, speaks_asl=False):\n",
        "        self.name = name\n",
        "        self.nut_stash = nut_stash\n",
        "        self.location = location\n",
        "        self.speaks_asl = speaks_asl\n",
        "```\n",
        "\n",
        "Our argument `speaks_asl` will be a boolean. For now, let's have `nut_stash` be an integer, the number of nuts they have. Other arguments to this constructor will be strings.\n",
        "\n",
        "Running the following code cell will create a class object `Ape` and print some information about it.\n",
        "\n",
        "**Note**: *If you change the content of this class definition, you will need to re-execute the code cell for it to have any effect. Any instance objects of the old class object will not be automatically updated, so you may need to rerun instantiations of this class object as well.*"
      ]
    },
    {
      "cell_type": "code",
      "execution_count": 193,
      "metadata": {
        "id": "baBEXcMTPn0q",
        "colab": {
          "base_uri": "https://localhost:8080/"
        },
        "outputId": "5a831f80-4ef1-4afe-9140-71b833c39273"
      },
      "outputs": [
        {
          "output_type": "stream",
          "name": "stdout",
          "text": [
            "<class '__main__.Ape'>\n",
            "[<class '__main__.Ape'>, <class 'object'>]\n",
            "<function Ape.__init__ at 0x7b6d9660f520>\n"
          ]
        }
      ],
      "source": [
        "class Ape:\n",
        "    def __init__(self, name, nut_stash, location, speaks_asl=False):\n",
        "        self.name = name\n",
        "        self.nut_stash = nut_stash\n",
        "        self.location = location\n",
        "        self.speaks_asl = speaks_asl\n",
        "\n",
        "print(Ape)\n",
        "print(Ape.mro()) # Method Resolution Order\n",
        "print(Ape.__init__)"
      ]
    },
    {
      "cell_type": "markdown",
      "metadata": {
        "id": "0rzrzxoePn0q"
      },
      "source": [
        "We create an instance of the class by instantiating the class object, supplying some arguments.\n",
        "\n",
        "```Python\n",
        "washoe = Ape(\"Washoe\", 41, \"Central Washington University\", speaks_asl=True)\n",
        "```\n",
        "\n",
        "### Exercise #5: Meet your Monkey\n",
        "\n",
        "Print out the four attributes of the `washoe` instance object."
      ]
    },
    {
      "cell_type": "code",
      "execution_count": 194,
      "metadata": {
        "id": "po-ykiUbPn0r",
        "colab": {
          "base_uri": "https://localhost:8080/"
        },
        "outputId": "803a2694-d0dd-4394-ab83-25a3195aec8c"
      },
      "outputs": [
        {
          "output_type": "stream",
          "name": "stdout",
          "text": [
            "Washoe\n",
            "41\n",
            "Central Washington University\n",
            "True\n"
          ]
        }
      ],
      "source": [
        "washoe = Ape(\"Washoe\", 41, \"Central Washington University\", speaks_asl=True)\n",
        "\n",
        "print(washoe.name)  # Print out the name of washoe\n",
        "print(washoe.nut_stash)  # Print out the number of nuts (nut_stash) of washoe\n",
        "print(washoe.location)  # Print out the location of washoe\n",
        "print(washoe.speaks_asl)  # Print out whether Washoe speaks ASL (speaks_asl)"
      ]
    },
    {
      "cell_type": "markdown",
      "metadata": {
        "id": "ME6e1vmYPn0r"
      },
      "source": [
        "### Review #4 Inheritance\n",
        "\n",
        "Let's explore inheritance by creating a `Gorilla` class that takes two additional parameters, `job`, which should be a string, and `is_silver_back` that defaults to `False`."
      ]
    },
    {
      "cell_type": "code",
      "execution_count": 195,
      "metadata": {
        "id": "gG8p7toaPn0r"
      },
      "outputs": [],
      "source": [
        "class Gorilla(Ape):\n",
        "    def __init__(self, name, nut_stash, location, job, speaks_asl=False, is_silver_back=False):\n",
        "        super().__init__(name, nut_stash, location, speaks_asl=False)\n",
        "        self.job = job\n",
        "        self.is_silver_back = is_silver_back"
      ]
    },
    {
      "cell_type": "markdown",
      "metadata": {
        "id": "g_oBqBepPn0r"
      },
      "source": [
        "We haven't seen the `super()` call yet, and it's mostly just magic, but it concretely lets us treat the `self` object as an instance object of the immediate superclass (as measured by the method resolution order (MRO)), so we can call the superclass's `__init__` method.\n",
        "\n",
        "We can instantiate our new class:\n",
        "\n",
        "```Python\n",
        "washoe = Ape(\"Washoe\", 41, \"Central Washington University\", speaks_asl=True)\n",
        "harambe = Gorilla(\"Harambe\", 106, \"Rumahoy Pirate Ship\", \"pirate\", is_silver_back=True)\n",
        "koko = Gorilla(\"Hanabiko\", 77, \"Woodside, CA\", \"pet owner\", speaks_asl=True)\n",
        "print(harambe.job)  # => \"pirate\"\n",
        "print(koko.job)  # => \"pet owner\"\n",
        "```\n",
        "\n",
        "Read through the following statements and try to predict their output.\n",
        "\n",
        "```Python\n",
        "type(washoe)\n",
        "isinstance(washoe, Ape)\n",
        "isinstance(harambe, Ape)\n",
        "isinstance(koko, Ape)\n",
        "isinstance(koko, Gorilla)\n",
        "issubclass(koko, Gorilla)\n",
        "issubclass(Ape, Gorilla)\n",
        "type(washoe) == type(harambe)\n",
        "type(harambe) == type(koko)\n",
        "washoe == harambe\n",
        "harambe == koko\n",
        "```"
      ]
    },
    {
      "cell_type": "code",
      "execution_count": 196,
      "metadata": {
        "id": "6j_j0f_GPn0s",
        "colab": {
          "base_uri": "https://localhost:8080/"
        },
        "outputId": "347006ed-50b2-4875-9d9b-f771eb48fecd"
      },
      "outputs": [
        {
          "output_type": "stream",
          "name": "stdout",
          "text": [
            "<class '__main__.Ape'>\n",
            "True\n",
            "True\n",
            "True\n",
            "True\n",
            "False\n",
            "True\n",
            "False\n",
            "True\n",
            "False\n",
            "False\n"
          ]
        }
      ],
      "source": [
        "washoe = Ape(\"Washoe\", 41, \"Central Washington University\", speaks_asl=True)\n",
        "harambe = Gorilla(\"Harambe\", 106, \"Rumahoy Pirate Ship\", \"pirate\", is_silver_back=True)\n",
        "koko = Gorilla(\"Hanabiko\", 77, \"Woodside, CA\", \"pet owner\", speaks_asl=True)\n",
        "\n",
        "print(type(washoe))\n",
        "print(isinstance(washoe, Ape))\n",
        "print(isinstance(harambe, Ape))\n",
        "print(isinstance(koko, Ape))\n",
        "print(isinstance(koko, Gorilla))\n",
        "print(issubclass(Ape, Gorilla))\n",
        "print(issubclass(Gorilla, Ape))\n",
        "print(type(washoe) == type(harambe))\n",
        "print(type(harambe) == type(koko))\n",
        "print(washoe == harambe)\n",
        "print(harambe == koko)"
      ]
    },
    {
      "cell_type": "markdown",
      "metadata": {
        "id": "1ruZPZO-Pn0s"
      },
      "source": [
        "# Submission exercises - #6, #7 and #8"
      ]
    },
    {
      "cell_type": "markdown",
      "metadata": {
        "id": "41Y2YK5ePn0s"
      },
      "source": [
        "### Exercise #6: Stashing nuts\n",
        "\n",
        "Let's add more functionality to the `Ape` class!\n",
        "\n",
        "1. Start by creating a `Nut` class, with two attributes: `nut_type`, a string giving the type of nut (cashew, walnut, peanut...) and `is_edible`, a boolean showing whether apes can eat those, which should default to `True`.\n",
        "2. Modify the implementation of the `Ape` class: `nut_stash` should default to an empty `list`.\n",
        "3. Create a method `stash_nuts(*nuts)` that takes a variadic number of `Nut` objects and adds them to the ape's stash.\n",
        "4. Create a method `has_nut(nut)` that takes the `str` name of a `Nut` and returns `True` if the `nut_stash` contains such a nut, and `False` otherwise.\n",
        "5. (Optional): modify your method `has_nut` so that it can accept either a `str` for the nut name, or a `Nut` directly"
      ]
    },
    {
      "cell_type": "code",
      "execution_count": 197,
      "metadata": {
        "id": "AXOh2FuTPn0t",
        "colab": {
          "base_uri": "https://localhost:8080/"
        },
        "outputId": "c15150b8-ec6a-4381-f6fb-dfad8cdd35c7"
      },
      "outputs": [
        {
          "output_type": "stream",
          "name": "stdout",
          "text": [
            "True\n",
            "False\n"
          ]
        }
      ],
      "source": [
        "class Nut:\n",
        "    def __init__(self, nut_type, is_edible=True):\n",
        "        self.nut_type = nut_type\n",
        "        self.is_edible = is_edible\n",
        "\n",
        "\n",
        "class Ape:\n",
        "    def __init__(self, name, location, speaks_asl=False, nut_stash=None):\n",
        "        self.name = name\n",
        "        self.nut_stash = nut_stash if nut_stash else []  # default empty list. Based on the needed parameters for the instance creation nut_stash becomes optional\n",
        "        self.location = location\n",
        "        self.speaks_asl = speaks_asl\n",
        "\n",
        "    def stash_nuts(self, *nuts):\n",
        "        \"\"\"Places a variable number of nuts in the ape's stash.\"\"\"\n",
        "        for nut in nuts:\n",
        "            if isinstance(nut, Nut):\n",
        "                self.nut_stash.append(nut)\n",
        "\n",
        "    def has_nut(self, nut):\n",
        "        \"\"\"Checks whether the ape's stash contains a particular nut, specifically the first occurrence.\"\"\"\n",
        "        for nt in self.nut_stash:\n",
        "            # with `and` clause, the right clause will only be evaluated if the first one is True\n",
        "            # conditions for `str` and `Nut` type parameters, respectively\n",
        "            # isinstance() returns True if nut object belongs to built-in string class or Nut class.\n",
        "            # Also, instead, could be used typings module as an option\n",
        "            # def has_nut(self, nut: Union[str, Nut]):\n",
        "            if isinstance(nut, str) and nt.nut_type == nut:\n",
        "                return True\n",
        "            elif isinstance(nut, Nut) and nt.nut_type == nut.nut_type:\n",
        "                return True\n",
        "        return False\n",
        "\n",
        "\n",
        "washoe = Ape(\"Washoe\", \"Central Washington University\", speaks_asl=True)\n",
        "washoe.stash_nuts(\n",
        "    Nut(\"cashew\"),\n",
        "    Nut(\"peanut\"),\n",
        "    Nut(\"peanut\"),\n",
        "    Nut(\"walnut\"),\n",
        ")\n",
        "\n",
        "print(washoe.has_nut(\"walnut\"))  # => True\n",
        "# uncomment when done with optional part\n",
        "print(washoe.has_nut(Nut(\"hazelnut\")))  # => False\n"
      ]
    },
    {
      "cell_type": "markdown",
      "metadata": {
        "id": "L5M-Tb8GPn0t"
      },
      "source": [
        "### Exercise #7: Pretty monkeys\n",
        "\n",
        "The default printing representation for python objects looks pretty dreary, and is not very informative. To overcome this, python proposes two special method names: `__str__` and `__repr__`, which both return a `str` object. Implementing any of these methods will modify how objects are represented.\n",
        "\n",
        "There is a slight semantic difference between the two methods: the `__str__` is used to find the \"informal\" (human-friendly) string representation of an object whereas `__repr__` is used to find the \"official (computer-neurotic) string representation of an object.\n",
        "\n",
        "Modify the implementation of the `Ape` so that they return a more friendly presentation:\n",
        "\n",
        "```Python\n",
        "washoe = Ape(\"Washoe\", \"Central Washington University\", speaks_asl=True)\n",
        "print(washoe)\n",
        "# => should print 'Ape (name: \"Washoe\", 0 peanuts)'\n",
        "\n",
        "nim = Ape(\"Neam Chimpsky\", \"Black Beauty Ranch, TX\", speaks_asl=True, nut_stash=[Nut(\"walnut\"), Nut(\"peanut\")])\n",
        "# => should print 'Ape (name: \"Neam Chimpsky\", 2 peanuts)'\n",
        "```"
      ]
    },
    {
      "cell_type": "code",
      "execution_count": 198,
      "metadata": {
        "id": "LuFGVhX6Pn0t",
        "outputId": "48c4fe09-dda0-429a-b9f5-f0b8e2efa2ad",
        "colab": {
          "base_uri": "https://localhost:8080/"
        }
      },
      "outputs": [
        {
          "output_type": "stream",
          "name": "stdout",
          "text": [
            "Ape (name: \"Washoe\", 0 nuts)\n",
            "Ape (name: \"Neam Chimpsky\", 2 nuts)\n"
          ]
        }
      ],
      "source": [
        "class Ape:\n",
        "    def __init__(self, name, location, speaks_asl=False, nut_stash=None):\n",
        "        self.name = name\n",
        "        self.nut_stash = nut_stash if nut_stash is not None and nut_stash else []  # default empty list. Based on the needed parameters for the instance creation nut_stash becomes an optional param\n",
        "        self.location = location\n",
        "        self.speaks_asl = speaks_asl\n",
        "\n",
        "    def stash_nuts(self, *nuts):\n",
        "        \"\"\"\n",
        "        Places a variable number of nuts in the ape's stash.\n",
        "      \"\"\"\n",
        "        for nut in nuts:\n",
        "            if isinstance(nut, Nut):\n",
        "                self.nut_stash.append(nut)\n",
        "\n",
        "    def has_nut(self, nut):\n",
        "        \"\"\"\n",
        "          Checks whether the ape's stash contains a particular nut, specifically the first occurrence.\n",
        "        \"\"\"\n",
        "        for nt in self.nut_stash:\n",
        "            # with `and` clause, the right clause will only be evaluated if the first one is True\n",
        "            # conditions for `str` and `Nut` type parameters, respectively\n",
        "            # isinstance() returns True if nut object belongs to built-in string class or Nut class.\n",
        "            # Also, instead, could be used typings module as an option\n",
        "            # def has_nut(self, nut: Union[str, Nut]):\n",
        "            if isinstance(nut, str) and nt.nut_type == nut:\n",
        "                return True\n",
        "            elif isinstance(nut, Nut) and nt.nut_type == nut.nut_type:\n",
        "                return True\n",
        "        return False\n",
        "\n",
        "    def __str__(self):\n",
        "        return f\"Ape (name: \\\"{self.name}\\\", {len(self.nut_stash)} nuts)\"\n",
        "\n",
        "\n",
        "washoe = Ape(\"Washoe\", \"Central Washington University\", speaks_asl=True)\n",
        "print(washoe)\n",
        "# => should print 'Ape (name: \"Washoe\", 0 nuts)'\n",
        "\n",
        "nim = Ape(\"Neam Chimpsky\", \"Black Beauty Ranch, TX\", speaks_asl=True, nut_stash=[Nut(\"walnut\"), Nut(\"peanut\")])\n",
        "print(nim)\n",
        "# => should print 'Ape (name: \"Neam Chimpsky\", 2 nuts)'"
      ]
    },
    {
      "cell_type": "markdown",
      "metadata": {
        "id": "1tYGF2taPn0t"
      },
      "source": [
        "### Exercise #8 Gorilla hierarchy\n",
        "\n",
        "Now, we'll focus on the `Gorilla` class. We want to implement functionality to determine if one gorilla ranks higher in the pack than another.\n",
        "\n",
        "Higher ranking apes have stashes that contain more nuts than low-ranking gorillas. In addition, silver-back gorillas always rank higher in the pack than other gorillas.\n",
        "\n",
        "\n",
        "```Python\n",
        ">>> harambe = Gorilla(\"Harambe\", \"Rumahoy Pirate Ship\", \"pirate\", is_silver_back=True)\n",
        ">>> harambe.stash_nuts(*[Nut(\"peanut\")] * 106)\n",
        ">>> koko = Gorilla(\"Hanabiko\", \"Woodside, CA\", \"pet owner\", speaks_asl=True)\n",
        ">>> koko.stash_nuts(*[Nut(\"peanut\")] * 77)\n",
        ">>> grodd = Gorilla(\"Gorilla Grodd\", \"Black Hole HQ\", \"super-villain\", is_silver_back=True)\n",
        ">>> grodd.stash_nuts(*[Nut(\"peanut\")] * 42)\n",
        ">>> harambe > koko\n",
        "True\n",
        ">>> grodd > harambe\n",
        "False\n",
        "```\n",
        "\n",
        "To accomplish this, you will need to implement a magic method `__ge__` that will add functionality to determine whether an ape ranks higher in the pack than another. Read up on [total ordering](https://docs.python.org/3/library/functools.html#functools.total_ordering) to figure out what `__ge__` should return based on the argument you pass in.\n",
        "\n",
        "To give a few hints on how to add this piece of functionality might be implemented, consider how you might extract the actual `int` number from the nut_stash attribute.\n",
        "\n",
        "We'll start by implementing a `__eq__` on `Ape`s. Two apes are equivalent if they have the same name, equivalent nuts stash, and the same fluency with ASL. Location doesn't matter.\n",
        "\n",
        "When implementing `Ape` pack ranking, keep in mind it depends only on the size of the nut stash.\n",
        "\n",
        "**NB:** *in order for `Gorilla` to inherit the default definitions of `__ge__` and `__eq__`, we have added it here too.*\n",
        "\n",
        "Once you've implemented a `__ge__`(`__ge__` means \"greater than or equal to\") method for all `Ape`s, we'll add our additionnal constraint that silver-back `Gorilla`s rank higher in the pack.\n",
        "\n",
        "**NB:** *As hint for the implementation, consider the `super()` method we saw previously in Review #4.*\n",
        "\n",
        "**BONUS** (you'll get extra points if you implement this correctly): while the rest of the comparison operators (<=, > and <) will work just as well even if you've only defined `__ge__` and `__eq__`, as a bonus exercise, define also the methods `__le__`, `__lt__` and `__gt__`."
      ]
    },
    {
      "cell_type": "code",
      "execution_count": 199,
      "metadata": {
        "id": "glw68_fiPn0u"
      },
      "outputs": [],
      "source": [
        "from logging import exception\n",
        "from functools import total_ordering\n",
        "\n",
        "\n",
        "@total_ordering\n",
        "class Ape:\n",
        "    def __init__(self, name, location, speaks_asl=False, nut_stash=None):\n",
        "        self.name = name\n",
        "        self.nut_stash = nut_stash if nut_stash is not None and nut_stash else []  # default empty list. Based on the needed parameters for the instance creation nut_stash becomes an optional param\n",
        "        self.location = location\n",
        "        self.speaks_asl = speaks_asl\n",
        "\n",
        "    def stash_nuts(self, *nuts):\n",
        "        \"\"\"\n",
        "        Places a variable number of nuts in the ape's stash.\"\"\"\n",
        "        for nut in nuts:\n",
        "            if isinstance(nut, Nut):\n",
        "                self.nut_stash.append(nut)\n",
        "\n",
        "    def has_nut(self, nut):\n",
        "        \"\"\"\n",
        "          Checks whether the ape's stash contains a particular nut, specifically the first occurrence.\n",
        "        \"\"\"\n",
        "        for nt in self.nut_stash:\n",
        "            # with `and` clause, the right clause will only be evaluated if the first one is True\n",
        "            # conditions for `str` and `Nut` type parameters, respectively\n",
        "            # isinstance() returns True if nut object belongs to built-in string class or Nut class.\n",
        "            # Also, instead, could be used typings module as an option\n",
        "            # def has_nut(self, nut: Union[str, Nut]):\n",
        "            if isinstance(nut, str) and nt.nut_type == nut:\n",
        "                return True\n",
        "            elif isinstance(nut, Nut) and nt.nut_type == nut.nut_type:\n",
        "                return True\n",
        "        return False\n",
        "\n",
        "    def __ge__(self, other):\n",
        "        # compare the nut_stash size of two instances\n",
        "        return len(self.nut_stash) >= len(other.nut_stash)\n",
        "\n",
        "    def __eq__(self, other):\n",
        "        # checks equivalence based on name, size of nut_stash and speaks_url\n",
        "        if isinstance(other, Ape):\n",
        "            if self.name == other.name and len(self.nut_stash) == len(\n",
        "                    other.nut_stash) and self.speaks_asl == other.speaks_asl:\n",
        "                return True\n",
        "        return False\n",
        "\n",
        "    def __repr__(self):\n",
        "        return f\"Ape (name: \\\"{self.name}\\\", {len(self.nut_stash)} peanuts)\"\n",
        "\n",
        "\n",
        "class Gorilla(Ape):\n",
        "    def __init__(self, name, location, job, speaks_asl=False, is_silver_back=False, nut_stash=None):\n",
        "        super().__init__(name, location, speaks_asl, nut_stash)\n",
        "        self.job = job\n",
        "        self.is_silver_back = is_silver_back\n",
        "\n",
        "    def __ge__(self, other):\n",
        "        # checks if second ape belongs same Gorilla type\n",
        "        try:\n",
        "            if isinstance(other, Gorilla):\n",
        "                # comparisons if one of gorillas haven't a silver back\n",
        "                if self.is_silver_back and not other.is_silver_back:\n",
        "                    return True\n",
        "                elif other.is_silver_back and not self.is_silver_back:\n",
        "                    return False\n",
        "                else:\n",
        "                    # comparison is both has a silver back\n",
        "                    return super().__ge__(other)\n",
        "        except TypeError:\n",
        "            print(\"Objects of Gorilla class have to be compared.\")\n",
        "\n",
        "    def __le__(self, other):\n",
        "        return self == other or self < other\n",
        "\n",
        "    def __lt__(self, other):\n",
        "        return not (self >= other)\n",
        "\n",
        "    def __gt__(self, other):\n",
        "        return not (self <= other)"
      ]
    },
    {
      "cell_type": "code",
      "source": [
        "# Let's make a few gorillas\n",
        "harambe = Gorilla(\"Harambe\", \"Rumahoy Pirate Ship\", \"pirate\", is_silver_back=True)\n",
        "harambe.stash_nuts(*[Nut(\"peanut\")] * 106)\n",
        "\n",
        "koko = Gorilla(\"Hanabiko\", \"Woodside, CA\", \"pet owner\", speaks_asl=True)\n",
        "koko.stash_nuts(*[Nut(\"peanut\")] * 77)\n",
        "\n",
        "grodd1 = Gorilla(\"Gorilla Grodd\", \"Black Hole HQ\", \"super-villain\", is_silver_back=True)\n",
        "grodd1.stash_nuts(*[Nut(\"peanut\")] * 42)\n",
        "\n",
        "grodd = Gorilla(\"Gorilla Grodd\", \"Black Hole HQ\", \"super-villain\", is_silver_back=True)\n",
        "grodd.stash_nuts(*[Nut(\"peanut\")] * 42)\n",
        "\n",
        "print(harambe > koko)  # True\n",
        "print(grodd > harambe)  # False\n",
        "# Custom check cases for `==`\n",
        "assert (grodd == koko) == False  # False\n",
        "assert (grodd == grodd1) == True  # True"
      ],
      "metadata": {
        "colab": {
          "base_uri": "https://localhost:8080/"
        },
        "id": "Ni6xlqeKs6IB",
        "outputId": "ecd391cd-4914-433d-8caa-982da18c1e3b"
      },
      "execution_count": 200,
      "outputs": [
        {
          "output_type": "stream",
          "name": "stdout",
          "text": [
            "True\n",
            "False\n"
          ]
        }
      ]
    },
    {
      "cell_type": "markdown",
      "metadata": {
        "id": "dJQgCBuhPn0u"
      },
      "source": [
        "#### Sorting\n",
        "\n",
        "Now that we've written a `__ge__` method and an `__eq__` method, we've implemented everything we need to speak about an \"ordering\" of `Gorrila`s. Using the [`functools.total_ordering` decorator](https://docs.python.org/3/library/functools.html#functools.total_ordering), decorate the class so that all of the comparison methods are implemented. You should be able to run"
      ]
    },
    {
      "cell_type": "code",
      "execution_count": 201,
      "metadata": {
        "id": "JfhfkE9jPn0u",
        "colab": {
          "base_uri": "https://localhost:8080/"
        },
        "outputId": "d1bc8580-d9a5-4e6c-a4fd-2f9d7754147f"
      },
      "outputs": [
        {
          "output_type": "stream",
          "name": "stdout",
          "text": [
            "[Ape (name: \"Hanabiko\", 77 peanuts), Ape (name: \"Gorilla Grodd\", 42 peanuts), Ape (name: \"Harambe\", 106 peanuts)]\n"
          ]
        }
      ],
      "source": [
        "# Let's make a few gorillas\n",
        "harambe = Gorilla(\"Harambe\", \"Rumahoy Pirate Ship\", \"pirate\", is_silver_back=True)\n",
        "harambe.stash_nuts(*[Nut(\"peanut\")] * 106)\n",
        "\n",
        "koko = Gorilla(\"Hanabiko\", \"Woodside, CA\", \"pet owner\", speaks_asl=True)\n",
        "koko.stash_nuts(*[Nut(\"peanut\")] * 77)\n",
        "\n",
        "grodd = Gorilla(\"Gorilla Grodd\", \"Black Hole HQ\", \"super-villain\", is_silver_back=True)\n",
        "grodd.stash_nuts(*[Nut(\"peanut\")] * 42)\n",
        "\n",
        "gorillas = [harambe, koko, grodd]\n",
        "gorillas.sort()\n",
        "print(gorillas) # => [Ape (name: \"Hanabiko\", 77 peanuts), Ape (name: \"Gorilla Grodd\", 42 peanuts), Ape (name: \"Harambe\", 106 peanuts)]"
      ]
    },
    {
      "cell_type": "markdown",
      "metadata": {
        "id": "hWDxaolHPn0u"
      },
      "source": [
        "### Review #5 Static & class methods\n",
        "\n",
        "Sometimes, you have a piece of code that doesn't really belong to the object, but definitely belongs to the class.\n",
        "\n",
        "We use static and class methods in this case.\n",
        "\n",
        "```Python\n",
        "import random\n",
        "\n",
        "class Ape:\n",
        "\n",
        "    # some class code\n",
        "    \n",
        "    @classmethod\n",
        "    def invent_random_ape(cls):\n",
        "        name = random.choice([\n",
        "            \"Kanzi\",\n",
        "            \"Chantek\",\n",
        "            \"Panzee\",\n",
        "        ])\n",
        "        location = random.choice([\n",
        "            \"Jungle\",\n",
        "            \"Zoo\",\n",
        "            \"ASL research lab\",\n",
        "        ])\n",
        "        speaks_asl = random.choice([\n",
        "            True,\n",
        "            False,\n",
        "        ])\n",
        "        return cls(name, location, speaks_asl=speaks_asl)\n",
        "    \n",
        "    @staticmethod\n",
        "    def monkey_around():\n",
        "        \"\"\"Tell a monkey joke to lighten the mood.\"\"\"\n",
        "       joke = random.choice([\n",
        "           \"What do monkeys do for laughs? They tell jokes about people.\",\n",
        "           \"All the monkeys from these labs are real!\",\n",
        "           \"What kind of key unlocks a banana? A mon-key.\",\n",
        "       ])\n",
        "       print(joke)\n",
        "       \n",
        "    # some more class code\n",
        "\n",
        "print(Ape.invent_random_ape()) #=> Ape (name: \"Chantek\", 0 peanuts)\n",
        "print(Ape.monkey_around()) #=> \"What kind of key unlocks a banana? A mon-key.\"\n",
        "```\n",
        "\n",
        "We use specific decorators (starting with `@`) to distinguish which methods are bound to objects, and which are static methods or class method.\n",
        "\n",
        "- Classmethods have a first positional argument called `cls`, representing the class itself (here `Ape`), instead of a `self` (which represent the object instance). You can use that `cls` argument to retrieve the class constructor, for instance.\n",
        "- Note that static methods do not have a positional `self` or `cls` argument. They are just semantically tied to the class, and syntactically they share the same namespace.\n",
        "\n",
        "\n",
        "### Exercise #9: Much ado about peanuts\n",
        "\n",
        "We'll create a static method `nut_inventory(*monkeys)` that takes a variadic number of monkeys as positional arguments, and returns an inventory of all the nuts they have collectively stashed. The inventory should be a python `dict`, mapping nut types to the number of corresponding nuts.\n",
        "\n",
        "**Bonus:** Use the [`Counter` object from the collections library](https://docs.python.org/3/library/collections.html#collections.Counter) to do your inventory. Use `Nut`objects directly as keys. You will most certainly need to have a look at the magic functions [`__hash__` and `__eq__`](https://docs.python.org/3/reference/datamodel.html#object.__hash__)."
      ]
    },
    {
      "cell_type": "code",
      "execution_count": 202,
      "metadata": {
        "id": "w34wfvKnPn0v"
      },
      "outputs": [],
      "source": [
        "from functools import total_ordering\n",
        "from collections import Counter\n",
        "from itertools import chain\n",
        "\n",
        "\n",
        "class Nut:\n",
        "    def __init__(self, nut_type, is_edible=True):\n",
        "        self.nut_type = nut_type\n",
        "        self.is_edible = is_edible\n",
        "\n",
        "    def __eq__(self, other):\n",
        "        return self.nut_type == other.nut_type\n",
        "\n",
        "    def __hash__(self):\n",
        "        # hash returns integer value is calculated based on the object’s data\n",
        "        return hash(self.nut_type)\n",
        "\n",
        "\n",
        "@total_ordering\n",
        "class Ape:\n",
        "    def __init__(self, name, location, speaks_asl=False, nut_stash=None):\n",
        "        self.name = name\n",
        "        self.nut_stash = nut_stash if nut_stash is not None and nut_stash else []  # default empty list. Based on the needed parameters for the instance creation nut_stash becomes an optional param\n",
        "        self.location = location\n",
        "        self.speaks_asl = speaks_asl\n",
        "\n",
        "    def stash_nuts(self, *nuts):\n",
        "        \"\"\"\n",
        "        Places a variable number of nuts in the ape's stash.\n",
        "      \"\"\"\n",
        "        for nut in nuts:\n",
        "            if isinstance(nut, Nut):\n",
        "                self.nut_stash.append(nut)\n",
        "\n",
        "    def has_nut(self, nut):\n",
        "        \"\"\"\n",
        "          Checks whether the ape's stash contains a particular nut, specifically the first occurrence.\n",
        "        \"\"\"\n",
        "        for nt in self.nut_stash:\n",
        "            # with `and` clause, the right clause will only be evaluated if the first one is True\n",
        "            # conditions for `str` and `Nut` type parameters, respectively\n",
        "            # isinstance() returns True if nut object belongs to built-in string class or Nut class.\n",
        "            # Also, instead, could be used typings module as an option\n",
        "            # def has_nut(self, nut: Union[str, Nut]):\n",
        "            if isinstance(nut, str) and nt.nut_type == nut:\n",
        "                return True\n",
        "            elif isinstance(nut, Nut) and nt.nut_type == nut.nut_type:\n",
        "                return True\n",
        "        return False\n",
        "\n",
        "    @staticmethod\n",
        "    def nut_inventory(*monkeys):\n",
        "        \"\"\"\n",
        "          Counts the frequency of nuts of paticular type in nut_stash of monkeys\n",
        "        \"\"\"\n",
        "        # chain is used to create an iterator that iterates over each monkey's nut_stash and chains them together\n",
        "        all_nuts = chain.from_iterable(monkey.nut_stash for monkey in monkeys)\n",
        "        nut_counter = Counter(all_nuts)\n",
        "        return dict(nut_counter)\n",
        "\n",
        "    def __ge__(self, other):\n",
        "        # compare the nut_stash size of two instances\n",
        "        return len(self.nut_stash) >= len(other.nut_stash)\n",
        "\n",
        "    def __eq__(self, other):\n",
        "        # checks equivalence based on name, size of nut_stash and speaks_url\n",
        "        if isinstance(other, Ape):\n",
        "            if self.name == other.name and len(self.nut_stash) == len(\n",
        "                    other.nut_stash) and self.speaks_asl == other.speaks_asl:\n",
        "                return True\n",
        "        return False\n",
        "\n",
        "    def __repr__(self):\n",
        "        return f\"Ape (name: \\\"{self.name}\\\", {len(self.nut_stash)} peanuts)\""
      ]
    },
    {
      "cell_type": "markdown",
      "metadata": {
        "id": "o7xXOJHAPn0v"
      },
      "source": [
        "# Submission instructions\n",
        "\n",
        "You know the drill, mandrill!\n",
        "\n",
        "You will need to submit exercises #6 `Stashing nuts`, #7 `Pretty Monkeys` and #8 `Gorilla Hierarchy`) on Arche before 9:59am on Friday, 1st December. For the classes where you needed to expand the implementation for each exercise, you can submit only the final version of that class that cover all three exercises. Submit either a `.py` or an `.ipynb` file containing the exercises and name it `td6_firstname_lastname_grpN.py` or `td6_firstname_lastname_grpN.ipynb` accordingly, where `firstname` should be your first name, `lastname` should be your last name, and `N` in `grpN` should be your group number (e.g. Jane Doe, who is in group A1, should name her submission either `td6_jane_doe_grp1.py` or `td6_jane_doe_grp1.ipynb`, depending on whether Jane submitted a Python script or a Jupyter notebook).\n",
        "\n",
        "To evaluate your submission, we will be looking at the following criteria:\n",
        "\n",
        "- Does your code run? (So **run** your program at least once before submitting!)\n",
        "- Does it run correctly? (So **test** your solution with a few different inputs!)\n",
        "- Is your code well-commented?\n",
        "\n",
        "> updated from tmickus's 2020 lab"
      ]
    }
  ],
  "metadata": {
    "kernelspec": {
      "display_name": "Python 3 (ipykernel)",
      "language": "python",
      "name": "python3"
    },
    "language_info": {
      "codemirror_mode": {
        "name": "ipython",
        "version": 3
      },
      "file_extension": ".py",
      "mimetype": "text/x-python",
      "name": "python",
      "nbconvert_exporter": "python",
      "pygments_lexer": "ipython3",
      "version": "3.8.10"
    },
    "colab": {
      "provenance": []
    }
  },
  "nbformat": 4,
  "nbformat_minor": 0
}