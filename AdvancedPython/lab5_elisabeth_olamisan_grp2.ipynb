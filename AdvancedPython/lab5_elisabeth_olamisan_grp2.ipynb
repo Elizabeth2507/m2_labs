{
  "cells": [
    {
      "cell_type": "markdown",
      "metadata": {
        "id": "JC2bbbG0DeiX"
      },
      "source": [
        "# Lab 5: Functions"
      ]
    },
    {
      "cell_type": "markdown",
      "metadata": {
        "id": "GobAIsUODeic"
      },
      "source": [
        "## Overview\n",
        "This lab is aimed at building familiarity with reading and writing Python functions with different types of formal parameters and explore some nuances of function execution semantics.\n",
        "\n",
        "*Disclaimer: we know that this lab is particularly focused on Python semantics, which may not seem exciting at first. However, mastering the mechanics of Python functions gives you access to a whole lot of powerful tools that either don't exist or are uncommon or hard-to-use in other languages! The skills you learn through this lab will allow you to write (and debug) powerful Pythonic code quickly and easily!*\n"
      ]
    },
    {
      "cell_type": "markdown",
      "metadata": {
        "id": "ptGItgTtDeiu"
      },
      "source": [
        "# Submission exercises"
      ]
    },
    {
      "cell_type": "markdown",
      "metadata": {
        "id": "FNdYgBGqDeiv"
      },
      "source": [
        "### Exercise #6 : `average`\n",
        "Write a function `average` that accepts a variable number of integer positional arguments and computes the average. If no arguments are supplied, the function should return `None`.\n",
        "\n",
        "What would the function signature and implementation look like for this function?"
      ]
    },
    {
      "cell_type": "code",
      "execution_count": 25,
      "metadata": {
        "id": "CJ1zfhxuDeiv"
      },
      "outputs": [],
      "source": [
        "def average(*args):\n",
        "    \"\"\" Return the average of numeric arguments or None if no arguments are supplied.\n",
        "        *args allows to pass a variable number of non-keyword arguments to a function.\n",
        "    \"\"\"\n",
        "    # handle exception in case of division by 0\n",
        "    try:\n",
        "        return sum(args)/len(args)  # return average value\n",
        "    except ZeroDivisionError:\n",
        "        return  # returns None"
      ]
    },
    {
      "cell_type": "markdown",
      "metadata": {
        "id": "sbNheOt2Deiw"
      },
      "source": [
        "It should be possible to call the function as follows:\n",
        "\n",
        "```Python\n",
        "average()  # => None\n",
        "average(5)  # => 5.0\n",
        "average(6, 8, 9, 11)  # => 8.5\n",
        "```"
      ]
    },
    {
      "cell_type": "code",
      "execution_count": 26,
      "metadata": {
        "colab": {
          "base_uri": "https://localhost:8080/"
        },
        "id": "YFxptyP5Deix",
        "outputId": "d72c1320-d061-4cd6-8271-c8706b90311d"
      },
      "outputs": [
        {
          "output_type": "stream",
          "name": "stdout",
          "text": [
            "None\n",
            "5.0\n",
            "8.5\n"
          ]
        }
      ],
      "source": [
        "print(average())  # => None\n",
        "print(average(5))  # => 5.0\n",
        "print(average(6, 8, 9, 11))  # => 8.5"
      ]
    },
    {
      "cell_type": "markdown",
      "metadata": {
        "id": "z3i2ADExDeix"
      },
      "source": [
        "Suppose that we have a list `l = [???]` supplied by the user (or some file!) of unknown contents. How can we use the `average` function we just wrote to compute the average of this list? How will you pass (*unpack*) this list `l` to your `average()` function? Fill in in place of the question `???` marks below"
      ]
    },
    {
      "cell_type": "markdown",
      "source": [],
      "metadata": {
        "id": "DuqO-W-GmMx3"
      }
    },
    {
      "cell_type": "code",
      "execution_count": 27,
      "metadata": {
        "colab": {
          "base_uri": "https://localhost:8080/"
        },
        "id": "DcemMj24Deiy",
        "outputId": "c2a96634-6eff-4194-d076-5c4a484430be"
      },
      "outputs": [
        {
          "output_type": "stream",
          "name": "stdout",
          "text": [
            "13199.0\n"
          ]
        }
      ],
      "source": [
        "l = [3, 1, 41, 592, 65358]\n",
        "# unpack list\n",
        "print(average(*l)) # => 13199.0"
      ]
    },
    {
      "cell_type": "markdown",
      "metadata": {
        "tags": [],
        "id": "mgqfmJRIDeiz"
      },
      "source": [
        "### Exercise #7 : `make_table`\n",
        "\n",
        "Write a function to make a table out of an arbitrary number of keyword arguments. For example,\n",
        "\n",
        "```Python\n",
        "make_table(\n",
        "    first_name=\"Sam\",\n",
        "    last_name=\"Redmond\",\n",
        "    shirt_color=\"pink\"\n",
        ")\n",
        "```\n",
        "\n",
        "should produce\n",
        "\n",
        "```\n",
        "=========================\n",
        "| first_name  |     Sam |\n",
        "| last_name   | Redmond |\n",
        "| shirt_color |    pink |\n",
        "=========================\n",
        "```\n",
        "\n",
        "Additionally, there should be two parameters, `key_justify` and `value_justify`, whose default values are `'left'` and `'right'` respectively. These keyword arguments will control the text alignment for keys and values in the table. Valid options for these parameters are `['left', 'right', 'center']`. There should be an extra space of padding on either side of the keys and values. As another example,\n",
        "\n",
        "```Python\n",
        "make_table(\n",
        "    key_justify=\"right\",\n",
        "    value_justify=\"center\",\n",
        "    song=\"Style\",\n",
        "    artist_fullname=\"Taylor $wift\",\n",
        "    album=\"1989\"\n",
        ")\n",
        "```\n",
        "\n",
        "should produce\n",
        "\n",
        "```\n",
        "==================================\n",
        "|            song |     Style    |\n",
        "| artist_fullname | Taylor $wift |\n",
        "|           album |     1989     |\n",
        "==================================\n",
        "```\n",
        "\n",
        "What would the function signature and implementation look like for this function? Implement your code in the following cell.\n",
        "\n",
        "Hint: you may find Python's string `.format()` [alignment specifiers](https://pyformat.info/#string_pad_align) useful."
      ]
    },
    {
      "cell_type": "code",
      "execution_count": 28,
      "metadata": {
        "id": "KlsV0RNLDei0"
      },
      "outputs": [],
      "source": [
        "def make_table(key_justify='left', value_justify='right', **kwargs):\n",
        "    \"\"\" Print a table in specified format by using .format() with alignment specifiers.\n",
        "        From documentation:\n",
        "        '{:>10}'.format('test') - align right\n",
        "        '{:10}'.format('test') - align left\n",
        "        '{:^10}'.format('test') - align center\n",
        "        key_justify and value_justify - optional parameters with corresponding default values\n",
        "        **kwargs allows to pass any number of keyword arguments for table\n",
        "    \"\"\"\n",
        "    # map specifier name with corresponding symbol\n",
        "    alignment_modes = {'left': '', 'right': '>', 'center': '^'}\n",
        "\n",
        "    # for aligning the length of the `key` and `value` columns, calculate the length of the longest corresponding strings\n",
        "    max_key_length = max(len(key) for key in kwargs)\n",
        "    max_value_length = max(len(str(value)) for value in kwargs.values())\n",
        "\n",
        "    def form_row(key, value):\n",
        "        \"\"\"\n",
        "        Creates formatted row by using format() function alignments and parameter mappings\n",
        "      \"\"\"\n",
        "        return \"| {:{}{}} | {:{}{}} |\".format(key, alignment_modes[key_justify], max_key_length,\n",
        "                                              value, alignment_modes[value_justify], max_value_length)\n",
        "\n",
        "    # form aligned line separator\n",
        "    separator = \"=\" * (max_key_length + max_value_length + 7)\n",
        "\n",
        "    print(separator)\n",
        "    # iterate over keyword arguments(dictionary)\n",
        "    for key, value in kwargs.items():\n",
        "        # pass key and value (first and second columns cell values) to function for forming a string in needed format\n",
        "        print(form_row(key, value))\n",
        "    print(separator)"
      ]
    },
    {
      "cell_type": "code",
      "execution_count": 29,
      "metadata": {
        "colab": {
          "base_uri": "https://localhost:8080/"
        },
        "id": "LUaDQosaDei1",
        "outputId": "3aab764e-38d8-4938-c411-350752853506"
      },
      "outputs": [
        {
          "output_type": "stream",
          "name": "stdout",
          "text": [
            "=========================\n",
            "| first_name  |     Sam |\n",
            "| last_name   | Redmond |\n",
            "| shirt_color |    pink |\n",
            "=========================\n"
          ]
        }
      ],
      "source": [
        "make_table(\n",
        "    first_name=\"Sam\",\n",
        "    last_name=\"Redmond\",\n",
        "    shirt_color=\"pink\"\n",
        ")"
      ]
    },
    {
      "cell_type": "code",
      "execution_count": 30,
      "metadata": {
        "colab": {
          "base_uri": "https://localhost:8080/"
        },
        "id": "6wBrrdfXDei2",
        "outputId": "8d68a7cb-5947-4764-bfb2-cee16a5c81ec"
      },
      "outputs": [
        {
          "output_type": "stream",
          "name": "stdout",
          "text": [
            "==================================\n",
            "|            song |    Style     |\n",
            "| artist_fullname | Taylor $wift |\n",
            "|           album |     1989     |\n",
            "==================================\n"
          ]
        }
      ],
      "source": [
        "make_table(\n",
        "    key_justify=\"right\",\n",
        "    value_justify=\"center\",\n",
        "    song=\"Style\",\n",
        "    artist_fullname=\"Taylor $wift\",\n",
        "    album=\"1989\"\n",
        ")"
      ]
    },
    {
      "cell_type": "markdown",
      "metadata": {
        "id": "Z_q1ML-ZDejd"
      },
      "source": [
        "# Submission instructions\n",
        "\n",
        "You know the drill, mandrill!\n",
        "\n",
        "You will need to exercises #6 `average` and #7 `make_table`) on Arche before 9:59am on Friday, 27th October. Submit either a `.py` or an `.ipynb` file containing the two functions and name it `td5_firstname_lastname_grpN.py` or `td5_firstname_lastname_grpN.ipynb` accordingly, where `firstname` should be your first name, `lastname` should be your last name, and `N` in `grpN` should be your group number (e.g. Jane Doe, who is in group A1, should name her submission either `td5_jane_doe_grp1.py` or `td5_jane_doe_grp1.ipynb`, depending on whether Jane submitted a Python script or a Jupyter notebook).\n",
        "\n",
        "To evaluate your submission, we will be looking at the following criteria:\n",
        "\n",
        "- Does your code run? (So **run** your program at least once before submitting!)\n",
        "- Does it run correctly? (So **test** your solution with a few different inputs!)\n",
        "- Is your code well-commented?\n",
        "- We will also pay special attention to whether the correct types of arguments are used in the function definitions\n",
        "\n",
        "\n",
        "*This lab is very much based on CS41's*\n",
        "\n",
        "**Major credit to PSF for incredibly clear/readable documentation making this all possible, as well as the linked resources.**"
      ]
    },
    {
      "cell_type": "markdown",
      "metadata": {
        "id": "WWwgZoYtDejd"
      },
      "source": [
        "> With <3 by @sredmond"
      ]
    }
  ],
  "metadata": {
    "kernelspec": {
      "display_name": "Python 3 (ipykernel)",
      "language": "python",
      "name": "python3"
    },
    "language_info": {
      "codemirror_mode": {
        "name": "ipython",
        "version": 3
      },
      "file_extension": ".py",
      "mimetype": "text/x-python",
      "name": "python",
      "nbconvert_exporter": "python",
      "pygments_lexer": "ipython3",
      "version": "3.8.10"
    },
    "colab": {
      "provenance": []
    }
  },
  "nbformat": 4,
  "nbformat_minor": 0
}