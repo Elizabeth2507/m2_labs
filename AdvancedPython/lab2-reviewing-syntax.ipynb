{
 "cells": [
  {
   "cell_type": "markdown",
   "metadata": {},
   "source": [
    "# Lab 2: Reviewing Syntax"
   ]
  },
  {
   "cell_type": "markdown",
   "metadata": {},
   "source": [
    "## Goals\n",
    "Welcome to your second lab day! \n",
    "The primary goal of this lab is to make sure that you master basic python syntax.\n",
    "\n",
    "Most of what we'll see during this lab is things you're already somewhat familiar with. As a consequence, many of the exercises are about correcting faulty syntax. Tracking and correcting buggy code, be it syntactically wrong or semantically faulty, is a major part of day-to-day programming. Better get you used to it!\n",
    "**Tip:** _Don't hesitate to open up previous class materials and refer to them, as it might prove helpful._\n",
    "\n",
    "**Note:** At the end of the lab are two exercises that you are expected to submit for grading on Arche. You will have until 9:59am on Friday, 6th October (just before our next lab) to submit. You will find the submission instructions at the end of this notebook."
   ]
  },
  {
   "cell_type": "markdown",
   "metadata": {},
   "source": [
    "## Conditional execution\n",
    "\n",
    "\"Conditional execution\" is just a fancy way of saying \"run the instruction, if and only if a certain condition applies\".\n",
    "\n",
    "Typically, in python, we use the keyword `if`, followed by a condition (anything that can be evaluated as `True` or `False`) and a colon (`:`) for that purpose. Instructions that are to be conditionally executed are to be indented. For example:\n",
    "\n",
    "```\n",
    "if number_of_peanuts_i_have > 42:\n",
    "    give_peanuts_to_everyone()\n",
    "```\n",
    "\n",
    "In case you want to define a behavior if the condition fails, use the `else` keyword:\n",
    "\n",
    "```\n",
    "if number_of_peanuts_i_have > 42:\n",
    "    give_peanuts_to_everyone()\n",
    "else:\n",
    "    eat_peanuts_in_secret()\n",
    "```\n",
    "\n",
    "If you want to define a behavior in case your first `if` condition fails, but depending on some second condition, use the `elif` (as in, \"else if\") keyword:\n",
    "\n",
    "```\n",
    "if number_of_peanuts_i_have > 42:\n",
    "    give_peanuts_to_everyone()\n",
    "elif number_of_peanuts_i_have > 10:\n",
    "    give_peanuts_to_close_friends_only()\n",
    "else:\n",
    "    eat_peanuts_in_secret()\n",
    "```"
   ]
  },
  {
   "cell_type": "markdown",
   "metadata": {},
   "source": [
    "### Exercise #1 : Fix it!\n",
    "\n",
    "Below is a cell containing syntactically wrong conditional instructions. Fix them!\n",
    "\n",
    "**Tip:** _Running a cell to test how it behaves and whether it is correct is a good practice. Pay attention to the error messages you get: they give valuable hint as to what you need to fix!_"
   ]
  },
  {
   "cell_type": "code",
   "execution_count": null,
   "metadata": {},
   "outputs": [],
   "source": [
    "some_value = 42\n",
    "   \n",
    "if some_value = 42:\n",
    "    print(\"I am a DJ\")\n",
    "if some_value >= 43:\n",
    "print(\"kangaroo\")\n",
    "else:\n",
    "    if some_value <= 43:\n",
    "        print(\"didgeridoo\")\n",
    "    else\n",
    "        print(\"berimbau\")"
   ]
  },
  {
   "cell_type": "markdown",
   "metadata": {},
   "source": [
    "## Any value can pass as a test\n",
    "\n",
    "One important point in python is that virtually any value can be used as a condition. \n",
    "\n",
    "We divide values between *truthy* and *falsy* values. By default, all values are truthy: when put after an `if`, they will be evaluated as if they were `True`.\n",
    "\n",
    "The exceptions to that are:\n",
    "\n",
    " - The `False` boolean value\n",
    " - Boolean statement that evaluate to `False`: e.g., `42 < 2`\n",
    " - Values equal to zero: for example `0`, `0.0`\n",
    " - The empty string: `\"\"`\n",
    " - The special `None` object\n",
    " - An empty list `[]` or dictionary `{}`\n",
    "\n",
    "All of these are falsy and will be evaluated as if they were `False` in conditional instructions."
   ]
  },
  {
   "cell_type": "markdown",
   "metadata": {},
   "source": [
    "### Exercise #2 : Which is syntactically wrong?\n",
    "\n",
    "The consequence of all values being either `falsy` or `truhty` is that the syntax of conditions is very flexible! Below are a number of conditional instruction blocks. Comment out only those blocks that are syntactically incorrect!"
   ]
  },
  {
   "cell_type": "code",
   "execution_count": null,
   "metadata": {},
   "outputs": [],
   "source": [
    "# Block 1\n",
    "else:\n",
    "    print(\"other\")\n",
    "\n",
    "# Block 2\n",
    "if print:\n",
    "    print(print)\n",
    "    \n",
    "# Block 3\n",
    "if def:\n",
    "    print(def)\n",
    "\n",
    "# Block 4\n",
    "if None: \n",
    "    print(\"other\")\n",
    "else:\n",
    "    print(\"hotter\")\n",
    "elif 42:\n",
    "    print(\"otter\")\n",
    "    \n",
    "# Block 5\n",
    "if \"\":\n",
    "    print(\"Alack\")\n",
    "elif \"Shakespeare\":\n",
    "    print(\"poor\")\n",
    "else:\n",
    "    print(\"Yorrick\")"
   ]
  },
  {
   "cell_type": "markdown",
   "metadata": {},
   "source": [
    "## Being in the loop\n",
    "\n",
    "Another very important aspect of python syntax is the  ability to loop over a series of instruction. Python offers two means of achieving this.\n",
    "\n",
    "The first one is called a `while` loop, as it uses the `while` keyword. It basically repeats the same instructions over and over, stoping only when the condition after the `while` keyword is falsy:\n",
    "\n",
    "```\n",
    "while i_have_some_peanuts():\n",
    "    eat_one_peanut()\n",
    "```\n",
    "\n",
    "Badly written `while` loops can be dangerous: if the condition never gets falsy (e.g., if I have an infinite supply of peanuts! ... or if I forget to subtract eaten peanuts from the total number of remaining peanuts) then the code will **never** stop.\n",
    "\n",
    "The second means of looping over instructions is called a `for` loop. It iterates over each element in a collection, for instance, items in a list, or characters in a string), and stops when there are no more. Each element, in turn, is stored in the variable declared right after the `for` keyword. We put the collection after an `in` keyword. For example:\n",
    "\n",
    "```\n",
    "for my_peanut in all_the_peanuts_i_have():\n",
    "    eat(my_peanut)\n",
    "```"
   ]
  },
  {
   "cell_type": "markdown",
   "metadata": {},
   "source": [
    "### Exercise #3 : Somebody make it stop!\n",
    "\n",
    "The following code cell contains a never-ending `while` loop. Spot the mistake and correct it, so that the execution stops after 42 loops.\n",
    "There are multiple ways to fix this."
   ]
  },
  {
   "cell_type": "code",
   "execution_count": null,
   "metadata": {},
   "outputs": [],
   "source": [
    "i = 21\n",
    "n = 42\n",
    "\n",
    "# this loop will never stop, why?\n",
    "while i < 42:\n",
    "    i -= 1\n",
    "    n -= 1"
   ]
  },
  {
   "cell_type": "markdown",
   "metadata": {},
   "source": [
    "### Exercise #4 : 99 Bottles of beer on the wall\n",
    "\n",
    "One (somewhat) famous song in code programming is called [\"99 bottles of beer\"](https://en.wikipedia.org/wiki/99_Bottles_of_Beer). It's frequently used to demonstrate the ability of a programming language to loop over a series of instructions. The song goes like this:\n",
    "\n",
    "> 99 bottles of beer on the wall, 99 bottles of beer on the wall,\n",
    "\n",
    "> Take one down, pass it around, 98 bottles of beer on the wall\n",
    "\n",
    "> 98 bottles of beer on the wall, 98 bottles of beer on the wall,\n",
    "\n",
    "> Take one down, pass it around, 97 bottles of beer on the wall\n",
    "\n",
    "... and so on, until there are no more bottles to pass around:\n",
    "\n",
    "> 1 bottle of beer on the wall, 1 bottle of beer on the wall,\n",
    "\n",
    "> Take one down, pass it around, no more bottles of beer on the wall\n",
    "\n",
    "\n",
    "In the next code cell, write a series of instruction that prints the entire song, from 99 down to 0. *Be careful about plurals and singulars! After all, English syntax deserves as much respect as python syntax.*\n",
    "\n",
    "**Challenge:** &#9971; Golf it! If you don't know, in programming, golfing means \"writing some piece of code with as few characters as possible\". "
   ]
  },
  {
   "cell_type": "code",
   "execution_count": null,
   "metadata": {},
   "outputs": [],
   "source": [
    "# And now for 99 bottles of beer..."
   ]
  },
  {
   "cell_type": "markdown",
   "metadata": {},
   "source": [
    "### Exercise #5 : All this while I didn't know\n",
    "\n",
    "The next exercise is about writing a function to discover the value of a secret integer!\n",
    "\n",
    "You might know this game as \"hot or cold\". We randomly select one integer between 1 and 100 (included). \n",
    "\n",
    "You have to implement the function `find_mystery_number()` such that when called, it returns the mystery number. Your function **must not** refer to the mystery number. Instead, you **must** use the function `hot_or_cold()` to see whether your current guess is correct or not.\n",
    "\n",
    "**Challenge 1:** Try to make as few guesses as possible!\n",
    "\n",
    "**Challenge 2:** &#9971; Golf it!"
   ]
  },
  {
   "cell_type": "code",
   "execution_count": null,
   "metadata": {},
   "outputs": [],
   "source": [
    "import random\n",
    "\n",
    "# this is for replicability\n",
    "random.seed(a=42)\n",
    "\n",
    "# this is the secret number to guess. Don't look at it!\n",
    "_THE_MYSTERY_NUMBER = random.randint(1, 100)\n",
    "\n",
    "\n",
    "def hot_or_cold(guess_number):\n",
    "    \"\"\"\n",
    "    Oracle function to tell how far your guess is from the truth.\n",
    "    \"\"\"\n",
    "    if guess_number == _THE_MYSTERY_NUMBER:\n",
    "        return \"bingo bango!\"\n",
    "    elif _THE_MYSTERY_NUMBER - 5 < guess_number < _THE_MYSTERY_NUMBER + 5:\n",
    "        return \"you're hot!\"\n",
    "    elif _THE_MYSTERY_NUMBER - 10 < guess_number < _THE_MYSTERY_NUMBER + 10:\n",
    "        return \"you're warm!\"\n",
    "    elif _THE_MYSTERY_NUMBER - 20 < guess_number < _THE_MYSTERY_NUMBER + 20:\n",
    "        return \"uh... not really...\"\n",
    "    else:\n",
    "        return \"cold. so cold.\"\n",
    "    \n",
    "    \n",
    "    \n",
    "def find_mystery_number():\n",
    "    # your code goes here!\n",
    "    pass"
   ]
  },
  {
   "cell_type": "markdown",
   "metadata": {},
   "source": [
    "# Assignment Exercise\n",
    "\n",
    "### Collatz Sequence\n",
    "\n",
    "You may have seen this problem before.\n",
    "\n",
    "The *Collatz sequence* is an iterative sequence defined on the positive integers by:\n",
    "\n",
    "```\n",
    "n -> n / 2    if n is even\n",
    "n -> 3n + 1   if n is odd\n",
    "```\n",
    "\n",
    "For example, using the rule above and starting with 13 yields the sequence:\n",
    "\n",
    "```\n",
    "13 -> 40 -> 20 -> 10 -> 5 -> 16 -> 8 -> 4 -> 2 -> 1\n",
    "```\n",
    "\n",
    "It can be seen that this sequence (starting at 13 and finishing at 1) contains 10 terms. Although unproven, it it hypothesized that all starting numbers finish at 1.\n",
    "\n",
    "What is the length of the longest chain which has a starting number under 1,000,000?\n",
    "\n",
    "*NOTE: Once the chain starts the terms are allowed to go above one thousand.*\n",
    "\n",
    "### Exercise 1\n",
    "\n",
    "Write a function called `collatz_len()`, which, given a number `n` (`n` <= 1,000,000), returns the length of the Collatz sequence starting at `n`.\n",
    "\n",
    "### Exercise 2\n",
    "\n",
    "Write a function called `max_collatz_len()`, which, given a number `n` (n <= 1,000,000), returns the length of the longest Collatz sequence for numbers smaller than `n`. (You are allowed to call your `collatz_len()` function within your `max_collatz_len()` function.\n",
    "\n",
    "**Hint**: You may want to write a naive algorithm first which works for numbers under 1000. Then write a cleverer-than-naive algorithm so that is works for any starting number under 1,000,000. Or just go directly for the challenge ;-)\n",
    "\n",
    "If your function is working correctly, you should get the following outputs:\n",
    "\n",
    "```python\n",
    "max_collatz_len(1000) # => 179\n",
    "max_collatz_len(1000000) # => 525\n",
    "\n",
    "```"
   ]
  },
  {
   "cell_type": "code",
   "execution_count": 1,
   "metadata": {},
   "outputs": [
    {
     "name": "stdout",
     "output_type": "stream",
     "text": [
      "None\n",
      "None\n"
     ]
    }
   ],
   "source": [
    "def collatz_len(n):\n",
    "    \"\"\"Computes the length of the Collatz sequence starting at `n`.\"\"\"\n",
    "    pass\n",
    "\n",
    "def max_collatz_len(n):\n",
    "    \"\"\"Computes the longest Collatz sequence length for starting numbers < `n`\"\"\"\n",
    "    pass\n",
    "    \n",
    "print(max_collatz_len(1000))\n",
    "print(max_collatz_len(1000000))"
   ]
  },
  {
   "cell_type": "markdown",
   "metadata": {},
   "source": [
    "### Submission instructions\n",
    "\n",
    "Alright, you did it! Enough beers and peanuts for today.\n",
    "\n",
    "You will need to submit the last two exercises (the `collatz_len()` and `max_collatz_len()` functions) on Arche before 9:59am on Friday, 6th October (just before our next lab). Submit either a `.py` or an `.ipynb` file containing the two functions and name it `td2_firstname_lastname_grpN.py` or `td2_firstname_lastname_grpN.ipynb` accordingly, where `firstname` should be your first name, `lastname` should be your last name, and `N` in `grpN` should be your group number (e.g. Jane Doe, who is in group A1, should name her submission either `td2_jane_doe_grp1.py` or `td2_jane_doe_grp1.ipynb`, depending on whether Jane submitted a Python script or a Jupyter notebook).\n",
    "\n",
    "To evaluate your submission, we will be looking at the following criteria:\n",
    "\n",
    "- Does your code run? (So **run** your program at least once before submitting!)\n",
    "- Does it run correctly? (So **test** your solution with a few different inputs!)\n",
    "- Is your code well-commented?"
   ]
  },
  {
   "cell_type": "markdown",
   "metadata": {},
   "source": [
    "Credits go to CS41 authors (@sredmond) for the original Collatz problem.\n",
    "\n",
    "> Adapted with <3 and peanuts by tmickus"
   ]
  }
 ],
 "metadata": {
  "kernelspec": {
   "display_name": "Python 3 (ipykernel)",
   "language": "python",
   "name": "python3"
  },
  "language_info": {
   "codemirror_mode": {
    "name": "ipython",
    "version": 3
   },
   "file_extension": ".py",
   "mimetype": "text/x-python",
   "name": "python",
   "nbconvert_exporter": "python",
   "pygments_lexer": "ipython3",
   "version": "3.7.9"
  }
 },
 "nbformat": 4,
 "nbformat_minor": 4
}
