{
  "cells": [
    {
      "cell_type": "markdown",
      "metadata": {
        "id": "JC2bbbG0DeiX"
      },
      "source": [
        "# Lab 5: Functions"
      ]
    },
    {
      "cell_type": "markdown",
      "metadata": {
        "id": "GobAIsUODeic"
      },
      "source": [
        "## Overview\n",
        "This lab is aimed at building familiarity with reading and writing Python functions with different types of formal parameters and explore some nuances of function execution semantics.\n",
        "\n",
        "*Disclaimer: we know that this lab is particularly focused on Python semantics, which may not seem exciting at first. However, mastering the mechanics of Python functions gives you access to a whole lot of powerful tools that either don't exist or are uncommon or hard-to-use in other languages! The skills you learn through this lab will allow you to write (and debug) powerful Pythonic code quickly and easily!*\n"
      ]
    },
    {
      "cell_type": "markdown",
      "metadata": {
        "id": "c4wMnou0Deif"
      },
      "source": [
        "## Exploring Arguments and Parameters\n",
        "\n",
        "You can work through the following problems with a partner."
      ]
    },
    {
      "cell_type": "markdown",
      "metadata": {
        "id": "YjvB46vaDeig"
      },
      "source": [
        "\n",
        "Consider the following function definition:\n",
        "\n",
        "```Python\n",
        "def print_two(a, b):\n",
        "    print(\"Arguments: {0} and {1}\".format(a, b))\n",
        "```\n",
        "\n",
        "For each of the function calls, in the following cell, predict whether the call is valid or not. If it is valid, what will the output be? If it is invalid, what is the cause of the error?\n",
        "\n",
        "### Exercise #1 : Uncomment all then comment back invalid function calls"
      ]
    },
    {
      "cell_type": "code",
      "execution_count": 13,
      "metadata": {
        "colab": {
          "base_uri": "https://localhost:8080/"
        },
        "id": "cNx3xraVDeih",
        "outputId": "c99754f8-6a50-4a76-ea6f-4700d08f0884"
      },
      "outputs": [
        {
          "output_type": "stream",
          "name": "stdout",
          "text": [
            "Arguments: 4 and 1\n",
            "Arguments: 4 and 1\n",
            "Arguments: 4 and 1\n"
          ]
        }
      ],
      "source": [
        "# Before running me, predict which of these calls will be invalid and which will be valid!\n",
        "# For valid calls, what is the output?\n",
        "# For invalid calls, why is it invalid?\n",
        "def print_two(a, b):\n",
        "    print(\"Arguments: {0} and {1}\".format(a, b))\n",
        "\n",
        "# Uncomment one by one, and check you are correct,\n",
        "# then comment back the calls that are invalid.\n",
        "# print_two()\n",
        "print_two(4, 1)\n",
        "# print_two(41)\n",
        "# print_two(a=4, 1)\n",
        "# print_two(4, a=1)\n",
        "# print_two(4, 1, 1)\n",
        "# print_two(b=4, 1)\n",
        "print_two(a=4, b=1)\n",
        "print_two(b=1, a=4)\n",
        "# print_two(1, a=1)\n",
        "# print_two(4, 1, b=1)"
      ]
    },
    {
      "cell_type": "markdown",
      "metadata": {
        "id": "mBDk46J5Deik"
      },
      "source": [
        "### Default Arguments\n",
        "\n",
        "Consider the following function definition:\n",
        "\n",
        "```Python\n",
        "def keyword_args(a, b=1, c='X', d=None):\n",
        "    print(\"a:\", a)\n",
        "    print(\"b:\", b)\n",
        "    print(\"c:\", c)\n",
        "    print(\"d:\", d)\n",
        "```\n",
        "\n",
        "### Exercise #2 : Uncomment all then comment back invalid function calls\n",
        "\n",
        "For each of the function calls, in the following cell, predict whether the call is valid or not. If it is valid, what will the output be? If it is invalid, what is the cause of the error?"
      ]
    },
    {
      "cell_type": "code",
      "execution_count": 28,
      "metadata": {
        "colab": {
          "base_uri": "https://localhost:8080/"
        },
        "id": "jkYPsdodDeil",
        "outputId": "0be68a2a-67ae-4f34-9a5b-72bcd69424af"
      },
      "outputs": [
        {
          "output_type": "stream",
          "name": "stdout",
          "text": [
            "a: 5\n",
            "b: 1\n",
            "c: X\n",
            "d: None\n",
            "a: 5\n",
            "b: 1\n",
            "c: X\n",
            "d: None\n",
            "a: 5\n",
            "b: 8\n",
            "c: X\n",
            "d: None\n",
            "a: 5\n",
            "b: 2\n",
            "c: 4\n",
            "d: None\n",
            "a: 5\n",
            "b: 0\n",
            "c: 1\n",
            "d: None\n",
            "a: 5\n",
            "b: 2\n",
            "c: 4\n",
            "d: 8\n",
            "a: 1\n",
            "b: 1\n",
            "c: 7\n",
            "d: None\n",
            "a: 5\n",
            "b: 2\n",
            "c: []\n",
            "d: 5\n",
            "a: 1\n",
            "b: 1\n",
            "c: 7\n",
            "d: None\n"
          ]
        }
      ],
      "source": [
        "# Before running me, predict which of these calls will be invalid and which will be valid.\n",
        "# For valid calls, what is the output?\n",
        "# For invalid calls, why is it invalid?\n",
        "def keyword_args(a, b=1, c='X', d=None):\n",
        "    print(\"a:\", a)\n",
        "    print(\"b:\", b)\n",
        "    print(\"c:\", c)\n",
        "    print(\"d:\", d)\n",
        "\n",
        "# Uncomment one by one, and check you are correct,\n",
        "# then comment back the calls that are invalid.\n",
        "keyword_args(5)\n",
        "keyword_args(a=5)\n",
        "keyword_args(5, 8)\n",
        "keyword_args(5, 2, c=4)\n",
        "keyword_args(5, 0, 1)\n",
        "keyword_args(5, 2, d=8, c=4)\n",
        "# keyword_args(5, 2, 0, 1, \"\")\n",
        "# keyword_args(c=7, 1)\n",
        "keyword_args(c=7, a=1)\n",
        "keyword_args(5, 2, [], 5)\n",
        "# keyword_args(1, 7, e=6)\n",
        "keyword_args(1, c=7)\n",
        "# keyword_args(5, 2, b=4)"
      ]
    },
    {
      "cell_type": "markdown",
      "metadata": {
        "id": "xpwW7Q18Deim"
      },
      "source": [
        "### Exploring Variadic Argument lists\n",
        "As before, consider the following function definition:\n",
        "\n",
        "```Python\n",
        "def variadic(*args, **kwargs):\n",
        "    print(\"Positional:\", args)\n",
        "    print(\"Keyword:\", kwargs)\n",
        "```\n",
        "\n",
        "For each of the function calls, in the following cell, predict whether the call is valid or not. If it is valid, what will the output be? If it is invalid, what is the cause of the error?\n",
        "\n",
        "### Exercise #3 : Uncomment all then comment back invalid function calls"
      ]
    },
    {
      "cell_type": "code",
      "execution_count": 40,
      "metadata": {
        "colab": {
          "base_uri": "https://localhost:8080/"
        },
        "id": "8Qbxl85JDein",
        "outputId": "f7d2ed62-9851-4991-e785-691a8b95551d"
      },
      "outputs": [
        {
          "output_type": "stream",
          "name": "stdout",
          "text": [
            "Positional: (2, 3, 5, 7)\n",
            "Keyword: {}\n",
            "Positional: (1, 1)\n",
            "Keyword: {'n': 1}\n",
            "Positional: ()\n",
            "Keyword: {}\n",
            "Positional: ()\n",
            "Keyword: {'cs': 'Computer Science', 'pd': 'Product Design'}\n",
            "Positional: (5, 8)\n",
            "Keyword: {'k': 1, 'swap': 2}\n",
            "Positional: (8, 3, 4, 5)\n",
            "Keyword: {'k': 1, 'a': 5, 'b': 'x'}\n",
            "Positional: (8, 3, 4, 5)\n",
            "Keyword: {'k': 1, 'a': 5, 'b': 'x'}\n",
            "Positional: (3, 4, 5, 8, 4, 1)\n",
            "Keyword: {'k': 1, 'a': 5, 'b': 'x'}\n",
            "Positional: ({'a': 5, 'b': 'x'}, 'a', 'b')\n",
            "Keyword: {'a': 5, 'b': 'x'}\n"
          ]
        }
      ],
      "source": [
        "# Before running me, predict which of these calls will be invalid and which will be valid!\n",
        "# For valid calls, what is the output?\n",
        "# For invalid calls, why is it invalid?\n",
        "def variadic(*args, **kwargs):\n",
        "    print(\"Positional:\", args)\n",
        "    print(\"Keyword:\", kwargs)\n",
        "\n",
        "# Uncomment one by one, and check you are correct,\n",
        "# then comment back the calls that are invalid.\n",
        "variadic(2, 3, 5, 7)\n",
        "variadic(1, 1, n=1)\n",
        "# variadic(n=1, 2, 3)\n",
        "variadic()\n",
        "variadic(cs=\"Computer Science\", pd=\"Product Design\")\n",
        "# variadic(cs=\"Computer Science\", cs=\"CompSci\", cs=\"CS\")\n",
        "variadic(5, 8, k=1, swap=2)\n",
        "variadic(8, *[3, 4, 5], k=1, **{'a':5, 'b':'x'})\n",
        "variadic(*[8, 3], *[4, 5], k=1, **{'a':5, 'b':'x'})\n",
        "variadic(*[3, 4, 5], 8, *(4, 1), k=1, **{'a':5, 'b':'x'})\n",
        "variadic({'a':5, 'b':'x'}, *{'a':5, 'b':'x'}, **{'a':5, 'b':'x'})"
      ]
    },
    {
      "cell_type": "markdown",
      "metadata": {
        "id": "Xb4qD2qzDeio"
      },
      "source": [
        "### Putting it all together\n",
        "\n",
        "Often, however, we don't just see keyword arguments of variadic parameter lists in isolated situations. The following function definition, which incorporates positional parameters, keyword parameters, variadic positional parameters, keyword-only default parameters and variadic keyword parameters, is valid Python code.\n",
        "\n",
        "```Python\n",
        "def all_together(x, y, z=1, *nums, indent=True, spaces=4, **options):\n",
        "    print(\"x:\", x)\n",
        "    print(\"y:\", y)\n",
        "    print(\"z:\", z)\n",
        "    print(\"nums:\", nums)\n",
        "    print(\"indent:\", indent)\n",
        "    print(\"spaces:\", spaces)\n",
        "    print(\"options:\", options)\n",
        "```\n",
        "\n",
        "For each of the function calls, in the following cell, predict whether the call is valid or not. If it is valid, what will the output be? If it is invalid, what is the cause of the error?\n",
        "\n",
        "### Exercise #4 : Uncomment all then comment back invalid function calls"
      ]
    },
    {
      "cell_type": "code",
      "execution_count": 52,
      "metadata": {
        "colab": {
          "base_uri": "https://localhost:8080/"
        },
        "id": "HIp6JnWcDeip",
        "outputId": "a7c94b3c-72cf-4c85-904e-ecdf786102c7"
      },
      "outputs": [
        {
          "output_type": "stream",
          "name": "stdout",
          "text": [
            "x: 2\n",
            "y: 5\n",
            "z: 7\n",
            "nums: (8,)\n",
            "indent: False\n",
            "spaces: 4\n",
            "options: {}\n",
            "x: 2\n",
            "y: 5\n",
            "z: 7\n",
            "nums: (6,)\n",
            "indent: None\n",
            "spaces: 4\n",
            "options: {}\n",
            "x: {'x': 0, 'y': 1}\n",
            "y: 0\n",
            "z: 1\n",
            "nums: (2, 3, 4, 5, 6, 7, 8, 9)\n",
            "indent: True\n",
            "spaces: 4\n",
            "options: {}\n",
            "x: [1, 2]\n",
            "y: {3: 4}\n",
            "z: 1\n",
            "nums: ()\n",
            "indent: True\n",
            "spaces: 4\n",
            "options: {}\n",
            "x: 8\n",
            "y: 9\n",
            "z: 10\n",
            "nums: (2, 4, 6)\n",
            "indent: True\n",
            "spaces: 0\n",
            "options: {'a': [4, 5], 'b': 'x'}\n",
            "x: 8\n",
            "y: 9\n",
            "z: 2\n",
            "nums: (4, 6, 'z')\n",
            "indent: True\n",
            "spaces: 0\n",
            "options: {'a': [4, 5], 'b': 'x'}\n"
          ]
        }
      ],
      "source": [
        "# Before running me, predict which of these calls will be invalid and which will be valid!\n",
        "# For valid calls, what is the output?\n",
        "# For invalid calls, why is it invalid?\n",
        "def all_together(x, y, z=1, *nums, indent=True, spaces=4, **options):\n",
        "    print(\"x:\", x)\n",
        "    print(\"y:\", y)\n",
        "    print(\"z:\", z)\n",
        "    print(\"nums:\", nums)\n",
        "    print(\"indent:\", indent)\n",
        "    print(\"spaces:\", spaces)\n",
        "    print(\"options:\", options)\n",
        "\n",
        "# Uncomment one by one, and check you are correct,\n",
        "# then comment back the calls that are invalid.\n",
        "# all_together(2)\n",
        "all_together(2, 5, 7, 8, indent=False)\n",
        "all_together(2, 5, 7, 6, indent=None)\n",
        "# all_together()\n",
        "# all_together(indent=True, 3, 4, 5)\n",
        "# all_together(**{'indent': False}, scope='maximum')\n",
        "all_together(dict(x=0, y=1), *range(10))\n",
        "# all_together(**dict(x=0, y=1), *range(10))\n",
        "# all_together(*range(10), **dict(x=0, y=1))\n",
        "all_together([1, 2], {3:4})\n",
        "# all_together(8, 9, 10, *[2, 4, 6], x=7, spaces=0, **{'a':5, 'b':'x'})\n",
        "all_together(8, 9, 10, *[2, 4, 6], spaces=0, **{'a':[4,5], 'b':'x'})\n",
        "all_together(8, 9, *[2, 4, 6], *dict(z=1), spaces=0, **{'a':[4,5], 'b':'x'})"
      ]
    },
    {
      "cell_type": "markdown",
      "metadata": {
        "id": "B49fu0HfDeir"
      },
      "source": [
        "## Writing Functions"
      ]
    },
    {
      "cell_type": "markdown",
      "metadata": {
        "id": "qxtEzX6NDeir"
      },
      "source": [
        "### Exercise #5 : `speak_excitedly`\n",
        "Write a function `speak_excitedly` that accepts one required positional argument `msg` (a message) and two optional keyword arguments `n_excl_marks` and `in_caps`, the first of which is a positive integer referring to the number of exclamation marks to put at the end of the message (defaulting to `1`), and the second of which is a boolean flag indicating whether or not to capitalize the message (defaulting to `False`).\n",
        "\n",
        "What would the function signature and implementation look like for this function?"
      ]
    },
    {
      "cell_type": "code",
      "execution_count": 75,
      "metadata": {
        "id": "63nGQ_KIDeis"
      },
      "outputs": [],
      "source": [
        "def speak_excitedly(msg, n_xcl_marks=1, in_caps=False):\n",
        "  \"\"\"\n",
        "    msg - positional argument\n",
        "    n_excl_marks - a positive integer referring to the number of exclamation marks (Optional) - default value 1\n",
        "    in_caps - a boolean flag indicating whether or not to capitalize the message (Optional) - default value False\n",
        "    Print a message, with an optional number of exclamation points and optional capitalization\n",
        "  \"\"\"\n",
        "  punct = (\"!\", \".\")\n",
        "  mark = (punct[0] if n_xcl_marks != 3 else punct[1])\n",
        "  if in_caps:\n",
        "    msg = msg.upper()\n",
        "  print(f\"{msg}{mark[0]*n_xcl_marks}\")"
      ]
    },
    {
      "cell_type": "markdown",
      "metadata": {
        "id": "UrljUNfsDeit"
      },
      "source": [
        "How would you call this function to produce the following outputs?\n",
        "\n",
        "```Python\n",
        "\"I love Python!!\"\n",
        "\"Keyword arguments are great!\"\n",
        "\"I guess Java is okay...\"\n",
        "\"LET'S GO CHIMPS!!!!!\"\n",
        "```"
      ]
    },
    {
      "cell_type": "code",
      "execution_count": 76,
      "metadata": {
        "colab": {
          "base_uri": "https://localhost:8080/"
        },
        "id": "Ok7oSWezDeit",
        "outputId": "f7cd75b9-3b2a-4a38-863b-24f73aee1268"
      },
      "outputs": [
        {
          "output_type": "stream",
          "name": "stdout",
          "text": [
            "I love Python!!\n",
            "Keyword arguments are great!\n",
            "I guess Java is okay...\n",
            "LETS'S GO CHIMPS!!!!!\n"
          ]
        }
      ],
      "source": [
        "speak_excitedly(\"I love Python\", 2)  # => \"I love Python!!\"\n",
        "speak_excitedly(\"Keyword arguments are great\")  # => \"Keyword arguments are great!\"\n",
        "speak_excitedly(\"I guess Java is okay\", 3)  # => \"I guess Java is okay...\"\n",
        "speak_excitedly(\"lets's go chimps\", 5, True)  # => \"LET'S GO CHIMPS!!!!!\""
      ]
    },
    {
      "cell_type": "markdown",
      "metadata": {
        "id": "ptGItgTtDeiu"
      },
      "source": [
        "# Submission exercises"
      ]
    },
    {
      "cell_type": "markdown",
      "metadata": {
        "id": "FNdYgBGqDeiv"
      },
      "source": [
        "### Exercise #6 : `average`\n",
        "Write a function `average` that accepts a variable number of integer positional arguments and computes the average. If no arguments are supplied, the function should return `None`.\n",
        "\n",
        "What would the function signature and implementation look like for this function?"
      ]
    },
    {
      "cell_type": "code",
      "execution_count": 98,
      "metadata": {
        "id": "CJ1zfhxuDeiv"
      },
      "outputs": [],
      "source": [
        "def average(*args):\n",
        "    \"\"\"Return the average of numeric arguments or None if no arguments are supplied.\"\"\"\n",
        "    # handle exception in case of division by 0\n",
        "    try:\n",
        "        return sum(args)/len(args)  # return average value\n",
        "    except ZeroDivisionError:\n",
        "        return  # returns None\n",
        ""
      ]
    },
    {
      "cell_type": "markdown",
      "metadata": {
        "id": "sbNheOt2Deiw"
      },
      "source": [
        "It should be possible to call the function as follows:\n",
        "\n",
        "```Python\n",
        "average()  # => None\n",
        "average(5)  # => 5.0\n",
        "average(6, 8, 9, 11)  # => 8.5\n",
        "```"
      ]
    },
    {
      "cell_type": "code",
      "execution_count": 99,
      "metadata": {
        "colab": {
          "base_uri": "https://localhost:8080/"
        },
        "id": "YFxptyP5Deix",
        "outputId": "b72f8495-76ed-47f4-ea0a-ea55f75f82ac"
      },
      "outputs": [
        {
          "output_type": "stream",
          "name": "stdout",
          "text": [
            "None\n",
            "5.0\n",
            "8.5\n"
          ]
        }
      ],
      "source": [
        "print(average())  # => None\n",
        "print(average(5))  # => 5.0\n",
        "print(average(6, 8, 9, 11))  # => 8.5"
      ]
    },
    {
      "cell_type": "markdown",
      "metadata": {
        "id": "z3i2ADExDeix"
      },
      "source": [
        "Suppose that we have a list `l = [???]` supplied by the user (or some file!) of unknown contents. How can we use the `average` function we just wrote to compute the average of this list? How will you pass (*unpack*) this list `l` to your `average()` function? Fill in in place of the question `???` marks below"
      ]
    },
    {
      "cell_type": "markdown",
      "source": [],
      "metadata": {
        "id": "DuqO-W-GmMx3"
      }
    },
    {
      "cell_type": "code",
      "execution_count": 101,
      "metadata": {
        "colab": {
          "base_uri": "https://localhost:8080/"
        },
        "id": "DcemMj24Deiy",
        "outputId": "e065d483-5793-417a-fd66-577ec5e64e07"
      },
      "outputs": [
        {
          "output_type": "stream",
          "name": "stdout",
          "text": [
            "13199.0\n"
          ]
        }
      ],
      "source": [
        "l = [3, 1, 41, 592, 65358]\n",
        "# unpack list\n",
        "print(average(*l)) # => 13199.0"
      ]
    },
    {
      "cell_type": "markdown",
      "metadata": {
        "tags": [],
        "id": "mgqfmJRIDeiz"
      },
      "source": [
        "### Exercise #7 : `make_table`\n",
        "\n",
        "Write a function to make a table out of an arbitrary number of keyword arguments. For example,\n",
        "\n",
        "```Python\n",
        "make_table(\n",
        "    first_name=\"Sam\",\n",
        "    last_name=\"Redmond\",\n",
        "    shirt_color=\"pink\"\n",
        ")\n",
        "```\n",
        "\n",
        "should produce\n",
        "\n",
        "```\n",
        "=========================\n",
        "| first_name  |     Sam |\n",
        "| last_name   | Redmond |\n",
        "| shirt_color |    pink |\n",
        "=========================\n",
        "```\n",
        "\n",
        "Additionally, there should be two parameters, `key_justify` and `value_justify`, whose default values are `'left'` and `'right'` respectively. These keyword arguments will control the text alignment for keys and values in the table. Valid options for these parameters are `['left', 'right', 'center']`. There should be an extra space of padding on either side of the keys and values. As another example,\n",
        "\n",
        "```Python\n",
        "make_table(\n",
        "    key_justify=\"right\",\n",
        "    value_justify=\"center\",\n",
        "    song=\"Style\",\n",
        "    artist_fullname=\"Taylor $wift\",\n",
        "    album=\"1989\"\n",
        ")\n",
        "```\n",
        "\n",
        "should produce\n",
        "\n",
        "```\n",
        "==================================\n",
        "|            song |     Style    |\n",
        "| artist_fullname | Taylor $wift |\n",
        "|           album |     1989     |\n",
        "==================================\n",
        "```\n",
        "\n",
        "What would the function signature and implementation look like for this function? Implement your code in the following cell.\n",
        "\n",
        "Hint: you may find Python's string `.format()` [alignment specifiers](https://pyformat.info/#string_pad_align) useful."
      ]
    },
    {
      "cell_type": "code",
      "execution_count": 158,
      "metadata": {
        "id": "KlsV0RNLDei0"
      },
      "outputs": [],
      "source": [
        "def make_table(key_justify='left', value_justify='right', **kwargs):\n",
        "    \"\"\" Print a table in specified format by using .format() with alignment specifiers.\n",
        "        From documentation:\n",
        "        '{:>10}'.format('test') - align right\n",
        "        '{:10}'.format('test') - align left\n",
        "        '{:^10}'.format('test') - align center\n",
        "        **kwargs - allows to pass any number of keyword arguments for table\n",
        "    \"\"\"\n",
        "    # map specifier name with corresponding symbol\n",
        "    alignment_modes = {'left': '', 'right':'>', 'center': '^'}\n",
        "\n",
        "    # for aligning the length of the `key` and `value` columns, calculate the length of the longest corresponding strings\n",
        "    max_key_length = max(len(key) for key in kwargs)\n",
        "    max_value_length = max(len(str(value)) for value in kwargs.values())\n",
        "\n",
        "    def form_row(key, value):\n",
        "      \"\"\"\n",
        "        Creates formatted row by using format() function alignments and parameter mappings\n",
        "      \"\"\"\n",
        "      return \"| {:{}{}} | {:{}{}} |\".format(key, alignment_modes[key_justify], max_key_length,\n",
        "                                            value, alignment_modes[value_justify], max_value_length)\n",
        "\n",
        "    # form aligned line separator\n",
        "    separator = \"=\" * (max_key_length + max_value_length + 7)\n",
        "\n",
        "    print(separator)\n",
        "    # iterate over keyword arguments(dictionary)\n",
        "    for key, value in kwargs.items():\n",
        "        # pass key and value (first and second columns cell values) to function for forming a string in needed format\n",
        "        print(form_row(key, value))\n",
        "    print(separator)"
      ]
    },
    {
      "cell_type": "code",
      "execution_count": 159,
      "metadata": {
        "colab": {
          "base_uri": "https://localhost:8080/"
        },
        "id": "LUaDQosaDei1",
        "outputId": "8f14d06b-3c73-4bec-f459-ab274b4836c9"
      },
      "outputs": [
        {
          "output_type": "stream",
          "name": "stdout",
          "text": [
            "=========================\n",
            "| first_name  |     Sam |\n",
            "| last_name   | Redmond |\n",
            "| shirt_color |    pink |\n",
            "=========================\n"
          ]
        }
      ],
      "source": [
        "make_table(\n",
        "    first_name=\"Sam\",\n",
        "    last_name=\"Redmond\",\n",
        "    shirt_color=\"pink\"\n",
        ")"
      ]
    },
    {
      "cell_type": "code",
      "execution_count": 160,
      "metadata": {
        "colab": {
          "base_uri": "https://localhost:8080/"
        },
        "id": "6wBrrdfXDei2",
        "outputId": "be96199e-b050-4f5e-c6ab-a243fffecd8d"
      },
      "outputs": [
        {
          "output_type": "stream",
          "name": "stdout",
          "text": [
            "==================================\n",
            "|            song |    Style     |\n",
            "| artist_fullname | Taylor $wift |\n",
            "|           album |     1989     |\n",
            "==================================\n"
          ]
        }
      ],
      "source": [
        "make_table(\n",
        "    key_justify=\"right\",\n",
        "    value_justify=\"center\",\n",
        "    song=\"Style\",\n",
        "    artist_fullname=\"Taylor $wift\",\n",
        "    album=\"1989\"\n",
        ")"
      ]
    },
    {
      "cell_type": "markdown",
      "metadata": {
        "id": "db4s77AbDei3"
      },
      "source": [
        "# Reviewing some stuff and additional exercises"
      ]
    },
    {
      "cell_type": "markdown",
      "metadata": {
        "id": "R_wktUixDei3"
      },
      "source": [
        "## Function Nuances"
      ]
    },
    {
      "cell_type": "markdown",
      "metadata": {
        "id": "OXlgdedCDei3"
      },
      "source": [
        "### Review #1: Return\n",
        "\n",
        "Predict the output of the following code snippet.\n",
        "\n",
        "```Python\n",
        "def say_hello():\n",
        "    print(\"Hello!\")\n",
        "\n",
        "print(say_hello())  # => ?\n",
        "\n",
        "def echo(arg=None):\n",
        "    print(\"arg:\", arg)\n",
        "    return arg\n",
        "\n",
        "print(echo())  # => ?\n",
        "print(echo(5)) # => ?\n",
        "print(echo(\"Hello\")) # => ?\n",
        "\n",
        "def drive(has_car):\n",
        "    if not has_car:\n",
        "        # Please never actually signal an error like this...\n",
        "        return \"Oh no!\"\n",
        "    return 100  # miles\n",
        "\n",
        "print(drive(False))  # => ?\n",
        "print(drive(True))   # => ?\n",
        "```\n",
        "\n",
        "You can run the code in the following cell to check your hypothesis. If you made any incorrect predictions, talk to a partner about why!"
      ]
    },
    {
      "cell_type": "code",
      "execution_count": null,
      "metadata": {
        "id": "rtQPsYRKDei4"
      },
      "outputs": [],
      "source": [
        "def say_hello():\n",
        "    print(\"Hello!\")\n",
        "\n",
        "print(say_hello())  # => ?\n",
        "\n",
        "def echo(arg=None):\n",
        "    print(\"arg:\", arg)\n",
        "    return arg\n",
        "\n",
        "print(echo())  # => ?\n",
        "print(echo(5)) # => ?\n",
        "print(echo(\"Hello\")) # => ?\n",
        "\n",
        "def drive(has_car):\n",
        "    if not has_car:\n",
        "        # Please never actually signal an error like this...\n",
        "        return \"Oh no!\"\n",
        "    return 100  # miles\n",
        "\n",
        "print(drive(False))  # => ?\n",
        "print(drive(True))   # => ?"
      ]
    },
    {
      "cell_type": "markdown",
      "metadata": {
        "id": "Mrbpdk8qDei5"
      },
      "source": [
        "### Review #2 : Parameters and Object Reference\n",
        "\n",
        "*Optional Reading: [Jeff Knupp's Blog](https://jeffknupp.com/blog/2012/11/13/is-python-callbyvalue-or-callbyreference-neither/)*\n",
        "\n",
        "Suppose we have the following two functions:\n",
        "\n",
        "```Python\n",
        "def reassign(arr):\n",
        "    arr = [4, 1]\n",
        "    print(\"Inside reassign: arr = {}\".format(arr))\n",
        "\n",
        "def append_one(arr):\n",
        "    arr.append(1)\n",
        "    print(\"Inside append_one: arr = {}\".format(arr))\n",
        "```\n",
        "\n",
        "Predict what the following code snippet will output. What's the difference between the sections? What is the cause of this difference?\n",
        "\n",
        "```Python\n",
        "l = [4]\n",
        "print(\"Before reassign: arr={}\".format(l))  # => ?\n",
        "reassign(l)\n",
        "print(\"After reassign: arr={}\".format(l))  # => ?\n",
        "\n",
        "l = [4]\n",
        "print(\"Before append_one: arr={}\".format(l))  # => ?\n",
        "append_one(l)\n",
        "print(\"After append_one: arr={}\".format(l))  # => ?\n",
        "```\n",
        "\n",
        "You can run the code in the following cell to check your hypothesis."
      ]
    },
    {
      "cell_type": "code",
      "execution_count": null,
      "metadata": {
        "id": "A5I7xjNeDei6"
      },
      "outputs": [],
      "source": [
        "def reassign(arr):\n",
        "    arr = [4, 1]\n",
        "    print(\"Inside reassign: arr = {}\".format(arr))\n",
        "\n",
        "def append_one(arr):\n",
        "    arr.append(1)\n",
        "    print(\"Inside append_one: arr = {}\".format(arr))\n",
        "\n",
        "l = [4]\n",
        "print(\"Before reassign: arr={}\".format(l))  # => ?\n",
        "reassign(l)\n",
        "print(\"After reassign: arr={}\".format(l))  # => ?\n",
        "\n",
        "l = [4]\n",
        "print(\"Before append_one: arr={}\".format(l))  # => ?\n",
        "append_one(l)\n",
        "print(\"After append_one: arr={}\".format(l))  # => ?"
      ]
    },
    {
      "cell_type": "markdown",
      "metadata": {
        "id": "XtO2J7rtDei7"
      },
      "source": [
        "### Review #3 : Scope\n",
        "*Optional Reading: [Python's Execution Model](https://docs.python.org/3/reference/executionmodel.html), especially Section 4.2.2.*\n",
        "\n",
        "Try to predict the output of the following Python programs.\n",
        "\n",
        "```Python\n",
        "# Python program: Case 1\n",
        "x = 10\n",
        "\n",
        "def foo():\n",
        "    print(\"(inside foo) x:\", x)\n",
        "    y = 5\n",
        "    print('value:', x * y)\n",
        "\n",
        "print(\"(outside foo) x:\", x)\n",
        "foo()\n",
        "print(\"(after foo) x:\", x)\n",
        "```\n",
        "\n",
        "\n",
        "```Python\n",
        "# Python program: Case 2\n",
        "x = 10\n",
        "\n",
        "def foo():\n",
        "    x = 8  # Only added this line - everything else is the same\n",
        "    print(\"(inside foo) x:\", x)\n",
        "    y = 5\n",
        "    print('value:', x * y)\n",
        "\n",
        "print(\"(outside foo) x:\", x)\n",
        "foo()\n",
        "print(\"(after foo) x:\", x)\n",
        "```\n",
        "\n",
        "You can run the following cell to confirm or refute your hypothesis.\n",
        "\n",
        "Try to draw a picture of the variable bindings at each scope (global scope and `foo` function-level scope) in each case."
      ]
    },
    {
      "cell_type": "code",
      "execution_count": null,
      "metadata": {
        "id": "yno5qdX-Dei7"
      },
      "outputs": [],
      "source": [
        "# Case 1\n",
        "x = 10\n",
        "\n",
        "def foo():\n",
        "    print(\"(inside foo) x:\", x)\n",
        "    y = 5\n",
        "    print('value:', x * y)\n",
        "\n",
        "print(\"(outside foo) x:\", x)\n",
        "foo()\n",
        "print(\"(after foo) x:\", x)"
      ]
    },
    {
      "cell_type": "code",
      "execution_count": null,
      "metadata": {
        "id": "dxVr6lg1Dei8"
      },
      "outputs": [],
      "source": [
        "# Case 2\n",
        "x = 10\n",
        "\n",
        "def foo():\n",
        "    x = 8  # Only added this line - everything else is the same\n",
        "    print(\"(inside foo) x:\", x)\n",
        "    y = 5\n",
        "    print('value:', x * y)\n",
        "\n",
        "print(\"(outside foo) x:\", x)\n",
        "foo()\n",
        "print(\"(after foo) x:\", x)"
      ]
    },
    {
      "cell_type": "markdown",
      "metadata": {
        "id": "QaMz3La6Dei9"
      },
      "source": [
        "### Review #4 : UnboundLocalError\n",
        "\n",
        "If we swap just two lines of code, something unusual happens. What is the error? Why might it be happening?\n",
        "\n",
        "```Python\n",
        "x = 10\n",
        "\n",
        "def foo():\n",
        "    print(\"(inside foo) x:\", x)  # We swapped this line\n",
        "    x = 8                        # with this one\n",
        "    y = 5\n",
        "    print('value:', x * y)\n",
        "\n",
        "print(\"(outside foo) x:\", x)\n",
        "foo()\n",
        "print(\"(after foo) x:\", x)\n",
        "```"
      ]
    },
    {
      "cell_type": "markdown",
      "metadata": {
        "id": "qqmxDzkSDei9"
      },
      "source": [
        "Similarly, `foo` as defined in\n",
        "\n",
        "```\n",
        "lst = [1,2,3]\n",
        "def foo():\n",
        "    lst.append(4)\n",
        "foo()\n",
        "```\n",
        "\n",
        "will compile (that is, the function object will be byte-compiled without problem), but\n",
        "\n",
        "```\n",
        "lst = [1,2,3]\n",
        "def foo():\n",
        "    lst = lst + [4]\n",
        "foo()\n",
        "```\n",
        "\n",
        "will raise an `UnboundLocalError`.\n",
        "\n",
        "\n",
        "Why? It doesn't, surprisingly, have to do with the fact that `.append` is in place and `+` is not.\n",
        "\n",
        "Use the following cells to make trials and understand."
      ]
    },
    {
      "cell_type": "code",
      "execution_count": null,
      "metadata": {
        "id": "3inNFUh-Dei-"
      },
      "outputs": [],
      "source": [
        "# This works\n",
        "lst = [1,2,3]\n",
        "def foo():\n",
        "    lst.append(4)\n",
        "foo()"
      ]
    },
    {
      "cell_type": "code",
      "execution_count": null,
      "metadata": {
        "id": "7ZeybpvPDejW"
      },
      "outputs": [],
      "source": [
        "# This doesn't\n",
        "lst = [1,2,3]\n",
        "def _foo():\n",
        "    lst = lst + [4]\n",
        "# try it! uncomment the line to test it, and comment it back afterwards\n",
        "#_foo()"
      ]
    },
    {
      "cell_type": "markdown",
      "metadata": {
        "id": "7Jk3ixxIDejX"
      },
      "source": [
        "This is such a common problem that the Python FAQ has [a section](https://docs.python.org/3/faq/programming.html#why-am-i-getting-an-unboundlocalerror-when-the-variable-has-a-value) dedicated to this type of `UnboundLocalError`.\n",
        "\n",
        "*Note, the `global` and `nonlocal` keywords can be used to assign to a variable outside of the currently active (innermost function) scope. If you're interested, you can read more about scoping rules in the optional reading, or in the [appropriate FAQ section](https://docs.python.org/3/faq/programming.html#what-are-the-rules-for-local-and-global-variables-in-python).*"
      ]
    },
    {
      "cell_type": "markdown",
      "metadata": {
        "id": "b3k8xEQ0DejX"
      },
      "source": [
        "### Review #5 : Default Mutable Arguments - A Dangerous Game\n",
        "\n",
        "A function's default values are evaluated at the point of function definition in the defining scope. For example:"
      ]
    },
    {
      "cell_type": "code",
      "execution_count": null,
      "metadata": {
        "id": "CDzKDaf9DejX"
      },
      "outputs": [],
      "source": [
        "x = 5\n",
        "\n",
        "def square(num=x):\n",
        "    return num * num\n",
        "\n",
        "x = 6\n",
        "print(square())   # => 25, not 36\n",
        "print(square(x))  # => 36"
      ]
    },
    {
      "cell_type": "markdown",
      "metadata": {
        "id": "EMCWb0ZBDejY"
      },
      "source": [
        "**Warning: A function's default values are evaluated *only once*, when the function definition is encountered. This is important when the default value is a mutable object such as a list or dictionary**\n",
        "\n",
        "Predict what the following code will do, then run it to test your hypothesis:\n",
        "\n",
        "```Python\n",
        "def append_twice(a, lst=[]):\n",
        "    lst.append(a)\n",
        "    lst.append(a)\n",
        "    return lst\n",
        "   \n",
        "# Works well when the keyword is provided\n",
        "print(append_twice(1, lst=[4]))  # => [4, 1, 1]\n",
        "print(append_twice(11, lst=[2, 3, 5, 7]))  # => [2, 3, 5, 7, 11, 11]\n",
        "\n",
        "# But what happens here?\n",
        "print(append_twice(1))\n",
        "print(append_twice(2))\n",
        "print(append_twice(3))\n",
        "```"
      ]
    },
    {
      "cell_type": "code",
      "execution_count": null,
      "metadata": {
        "id": "wxw5_rI9DejY"
      },
      "outputs": [],
      "source": [
        "# Something fishy is going on here. Can you deduce what is happening?\n",
        "def append_twice(a, lst=[]):\n",
        "    lst.append(a)\n",
        "    lst.append(a)\n",
        "    return lst\n",
        "\n",
        "# Works well when the keyword is provided\n",
        "print(append_twice(1, lst=[4]))  # => [4, 1, 1]\n",
        "print(append_twice(11, lst=[2, 3, 5, 7]))  # => [2, 3, 5, 7, 11, 11]\n",
        "\n",
        "# But what happens here?\n",
        "print(append_twice(1))\n",
        "print(append_twice(2))\n",
        "print(append_twice(3))"
      ]
    },
    {
      "cell_type": "markdown",
      "metadata": {
        "id": "JA2pY0HODejY"
      },
      "source": [
        "After you run the code, you should see the following printed to the screen:\n",
        "\n",
        "```\n",
        "[1, 1]\n",
        "[1, 1, 2, 2]\n",
        "[1, 1, 2, 2, 3, 3]\n",
        "```\n",
        "Discuss with a partner why this is happening.\n",
        "\n",
        "If you don’t want the default value to be shared between subsequent calls, you can use a sentinel value as the default value (to signal that no keyword argument was explicitly provided by the caller). If so, your function may look something like:\n",
        "\n",
        "```Python\n",
        "def append_twice(a, lst=None):\n",
        "    if lst is None:\n",
        "        lst = []\n",
        "    lst.append(a)\n",
        "    lst.append(a)\n",
        "    return lst\n",
        "```\n",
        "\n",
        "Discuss with a partner whether you think this solution feels better or worse."
      ]
    },
    {
      "cell_type": "code",
      "execution_count": null,
      "metadata": {
        "id": "0QLMRqb8DejZ"
      },
      "outputs": [],
      "source": [
        "def append_twice(a, lst=None):\n",
        "    if lst is None:\n",
        "        lst = []\n",
        "    lst.append(a)\n",
        "    lst.append(a)\n",
        "    return lst"
      ]
    },
    {
      "cell_type": "markdown",
      "metadata": {
        "id": "AGRU_cJvDejZ"
      },
      "source": [
        "Sometimes, however, this odd keyword value initialization behavior can be desirable. For example, it can be used as a cache that is modifiable and accessible by all invocations of a function:\n",
        "\n",
        "```Python\n",
        "def fib(n, cache={0: 1, 1: 1}):\n",
        "   if n in cache:  # Note: default value captures our base cases\n",
        "       return cache[n]\n",
        "   out = fib(n-1) + fib(n-2)\n",
        "   cache[n] = out\n",
        "   return out\n",
        "```\n",
        "\n",
        "Try running the following code cells."
      ]
    },
    {
      "cell_type": "code",
      "execution_count": null,
      "metadata": {
        "id": "jpsd41_ODejZ"
      },
      "outputs": [],
      "source": [
        "def fib(n, cache={0: 1, 1: 1}):\n",
        "   if n in cache:  # Note: starting values in the dictionary captures our base cases.\n",
        "       return cache[n]\n",
        "   out = fib(n-1) + fib(n-2)\n",
        "   cache[n] = out\n",
        "   return out\n",
        "\n",
        "print(fib(10))  # => 89\n",
        "print(fib.__defaults__[0])  # Access the cached dictionary."
      ]
    },
    {
      "cell_type": "markdown",
      "metadata": {
        "id": "GE207vM9Deja"
      },
      "source": [
        "Cool, right? The cache follows the function around, as an attribute on the function object, rather than being the responsibility of the caller! Even so, there are better, more Pythonic ways to capture this particular cache design pattern (see [functools.lru_cache](https://docs.python.org/3/library/functools.html#functools.lru_cache)). Nevertheless, it's a neat trick that might come in useful!"
      ]
    },
    {
      "cell_type": "markdown",
      "metadata": {
        "id": "JtjLiVDUDeja"
      },
      "source": [
        "### Review #6 : Documentation (`__doc__`)\n",
        "\n",
        "The first string literal in any function, if it comes before any expression, is bound to the function's `__doc__` attribute."
      ]
    },
    {
      "cell_type": "code",
      "execution_count": null,
      "metadata": {
        "id": "9fnp1slWDeja"
      },
      "outputs": [],
      "source": [
        "def my_function():\n",
        "    \"\"\"Summary line: do nothing, but document it.\n",
        "\n",
        "    Description: No, really, it doesn't do anything.\n",
        "    \"\"\"\n",
        "    pass\n",
        "\n",
        "print(my_function.__doc__)\n",
        "# Summary line: Do nothing, but document it.\n",
        "#\n",
        "#     Description: No, really, it doesn't do anything."
      ]
    },
    {
      "cell_type": "markdown",
      "metadata": {
        "id": "lSQhYYW3Deja"
      },
      "source": [
        "Lots of tools use these documentation strings to great advantage. For example, the builtin `help` function displays information from docstrings, and many API-documentation-generation tools like [Sphynx](http://www.sphinx-doc.org/en/stable/) or [Epydoc](http://epydoc.sourceforge.net/) use information contained in the docstring to form smart references and hyperlinks on documentation websites.\n",
        "\n",
        "Furthermore, the [doctest](https://docs.python.org/3/library/doctest.html) standard library module, in it's own words, \"searches [the documentation string] for pieces of text that look like interactive Python sessions, and then executes those sessions to verify that they work exactly as shown.\" Cool!"
      ]
    },
    {
      "cell_type": "markdown",
      "metadata": {
        "id": "r2INfhtCDejb"
      },
      "source": [
        "### Review #7 : Parameter Annotations (`__annotations__`)\n",
        "\n",
        "Python allows us to add type annotations on functions arguments and return values. This leads to a world of complex possibilities and is still fairly controversial in the Python ecosystem. Nevertheless, it can be used to communicate to your clients expectations for the types of arguments.\n",
        "\n",
        "Importantly, Python doesn't actually do anything with these annotations and will not check that supplied arguments conform to the type hint specified. This language feature is only made available through the collection of function annotations."
      ]
    },
    {
      "cell_type": "code",
      "execution_count": null,
      "metadata": {
        "id": "mv40UYFhDejb"
      },
      "outputs": [],
      "source": [
        "def annotated(a: int, b: str) -> list:\n",
        "    return [a, b]\n",
        "\n",
        "print(annotated.__annotations__)\n",
        "# => {'b': <class 'str'>, 'a': <class 'int'>, 'return': <class 'list'>}"
      ]
    },
    {
      "cell_type": "markdown",
      "metadata": {
        "id": "-sMxjAmTDejb"
      },
      "source": [
        "But it's not because Python itself doesn't do anything with it that they are useless. For instance, we can leverage this to create random calls with arguments of valid types. That's what the automatic grading script uses.\n",
        "Other cool use cases include building some really neat runtime type-checkers for Python!\n",
        "\n",
        "#### \"Ask forgiveness, not permission\"\n",
        "\n",
        "One important point in python programming philosophy is that you should trust programmers that will use your code. They are the ones responsible for using it wisely. You shouldn't coerce them into using it exactly as you've intended: they might have very good reasons for doing what they're doing (and if they break it, it's on *them*).\n",
        "\n",
        "Which is why, in the case of arguments type, rather than something like that:\n",
        "\n",
        "```Python\n",
        "# case 1\n",
        "def my_add(a, b):\n",
        "    if type(a) != int or type(b) != int:\n",
        "        raise TypeError(\"not an int\")\n",
        "    return a + b\n",
        "```\n",
        "\n",
        "... or something like that:\n",
        "```Python\n",
        "# case 2\n",
        "def my_add(a, b):\n",
        "    assert type(a) == type(b) == int, \"not an int\"\n",
        "    return a + b\n",
        "```\n",
        "\n",
        "you should just *document* the intended usage with type hinting:\n",
        "```Python\n",
        "# case 3\n",
        "def my_add(a: int, b: int) -> int:\n",
        "    \"\"\"\n",
        "    Addition of two integers `a` and `b`\n",
        "    \"\"\"\n",
        "    return a + b\n",
        "```\n",
        "\n",
        "and trust the user to use it wisely. Errors (be it a `TypeError` as in case 1, or an `AssertionError` as in case 2) should be the consequence of *badly broken behavior*, not a means of control over how your code is used.\n",
        "\n",
        "There are cases where using an `assert` statement, such as in case 2, may be useful: for instance when you're unsure of the exact behavior of your code, or when illegal types might produce desastrous consequences down the line. In short, these kinds of check should be reserved to prevent convoluted situations where you'd say \"How did **that** get in *here*?\" from happening. Do note that you can strip `assert` statements from python scripts by running them as `python -O my_script.py`.\n",
        "\n",
        "For more info, check out [PEP 3107](https://www.python.org/dev/peps/pep-3107/) on function annotations or [PEP 484](https://www.python.org/dev/peps/pep-0484/) on type hinting (which was introduced in Python 3.5)"
      ]
    },
    {
      "cell_type": "markdown",
      "metadata": {
        "id": "ZzIoM8qxDejc"
      },
      "source": [
        "### Exercise #8 : Autodoc\n",
        "\n",
        "Write a function `autodoc(f)` that takes a function `f` as argument, and appends a summary of the arguments and return type to the doc string.\n",
        "\n",
        "For instance, given this function:\n",
        "```Python\n",
        "def eat_one_peanut_each(chimps:str, number_of_peanuts:int) -> int:\n",
        "    \"\"\"A daily occurrence.\"\"\"\n",
        "    return number_of_peanuts - len(chimps.split())\n",
        "```\n",
        "\n",
        "The doc after your function should look like this:\n",
        "\n",
        "```\n",
        "A daily occurrence.\n",
        "....chimps: `str`\n",
        "....number_of_peanuts: `int`\n",
        "....return: `int`\n",
        "```"
      ]
    },
    {
      "cell_type": "code",
      "execution_count": null,
      "metadata": {
        "id": "c7SvtoZGDejc"
      },
      "outputs": [],
      "source": [
        "def eat_one_peanut_each(chimps:str, number_of_peanuts:int) -> int:\n",
        "    \"\"\"A daily occurrence.\"\"\"\n",
        "    return number_of_peanuts - len(chimps.split())\n",
        "\n",
        "def autodoc(f):\n",
        "    # your code here\n",
        "    pass\n",
        "\n",
        "autodoc(eat_one_peanut_each)\n",
        "print(eat_one_peanut_each.__doc__)"
      ]
    },
    {
      "cell_type": "markdown",
      "metadata": {
        "id": "WJ_MNUuJDejd"
      },
      "source": [
        "## Finished Early?\n",
        "Scan through [PEP 8](https://www.python.org/dev/peps/pep-0008/), Python's official style guide, as well as [PEP 257](https://www.python.org/dev/peps/pep-0257/), Python's suggestions for docstring conventions, if you didn't get a chance to read them last week."
      ]
    },
    {
      "cell_type": "markdown",
      "metadata": {
        "id": "Z_q1ML-ZDejd"
      },
      "source": [
        "# Submission instructions\n",
        "\n",
        "You know the drill, mandrill!\n",
        "\n",
        "You will need to exercises #6 `average` and #7 `make_table`) on Arche before 9:59am on Friday, 27th October. Submit either a `.py` or an `.ipynb` file containing the two functions and name it `td5_firstname_lastname_grpN.py` or `td5_firstname_lastname_grpN.ipynb` accordingly, where `firstname` should be your first name, `lastname` should be your last name, and `N` in `grpN` should be your group number (e.g. Jane Doe, who is in group A1, should name her submission either `td5_jane_doe_grp1.py` or `td5_jane_doe_grp1.ipynb`, depending on whether Jane submitted a Python script or a Jupyter notebook).\n",
        "\n",
        "To evaluate your submission, we will be looking at the following criteria:\n",
        "\n",
        "- Does your code run? (So **run** your program at least once before submitting!)\n",
        "- Does it run correctly? (So **test** your solution with a few different inputs!)\n",
        "- Is your code well-commented?\n",
        "- We will also pay special attention to whether the correct types of arguments are used in the function definitions\n",
        "\n",
        "\n",
        "*This lab is very much based on CS41's*\n",
        "\n",
        "**Major credit to PSF for incredibly clear/readable documentation making this all possible, as well as the linked resources.**"
      ]
    },
    {
      "cell_type": "markdown",
      "metadata": {
        "id": "WWwgZoYtDejd"
      },
      "source": [
        "> With <3 by @sredmond"
      ]
    }
  ],
  "metadata": {
    "kernelspec": {
      "display_name": "Python 3 (ipykernel)",
      "language": "python",
      "name": "python3"
    },
    "language_info": {
      "codemirror_mode": {
        "name": "ipython",
        "version": 3
      },
      "file_extension": ".py",
      "mimetype": "text/x-python",
      "name": "python",
      "nbconvert_exporter": "python",
      "pygments_lexer": "ipython3",
      "version": "3.8.10"
    },
    "colab": {
      "provenance": []
    }
  },
  "nbformat": 4,
  "nbformat_minor": 0
}