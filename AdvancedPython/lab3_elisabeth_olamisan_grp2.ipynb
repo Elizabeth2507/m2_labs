{
  "cells": [
    {
      "cell_type": "markdown",
      "metadata": {
        "id": "oWbKpgXZIBfp"
      },
      "source": [
        "# Lab 3: Strings"
      ]
    },
    {
      "cell_type": "markdown",
      "metadata": {
        "id": "jUkbPWrdIBfs"
      },
      "source": [
        "## Overview\n",
        "\n",
        "Welcome to your third lab! The goal for today is to familiarize you with strings (or more precisely in python, `str`). Manipulating textual data is a frequent operation in day-to-day proramming &mdash; even more so for us in NLP.\n",
        "\n",
        "As usual, you will have to submit two exercises. You will find them and the submission instructions at the end of this notebook."
      ]
    },
    {
      "cell_type": "markdown",
      "metadata": {
        "id": "b8-Xu9n7IBfz"
      },
      "source": [
        "## Exercise #4: Special Words\n",
        "\n",
        "For each of the following problems, we describe a criterion that makes a word (or phrase!) special.\n",
        "\n",
        "If you are using macOS or Linux, you should have a dictionary file available at `/usr/share/dict/words`, containing some 100 thousand English words, one per line. Depending on your machine, the number might differ somewhat. Therefore, we also mirrored this file [on Arche](https://arche.univ-lorraine.fr/), so you can download the dictionary from there. That version contains `102401` words.\n",
        "\n",
        "Write the method `load_english` to load English words from this file. How many English words are there in this file? Using the Arche file, we got `72165` words, after lowercasing them, removing duplicates and checking if they contain ASCII characters only (i.e. we exclude entries that contain apostrophes or accented letters).\n",
        "\n",
        "If you are using a different version of the file or did a different set of pre-processing steps, your number will likely differ somewhat. This is not crucial for the next four exercises, but having the same number of words in your pre-processed dictionary will help you verify your answers with ours for the next exercises."
      ]
    },
    {
      "cell_type": "code",
      "execution_count": 481,
      "metadata": {
        "colab": {
          "base_uri": "https://localhost:8080/"
        },
        "id": "HhHvj4ZMIBfz",
        "outputId": "a19cd721-fb6a-414b-feee-bfde2e6bf74a"
      },
      "outputs": [
        {
          "output_type": "stream",
          "name": "stdout",
          "text": [
            "72165\n"
          ]
        }
      ],
      "source": [
        "# If you downloaded \"words\" from the course website,\n",
        "# change me to the path to the downloaded file.\n",
        "import string\n",
        "\n",
        "\n",
        "_DICTIONARY_FILE = 'words'\n",
        "\n",
        "def check_ascii(row):\n",
        "  for char in row:\n",
        "    if char not in string.ascii_letters: # check if symbol from a-z\n",
        "      return False\n",
        "  return True\n",
        "\n",
        "\n",
        "def load_english():\n",
        "    \"\"\"Load and return a collection of english words from a file.\"\"\"\n",
        "    lst = []\n",
        "    # open file and read line by line\n",
        "    with open(_DICTIONARY_FILE) as file:\n",
        "      for row in file:\n",
        "        row = row.rstrip()  # removes any trailing characters\n",
        "        if check_ascii(row):\n",
        "          lst.append(row.lower())  # converts row to lowercase\n",
        "    return set(lst) # convert list to set for efficient search operation later\n",
        "\n",
        "\n",
        "english = load_english()\n",
        "print(len(english))"
      ]
    },
    {
      "cell_type": "markdown",
      "metadata": {
        "id": "Vd__bJ5BIBf1"
      },
      "source": [
        "# Assignment Exercises"
      ]
    },
    {
      "cell_type": "markdown",
      "metadata": {
        "id": "FBkqF-cQIBf1"
      },
      "source": [
        "### Exercise #7: Triad Phrases\n",
        "\n",
        "Triad words are English words for which the two smaller strings you make by extracting alternating letters both form valid words.\n",
        "\n",
        "For example:\n",
        "\n",
        "![Triad Phrases](http://i.imgur.com/jGEXJWi.png)\n",
        "\n",
        "Write a function to determine whether an entire phrase passed into a function is made of triad words. You can assume that all words are made of only alphabetic characters, and are separated by whitespace. We will consider the empty string to be an invalid English word.\n",
        "\n",
        "```python\n",
        "is_triad_phrase(\"learned theorem\") # => True\n",
        "is_triad_phrase(\"studied theories\") # => False\n",
        "is_triad_phrase(\"wooded agrarians\") # => False\n",
        "is_triad_phrase(\"forrested farmers\") # => False\n",
        "is_triad_phrase(\"schooled oriole\") # => True\n",
        "is_triad_phrase(\"educated small bird\") # => False\n",
        "is_triad_phrase(\"a\") # => False\n",
        "is_triad_phrase(\"\") # => False\n",
        "```\n",
        "\n",
        "Write a set of instructions to generate a list of all triad words. Assign this list to a variable called `all_triad_words`. How many are there? We found `1041` distinct triad words (case-insensitive).\n",
        "\n",
        "*NB: we obtained the answers above using the dictionary on Arche and after applying the pre-processing steps described in Exercise #4. If the number of words you keep after applying `load_english()` is the same as ours, then you should be able to get the same number as us. If your number is different or you are using another dictionary, your answers may differ.*\n",
        "\n",
        "You can uncomment the `print()` statement at the bottom once you have finished to see if your functions return the expected result."
      ]
    },
    {
      "cell_type": "code",
      "execution_count": 482,
      "metadata": {
        "colab": {
          "base_uri": "https://localhost:8080/"
        },
        "id": "Pnu8cQjEIBf1",
        "outputId": "c666ce2b-0012-46e5-ab0b-db2b6dadda0a"
      },
      "outputs": [
        {
          "output_type": "stream",
          "name": "stdout",
          "text": [
            "True False False False True False False False\n"
          ]
        }
      ],
      "source": [
        "# A Triad Phrase is one where the alternate letters of each word spell out another 2 words.\n",
        "\n",
        "def is_triad_word(word, english):\n",
        "    \"\"\"Return whether a word is a triad word.\"\"\"\n",
        "    if not len(word):\n",
        "      return False\n",
        "\n",
        "    n = len(word)\n",
        "    # use slicing get first subword and second subword in supposed triad word with step 2 from 0 and 1 index, correspondently.\n",
        "    sub_word1 = word[0:n:2]\n",
        "    sub_word2 = word[1:n:2]\n",
        "    # check resulting subwords in vocabulary english. if both subwords in it, the initial word is triad word.\n",
        "    # english is a set - fast search operation\n",
        "    if sub_word1 in english and sub_word2 in english:\n",
        "      return True\n",
        "\n",
        "    return False\n",
        "\n",
        "\n",
        "def is_triad_phrase(phrase, english):\n",
        "    \"\"\"Return whether a phrase is composed of only triad words.\"\"\"\n",
        "    is_triad = True\n",
        "    for word in phrase.split(\" \"):\n",
        "      # & \"bitwise and\". Treat True and False as binary numbers: True == 1 and False == 0\n",
        "      # By truth table if all words are triads (True) in phrase => the phrase consists of triad words - is_triad = True\n",
        "      is_triad &= is_triad_word(word, english)\n",
        "    return is_triad\n",
        "\n",
        "\n",
        "print(\n",
        "   is_triad_phrase(\"learned theorem\", english), # => True\n",
        "   is_triad_phrase(\"studied theories\", english), # => False\n",
        "   is_triad_phrase(\"wooded agrarians\", english), # => False\n",
        "   is_triad_phrase(\"forrested farmers\", english), # => False\n",
        "   is_triad_phrase(\"schooled oriole\", english), # => True\n",
        "   is_triad_phrase(\"educated small bird\", english), # => False\n",
        "   is_triad_phrase(\"a\", english), # => False\n",
        "   is_triad_phrase(\"\", english), # => False\n",
        ")"
      ]
    },
    {
      "cell_type": "code",
      "execution_count": 483,
      "metadata": {
        "colab": {
          "base_uri": "https://localhost:8080/"
        },
        "id": "gnSqCDfVIBf1",
        "outputId": "b2c2af1a-a08d-49ef-df61-ad95deb452bd"
      },
      "outputs": [
        {
          "output_type": "stream",
          "name": "stdout",
          "text": [
            "1041\n"
          ]
        }
      ],
      "source": [
        "all_triad_words = [w for w in english if is_triad_word(w, english)]\n",
        "print(len(all_triad_words))"
      ]
    },
    {
      "cell_type": "markdown",
      "metadata": {
        "id": "Ugsxf4WBIBf1"
      },
      "source": [
        "### Exercise #8: Surpassing Phrases\n",
        "\n",
        "Surpassing words are words for which the gap between each adjacent pair of letters **strictly** increases. These gaps are computed without \"wrapping around\" from Z to A.\n",
        "\n",
        "For example:\n",
        "\n",
        "![Surpassing Phrases](http://i.imgur.com/XKiCnUc.png)\n",
        "\n",
        "Write a function to determine whether an entire phrase passed into a function is made of surpassing words. You can assume that all words are made of only alphabetic characters, and are separated by whitespace. We will consider the empty string and a 1-character string to be valid surpassing phrases.\n",
        "\n",
        "```python\n",
        "is_surpassing_phrase(\"superb subway\") # => True\n",
        "is_surpassing_phrase(\"excellent train\") # => False\n",
        "is_surpassing_phrase(\"porky hogs\") # => True\n",
        "is_surpassing_phrase(\"plump pigs\") # => False\n",
        "is_surpassing_phrase(\"turnip fields\") # => True\n",
        "is_surpassing_phrase(\"root vegetable lands\") # => False\n",
        "is_surpassing_phrase(\"a\") # => True\n",
        "is_surpassing_phrase(\"\") # => True\n",
        "```\n",
        "\n",
        "We've provided a `character_gap` function that returns the gap between two characters. To understand how it works, you should first learn about the Python functions `ord` (one-character string to integer ordinal) and `chr` (integer ordinal to one-character string). For example:\n",
        "\n",
        "```python\n",
        "ord('a') # => 97\n",
        "chr(97) # => 'a'\n",
        "```\n",
        "\n",
        "So, in order to find the gap between `G` and `E`, we compute `abs(ord('G') - ord('E'))`, where `abs` returns the absolute value of its argument.\n",
        "\n",
        "Write a set of instructions to generate a list of all surpassing words. Assign this list to a variable called `all_surpassing_words`. How many are there? We found `1150` distinct surpassing words.\n",
        "\n",
        "*NB: we obtained the answers above using the dictionary on Arche and after applying the pre-processing steps described in Exercise #4. If the number of words you keep after applying `load_english()` is the same as ours, then you should be able to get the same number as us. If your number is different or you are using another dictionary, your answers may differ.*\n",
        "\n",
        "You can uncomment the `print()` statement at the bottom once you have finished to see if your functions return the expected result."
      ]
    },
    {
      "cell_type": "code",
      "execution_count": 484,
      "metadata": {
        "id": "bQHyild2IBf1",
        "colab": {
          "base_uri": "https://localhost:8080/"
        },
        "outputId": "016b7487-9261-478d-87a5-25e34c3ae5ad"
      },
      "outputs": [
        {
          "output_type": "stream",
          "name": "stdout",
          "text": [
            "True False True False True False True True\n"
          ]
        }
      ],
      "source": [
        "def character_gap(ch1, ch2):\n",
        "    \"\"\"Return the absolute gap between two characters.\"\"\"\n",
        "    return abs(ord(ch1) - ord(ch2))\n",
        "\n",
        "def is_surpassing_word(word, english):\n",
        "    \"\"\"Return whether a word is surpassing.\"\"\"\n",
        "    n = len(word)\n",
        "    if n <= 1:\n",
        "      return True\n",
        "\n",
        "    i = 1 #initial index for loop\n",
        "    result = True # flag\n",
        "    char_gap = -1  # variable for tracking if ascii values difference between adjacent characters in the word increases\n",
        "    while i < n:\n",
        "      curr_char_gap = character_gap(word[i-1], word[i])\n",
        "      if curr_char_gap > char_gap:\n",
        "        char_gap = curr_char_gap\n",
        "      else:\n",
        "        result = False\n",
        "      i += 1\n",
        "    if result and word in english:  # if result is True => word is surpassing, then check it in vocabulary\n",
        "      return True\n",
        "\n",
        "    return result\n",
        "\n",
        "\n",
        "def is_surpassing_phrase(phrase, english):\n",
        "    \"\"\"Return whether a word is surpassing.\"\"\"\n",
        "    is_surpassing = True\n",
        "    for word in phrase.split(\" \"):  #iterate over words splited by whitespace\n",
        "      is_surpassing &= is_surpassing_word(word, english)\n",
        "    return is_surpassing\n",
        "\n",
        "\n",
        "print(\n",
        "   is_surpassing_phrase(\"superb subway\", english), # => True\n",
        "   is_surpassing_phrase(\"excellent train\", english), # => False\n",
        "   is_surpassing_phrase(\"porky hogs\", english), # => True\n",
        "   is_surpassing_phrase(\"plump pigs\", english), # => False\n",
        "   is_surpassing_phrase(\"turnip fields\", english), # => True\n",
        "   is_surpassing_phrase(\"root vegetable lands\", english), # => False\n",
        "   is_surpassing_phrase(\"a\", english), # => True\n",
        "   is_surpassing_phrase(\"\", english), # => True\n",
        ")"
      ]
    },
    {
      "cell_type": "code",
      "execution_count": 485,
      "metadata": {
        "id": "eFVsRltSIBf2",
        "colab": {
          "base_uri": "https://localhost:8080/"
        },
        "outputId": "48882803-0d55-4e67-efb7-1d7bae532b38"
      },
      "outputs": [
        {
          "output_type": "stream",
          "name": "stdout",
          "text": [
            "1150\n"
          ]
        }
      ],
      "source": [
        "# 72165\n",
        "all_surpassing_words = [w for w in english if is_surpassing_word(w, english)]\n",
        "print(len(all_surpassing_words))"
      ]
    },
    {
      "cell_type": "markdown",
      "metadata": {
        "id": "PeMMLGZgIBf3"
      },
      "source": [
        "### Submission instructions\n",
        "\n",
        "Alright, you did it!\n",
        "\n",
        "You will need to submit the last two exercises (#7 and #8) on Arche before 9:59am on Friday, 13th October (just before our next lab). Submit either a `.py` or an `.ipynb` file containing the two functions and name it `td2_firstname_lastname_grpN.py` or `td2_firstname_lastname_grpN.ipynb` accordingly, where `firstname` should be your first name, `lastname` should be your last name, and `N` in `grpN` should be your group number (e.g. Jane Doe, who is in group A1, should name her submission either `td2_jane_doe_grp1.py` or `td2_jane_doe_grp1.ipynb`, depending on whether Jane submitted a Python script or a Jupyter notebook).\n",
        "\n",
        "To evaluate your submission, we will be looking at the following criteria:\n",
        "\n",
        "- Does your code run? (So **run** your program at least once before submitting!)\n",
        "- Does it run correctly? (So **test** your solution with a few different inputs!)\n",
        "- Is your code well-commented?"
      ]
    },
    {
      "cell_type": "markdown",
      "metadata": {
        "id": "OUWAUwEzIBf3"
      },
      "source": [
        "## Done Early?\n",
        "\n",
        "Have a look at the [`string` module in Python](https://docs.python.org/3/library/string.html). It contains a lot of very useful things, such as lists of ascii characters. Another thing you should look into is the [unicode standard in Python](https://docs.python.org/3/howto/unicode.html)."
      ]
    },
    {
      "cell_type": "markdown",
      "metadata": {
        "id": "egFKfP1MIBf3"
      },
      "source": [
        "### Other Phrases\n",
        "\n",
        "On Puzzling.StackExchange, the user [JLee](https://puzzling.stackexchange.com/users/463/jlee) has come up with a ton of interesting puzzles of this form (\"I call words that follow a certain rule \"adjective\" words\"). If you like puzzles, optionally read through [these JLee puzzles](https://puzzling.stackexchange.com/search?q=%22I+call+it%22+title%3A%22what+is%22+is%3Aquestion+user%3A463) or [these other puzzles inspired by JLee](https://puzzling.stackexchange.com/search?tab=votes&q=%22what%20is%20a%22%20word%20is%3aquestion)."
      ]
    },
    {
      "cell_type": "markdown",
      "metadata": {
        "id": "N0N9QOBTIBf4"
      },
      "source": [
        "> With <3, by @sredmond\n",
        "\n",
        "> With peanuts, monkeys and spies, by tmickus"
      ]
    }
  ],
  "metadata": {
    "kernelspec": {
      "display_name": "Python 3 (ipykernel)",
      "language": "python",
      "name": "python3"
    },
    "language_info": {
      "codemirror_mode": {
        "name": "ipython",
        "version": 3
      },
      "file_extension": ".py",
      "mimetype": "text/x-python",
      "name": "python",
      "nbconvert_exporter": "python",
      "pygments_lexer": "ipython3",
      "version": "3.8.10"
    },
    "colab": {
      "provenance": []
    }
  },
  "nbformat": 4,
  "nbformat_minor": 0
}