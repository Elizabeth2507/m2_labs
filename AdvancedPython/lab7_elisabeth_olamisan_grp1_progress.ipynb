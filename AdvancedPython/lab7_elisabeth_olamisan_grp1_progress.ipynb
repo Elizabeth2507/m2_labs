{
  "cells": [
    {
      "cell_type": "markdown",
      "metadata": {
        "id": "MUagQqdNBKsZ"
      },
      "source": [
        "# Lab 7: Object-Oriented Python"
      ]
    },
    {
      "cell_type": "markdown",
      "metadata": {
        "id": "0KuVIM0UBKsg"
      },
      "source": [
        "## Overview\n",
        "\n",
        "After last time's lab, which covered the basics of OOP, we'll continue playing with classes today, writing a fair chunk of code and building several classes to solve a variety of problems.\n",
        "\n",
        "Recall these definitions to guide you through this lab:\n",
        "\n",
        "- An *object* has identity\n",
        "- A *name* is a reference to an object\n",
        "- A *namespace* is an associative mapping from names to objects\n",
        "- An *attribute* is any name following a dot ('.')"
      ]
    },
    {
      "cell_type": "markdown",
      "metadata": {
        "id": "mwt72TYYBKsi"
      },
      "source": [
        "## Part #1 Concrete Object Oriented Programming"
      ]
    },
    {
      "cell_type": "markdown",
      "metadata": {
        "id": "skEiG-6MBKsj"
      },
      "source": [
        "Enough monkeying around! Let's have you work on a number of objects that you may one day encounter in your programmer life.\n",
        "\n",
        "### Exercise #1 Not-so-SimpleGraph\n",
        "\n",
        "In this part, you'll build the implementation for a `SimpleGraph` class in Python.\n",
        "\n",
        "You will need to define a `Vertex` class, an `Edge` class, and a `SimpleGraph` class. The specification is as follows:\n",
        "\n",
        "(1) A `Vertex` has attributes:\n",
        "\n",
        "* `name`, a string representing the label of the vertex.\n",
        "* `edges`, a set representing edges outbound from this vertex to its neighbors\n",
        "\n",
        "A new Vertex should be initialized with an optional `name`, which defaults to `\"\"`, and should be initialized with an empty edge set.\n",
        "Also with methods such as `__str__`, `__repr__` to make the print more readable. **You are free to add any other methods that considered useful.**\n",
        "\n",
        "(2) An `Edge` has attributes:\n",
        "\n",
        "* `start`, a `Vertex` representing the start point of the edge.\n",
        "* `end`, a `Vertex` representing the end point of the edge.\n",
        "* `cost`, a `float` (used for graph algorithms) representing the weight of the edge.\n",
        "* `visited`, a `bool` (used for graph algorithms) representing whether this edge has been visited before.\n",
        "\n",
        "Note that for our purposes, an `Edge` is directed: the edge from `v_a` to `v_b` is distinct from the edge from `v_b` to `v_a`. **You can make the direction explict by using arrows such as `-->` in the `__str__` method.**\n",
        "\n",
        "An `Edge` requires a `start` and `end` vertex in order to be instantiated. `cost` should default to 1, and `visited` should default to `False`, but both should be able to be set via an initializer.\n",
        "\n",
        "(3) A `SimpleGraph` has attributes\n",
        "\n",
        "* `verts`, a collection of `Vertex`s (you need to decide the collection type)\n",
        "* `edges`, a collection of `Edge`s (you need to decide the collection type)\n",
        "\n",
        "as well as several methods:\n",
        "\n",
        "* `graph.add_vertex(v)`\n",
        "* `graph.add_edge(v_1, v_2)`\n",
        "* `graph.contains_vertex(v)` - return `True` or `False`\n",
        "* `graph.contains_edge(v_1, v_2)` - return `True` or `False`\n",
        "* `graph.get_neighbors(v)` - return get a list of incoming neighbors and a list of outgoing neighbors\n",
        "* `graph.is_empty()` - return `True` or `False`\n",
        "* `graph.size()` - return number of edges |E|\n",
        "* `graph.remove_vertex(v)` **tip: first remove the edges attached to the vertex**\n",
        "* `graph.remove_edge(v_1, v_2)`\n",
        "* `graph.is_neighbor(v1, v2)` - return `True` or `False`; direction of neighborhood does not matter here\n",
        "* `graph.is_reachable(v1, v2)` - return `True` or `False`, use any algorithm you like\n",
        "* `graph.clear_all()`\n",
        "\n",
        "The actual implementation details are up to you.\n",
        "\n",
        "*Note: debugging will be significantly easier if you write `__str__` or `__repr__` methods on your custom classes.*"
      ]
    },
    {
      "cell_type": "code",
      "execution_count": 4,
      "metadata": {
        "id": "W_hNtC9kBKsm"
      },
      "outputs": [],
      "source": [
        "class Vertex:\n",
        "    def __init__(self, name=\"\", edges=None):\n",
        "        self.name = name\n",
        "        self.edges = set() if edges is None else edges\n",
        "\n",
        "    def __str__(self):\n",
        "        edges_str = sorted(self.edges, key=lambda edge: edge.cost)\n",
        "        return f\"V({self.name}) ---{', '.join(str(edge.cost) for edge in edges_str)}---> [{', '.join(str(edge.end.name) for edge in edges_str)}]\"\n",
        "\n",
        "    def __repr__(self):\n",
        "        return f\"V({self.name})\"\n",
        "\n",
        "\n",
        "class Edge:\n",
        "    def __init__(self, start: Vertex, end: Vertex, cost=1, visited=False):\n",
        "        self.start = start\n",
        "        self.end = end\n",
        "        self.cost = cost\n",
        "        self.visited = visited\n",
        "\n",
        "    def __eq__(self, other):\n",
        "        return (\n",
        "            isinstance(other, Edge)\n",
        "            and self.start == other.start\n",
        "            and self.end == other.end\n",
        "            and self.cost == other.cost\n",
        "        )\n",
        "\n",
        "    def __hash__(self):\n",
        "        return hash((self.start, self.end, self.cost))\n",
        "\n",
        "    def __str__(self):\n",
        "        return f\"{self.start.name} ---{self.cost}---> {self.end.name}\"\n",
        "\n",
        "    def __repr__(self):\n",
        "        return f\"{self.start.name}---{self.cost}-->{self.end.name}\"\n",
        "\n",
        "\n",
        "class SimpleGraph:\n",
        "    def __init__(self, verts=None, edges=None):\n",
        "        if edges is None:\n",
        "            edges = set()\n",
        "        if verts is None:\n",
        "            verts = set()\n",
        "        self.verts = verts\n",
        "        self.edges = edges\n",
        "\n",
        "    def __str__(self):\n",
        "        string = \"---- SimpleGraph ----{\\n\"\n",
        "        for edge in self.edges:\n",
        "            string += f\"V({edge.start.name}) ---{edge.cost}---> V({edge.end.name})\\n\"\n",
        "        return string\n",
        "\n",
        "    def add_vertex(self, v):\n",
        "        self.verts.add(v)\n",
        "\n",
        "    def add_edge(self, v_1, v_2, cost=1):\n",
        "        edge = (v_1, v_2, cost)\n",
        "        if edge not in self.edges:\n",
        "            self.edges.add(edge)\n",
        "            v_1.edges.add(edge)\n",
        "            v_2.edges.add(edge)\n",
        "\n",
        "    def contains_vertex(self, v):\n",
        "        return v in self.verts\n",
        "\n",
        "    def contains_edge(self, v_1, v_2):\n",
        "        return any(\n",
        "            (edge.start == v_1 and edge.end == v_2) or (edge.start == v_2 and edge.end == v_1)\n",
        "            for edge in self.edges\n",
        "        )\n",
        "\n",
        "    def get_neighbors(self, vertex):\n",
        "        in_neighbors = [edge.start for edge in self.edges if edge.end == vertex]\n",
        "        out_neighbors = [edge.end for edge in self.edges if edge.start == vertex]\n",
        "        return in_neighbors, out_neighbors\n",
        "\n",
        "    def is_empty(self):\n",
        "        return not bool(self.verts)\n",
        "\n",
        "    def size(self):\n",
        "        return len(self.edges)\n",
        "\n",
        "    def remove_vertex(self, vertex):\n",
        "        if vertex in self.verts:\n",
        "            edges_to_remove = [edge for edge in self.edges if edge.start == vertex or edge.end == vertex]\n",
        "            for edge in edges_to_remove:\n",
        "                self.edges.remove(edge)\n",
        "                edge.start.edges.remove(edge)\n",
        "                edge.end.edges.remove(edge)\n",
        "            self.verts.remove(vertex)\n",
        "\n",
        "    def remove_edge(self, v_1, v_2):\n",
        "        edge_to_remove = next(\n",
        "            (edge for edge in self.edges if\n",
        "             (edge.start == v_1 and edge.end == v_2) or (edge.start == v_2 and edge.end == v_1)),\n",
        "            None,\n",
        "        )\n",
        "        if edge_to_remove:\n",
        "            self.edges.remove(edge_to_remove)\n",
        "            v_1.edges.remove(edge_to_remove)\n",
        "            v_2.edges.remove(edge_to_remove)\n",
        "\n",
        "    def is_neighbor(self, v1, v2):\n",
        "        return any(\n",
        "            (edge.start == v1 and edge.end == v2) or (edge.start == v2 and edge.end == v1)\n",
        "            for edge in self.edges\n",
        "        )\n",
        "\n",
        "    def is_reachable(self, v1, v2):\n",
        "        visited = set()\n",
        "        stack = [v1]\n",
        "        while stack:\n",
        "            top = stack.pop()\n",
        "            if top == v2:\n",
        "                return True\n",
        "            if top not in visited:\n",
        "                visited.add(top)\n",
        "                stack.extend(edge.end for edge in top.edges if edge.start == top and edge.end not in visited)\n",
        "        return False\n",
        "\n",
        "    def clear_all(self):\n",
        "        self.verts.clear()\n",
        "        self.edges.clear()"
      ]
    },
    {
      "cell_type": "code",
      "source": [
        "rand_graph = [\n",
        "    ('1', '2', 0.7),\n",
        "    ('1', '3', 0.2),\n",
        "    ('1', '4', 0.3),\n",
        "    ('2', '3', 0.3),\n",
        "    ('2', '5', 0.4),\n",
        "    ('3', '5', 0.4),\n",
        "    ('3', '8', 0.5),\n",
        "    ('4', '12', 0.2),\n",
        "    ('5', '6', 0.1),\n",
        "    ('6', '8', 0.3),\n",
        "    ('7', '8', 0.2),\n",
        "    ('7', '13', 0.2),\n",
        "    ('9', '10', 0.6),\n",
        "    ('9', '11', 0.4),\n",
        "    ('9', '12', 0.4),\n",
        "    ('10', '12', 0.1),\n",
        "    ('11', '13', 0.5),\n",
        "]\n",
        "verts = {}\n",
        "edges = set()\n",
        "for v1, v2, cost in rand_graph:\n",
        "    start = Vertex(v1)\n",
        "    end = Vertex(v2)\n",
        "    edge = Edge(start, end, cost)\n",
        "    # print(edge)\n",
        "    # print(start)\n",
        "    # print(end)\n",
        "    edges.add(edge)\n",
        "    if v1 not in verts:\n",
        "        verts[v1] = start\n",
        "    if v2 not in verts:\n",
        "        verts[v2] = end\n",
        "    if edge not in verts[v1].edges:\n",
        "        verts[v1].edges.add(edge)\n",
        "\n",
        "# construct SimpleGraph with set of verts and edges\n",
        "graph = SimpleGraph(set(verts.values()), edges)\n",
        "print(graph.verts)\n",
        "print(graph.edges)\n",
        "print(graph)\n",
        "\n",
        "print(graph.is_empty())\n",
        "# False\n",
        "print(graph.size())\n",
        "# 17\n",
        "print(graph.verts)\n",
        "# {V(6), V(11), V(12), V(13), V(9), V(2), V(3), V(1), V(10), V(7), V(4), V(5), V(8)}\n",
        "\n",
        "print(\"===== Reachability =====\")\n",
        "print(graph.is_reachable(verts[\"1\"], verts[\"7\"])) # False\n",
        "print(graph.is_reachable(verts[\"1\"], verts[\"2\"])) # True\n",
        "print(graph.is_reachable(verts[\"1\"], verts[\"8\"])) # True\n",
        "print(\"===== Are neighbors? =====\")\n",
        "print(graph.is_neighbor(verts[\"7\"], verts[\"8\"])) #True\n",
        "print(graph.is_neighbor(verts[\"8\"], verts[\"7\"])) #True\n",
        "print(graph.is_neighbor(verts[\"6\"], verts[\"12\"])) #False"
      ],
      "metadata": {
        "colab": {
          "base_uri": "https://localhost:8080/"
        },
        "id": "0opBZu7EgKmK",
        "outputId": "68eff1f9-8e30-4783-9a8b-b4cc2085961b"
      },
      "execution_count": 5,
      "outputs": [
        {
          "output_type": "stream",
          "name": "stdout",
          "text": [
            "{V(1), V(7), V(2), V(6), V(5), V(10), V(12), V(11), V(3), V(9), V(4), V(13), V(8)}\n",
            "{1---0.2-->3, 7---0.2-->8, 9---0.6-->10, 9---0.4-->12, 11---0.5-->13, 2---0.3-->3, 7---0.2-->13, 10---0.1-->12, 1---0.3-->4, 3---0.4-->5, 4---0.2-->12, 9---0.4-->11, 5---0.1-->6, 3---0.5-->8, 6---0.3-->8, 1---0.7-->2, 2---0.4-->5}\n",
            "---- SimpleGraph ----{\n",
            "V(1) ---0.2---> V(3)\n",
            "V(7) ---0.2---> V(8)\n",
            "V(9) ---0.6---> V(10)\n",
            "V(9) ---0.4---> V(12)\n",
            "V(11) ---0.5---> V(13)\n",
            "V(2) ---0.3---> V(3)\n",
            "V(7) ---0.2---> V(13)\n",
            "V(10) ---0.1---> V(12)\n",
            "V(1) ---0.3---> V(4)\n",
            "V(3) ---0.4---> V(5)\n",
            "V(4) ---0.2---> V(12)\n",
            "V(9) ---0.4---> V(11)\n",
            "V(5) ---0.1---> V(6)\n",
            "V(3) ---0.5---> V(8)\n",
            "V(6) ---0.3---> V(8)\n",
            "V(1) ---0.7---> V(2)\n",
            "V(2) ---0.4---> V(5)\n",
            "\n",
            "False\n",
            "17\n",
            "{V(1), V(7), V(2), V(6), V(5), V(10), V(12), V(11), V(3), V(9), V(4), V(13), V(8)}\n",
            "===== Reachability =====\n",
            "False\n",
            "True\n",
            "False\n",
            "===== Are neighbors? =====\n",
            "False\n",
            "False\n",
            "False\n"
          ]
        }
      ]
    },
    {
      "cell_type": "markdown",
      "metadata": {
        "id": "Ohx8T9FkBKsp"
      },
      "source": [
        "#### Some example to test your clases on"
      ]
    },
    {
      "cell_type": "code",
      "execution_count": 6,
      "metadata": {
        "id": "PbbiuKDoBKsq",
        "outputId": "f56d3779-e124-4076-915d-f9cfd6993730",
        "colab": {
          "base_uri": "https://localhost:8080/"
        }
      },
      "outputs": [
        {
          "output_type": "stream",
          "name": "stdout",
          "text": [
            "===== Basic structure ====\n",
            "---- SimpleGraph ----{\n",
            "V(2) ---0.3---> V(3)\n",
            "V(1) ---0.2---> V(3)\n",
            "V(9) ---0.6---> V(10)\n",
            "V(6) ---0.3---> V(8)\n",
            "V(9) ---0.4---> V(12)\n",
            "V(9) ---0.4---> V(11)\n",
            "V(5) ---0.1---> V(6)\n",
            "V(2) ---0.4---> V(5)\n",
            "V(4) ---0.2---> V(12)\n",
            "V(10) ---0.1---> V(12)\n",
            "V(11) ---0.5---> V(13)\n",
            "V(3) ---0.5---> V(8)\n",
            "V(1) ---0.7---> V(2)\n",
            "V(7) ---0.2---> V(13)\n",
            "V(3) ---0.4---> V(5)\n",
            "V(7) ---0.2---> V(8)\n",
            "V(1) ---0.3---> V(4)\n",
            "\n",
            "False\n",
            "17\n",
            "{V(10), V(1), V(6), V(9), V(2), V(7), V(12), V(11), V(3), V(5), V(4), V(13), V(8)}\n",
            "===== Reachability =====\n",
            "False\n",
            "True\n",
            "False\n",
            "===== Are neighbors? =====\n",
            "False\n",
            "False\n",
            "False\n",
            "===== All neighbors =====\n",
            "([], [V(2)])\n",
            "([V(1)], [])\n",
            "===== Remove edge =====\n",
            "17\n",
            "([], [V(2)])\n",
            "===== Remove vertex =====\n",
            "17\n",
            "---- SimpleGraph ----{\n",
            "V(2) ---0.3---> V(3)\n",
            "V(1) ---0.2---> V(3)\n",
            "V(9) ---0.6---> V(10)\n",
            "V(6) ---0.3---> V(8)\n",
            "V(9) ---0.4---> V(12)\n",
            "V(9) ---0.4---> V(11)\n",
            "V(5) ---0.1---> V(6)\n",
            "V(2) ---0.4---> V(5)\n",
            "V(4) ---0.2---> V(12)\n",
            "V(10) ---0.1---> V(12)\n",
            "V(11) ---0.5---> V(13)\n",
            "V(3) ---0.5---> V(8)\n",
            "V(1) ---0.7---> V(2)\n",
            "V(7) ---0.2---> V(13)\n",
            "V(3) ---0.4---> V(5)\n",
            "V(7) ---0.2---> V(8)\n",
            "V(1) ---0.3---> V(4)\n",
            "\n"
          ]
        }
      ],
      "source": [
        "# Testing code\n",
        "# graph-like data for testing\n",
        "rand_graph = [\n",
        "    ('1', '2', 0.7),\n",
        "    ('1', '3', 0.2),\n",
        "    ('1', '4', 0.3),\n",
        "    ('2', '3', 0.3),\n",
        "    ('2', '5', 0.4),\n",
        "    ('3', '5', 0.4),\n",
        "    ('3', '8', 0.5),\n",
        "    ('4', '12', 0.2),\n",
        "    ('5', '6', 0.1),\n",
        "    ('6', '8', 0.3),\n",
        "    ('7', '8', 0.2),\n",
        "    ('7', '13', 0.2),\n",
        "    ('9', '10', 0.6),\n",
        "    ('9', '11', 0.4),\n",
        "    ('9', '12', 0.4),\n",
        "    ('10', '12', 0.1),\n",
        "    ('11', '13', 0.5),\n",
        "]\n",
        "\n",
        "# construct set of verts and edges with above data\n",
        "verts = {}\n",
        "edges = set()\n",
        "for v1, v2, cost in rand_graph:\n",
        "    start = Vertex(v1)\n",
        "    end = Vertex(v2)\n",
        "    edge = Edge(start, end, cost)\n",
        "    edges.add(edge)\n",
        "    if v1 not in verts:\n",
        "        verts[v1] = start\n",
        "    if v2 not in verts:\n",
        "        verts[v2] = end\n",
        "    if edge not in verts[v1].edges:\n",
        "        verts[v1].edges.add(edge)\n",
        "\n",
        "# construct SimpleGraph with set of verts and edges\n",
        "graph = SimpleGraph(set(verts.values()), edges)\n",
        "\n",
        "# Some tests\n",
        "print(\"===== Basic structure ====\")\n",
        "print(graph)\n",
        "# Results could be a visualization such as:\n",
        "# ---- SimpleGraph ----{\n",
        "# V(1) ---0.3---> V(4),\n",
        "# V(6) ---0.3---> V(8),\n",
        "# V(7) ---0.2---> V(13),\n",
        "# V(10) ---0.1---> V(12),\n",
        "# V(2) ---0.4---> V(5),\n",
        "# V(11) ---0.5---> V(13),\n",
        "# V(2) ---0.3---> V(3),\n",
        "# V(5) ---0.1---> V(6),\n",
        "# V(9) ---0.4---> V(12),\n",
        "# V(1) ---0.2---> V(3),\n",
        "# V(7) ---0.2---> V(8),\n",
        "# V(9) ---0.4---> V(11),\n",
        "# V(3) ---0.4---> V(5),\n",
        "# V(3) ---0.5---> V(8),\n",
        "# V(1) ---0.7---> V(2),\n",
        "# V(9) ---0.6---> V(10),\n",
        "# V(4) ---0.2---> V(12)}\n",
        "print(graph.is_empty())\n",
        "# False\n",
        "print(graph.size())\n",
        "# 17\n",
        "print(graph.verts)\n",
        "# {V(6), V(11), V(12), V(13), V(9), V(2), V(3), V(1), V(10), V(7), V(4), V(5), V(8)}\n",
        "\n",
        "print(\"===== Reachability =====\")\n",
        "print(graph.is_reachable(verts[\"1\"], verts[\"7\"])) # False\n",
        "print(graph.is_reachable(verts[\"1\"], verts[\"2\"])) # True\n",
        "print(graph.is_reachable(verts[\"1\"], verts[\"8\"])) # True\n",
        "print(\"===== Are neighbors? =====\")\n",
        "print(graph.is_neighbor(verts[\"7\"], verts[\"8\"])) #True\n",
        "print(graph.is_neighbor(verts[\"8\"], verts[\"7\"])) #True\n",
        "print(graph.is_neighbor(verts[\"6\"], verts[\"12\"])) #False\n",
        "print(\"===== All neighbors =====\")\n",
        "print(graph.get_neighbors(verts[\"1\"])) # ([], [V(3), V(2), V(4)])\n",
        "print(graph.get_neighbors(verts[\"3\"])) # ([V(2), V(1)], [V(5), V(8)])\n",
        "print(\"===== Remove edge =====\")\n",
        "graph.remove_edge(Vertex(\"1\"), Vertex(\"3\"))\n",
        "print(graph.size())\n",
        "# 16\n",
        "print(graph.get_neighbors(verts[\"1\"]))\n",
        "# ([], [V(4), V(2)])\n",
        "print(\"===== Remove vertex =====\")\n",
        "graph.remove_vertex(Vertex(\"2\"))\n",
        "print(graph.size()) #13\n",
        "print(graph)\n",
        "# ---- SimpleGraph ----{\n",
        "# V(1) ---0.3---> V(4),\n",
        "# V(6) ---0.3---> V(8),\n",
        "# V(7) ---0.2---> V(13),\n",
        "# V(10) ---0.1---> V(12),\n",
        "# V(11) ---0.5---> V(13),\n",
        "# V(5) ---0.1---> V(6),\n",
        "# V(9) ---0.4---> V(12),\n",
        "# V(7) ---0.2---> V(8),\n",
        "# V(9) ---0.4---> V(11),\n",
        "# V(3) ---0.4---> V(5),\n",
        "# V(3) ---0.5---> V(8),\n",
        "# V(9) ---0.6---> V(10),\n",
        "# V(4) ---0.2---> V(12)}\n",
        "# ---------------------"
      ]
    },
    {
      "cell_type": "markdown",
      "metadata": {
        "id": "Vri1LiCRBKss"
      },
      "source": [
        "### Exercise #2: Implementing Graph Algorithms\n",
        "\n",
        "If you're feeling up to the challenge, and you have sufficient time, goimplement other graph algorithms, using your SimpleGraph from exercise #6. The point isn't to check whether you know your graph algorithms - rather, these algorithms will serve to test the correctness of your graph implementation. The particulars are up to you.\n",
        "\n",
        "As some suggestions:\n",
        "\n",
        "* [Longest path](https://en.wikipedia.org/wiki/Longest_path_problem)\n",
        "* [Dijkstra's Algorithm](https://en.wikipedia.org/wiki/Dijkstra%27s_algorithm)\n",
        "* [A*](https://en.wikipedia.org/wiki/A*_search_algorithm)\n",
        "* [Max Flow](https://en.wikipedia.org/wiki/Maximum_flow_problem)\n",
        "* <a href=\"https://en.wikipedia.org/wiki/Clique_(graph_theory)\">K-Clique</a>\n",
        "* <a href=\"https://en.wikipedia.org/wiki/Component_(graph_theory)\">Largest Connected Component</a>\n",
        "* [is_bipartite](https://en.wikipedia.org/wiki/Bipartite_graph#Testing_bipartiteness)\n",
        "* [hamiltonian_path_exists](https://en.wikipedia.org/wiki/Hamiltonian_path)\n"
      ]
    },
    {
      "cell_type": "code",
      "execution_count": null,
      "metadata": {
        "id": "nI_DTZExBKst"
      },
      "outputs": [],
      "source": [
        "# Here is a sample run for Dijkstra's algorithm\n",
        "print(graph.dijsktra('1', '8')) # V(1) to V(8) has a shortest path [V(1), V(3), V(8)]\n",
        "print(graph.dijsktra('1', '13')) # V(1) to V(13) path not feasible !"
      ]
    },
    {
      "cell_type": "markdown",
      "metadata": {
        "id": "7qBwNk8GBKsu"
      },
      "source": [
        "### Exercise #3: My Magical Graph\n",
        "\n",
        "See if you can rewrite the `SimpleGraph` class from exercise #6, using magic methods to emulate the behavior and operators of standard Python. In particular,\n",
        "\n",
        "```\n",
        "graph[v]  # returns neighbors of v\n",
        "graph[v] = v_2  # Insert an edge from v to v2\n",
        "len(graph) # size of the graph\n",
        "# etc\n",
        "```\n",
        "\n",
        "If you've tackled exercise #6, make sure to modify your code there as well!\n"
      ]
    },
    {
      "cell_type": "markdown",
      "metadata": {
        "id": "LwtGTb0bBKsv"
      },
      "source": [
        "### Exercise #4: Timed Key-Value Store\n",
        "\n",
        "Let's build an interesting data structure straight out of an interview programming challenge from [Stripe](https://stripe.com/). This is more of an algorithms challenge than a Python challenge, but we hope you're still interested in tackling it.\n",
        "\n",
        "At a high-level, we'll be building a key-value store (think `dict` or Java's `HashMap`) that has a `get` method that takes an optional second parameter as a `time` object in Python to return the most recent value before that period in time. If no key-value pair was added to the map before that period in time, return `None`. We'll call this class `TimedKVStore`.\n",
        "\n",
        "You’ll need some sort of `time` object to track when key-value pairs are getting added to this map. Consider using [the `time` module](https://docs.python.org/3/library/time.html).\n",
        "\n",
        "To give you an idea of how this class works, this is what should happen after you implement `TimedKVStore`.\n",
        "\n",
        "```Python\n",
        "d = TimedKVStore()\n",
        "t0 = time.time()\n",
        "d.put(\"1\", 1)\n",
        "t1 = time.time()\n",
        "d.put(\"1\", 1.1)\n",
        "d.get(\"1\")  # => 1.1\n",
        "d.get(\"1\", t1)  # => 1\n",
        "d.get(\"1\", t0)  # => None\n",
        "```"
      ]
    },
    {
      "cell_type": "code",
      "execution_count": null,
      "metadata": {
        "id": "UpjHppYKBKsy"
      },
      "outputs": [],
      "source": [
        "class TimedKVStore:\n",
        "    pass\n",
        "\n",
        "d = TimedKVStore()\n",
        "t0 = time.time()\n",
        "d.put(\"1\", 1)\n",
        "t1 = time.time()\n",
        "d.put(\"1\", 1.1)\n",
        "print(d.get(\"1\"))  # => 1.1\n",
        "print(d.get(\"1\", t1))  # => 1\n",
        "print(d.get(\"1\", t0))  # => None"
      ]
    },
    {
      "cell_type": "markdown",
      "metadata": {
        "id": "_ti4l4QTBKsz"
      },
      "source": [
        "### Exercise #5: Remove\n",
        "\n",
        "Implement a method on a `TimedKVStore` to `remove(key)` that takes a key and removes that entire key from the key-value store.\n",
        "\n",
        "Write another `remove(key, time)` method that takes a key and removes all memory of values before that time method."
      ]
    },
    {
      "cell_type": "markdown",
      "metadata": {
        "id": "1OPt_1R9BKsz"
      },
      "source": [
        "## Part #2 Magic Methods"
      ]
    },
    {
      "cell_type": "markdown",
      "metadata": {
        "id": "QvIP7AfQBKs0"
      },
      "source": [
        "### Reading\n",
        "\n",
        "Python provides an enormous number of special \"magic\" methods that a class can override to interoperator with builtin Python operations. You can skim through an [approximate visual list](http://diveintopython3.problemsolving.io/special-method-names.html) from Dive into Python3, or a [more verbose explanation](https://rszalski.github.io/magicmethods/), or the [complete Python documentation](https://docs.python.org/3/reference/datamodel.html#specialnames) on special methods.\n",
        "\n",
        "Fair warning, there are a lot of them, so it's probably better to skim than to really take a deep dive, unless you're loving this stuff. It's still a good thing to have a general idea of what exists and what can be done."
      ]
    },
    {
      "cell_type": "markdown",
      "metadata": {
        "id": "nSeuWMIBBKs0"
      },
      "source": [
        "### Exercise #6: Polynomial Class\n",
        "\n",
        "We will write a `Polynomial` class that acts like a number. As a a reminder, a [polynomial](https://en.wikipedia.org/wiki/Polynomial) is a mathematical object that looks like $1 + x + x^2$ or $4 - 10x + x^3$ or $-4 - 2x^{10}$. A mathematical polynomial can be evaluated at a given value of $x$. For example, if $f(x) = 1 + x + x^2$, then $f(5) = 1 + 5 + 5^2 = 1 + 5 + 25 = 31$.\n",
        "\n",
        "Polynomials are also added componentwise: If $f(x) = 1 + 4x + 4x^3$ and $g(x) = 2 + 3x^2 + 5x^3$, then $(f + g)(x) = (1 + 2) + 4x + 3x^2 + (4 + 5)x^3 = 3 + 4 + 3x^2 + 9x^3$.\n",
        "\n",
        "Construct a polynomial with variadic coefficients keywords: the zeroth coefficient is given with `c_0`, the square coefficient is given with `c_2`, and so on. For example, `f = Polynomial(c_0=1, c_2=3, c_4=5)` should construct a `Polynomial` representing $1 + 3x^2 + 5x^4$.\n",
        "\n",
        "You will need to override the addition special method (`__add__`) and the callable special method (`__call__`).\n",
        "\n",
        "You should be able to emulate the following code:\n",
        "\n",
        "```Python\n",
        "f = Polynomial(c_0=1, c_1=5, c_2=10)\n",
        "g = Polynomial(c_0=1, c_1=3, c_2=5)\n",
        "\n",
        "print(f(5))  # => Invokes `f.__call__(5)`\n",
        "print(g(2))  # => Invokes `g.__call__(2)`\n",
        "\n",
        "h = f + g    # => Invokes `f.__add__(g)`\n",
        "print(h(3))  # => Invokes `h.__call__(3)`\n",
        "```\n",
        "\n",
        "Lastly, implement a method to convert a `Polynomial` to an informal string representation. For example, the polynomial `Polynomial(1, 3, 5)` should be represented by the string `\"1 * x^0 + 3 * x^1 + 5 * x^2\"`.\n",
        "\n",
        "**Bonus** (you'll get bonus marks if you implement this correctly): Implement also the special method `__sub__` to subtract two polynomials, and `__mul__` which lets you multiply a polynomial either by a scalar or another polynomial (see sample code below for examples)"
      ]
    },
    {
      "cell_type": "code",
      "execution_count": 5,
      "metadata": {
        "id": "6PcwEiTtBKs2"
      },
      "outputs": [],
      "source": [
        "# A class to represent polynomials of any degree\n",
        "\n",
        "class Polynomial:\n",
        "    def __init__(self, **coeff):\n",
        "        # **coeff - initialization with variable number of coefficients\n",
        "        # store the coeff in a dictionary with the power as the key\n",
        "        self.coefficients = {int(key.split('_')[-1]): value for key, value in coeff.items()}\n",
        "\n",
        "    def __call__(self, x):\n",
        "        \"\"\"Estimate the polynomial with a given value of x\"\"\"\n",
        "        # calculate each term and sum them\n",
        "        return sum(coeff * (x ** power) for power, coeff in self.coefficients.items())\n",
        "\n",
        "    def __add__(self, other):\n",
        "        \"\"\"Sum of 2 polynomials\"\"\"\n",
        "        # create a new polynomial with the same coeff\n",
        "        result = Polynomial(**{f\"c_{power}\": coeff for power, coeff in self.coefficients.items()})\n",
        "        # iterate over the coeff of the other\n",
        "        for power, coeff in other.coefficients.items():\n",
        "            # add the coeff of the same power or create a new entry if it doesn't exist\n",
        "            result.coefficients[power] = result.coefficients.get(power, 0) + coeff\n",
        "        return result\n",
        "\n",
        "    def __sub__(self, other):\n",
        "        \"\"\"Subtract two polynomials\"\"\"\n",
        "        # create a new polynomial with the same coeff\n",
        "        result = Polynomial(**{f\"c_{power}\": coeff for power, coeff in self.coefficients.items()})\n",
        "        # iterate over the coeff of the other\n",
        "        for power, coeff in other.coefficients.items():\n",
        "            # subtract the coef of the same power or create a new entry if it doesn't exist\n",
        "            result.coefficients[power] = result.coefficients.get(power, 0) - coeff\n",
        "        return result\n",
        "\n",
        "    def __mul__(self, other):\n",
        "        \"\"\"Multiply two polynomials or a polynomial and a scalar\"\"\"\n",
        "        # create an empty polynomial\n",
        "        result = Polynomial()\n",
        "        # check the type of other: polinomial or scalar\n",
        "        if isinstance(other, Polynomial):\n",
        "            # iterate over the coeff of both polynomials\n",
        "            for power_1, coeff_1 in self.coefficients.items():\n",
        "                for power_2, coeff_2 in other.coefficients.items():\n",
        "                    power = power_1 + power_2\n",
        "                    # ddd the product term to the result or create a new entry if it doesn't exist\n",
        "                    result.coefficients[power] = result.coefficients.get(power, 0) + coeff_1 * coeff_2\n",
        "        else:\n",
        "            for power, coeff in self.coefficients.items():\n",
        "                # multiply the coefficient by the scalar and store it\n",
        "                result.coefficients[power] = coeff * other\n",
        "        return result\n",
        "\n",
        "    def __str__(self):\n",
        "        terms = [f\"{coeff} * x^{power}\" if power > 0 else f\"{coeff}\" for power, coeff in self.coefficients.items()]\n",
        "        return \" + \".join(terms)"
      ]
    },
    {
      "cell_type": "code",
      "execution_count": 6,
      "metadata": {
        "colab": {
          "base_uri": "https://localhost:8080/"
        },
        "id": "uWGd5ljoBKs2",
        "outputId": "28326ca6-1848-4729-ad1c-257f40956350"
      },
      "outputs": [
        {
          "output_type": "stream",
          "name": "stdout",
          "text": [
            "given f = 1 + 5 * x^1 + 10 * x^2; f(5) = 276\n",
            "given g = 1 + 3 * x^1 + 5 * x^2; g(2) = 27\n",
            "given h = 1 + 7 * x^5; g(3) = 55\n",
            "(1 + 5 * x^1 + 10 * x^2) + (1 + 3 * x^1 + 5 * x^2) = 2 + 8 * x^1 + 15 * x^2\n",
            "(1 + 5 * x^1 + 10 * x^2) + (1 + 7 * x^5) = 2 + 5 * x^1 + 10 * x^2 + 7 * x^5\n",
            "(1 + 5 * x^1 + 10 * x^2) - (1 + 3 * x^1 + 5 * x^2) = 0 + 2 * x^1 + 5 * x^2\n",
            "(1 + 5 * x^1 + 10 * x^2)5 = 5 + 25 * x^1 + 50 * x^2\n",
            "(1 + 5 * x^1 + 10 * x^2)(1 + 3 * x^1 + 5 * x^2) = 1 + 8 * x^1 + 30 * x^2 + 55 * x^3 + 50 * x^4\n"
          ]
        }
      ],
      "source": [
        "# Testing code\n",
        "f = Polynomial(c_0=1, c_1=5, c_2=10)\n",
        "g = Polynomial(c_0=1, c_1=3, c_2=5)\n",
        "h = Polynomial(c_0=1, c_5=7)\n",
        "\n",
        "print(f\"given f = {f}; f(5) = {f(5)}\")\n",
        "print(f\"given g = {g}; g(2) = {g(2)}\")\n",
        "print(f\"given h = {h}; g(3) = {g(3)}\")\n",
        "# given f = 1 + 5x + 10x^2; f(5) = 276\n",
        "# given g = 1 + 3x + 5x^2; g(2) = 27\n",
        "# given h = 1 + 7x^5; g(3) = 55\n",
        "\n",
        "print(f\"({f}) + ({g}) = {f + g}\")\n",
        "print(f\"({f}) + ({h}) = {f + h}\")\n",
        "\n",
        "# Optional: subtraction and multiplication\n",
        "print(f\"({f}) - ({g}) = {f - g}\")\n",
        "print(f\"({f})5 = {f * 5}\")\n",
        "print(f\"({f})({g}) = {f * g}\")\n",
        "# (1 + 5x + 10x^2) - (1 + 3x + 5x^2) = 2x + 5x^2\n",
        "# (1 + 5x + 10x^2)5 = 5 + 25x + 50x^2\n",
        "# (1 + 5x + 10x^2)(1 + 3x + 5x^2) = 1 + 8x + 30x^2 + 55x^3 + 50x^4"
      ]
    },
    {
      "cell_type": "markdown",
      "metadata": {
        "id": "m5hbAZvCBKs3"
      },
      "source": [
        "### Exercise #7: Polynomial Extensions\n",
        "\n",
        "If you are looking for more, implement even more additional operations on our `Polynomial` class from exercise #6. You may want to implement `__div__`.\n",
        "\n",
        "You can also implement more complicated mathematical operations, such as `f.derivative()`, which returns a new function that is the derivative of `f`, or `.zeros()`, which returns a collection of the function's zeros.\n",
        "\n",
        "If you need even more, write a `classmethod` to construct a polynomial from a string representation of it. You should be able to write:\n",
        "\n",
        "```\n",
        "f = Polynomial.parse(\"1 * x^0 + 3 * x^1 + 5 * x^2\")\n",
        "```"
      ]
    },
    {
      "cell_type": "markdown",
      "metadata": {
        "id": "RTXN-6YzBKs4"
      },
      "source": [
        "### Exercise #8: `MultivariatePolynomial`\n",
        "\n",
        "Write a class called `MultivariatePolynomial` that represents a polynomial in many variables. For example, $f(x, y, z) = 4xy + 10x^2z - 5x^3yz + y^4z^3$ is a polynomial in three variables.\n",
        "\n",
        "How would you provide coefficients to the constructor? How would you define the arguments to the callable? How would you implement the mathematical operations efficiently?\n",
        "\n",
        "You should keep in mind the `Polynomial` class from exercise #6."
      ]
    },
    {
      "cell_type": "code",
      "execution_count": null,
      "metadata": {
        "id": "lZkTV0dGBKs5"
      },
      "outputs": [],
      "source": [
        "# your implementation here\n",
        "class MultivariatePolynomial:\n",
        "    pass"
      ]
    },
    {
      "cell_type": "markdown",
      "metadata": {
        "id": "7bizKg_GBKs5"
      },
      "source": [
        "## Part #3: Review: Functions as objects\n",
        "\n",
        "As you know from class, everything in Python is an object. Including functions. Functions have some interesting attributes to explore. We'll poke around several of these attributes more in depth here. You already saw a couple of attributes in lab5, such as `__doc__`.\n",
        "\n",
        "Usually, this information isn't particularly useful for practitioners (you'll rarely want to hack around with the internals of functions), but even seeing that you *can* in Python is very cool. And it *will* be useful on the event you *really* need to monkeypatch a given functionality.\n",
        "\n",
        "In this section, there is no code to write. Instead, you will be reading and running code and observing the output. Nevertheless, we encourage you to play around with the code cells to experiment and explore on your own."
      ]
    },
    {
      "cell_type": "markdown",
      "metadata": {
        "id": "YUZTLvDaBKs6"
      },
      "source": [
        "#### Default Values (`__defaults__` and `__kwdefaults__`)\n",
        "\n",
        "As stated earlier, any default values (either normal default arguments or the keyword-only default arguments that follow a variadic positional argument parameter) are bound to the function object at the time of function definition. Consider our `all_together` function from earlier, and run the following code. Why might the `__defaults__` attribute be a tuple, but the `__kwdefaults__` attribute be a dictionary?"
      ]
    },
    {
      "cell_type": "code",
      "execution_count": null,
      "metadata": {
        "id": "eLNTT3INBKs7"
      },
      "outputs": [],
      "source": [
        "def all_together(x, y, z=1, *nums, indent=True, spaces=4, **options):\n",
        "    pass\n",
        "\n",
        "all_together.__defaults__  # => (1, )\n",
        "all_together.__kwdefaults__  # => {'indent':True, 'spaces':4}"
      ]
    },
    {
      "cell_type": "markdown",
      "metadata": {
        "id": "AOA99cD_BKs7"
      },
      "source": [
        "#### Code Object (`__code__`)\n",
        "\n",
        "In CPython, the reference implementation of Python used by many people (including us), functions are byte-compiled into executable Python code, or _bytecode_, when defined. This code object, which represents the bytecode and some administrative information, is bound to the `__code__` attribute, and has a ton of interesting properties, best illustrated by example. Code objects are immutable and contain no references to immutable objects.\n",
        "\n",
        "```Python\n",
        "def all_together(x, y, z=1, *nums, indent=True, spaces=4, **options):\n",
        "    \"\"\"A useless comment\"\"\"\n",
        "    print(x + y * z)\n",
        "    print(sum(nums))\n",
        "    for k, v in options.items():\n",
        "        if indent:\n",
        "            print(\"{}\\t{}\".format(k, v))\n",
        "        else:\n",
        "            print(\"{}{}{}\".format(k, \" \" * spaces, v))\n",
        "            \n",
        "code = all_together.__code__\n",
        "```\n",
        "\n",
        "| Attribute  | Sample Value | Explanation |\n",
        "| --- | --- | --- |\n",
        "| `code.co_argcount` | `3` | number of positional arguments (including arguments with default values) |\n",
        "| `code.co_cellvars` | `()` | tuple containing the names of local variables that are referenced by nested functions |\n",
        "| `code.co_code` | `b't\\x00\\x00...\\x04S\\x00'` | string representing the sequence of bytecode instructions |\n",
        "| `code.co_consts` | `('A useless comment', '{}\\t{}', '{}{}{}', ' ', None)` | tuple containing the literals used by the bytecode - our `None` is from the implicit `return None` at the end |\n",
        "| `code.co_filename` | `filename` or `<stdin>` or `<ipython-input-#-xxx>` | file in which the function was defined |\n",
        "| `code.co_firstlineno` | `1` | line of the file the first line of the function appears |\n",
        "| `code.co_flags` | `79` | AND of compiler-specific binary flags whose internal meaning is (mostly) opaque to us |\n",
        "| `code.co_freevars` | `()` | tuple containing the names of free variables |\n",
        "| `code.co_kwonlyargcount` | `2` | number of keyword-only arguments |\n",
        "| `code.co_lnotab` | `b'\\x00\\x02\\x10\\x01\\x0c\\x01\\x12\\x01\\x04\\x01\\x12\\x02'` | string encoding the mapping from bytecode offsets to line numbers |\n",
        "| `code.co_name` | `\"all_together\"` | the function name  |\n",
        "| `code.co_names` | `('print', 'sum', 'items', 'format')` | tuple containing the names used by the bytecode |\n",
        "| `code.co_nlocals` | `9` | number of local variables used by the function (including arguments) |\n",
        "| `code.co_stacksize` | `7` | required stack size (including local variables) |\n",
        "| `code.co_varnames` | `('x', 'y', 'z', 'indent', 'spaces', 'nums', 'options', 'k', 'v')` | tuple containing the names of the local variables (starting with the argument names) |\n",
        "\n",
        "More info on this, and on all types in Python, can be found at the [data model reference](https://docs.python.org/3/reference/datamodel.html#the-standard-type-hierarchy). For code objects, you have to scroll down to \"Internal Types.\""
      ]
    },
    {
      "cell_type": "code",
      "execution_count": null,
      "metadata": {
        "id": "_wxNVfawBKs8"
      },
      "outputs": [],
      "source": [
        "def all_together(x, y, z=1, *nums, indent=True, spaces=4, **options):\n",
        "    \"\"\"A useless comment\"\"\"\n",
        "    print(x + y * z)\n",
        "    print(sum(nums))\n",
        "    for k, v in options.items():\n",
        "        if indent:\n",
        "            print(\"{}\\t{}\".format(k, v))\n",
        "        else:\n",
        "            print(\"{}{}{}\".format(k, \" \" * spaces, v))\n",
        "\n",
        "code = all_together.__code__\n",
        "\n",
        "print(code.co_argcount)\n",
        "print(code.co_cellvars)\n",
        "print(code.co_code)\n",
        "print(code.co_consts)\n",
        "print(code.co_filename)\n",
        "print(code.co_firstlineno)\n",
        "print(code.co_flags)\n",
        "print(code.co_freevars)\n",
        "print(code.co_kwonlyargcount)\n",
        "print(code.co_lnotab)\n",
        "print(code.co_name)\n",
        "print(code.co_names)\n",
        "print(code.co_nlocals)\n",
        "print(code.co_stacksize)\n",
        "print(code.co_varnames)"
      ]
    },
    {
      "cell_type": "markdown",
      "metadata": {
        "id": "pEQim8IdBKs-"
      },
      "source": [
        "##### Security\n",
        "\n",
        "This can lead to a pretty glaring security vulnerability. Namely, the code object on a given function can be hot-swapped for the code object of another (perhaps malicious function) at runtime!"
      ]
    },
    {
      "cell_type": "code",
      "execution_count": null,
      "metadata": {
        "id": "v_QSIdGXBKs-"
      },
      "outputs": [],
      "source": [
        "def nice(): print(\"You're awesome!\")\n",
        "def mean(): print(\"You're... not awesome. OOOOH\")\n",
        "\n",
        "# Overwrite the code object for nice\n",
        "nice.__code__ = mean.__code__\n",
        "\n",
        "print(nice())  # prints \"You're... not awesome. OOOOH\""
      ]
    },
    {
      "cell_type": "markdown",
      "metadata": {
        "id": "_qXaYQVPBKs_"
      },
      "source": [
        "##### `dis` module\n",
        "\n",
        "The `dis` module, for \"disassemble,\" exports a `dis` function that allows us to disassemble Python byte code (at least, for Python distributions implemented in CPython for existing versions). The disassembled code isn't exactly normal assembly code, but rather is a specialized Python syntax\n",
        "\n",
        "```Python\n",
        "def gcd(a, b):\n",
        "    while b:\n",
        "        a, b = b, a % b\n",
        "    return a\n",
        "    \n",
        "import dis\n",
        "dis.dis(gcd)\n",
        "\"\"\"\n",
        "  2           0 SETUP_LOOP              27 (to 30)\n",
        "        >>    3 LOAD_FAST                1 (b)\n",
        "              6 POP_JUMP_IF_FALSE       29\n",
        "\n",
        "  3           9 LOAD_FAST                1 (b)\n",
        "             12 LOAD_FAST                0 (a)\n",
        "             15 LOAD_FAST                1 (b)\n",
        "             18 BINARY_MODULO\n",
        "             19 ROT_TWO\n",
        "             20 STORE_FAST               0 (a)\n",
        "             23 STORE_FAST               1 (b)\n",
        "             26 JUMP_ABSOLUTE            3\n",
        "        >>   29 POP_BLOCK\n",
        "\n",
        "  4     >>   30 LOAD_FAST                0 (a)\n",
        "             33 RETURN_VALUE\n",
        "\"\"\"\n",
        "```\n",
        "\n",
        "Details on the instructions themselves can be found [here](https://docs.python.org/3/library/dis.html#python-bytecode-instructions).\n",
        "You can read more about the `dis` module [here](https://docs.python.org/3/library/dis.html)."
      ]
    },
    {
      "cell_type": "code",
      "execution_count": null,
      "metadata": {
        "id": "aHwQ0Jg-BKtA"
      },
      "outputs": [],
      "source": [
        "def gcd(a, b):\n",
        "    while b:\n",
        "        a, b = b, a % b\n",
        "    return a\n",
        "\n",
        "import dis\n",
        "dis.dis(gcd)"
      ]
    },
    {
      "cell_type": "markdown",
      "metadata": {
        "id": "SvZSIQT1BKtB"
      },
      "source": [
        "#### Call (`__call__`)\n",
        "\n",
        "All Python functions have a `__call__` attribute, which is the actual object called when you use parentheses to \"call\" a function. That is,"
      ]
    },
    {
      "cell_type": "code",
      "execution_count": null,
      "metadata": {
        "id": "fhuu0xRtBKtB"
      },
      "outputs": [],
      "source": [
        "def greet(): print(\"Hello world!\")\n",
        "\n",
        "greet() # \"Hello world!\"\n",
        "# is just syntactic sugar for\n",
        "greet.__call__()  # \"Hello world!\""
      ]
    },
    {
      "cell_type": "markdown",
      "metadata": {
        "id": "XgtU32R8BKtC"
      },
      "source": [
        "This means that any object (including instances of custom classes) with a `__call__` method can use the parenthesized function call syntax. Which is why we wrote the following to construct a callable `Polynomial` class:\n",
        "\n",
        "```Python\n",
        "class Polynomial:\n",
        "    def __init__(self, coeffs):\n",
        "        \"\"\"Store the coefficients...\"\"\"\n",
        "        \n",
        "    def __call__(self, x):\n",
        "        \"\"\"Compute f(x)...\"\"\"\n",
        "\n",
        "\n",
        "# The polynomial f(x) = 4 + 4 * x + 4 * x ** 2\n",
        "f = Polynomial(4, 4, 1)\n",
        "f(5)  # Really, this is f.__call__(5)\n",
        "```"
      ]
    },
    {
      "cell_type": "markdown",
      "metadata": {
        "id": "uYTp7mPQBKtD"
      },
      "source": [
        "#### Name Information (`__module__`, `__name__`, and `__qualname__`)\n",
        "\n",
        "Python functions also store some name information about a function, generally for the purposes of friendly printing.\n",
        "\n",
        "`__module__` refers to the module that was active at the time the function was defined. Any functions defined in the interactive interpreter, or run as a script, will have `__module__ == '__main__'`, but imported modules will have their `__module__` attribute set to the module name. For example, `math.sqrt.__module__` is `\"math\"`.\n",
        "\n",
        "`__name__` is the function's name. Nothing special here.\n",
        "\n",
        "`__qualname__`, which stands for \"qualified name,\" only differs from `__name__` when you're dealing with nested functions.\n"
      ]
    },
    {
      "cell_type": "markdown",
      "metadata": {
        "id": "ApVcLn2cBKtE"
      },
      "source": [
        "# Submission instructions\n",
        "\n",
        "You will need to exercises #1 `Not-so-SimpleGraph` and #6 `Polynomial Class` on Arche before **9:59am on Friday, 8th December 2023**. Submit either a `.py` or an `.ipynb` file containing the exercises and name it `td7_firstname_lastname_grpN.py` or `td7_firstname_lastname_grpN.ipynb` accordingly, where `firstname` should be your first name, `lastname` should be your last name, and `N` in `grpN` should be your group number (e.g. Jane Doe, who is in group A1, should name her submission either `td7_jane_doe_grp1.py` or `td7_jane_doe_grp1.ipynb`, depending on whether Jane submitted a Python script or a Jupyter notebook).\n",
        "\n",
        "To evaluate your submission, we will be looking at the following criteria:\n",
        "\n",
        "- Does your code run? (So **run** your program at least once before submitting!)\n",
        "- Does it run correctly? (So **test** your solution with a few different inputs!)\n",
        "- Is your code well-commented?"
      ]
    },
    {
      "cell_type": "markdown",
      "metadata": {
        "id": "EWlf4C1IBKtF"
      },
      "source": [
        "> Stolen from CS Stanford. With <3 by @sredmond\n",
        "\n",
        "> Adapted by tmickus"
      ]
    }
  ],
  "metadata": {
    "kernelspec": {
      "display_name": "Python 3 (ipykernel)",
      "language": "python",
      "name": "python3"
    },
    "language_info": {
      "codemirror_mode": {
        "name": "ipython",
        "version": 3
      },
      "file_extension": ".py",
      "mimetype": "text/x-python",
      "name": "python",
      "nbconvert_exporter": "python",
      "pygments_lexer": "ipython3",
      "version": "3.8.10"
    },
    "colab": {
      "provenance": []
    }
  },
  "nbformat": 4,
  "nbformat_minor": 0
}