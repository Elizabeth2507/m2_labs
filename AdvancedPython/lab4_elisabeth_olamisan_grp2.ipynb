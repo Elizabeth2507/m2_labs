{
  "cells": [
    {
      "cell_type": "markdown",
      "metadata": {
        "id": "bMbaIa4FeAv5"
      },
      "source": [
        "# Lab 4: Lists, tuples and dicts"
      ]
    },
    {
      "cell_type": "markdown",
      "metadata": {
        "id": "3Ib9FtczeAwA"
      },
      "source": [
        "## Overview\n",
        "\n",
        "Welcome to your fourth lab!\n",
        "\n",
        "The primary goal of this lab is to focus on using data structures to solve some interesting problems. If you're curious and want to get to the bottom of what we're presenting here, go [check out Sequence types and Mapping types](https://docs.python.org/3/library/stdtypes.html)!\n",
        "\n",
        "**Note: These labs are *designed* to be long! Work through as much as you can in the time allotted, but also feel free to skip from question to question freely. The extra problems are intended to be extra practice, if you want to hone your Python skills even more.**\n",
        "\n",
        "As always, remember to submit the assignment questions once you're done! (instructions below)\n",
        "\n",
        "If you're done early: &#9971; Golf your functions!\n",
        "\n",
        "Above all, have fun playing with Python! Enjoy."
      ]
    },
    {
      "cell_type": "markdown",
      "metadata": {
        "id": "LHA-Lk5AeAwS"
      },
      "source": [
        "# Assignment Exercises"
      ]
    },
    {
      "cell_type": "markdown",
      "metadata": {
        "id": "JLENlg0ZeAwT"
      },
      "source": [
        "### Exercise #6: Pascal's Triangle\n",
        "Write a function that generates the next level of [Pascal's triangle](https://en.wikipedia.org/wiki/Pascal%27s_triangle) given a list that represents a row of Pascal’s triangle.\n",
        "\n",
        "```Python\n",
        "generate_pascal_row([1, 2, 1]) -> [1, 3, 3, 1]\n",
        "generate_pascal_row([1, 4, 6, 4, 1]) -> [1, 5, 10, 10, 5, 1]\n",
        "generate_pascal_row([]) -> [1]\n",
        "```\n",
        "\n",
        "As a reminder, each element in a row of Pascal's triangle is formed by summing the two elements in the previous row directly above (to the left and right) that element. If there is only one element directly above, we only add that one. For example, the first 5 rows of Pascal's triangle look like:\n",
        "\n",
        "```\n",
        "    1\n",
        "   1 1\n",
        "  1 2 1\n",
        " 1 3 3 1\n",
        "1 4 6 4 1\n",
        "```\n",
        "\n",
        "You may find the `zip` function discussed briefly in lecture useful, along with some cleverness. Alternatively, you could solve this problem with `enumerate`. Avoid using a loop of the form `for i in len(range(row)):`.\n",
        "\n",
        "*Hint: Check out the diagram below. How could you use this insight to help complete this problem?*\n",
        "\n",
        "```\n",
        "  0 1 3 3 1\n",
        "+ 1 3 3 1 0\n",
        "-----------\n",
        "  1 4 6 4 1\n",
        "```"
      ]
    },
    {
      "cell_type": "code",
      "execution_count": 5,
      "metadata": {
        "colab": {
          "base_uri": "https://localhost:8080/"
        },
        "id": "xYxNFkcheAwU",
        "outputId": "2b0c6936-924c-4883-f254-39a96b0a3ae4"
      },
      "outputs": [
        {
          "output_type": "stream",
          "name": "stdout",
          "text": [
            "[1, 3, 3, 1]\n",
            "[1, 5, 10, 10, 5, 1]\n",
            "[1]\n"
          ]
        }
      ],
      "source": [
        "def generate_pascal_row(row):\n",
        "    \"\"\"Generate the next row of Pascal's triangle.\"\"\"\n",
        "    n = len(row)\n",
        "    # # Initialize list with 1s. In pascal's triagle the boundary values are always equal to 1\n",
        "    # # In each new row the number of values increases by 1, that's why +1\n",
        "    lst = [1] * (n + 1)\n",
        "    for i, val in enumerate(row):\n",
        "        # lst populated from 1 index till n (before last index in lst)\n",
        "        # first and last elements are 1s.\n",
        "        if i > 0:\n",
        "            lst[i] = row[i - 1] + val  # each element the sum of two numbers directly above\n",
        "    return lst\n",
        "\n",
        "\n",
        "print(generate_pascal_row([1, 2, 1]))  # => [1, 3, 3, 1]\n",
        "print(generate_pascal_row([1, 4, 6, 4, 1]))  # => [1, 5, 10, 10, 5, 1]\n",
        "print(generate_pascal_row([]))  # => [1]"
      ]
    },
    {
      "cell_type": "markdown",
      "metadata": {
        "id": "vJqsHCUZeAwU"
      },
      "source": [
        "#### Exercise #7: Pretty Printing Pascal\n",
        "\n",
        "Given a number `n`, print out the first `n` rows of Pascal's triangle, centering each line. You should use the `generate_pascal_row` function you  wrote previously. The Pascal's triangle with 1 row just contains the number `1`.\n",
        "\n",
        "To center a string in Python, you can use the `.center(width)` method. For example:\n",
        "\n",
        "```Python\n",
        ">>> 'chimp'.center(10)\n",
        "'  chimp   '\n",
        "```\n",
        "\n",
        "You can even specify an optional `fillchar` to fill with characters other than spaces!\n",
        "\n",
        "The hardest part of this problem is determining the width of the bottom row of the triangle. You'll need to generate all rows of the triangle and store them before you can print any of them.\n",
        "\n",
        "Sample output for `print_pascal_triangle(12)`:\n",
        "```\n",
        "                   1                   \n",
        "                  1 1                  \n",
        "                 1 2 1                 \n",
        "                1 3 3 1                \n",
        "               1 4 6 4 1               \n",
        "             1 5 10 10 5 1             \n",
        "            1 6 15 20 15 6 1           \n",
        "          1 7 21 35 35 21 7 1          \n",
        "         1 8 28 56 70 56 28 8 1        \n",
        "      1 9 36 84 126 126 84 36 9 1      \n",
        "  1 10 45 120 210 252 210 120 45 10 1  \n",
        "1 11 55 165 330 462 462 330 165 55 11 1\n",
        "```"
      ]
    },
    {
      "cell_type": "code",
      "execution_count": 6,
      "metadata": {
        "colab": {
          "base_uri": "https://localhost:8080/"
        },
        "id": "2Tyb5z__eAwU",
        "outputId": "6c0e38d2-7f21-426a-c575-5977280b6c08"
      },
      "outputs": [
        {
          "output_type": "stream",
          "name": "stdout",
          "text": [
            "                   1                   \n",
            "                  1 1                  \n",
            "                 1 2 1                 \n",
            "                1 3 3 1                \n",
            "               1 4 6 4 1               \n",
            "             1 5 10 10 5 1             \n",
            "            1 6 15 20 15 6 1           \n",
            "          1 7 21 35 35 21 7 1          \n",
            "         1 8 28 56 70 56 28 8 1        \n",
            "      1 9 36 84 126 126 84 36 9 1      \n",
            "  1 10 45 120 210 252 210 120 45 10 1  \n",
            "1 11 55 165 330 462 462 330 165 55 11 1\n"
          ]
        }
      ],
      "source": [
        "def print_pascal_triangle(n):\n",
        "    \"\"\"Print the first n rows of Pascal's triangle.\"\"\"\n",
        "    rows = [[1]]  # initialize with first row with `1` from the problem statement\n",
        "    i = 1  # start populating from second row\n",
        "    while i < n:  # iterate over numbers of rows\n",
        "        # get the next row by passing as argument the previous rows items\n",
        "        res = generate_pascal_row(rows[-1])\n",
        "        # add to list of rows\n",
        "        rows.append(res)\n",
        "        i += 1\n",
        "\n",
        "    # Print triangle\n",
        "    def format_row(row):\n",
        "        \"\"\"Convert all items of row to str and concatenate with backspaces\"\"\"\n",
        "        return \" \".join(map(str, row))\n",
        "\n",
        "    # get the length of longest formated row (the last in rows list)\n",
        "    width = len(format_row(rows[-1]))\n",
        "    for row in rows:\n",
        "        # convert to str and aligned each row with the computed width\n",
        "        print(format_row(row).center(width))\n",
        "\n",
        "\n",
        "print_pascal_triangle(12)"
      ]
    },
    {
      "cell_type": "markdown",
      "metadata": {
        "id": "8z79sKtgeAwV"
      },
      "source": [
        "### Submission instructions\n",
        "\n",
        "Alright, you did it!\n",
        "\n",
        "You will need to submit the last two exercises (#6 Pascal's Triangle and #7 Pretty Printing Pascal) on Arche before 9:59am on Friday, 20th October. Submit either a `.py` or an `.ipynb` file containing the two functions and name it `td3_firstname_lastname_grpN.py` or `td3_firstname_lastname_grpN.ipynb` accordingly, where `firstname` should be your first name, `lastname` should be your last name, and `N` in `grpN` should be your group number (e.g. Jane Doe, who is in group A1, should name her submission either `td3_jane_doe_grp1.py` or `td3_jane_doe_grp1.ipynb`, depending on whether Jane submitted a Python script or a Jupyter notebook).\n",
        "\n",
        "To evaluate your submission, we will be looking at the following criteria:\n",
        "\n",
        "- Does your code run? (So **run** your program at least once before submitting!)\n",
        "- Does it run correctly? (So **test** your solution with a few different inputs!)\n",
        "- Is your code well-commented?"
      ]
    },
    {
      "cell_type": "markdown",
      "metadata": {
        "id": "0emG07tAeAwW"
      },
      "source": [
        "## Done Early?\n",
        "\n",
        "Skim [Python’s Style Guide](https://www.python.org/dev/peps/pep-0008/), keeping the Zen of Python in mind. Feel free to skip portions of the style guide that cover material we haven't yet touched on in this class, but it's always good to start with an overview of good style."
      ]
    },
    {
      "cell_type": "markdown",
      "metadata": {
        "id": "b9aHJjNXeAwW"
      },
      "source": [
        "> With <3 by @sredmond\n",
        "\n",
        "> With chimps by tmickus"
      ]
    }
  ],
  "metadata": {
    "kernelspec": {
      "display_name": "Python 3 (ipykernel)",
      "language": "python",
      "name": "python3"
    },
    "language_info": {
      "codemirror_mode": {
        "name": "ipython",
        "version": 3
      },
      "file_extension": ".py",
      "mimetype": "text/x-python",
      "name": "python",
      "nbconvert_exporter": "python",
      "pygments_lexer": "ipython3",
      "version": "3.8.10"
    },
    "colab": {
      "provenance": []
    }
  },
  "nbformat": 4,
  "nbformat_minor": 0
}