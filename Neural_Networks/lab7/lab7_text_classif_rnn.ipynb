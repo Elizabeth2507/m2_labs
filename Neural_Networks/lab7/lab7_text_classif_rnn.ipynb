{
 "cells": [
  {
   "cell_type": "markdown",
   "metadata": {},
   "source": [
    "# Text classification with recurrent neural networks\n",
    "\n",
    "Recurrent neural networks (RNNs) are appropriate for handling sequential data, where each point depends on the previous one(s). This is the case, e.g., for time series (audio/speech signals, financial data...), but also videos (time sequence of images), or text, which we consider here.\n",
    " \n",
    "In this lab, we use RNNs for a binary classification task, which is hate speech detection from tweets. We introduce the global pipeline for preprocessing text data, as well as the basics of RNNs, and we implement a simple classification model.\n",
    "\n",
    "**Note**: The first time you run this notebook, please uncomment the first cell below to download NLP pipelines (for English and German) using spacy."
   ]
  },
  {
   "cell_type": "code",
   "execution_count": 8,
   "metadata": {},
   "outputs": [
    {
     "name": "stdout",
     "output_type": "stream",
     "text": [
      "Collecting en-core-web-sm==3.8.0\n",
      "  Using cached https://github.com/explosion/spacy-models/releases/download/en_core_web_sm-3.8.0/en_core_web_sm-3.8.0-py3-none-any.whl (12.8 MB)\n",
      "\u001b[38;5;2m[+] Download and installation successful\u001b[0m\n",
      "You can now load the package via spacy.load('en_core_web_sm')\n",
      "Collecting de-core-news-sm==3.8.0\n",
      "  Downloading https://github.com/explosion/spacy-models/releases/download/de_core_news_sm-3.8.0/de_core_news_sm-3.8.0-py3-none-any.whl (14.6 MB)\n",
      "     ---------------------------------------- 0.0/14.6 MB ? eta -:--:--\n",
      "     -- ------------------------------------- 0.8/14.6 MB 5.6 MB/s eta 0:00:03\n",
      "     ----- ---------------------------------- 2.1/14.6 MB 5.6 MB/s eta 0:00:03\n",
      "     -------- ------------------------------- 3.1/14.6 MB 6.0 MB/s eta 0:00:02\n",
      "     ------------ --------------------------- 4.5/14.6 MB 5.5 MB/s eta 0:00:02\n",
      "     -------------- ------------------------- 5.2/14.6 MB 5.1 MB/s eta 0:00:02\n",
      "     ---------------- ----------------------- 6.0/14.6 MB 5.0 MB/s eta 0:00:02\n",
      "     ------------------- -------------------- 7.1/14.6 MB 5.0 MB/s eta 0:00:02\n",
      "     ---------------------- ----------------- 8.1/14.6 MB 4.9 MB/s eta 0:00:02\n",
      "     ------------------------- -------------- 9.2/14.6 MB 5.0 MB/s eta 0:00:02\n",
      "     --------------------------- ------------ 10.2/14.6 MB 4.9 MB/s eta 0:00:01\n",
      "     ------------------------------ --------- 11.0/14.6 MB 4.8 MB/s eta 0:00:01\n",
      "     -------------------------------- ------- 12.1/14.6 MB 4.9 MB/s eta 0:00:01\n",
      "     ----------------------------------- ---- 13.1/14.6 MB 4.9 MB/s eta 0:00:01\n",
      "     ------------------------------------- -- 13.9/14.6 MB 4.9 MB/s eta 0:00:01\n",
      "     ---------------------------------------- 14.6/14.6 MB 4.7 MB/s eta 0:00:00\n",
      "Installing collected packages: de-core-news-sm\n",
      "Successfully installed de-core-news-sm-3.8.0\n",
      "\u001b[38;5;2m[+] Download and installation successful\u001b[0m\n",
      "You can now load the package via spacy.load('de_core_news_sm')\n"
     ]
    }
   ],
   "source": [
    "!python -m spacy download en_core_web_sm\n",
    "!python -m spacy download de_core_news_sm"
   ]
  },
  {
   "cell_type": "code",
   "execution_count": 9,
   "metadata": {},
   "outputs": [],
   "source": [
    "import torch\n",
    "import torch.nn as nn\n",
    "from torch.utils.data import DataLoader, Subset, random_split\n",
    "import copy\n",
    "import matplotlib.pyplot as plt\n",
    "import datasets\n",
    "import spacy\n",
    "import torchtext; torchtext.disable_torchtext_deprecation_warning()\n",
    "from torchtext.vocab import build_vocab_from_iterator"
   ]
  },
  {
   "cell_type": "code",
   "execution_count": 10,
   "metadata": {},
   "outputs": [],
   "source": [
    "# Main dataset path - If needed, you can change it HERE but NOWHERE ELSE in the notebook!\n",
    "data_dir = '../datasets/'"
   ]
  },
  {
   "cell_type": "markdown",
   "metadata": {},
   "source": [
    "### Dataset\n",
    "\n",
    "We use the [Tweets Hate Speech](https://huggingface.co/datasets/tweets-hate-speech-detection/tweets_hate_speech_detection) dataset, which contains a collections of tweets, along with a label (0= no hate speech; 1=hate speech). It can be directly downloaded via the `datasets` package."
   ]
  },
  {
   "cell_type": "code",
   "execution_count": 11,
   "metadata": {},
   "outputs": [
    {
     "data": {
      "application/vnd.jupyter.widget-view+json": {
       "model_id": "98b9d0c571c74dd296a30c5b010cc59a",
       "version_major": 2,
       "version_minor": 0
      },
      "text/plain": [
       "README.md:   0%|          | 0.00/5.58k [00:00<?, ?B/s]"
      ]
     },
     "metadata": {},
     "output_type": "display_data"
    },
    {
     "name": "stderr",
     "output_type": "stream",
     "text": [
      "C:\\Users\\Utilisateur\\PycharmProjects\\pythonProject\\.venv\\Lib\\site-packages\\huggingface_hub\\file_download.py:159: UserWarning: `huggingface_hub` cache-system uses symlinks by default to efficiently store duplicated files but your machine does not support them in C:\\Users\\Utilisateur\\.cache\\huggingface\\hub\\datasets--tweets-hate-speech-detection--tweets_hate_speech_detection. Caching files will still work but in a degraded version that might require more space on your disk. This warning can be disabled by setting the `HF_HUB_DISABLE_SYMLINKS_WARNING` environment variable. For more details, see https://huggingface.co/docs/huggingface_hub/how-to-cache#limitations.\n",
      "To support symlinks on Windows, you either need to activate Developer Mode or to run Python as an administrator. In order to see activate developer mode, see this article: https://docs.microsoft.com/en-us/windows/apps/get-started/enable-your-device-for-development\n",
      "  warnings.warn(message)\n"
     ]
    },
    {
     "data": {
      "application/vnd.jupyter.widget-view+json": {
       "model_id": "61257a0a31c34e4d93a2d8cf1a70dadc",
       "version_major": 2,
       "version_minor": 0
      },
      "text/plain": [
       "train-00000-of-00001.parquet:   0%|          | 0.00/2.07M [00:00<?, ?B/s]"
      ]
     },
     "metadata": {},
     "output_type": "display_data"
    },
    {
     "data": {
      "application/vnd.jupyter.widget-view+json": {
       "model_id": "0f25ad3fa7094de9b8a90827fffae538",
       "version_major": 2,
       "version_minor": 0
      },
      "text/plain": [
       "test-00000-of-00001.parquet:   0%|          | 0.00/1.11M [00:00<?, ?B/s]"
      ]
     },
     "metadata": {},
     "output_type": "display_data"
    },
    {
     "data": {
      "application/vnd.jupyter.widget-view+json": {
       "model_id": "e1b05ac5f7824983a203ca7b59565898",
       "version_major": 2,
       "version_minor": 0
      },
      "text/plain": [
       "Generating train split:   0%|          | 0/31962 [00:00<?, ? examples/s]"
      ]
     },
     "metadata": {},
     "output_type": "display_data"
    },
    {
     "data": {
      "application/vnd.jupyter.widget-view+json": {
       "model_id": "5fdc12c5b65d44f7a160d9a5d3939395",
       "version_major": 2,
       "version_minor": 0
      },
      "text/plain": [
       "Generating test split:   0%|          | 0/17197 [00:00<?, ? examples/s]"
      ]
     },
     "metadata": {},
     "output_type": "display_data"
    },
    {
     "name": "stdout",
     "output_type": "stream",
     "text": [
      "Dataset size: 31962\n",
      "{'label': 0, 'tweet': '@user when a father is dysfunctional and is so selfish he drags his kids into his dysfunction.   #run'}\n"
     ]
    }
   ],
   "source": [
    "# Load (eventually download) the dataset\n",
    "dataset = datasets.load_dataset(\"tweets-hate-speech-detection/tweets_hate_speech_detection\", cache_dir=data_dir)[\"train\"]\n",
    "print(f\"Dataset size: {len(dataset)}\")\n",
    "\n",
    "# Print one example: it has two keys 'tweet' and 'label', corresponding to the text and corresponding label\n",
    "print(dataset[0])"
   ]
  },
  {
   "cell_type": "markdown",
   "metadata": {},
   "source": [
    "## Preprocessing text data\n",
    "\n",
    "### Tokenizers\n",
    "\n",
    "The first step to prepare our data is to define *tokenizers*, that is, how a string is transformed into a sequence of words (or *tokens*). For instance, \"Welcome to the U.S.A.!\" should be transformed into \\[\"Welcome\", \"to\", \"the\", \"U.S.A.\", \"!\"\\]. These are called tokens in the general case because \"!\" is not a word.\n",
    "\n",
    "To perform tokenization, we rely on language-specific rules, in order to preserve some particular structure: for instance, with a naïve approach, \"U.S.A.\" would be split into 6 tokens \\[\"U\", \".\", \"S', \".\", \"A\", \".\"\\], but we want to consider it as a single token."
   ]
  },
  {
   "cell_type": "code",
   "execution_count": 12,
   "metadata": {},
   "outputs": [
    {
     "name": "stdout",
     "output_type": "stream",
     "text": [
      "Welcome to the U.S.A!\n",
      "['Welcome', 'to', 'the', 'U.S.A.', '!']\n"
     ]
    }
   ],
   "source": [
    "# load the English specific NLP pipeline\n",
    "en_nlp = spacy.load('en_core_web_sm')\n",
    "\n",
    "# define English tokenizer\n",
    "def tokenize_en(text):\n",
    "    return [tok.text for tok in en_nlp.tokenizer(text)]\n",
    "\n",
    "# check on an example\n",
    "print('Welcome to the U.S.A!')\n",
    "print(tokenize_en('Welcome to the U.S.A.!'))"
   ]
  },
  {
   "cell_type": "code",
   "execution_count": 13,
   "metadata": {},
   "outputs": [
    {
     "name": "stdout",
     "output_type": "stream",
     "text": [
      "{'tokens': ['<eos>', '@user', 'when', 'a', 'father', 'is', 'dysfunctional', 'and', 'is', 'so', 'selfish', 'he', 'drags', 'his', 'kids', 'into', 'his', 'dysfunction', '.', '  ', '#', 'run', '<eos>']}\n"
     ]
    }
   ],
   "source": [
    "# a more complete function that also remove caps,and add special tokens corresponding to the start/end of a sentence\n",
    "def tokenize_example(example, en_nlp, lower=True, sos_token='<sos>', eos_token='<eos>'):\n",
    "    tokens = [token.text for token in en_nlp.tokenizer(example[\"tweet\"])]\n",
    "    if lower:\n",
    "        tokens = [token.lower() for token in tokens]\n",
    "    tokens = [sos_token] + tokens + [eos_token]\n",
    "    return {\"tokens\": tokens}\n",
    "\n",
    "sos_token = \"<sos>\"\n",
    "eos_token = \"<eos>\"\n",
    "print(tokenize_example(dataset[0], en_nlp, sos_token, eos_token))"
   ]
  },
  {
   "cell_type": "code",
   "execution_count": 14,
   "metadata": {},
   "outputs": [
    {
     "data": {
      "application/vnd.jupyter.widget-view+json": {
       "model_id": "54d9996d26c84ab193073461c9a04e6a",
       "version_major": 2,
       "version_minor": 0
      },
      "text/plain": [
       "Map:   0%|          | 0/31962 [00:00<?, ? examples/s]"
      ]
     },
     "metadata": {},
     "output_type": "display_data"
    }
   ],
   "source": [
    "# Tokenize the whole dataset (it will add a 'tokens' entry to each data sample)\n",
    "dataset = dataset.map(tokenize_example, fn_kwargs={\"en_nlp\": en_nlp})"
   ]
  },
  {
   "cell_type": "markdown",
   "metadata": {},
   "source": [
    "### Vocabulary\n",
    "\n",
    "Next, we need to build a *vocabulary* for the  language. A vocabulary associates each token to an integer index (e.g., \"Welcome\"=0, \"to\"=1, \"the\"=2, etc.) which then allows to manipulate text data with neural networks (since these can only operate on numerical data, not on strings/characters).\n"
   ]
  },
  {
   "cell_type": "code",
   "execution_count": 16,
   "metadata": {},
   "outputs": [],
   "source": [
    "# We need to add special tokens for unknown words, and padding (when building batches of sentences with different lengths)\n",
    "unk_token = \"<unk>\"\n",
    "pad_token = \"<pad>\"\n",
    "special_tokens = [\n",
    "    unk_token,\n",
    "    pad_token,\n",
    "    sos_token,\n",
    "    eos_token,\n",
    "]\n",
    "\n",
    "# Define the minimum frequency of occurence in the dataset\n",
    "min_freq = 2\n",
    "\n",
    "# The vocabulary is simply built using torchtext's 'build_vocab_from_iterator' method\n",
    "en_vocab = build_vocab_from_iterator(\n",
    "    dataset[\"tokens\"],\n",
    "    min_freq=min_freq,\n",
    "    specials=special_tokens,\n",
    ")"
   ]
  },
  {
   "cell_type": "markdown",
   "metadata": {},
   "source": [
    "Now that our vocabulary is build, there are a bunch of method to analyze it easily.\n",
    "\n",
    "We can use the `vocab.itos` method to convert indices to the corresponding tokens (`itos` stands for \"index to string\"). The first tokens are the specified special tokens (here: `<unk>`, `<pad>`, `<sos>`, `<eos>`). Then the tokens are ranked by frequency of appearence in the dataset.\n",
    "\n",
    "We can do the other way around (get the index from a token) using the `vocab.stoi()[tok]`, or directly `vocab[tok]`.\n",
    "\n",
    "There are also lookup methods for processing list of indices / tokens."
   ]
  },
  {
   "cell_type": "code",
   "execution_count": 17,
   "metadata": {},
   "outputs": [
    {
     "name": "stdout",
     "output_type": "stream",
     "text": [
      "Number of tokens in the vocabulary: 16467\n",
      "First tokens in the vocabulary: ['<unk>', '<pad>', '<sos>', '<eos>', '#', '  ', '@user', ' ', '!', '.', 'the', 'to', 'i', 'a', ',']\n",
      "11\n",
      "11\n"
     ]
    }
   ],
   "source": [
    "print('Number of tokens in the vocabulary:', len(en_vocab))\n",
    "\n",
    "print('First tokens in the vocabulary:', en_vocab.get_itos()[:15])\n",
    "\n",
    "print(en_vocab.get_stoi()['to'])\n",
    "print(en_vocab['to'])"
   ]
  },
  {
   "cell_type": "code",
   "execution_count": 18,
   "metadata": {},
   "outputs": [
    {
     "name": "stdout",
     "output_type": "stream",
     "text": [
      "[976, 9868, 987, 428]\n",
      "['dark', 'scoopwhoopnews', 'needed', 'london']\n"
     ]
    }
   ],
   "source": [
    "# Operate on lists of tokens / indices with the lookup methods\n",
    "print(en_vocab.lookup_indices(['dark', 'scoopwhoopnews', 'needed', 'london']))\n",
    "print(en_vocab.lookup_tokens([976, 9868, 987, 428]))"
   ]
  },
  {
   "cell_type": "markdown",
   "metadata": {},
   "source": [
    "If we try to get the index of a token that is not in the vocabulary, by default we will get an error. We need to specify explicitly a default index that will be returned when prompted an out-of-vocabulary word. Here, an appropriate choice is the token `<unk>`, whose index is 0."
   ]
  },
  {
   "cell_type": "code",
   "execution_count": 19,
   "metadata": {},
   "outputs": [
    {
     "name": "stdout",
     "output_type": "stream",
     "text": [
      "0\n"
     ]
    }
   ],
   "source": [
    "# Set the default index at 0 (which corresponds to the <unk> token) for out-of-vocabulary tokens\n",
    "en_vocab.set_default_index(0)\n",
    "print(en_vocab['notinthevocabulary'])"
   ]
  },
  {
   "cell_type": "markdown",
   "metadata": {},
   "source": [
    "### Numericalization\n",
    "\n",
    "We can now perform numericalization, which is the process of transforming each tokenized sentence in the dataset into a list of indices. As a result, we now have a dataset of fully numerical data."
   ]
  },
  {
   "cell_type": "code",
   "execution_count": 20,
   "metadata": {},
   "outputs": [
    {
     "name": "stdout",
     "output_type": "stream",
     "text": [
      "{'en_ids': [2, 6, 55, 13, 102, 20, 0, 17, 20, 38, 3620, 99, 7024, 121, 291, 290, 121, 8749, 9, 5, 4, 511, 3]}\n"
     ]
    }
   ],
   "source": [
    "def numericalize_example(example, en_vocab):\n",
    "    en_ids = en_vocab.lookup_indices(example[\"tokens\"])\n",
    "    return {\"en_ids\": en_ids}\n",
    "\n",
    "print(numericalize_example(dataset[0], en_vocab))"
   ]
  },
  {
   "cell_type": "code",
   "execution_count": 21,
   "metadata": {},
   "outputs": [
    {
     "data": {
      "application/vnd.jupyter.widget-view+json": {
       "model_id": "652c302345a145a99bbbe79744e7a35d",
       "version_major": 2,
       "version_minor": 0
      },
      "text/plain": [
       "Map:   0%|          | 0/31962 [00:00<?, ? examples/s]"
      ]
     },
     "metadata": {},
     "output_type": "display_data"
    }
   ],
   "source": [
    "# Numericalize the whole dataset (it will add a 'en_ids' entry to each data sample)\n",
    "dataset = dataset.map(numericalize_example, fn_kwargs={\"en_vocab\": en_vocab})"
   ]
  },
  {
   "cell_type": "code",
   "execution_count": 22,
   "metadata": {},
   "outputs": [],
   "source": [
    "# We also need to convert 'en_ids' to torch tensors (as they are currently integers)\n",
    "dataset = dataset.with_format(type=\"torch\", columns=[\"en_ids\"], output_all_columns=True)"
   ]
  },
  {
   "cell_type": "markdown",
   "metadata": {},
   "source": [
    "### Dealing with an imbalanced dataset"
   ]
  },
  {
   "cell_type": "code",
   "execution_count": 23,
   "metadata": {},
   "outputs": [
    {
     "name": "stdout",
     "output_type": "stream",
     "text": [
      "Number of positive samples: 2242\n",
      "Total number of samples: 31962\n",
      "Proportion of positive samples: 7.01%\n"
     ]
    }
   ],
   "source": [
    "# TO DO: Compute and display the proportion of positive samples in the dataset (= samples whose label is 1)\n",
    "\n",
    "num_positive = sum(1 for sample in dataset if sample[\"label\"] == 1)\n",
    "total_samples = len(dataset)\n",
    "positive_proportion = num_positive / total_samples\n",
    "\n",
    "print(f\"Number of positive samples: {num_positive}\")\n",
    "print(f\"Total number of samples: {total_samples}\")\n",
    "print(f\"Proportion of positive samples: {positive_proportion:.2%}\")"
   ]
  },
  {
   "cell_type": "markdown",
   "metadata": {},
   "source": [
    "As computed above, there are roughly 7% tweets containing hate speech (label=1) and 93% tweets that do not contain hate speech (label=0). Such a dataset is said to be *imbalanced*, thus we cannot use it as such, otherwise it will cause issues at training and inference. Indeed, a naive approach where the network would set all outputs at 0 would yield a 93% accuracy, but would be completely useless in practice. A simple way to address this issue is to take a subset of the dataset, such that both classes are equally represented.\n",
    "\n",
    "<span style=\"color:red\">**Exercice 1**</span> Get a balanced subset of the dataset\n",
    "- Get the list of indices of samples whose label is 0 (=`ind_pos`) and 1 (=`ind_neg`)\n",
    "- Take the first 500 positive indices, and the same negative indices\n",
    "- Take a subset of the dataset corresponding to these indices (use the `Subset` function), yielding `dataset_balanced`."
   ]
  },
  {
   "cell_type": "code",
   "execution_count": 24,
   "metadata": {},
   "outputs": [],
   "source": [
    "from torch.utils.data import Subset\n",
    "\n",
    "# Get the indices for positive and negative samples\n",
    "ind_pos = [i for i, sample in enumerate(dataset) if sample[\"label\"] == 1]\n",
    "ind_neg = [i for i, sample in enumerate(dataset) if sample[\"label\"] == 0]\n",
    "\n",
    "# Take the first 500 positive and negative indices\n",
    "selected_pos_indices = ind_pos[:500]\n",
    "selected_neg_indices = ind_neg[:500]\n",
    "\n",
    "# Combine these indices\n",
    "balanced_indices = selected_pos_indices + selected_neg_indices\n",
    "dataset_balanced = Subset(dataset, balanced_indices)"
   ]
  },
  {
   "cell_type": "code",
   "execution_count": 26,
   "metadata": {},
   "outputs": [],
   "source": [
    "# Split into training, validation, and test subsets\n",
    "train_data, valid_data, test_data = random_split(dataset_balanced, [800, 100, 100], generator=torch.manual_seed(0))"
   ]
  },
  {
   "cell_type": "code",
   "execution_count": 27,
   "metadata": {},
   "outputs": [
    {
     "name": "stdout",
     "output_type": "stream",
     "text": [
      "Proportion of positive samples in the training set: 50.75%\n",
      "Proportion of positive samples in the validation set: 46.00%\n",
      "Proportion of positive samples in the test set: 48.00%\n"
     ]
    }
   ],
   "source": [
    "# TO DO: Display the proportion of positive samples in the train, validation, and test sets\n",
    "\n",
    "def compute_positive_proportion(dataset):\n",
    "    num_positive = sum(1 for sample in dataset if sample[\"label\"] == 1)\n",
    "    total_samples = len(dataset)\n",
    "    proportion_positive = num_positive / total_samples\n",
    "    return proportion_positive\n",
    "\n",
    "train_pos_pr = compute_positive_proportion(train_data)\n",
    "valid_pos_pr = compute_positive_proportion(valid_data)\n",
    "test_pos_pr = compute_positive_proportion(test_data)\n",
    "\n",
    "print(f\"Proportion of positive samples in the training set: {train_pos_pr:.2%}\")\n",
    "print(f\"Proportion of positive samples in the validation set: {valid_pos_pr:.2%}\")\n",
    "print(f\"Proportion of positive samples in the test set: {test_pos_pr:.2%}\")"
   ]
  },
  {
   "cell_type": "markdown",
   "metadata": {},
   "source": [
    "### Dataloader\n",
    "\n",
    "The final step is to build a `Dataloader` to assemble our data samples into batches. Since data samples are sentences of different lengths in general, there is some *padding* needed to assemble them into consistent batches. As a result, we need to define a specific *collate function* for the dataloader (=i.e., the way data samples are assembled into batches - remember lab 1), that will handle this padding. For simplicity, we provide the collate function."
   ]
  },
  {
   "cell_type": "code",
   "execution_count": 28,
   "metadata": {},
   "outputs": [],
   "source": [
    "def get_collate_fn(pad_index):\n",
    "    def collate_fn(batch):\n",
    "        batch_en_ids = [example[\"en_ids\"] for example in batch]\n",
    "        batch_labels = [torch.tensor([example[\"label\"]]) for example in batch]\n",
    "        batch_en_ids = nn.utils.rnn.pad_sequence(batch_en_ids, padding_value=pad_index)\n",
    "        batch_labels = nn.utils.rnn.pad_sequence(batch_labels, padding_value=pad_index)\n",
    "        batch = {\n",
    "            \"en_ids\": batch_en_ids,\n",
    "            \"labels\": batch_labels\n",
    "        }\n",
    "        return batch\n",
    "\n",
    "    return collate_fn\n",
    "\n",
    "def get_data_loader(dataset, batch_size, shuffle=False, pad_index=1, seed=0):\n",
    "    collate_fn = get_collate_fn(pad_index)\n",
    "    data_loader = DataLoader(\n",
    "        dataset=dataset,\n",
    "        batch_size=batch_size,\n",
    "        collate_fn=collate_fn,\n",
    "        shuffle=shuffle,\n",
    "        generator=torch.manual_seed(seed)\n",
    "    )\n",
    "    return data_loader\n",
    "\n",
    "# Build dataloaders\n",
    "batch_size = 32\n",
    "train_data_loader = get_data_loader(train_data, batch_size, shuffle=True)\n",
    "valid_data_loader = get_data_loader(valid_data, batch_size)\n",
    "test_data_loader = get_data_loader(test_data, batch_size)"
   ]
  },
  {
   "cell_type": "code",
   "execution_count": 29,
   "metadata": {},
   "outputs": [
    {
     "name": "stdout",
     "output_type": "stream",
     "text": [
      "{'en_ids': tensor([[   2,    2,    2,  ...,    2,    2,    2],\n",
      "        [   6,    6,    6,  ...,   12, 1530,    4],\n",
      "        [   6,   23,   12,  ...,   76,  792,  389],\n",
      "        ...,\n",
      "        [   1,    1,  977,  ...,    1,    1,    1],\n",
      "        [   1,    1,    8,  ...,    1,    1,    1],\n",
      "        [   1,    1,    3,  ...,    1,    1,    1]]), 'labels': tensor([[1, 0, 1, 1, 0, 0, 1, 0, 1, 1, 0, 0, 1, 0, 1, 0, 0, 1, 1, 1, 0, 0, 0, 0,\n",
      "         1, 1, 0, 0, 1, 0, 1, 1]])}\n"
     ]
    }
   ],
   "source": [
    "example_batch = next(iter(train_data_loader))\n",
    "print(example_batch)"
   ]
  },
  {
   "cell_type": "markdown",
   "metadata": {},
   "source": [
    "## Recurrent networks basics\n",
    "\n",
    "Now that our data is ready, let's see the basic operations used in RNNs: [embedding layers](https://pytorch.org/docs/stable/generated/torch.nn.Embedding.html?highlight=embedding#torch.nn.Embedding), [dropout](https://pytorch.org/docs/stable/generated/torch.nn.Dropout.html), and [recurrent layers](https://pytorch.org/docs/stable/nn.html#recurrent-layers).\n",
    "\n",
    "### Embedding layer\n",
    "\n",
    "Sentences have been tokenized and tokens have been transformed into integers, depending on their frequency of occurence in the corpus. Therefore, two consecutive integers correspond to tokens that are not necessarily *similar* from a semantic perspective.\n",
    "\n",
    "For instance, the token \"dog\" is represented by integer 277. While similar tokens might be spraid away (here: animals such as \"cat\" and \"duck\" are represented by integers 518 and 3774), the surrounding integers 276 and 278 correspond to un-related tokens (\"polar\" and \"before\"). In other words: integers that are close to each other do not correspond to tokens that are similar. This is a problem for NLP applications, where the numerical representation of the data should incorporate this notion of *similarity*.\n",
    "\n",
    "One way to overcome this issue it to further transform these integers into high-dimensional *embeddings* (or *word vectors*), that will be trained in such a way that similar tokens should have similar embeddings.\n",
    "\n",
    "<center><a href=\"https://ruder.io/word-embeddings-1/\">\n",
    "    <img src=\"https://ruder.io/content/images/size/w2000/2016/04/word_embeddings_colah.png\" width=\"500\"></a></center>\n",
    "\n",
    "Since it's hard to define exactly what *similar* means out of context, embeddings are usually learned / optimized for a certain task. Here, we use an embedding layer to produce these word vectors, and this layer is learned during training along with the rest of the network.\n",
    "\n",
    "**Note**: many pre-trained word embeddings are available (e.g., word2vec) and could be loaded directly. Here, we learn them from scratch for simplicity."
   ]
  },
  {
   "cell_type": "code",
   "execution_count": 30,
   "metadata": {},
   "outputs": [
    {
     "name": "stdout",
     "output_type": "stream",
     "text": [
      "tensor([[[-0.8108, -1.1052, -0.7233,  ...,  1.6909, -0.4622,  0.4427],\n",
      "         [-0.8108, -1.1052, -0.7233,  ...,  1.6909, -0.4622,  0.4427],\n",
      "         [-0.8108, -1.1052, -0.7233,  ...,  1.6909, -0.4622,  0.4427],\n",
      "         ...,\n",
      "         [-0.8108, -1.1052, -0.7233,  ...,  1.6909, -0.4622,  0.4427],\n",
      "         [-0.8108, -1.1052, -0.7233,  ...,  1.6909, -0.4622,  0.4427],\n",
      "         [-0.8108, -1.1052, -0.7233,  ...,  1.6909, -0.4622,  0.4427]],\n",
      "\n",
      "        [[ 0.7012, -1.9098,  1.0538,  ...,  1.0826, -1.7105,  0.5070],\n",
      "         [ 0.7012, -1.9098,  1.0538,  ...,  1.0826, -1.7105,  0.5070],\n",
      "         [ 0.7012, -1.9098,  1.0538,  ...,  1.0826, -1.7105,  0.5070],\n",
      "         ...,\n",
      "         [ 0.3728, -1.0211,  1.0795,  ...,  0.1333,  0.1249, -1.0770],\n",
      "         [ 0.6276,  0.3513, -2.2446,  ..., -0.5044,  0.5849,  0.7775],\n",
      "         [ 1.2868,  2.0820,  0.1167,  ..., -0.5711, -0.1195,  0.3416]],\n",
      "\n",
      "        [[ 0.7012, -1.9098,  1.0538,  ...,  1.0826, -1.7105,  0.5070],\n",
      "         [ 1.1734, -1.5961,  0.8083,  ...,  0.2578,  0.1990,  1.3311],\n",
      "         [ 0.3728, -1.0211,  1.0795,  ...,  0.1333,  0.1249, -1.0770],\n",
      "         ...,\n",
      "         [ 0.1508, -0.1799,  0.4027,  ...,  1.3756,  1.3715, -0.3354],\n",
      "         [-0.7088, -0.5356, -0.6480,  ..., -0.7467, -1.8656, -0.3350],\n",
      "         [ 0.0751, -1.5073,  2.4818,  ..., -0.9090,  0.3594,  1.3572]],\n",
      "\n",
      "        ...,\n",
      "\n",
      "        [[ 0.4026, -0.4052, -0.5834,  ..., -0.9445,  0.0761, -0.0585],\n",
      "         [ 0.4026, -0.4052, -0.5834,  ..., -0.9445,  0.0761, -0.0585],\n",
      "         [ 0.3299,  0.2877, -0.2897,  ...,  0.4886, -0.8745, -0.5867],\n",
      "         ...,\n",
      "         [ 0.4026, -0.4052, -0.5834,  ..., -0.9445,  0.0761, -0.0585],\n",
      "         [ 0.4026, -0.4052, -0.5834,  ..., -0.9445,  0.0761, -0.0585],\n",
      "         [ 0.4026, -0.4052, -0.5834,  ..., -0.9445,  0.0761, -0.0585]],\n",
      "\n",
      "        [[ 0.4026, -0.4052, -0.5834,  ..., -0.9445,  0.0761, -0.0585],\n",
      "         [ 0.4026, -0.4052, -0.5834,  ..., -0.9445,  0.0761, -0.0585],\n",
      "         [ 0.6640, -2.1033,  0.8777,  ..., -2.1407,  0.3337,  0.2952],\n",
      "         ...,\n",
      "         [ 0.4026, -0.4052, -0.5834,  ..., -0.9445,  0.0761, -0.0585],\n",
      "         [ 0.4026, -0.4052, -0.5834,  ..., -0.9445,  0.0761, -0.0585],\n",
      "         [ 0.4026, -0.4052, -0.5834,  ..., -0.9445,  0.0761, -0.0585]],\n",
      "\n",
      "        [[ 0.4026, -0.4052, -0.5834,  ..., -0.9445,  0.0761, -0.0585],\n",
      "         [ 0.4026, -0.4052, -0.5834,  ..., -0.9445,  0.0761, -0.0585],\n",
      "         [-1.0328,  1.1305, -0.5703,  ..., -1.4836,  0.8234, -1.1399],\n",
      "         ...,\n",
      "         [ 0.4026, -0.4052, -0.5834,  ..., -0.9445,  0.0761, -0.0585],\n",
      "         [ 0.4026, -0.4052, -0.5834,  ..., -0.9445,  0.0761, -0.0585],\n",
      "         [ 0.4026, -0.4052, -0.5834,  ..., -0.9445,  0.0761, -0.0585]]],\n",
      "       grad_fn=<EmbeddingBackward0>)\n",
      "torch.Size([34, 32, 32])\n"
     ]
    }
   ],
   "source": [
    "# Create an embedding layer. We need to specify:\n",
    "# - the input size, that is, how many words are in the vocabulary\n",
    "# - the embedding size, that is, how \"big\" is the word vectors space \n",
    "input_size = len(en_vocab)\n",
    "emb_size = 32\n",
    "src_emb_layer = nn.Embedding(input_size, emb_size)\n",
    "\n",
    "# Apply it to the example batch and display it\n",
    "embedded_batch = src_emb_layer(example_batch['en_ids'])\n",
    "print(embedded_batch)\n",
    "\n",
    "# The size of the word vectors for a batch should be [seq_length, batch_size, emb_size]\n",
    "print(embedded_batch.shape)"
   ]
  },
  {
   "cell_type": "markdown",
   "metadata": {},
   "source": [
    "### Dropout\n",
    "\n",
    "The core idea of a dropout layer is to reduce the risk of overfitting by randomly setting some inputed values at 0. Since the non-zero inputs (and the corresponding weights in the network) are not the same from one batch to another, it results in forcing these weights not to be batch-specific, and therefore avoid overfitting. Dropout can be used for any network (including MLP or CNNs), but it's more important for RNNs, which are more prone to overfitting."
   ]
  },
  {
   "cell_type": "code",
   "execution_count": 31,
   "metadata": {},
   "outputs": [
    {
     "name": "stdout",
     "output_type": "stream",
     "text": [
      "tensor(0.2997)\n"
     ]
    }
   ],
   "source": [
    "# the percentage of zeroed values (expressed between 0 and 1) is given as input\n",
    "dropout_layer = nn.Dropout(0.3)\n",
    "drop_batch = dropout_layer(embedded_batch)\n",
    "\n",
    "# in this example, about 30% are set at 0\n",
    "print(torch.sum(drop_batch==0) / torch.numel(drop_batch) )"
   ]
  },
  {
   "cell_type": "markdown",
   "metadata": {},
   "source": [
    "### Recurrent layers\n",
    "\n",
    "<center><a href=\"https://www.researchgate.net/profile/Rezzy-Caraka/publication/346410173_Employing_Long_Short-Term_Memory_and_Facebook_Prophet_Model_in_Air_Temperature_Forecasting/links/60077104a6fdccdcb868957f/Employing-Long-Short-Term-Memory-and-Facebook-Prophet-Model-in-Air-Temperature-Forecasting.pdf\">\n",
    "    <img src=\"https://www.researchgate.net/profile/Rezzy-Caraka/publication/346410173/figure/fig2/AS:962598073823234@1606512673418/Network-Structure-of-RNN-LSTM-and-GRU.png\" width=\"500\"></a></center>\n",
    "\n",
    "We now see the 3 main recurrent layers (simple RNN, LSTM and GRU). We won't focus on the technical difference between these, but you can find more info online (e.g., [here](https://medium.com/analytics-vidhya/rnn-vs-gru-vs-lstm-863b0b7b1573)).\n",
    "\n",
    "#### Simple RNN\n",
    "\n",
    "First, let's see the basic RNN. We note $x_t$ the $t$-th element of the input to the RNN (in our case: this is the embedding after dropout). We have $h_t = \\text{RNN}(x_t, h_{t-1})$, where $h_{t}$ is the hidden state. To define such an RNN in Pytorch (using ```nn.RNN```), you need to specify:\n",
    "\n",
    "- the size of the input (here, it's the size of the embeddings)\n",
    "- the size of the hidden space (`hidden_size`)\n",
    "- the number of layers (`n_layers`)\n",
    "\n",
    "By default, the RNN is uni-directional, uses bias, and uses tanh as activation function. If you use a multi-layer RNN, you can also add dropout in the intermediate layers. You can change these by playing with the parameters of the function (see the [documentation](https://pytorch.org/docs/stable/generated/torch.nn.RNN.html#torch.nn.RNN) for more info).\n",
    "\n",
    "**Note**: for the first element of the sequence, we have $h_1 = \\text{RNN}(x_1, h_{0})$, so we normally need to provide an initial hidden state $h_0$. In pytorch, we can either provide it explicitly or not. If we don't, it will use $h_0=0$ by default. This is what we do here, and it also applies to other recurrent units (LSTM and GRU).\n",
    "\n",
    "In Pytorch, applying an RNN returns not one, but two outputs, usually called `out` and `hidden`, illustrated below:\n",
    "\n",
    "- `out` is the whole sequence of hidden states of the last layer,\n",
    "- `hidden` is the hidden state of the last token for all layers, which is also called a **context vector**, since it is sort of a summary of the whole sentence.\n",
    "\n",
    "<center><img src=\"https://github.com/magronp/magronp.github.io/blob/master/images/rnn_outputs.png?raw=true\" width=\"500\"></center>"
   ]
  },
  {
   "cell_type": "code",
   "execution_count": 32,
   "metadata": {},
   "outputs": [
    {
     "name": "stdout",
     "output_type": "stream",
     "text": [
      "torch.Size([34, 32, 50])\n",
      "torch.Size([2, 32, 50])\n"
     ]
    }
   ],
   "source": [
    "# Define a basic RNN\n",
    "hidden_size = 50\n",
    "n_layers = 2\n",
    "rnn = nn.RNN(emb_size, hidden_size, n_layers)\n",
    "\n",
    "# Apply the RNN to the input (embeddings after dropout, called 'drop_batch')\n",
    "rnn_out, rnn_hidden = rnn(drop_batch)\n",
    "\n",
    "# Get the size of the 'rnn_out': it should be [seq_length, batch_size, hidden_size]\n",
    "print(rnn_out.shape)\n",
    "\n",
    "# Get the size of the'rnn_hidden': it should be [n_layers, batch_size, hidden_size]\n",
    "print(rnn_hidden.shape)"
   ]
  },
  {
   "cell_type": "code",
   "execution_count": 33,
   "metadata": {},
   "outputs": [
    {
     "name": "stdout",
     "output_type": "stream",
     "text": [
      "Shape of rnn_out (bidirectional): torch.Size([34, 32, 100])\n",
      "Shape of rnn_hidden (bidirectional): torch.Size([6, 32, 50])\n"
     ]
    }
   ],
   "source": [
    "# TO DO:\n",
    "# - create a 3-layer bidirectional RNN (remember to check the documentation!)\n",
    "# - apply it to the same input 'embedded_batch'\n",
    "\n",
    "# Print the size of rnn_out (it should be [seq_length, batch_size, 2*hidden_size])\n",
    "# Print the size of the final hidden state (it should be [2*n_layers, batch_size, hidden_size])\n",
    "# (the factor '2' in the shapes comes from the fact that the network is bidirectional)\n",
    "\n",
    "hidden_size = 50\n",
    "n_layers = 3\n",
    "bidirectional_rnn = nn.RNN(\n",
    "    emb_size,\n",
    "    hidden_size,\n",
    "    n_layers,\n",
    "    bidirectional=True\n",
    ")\n",
    "\n",
    "rnn_out_bidirectional, rnn_hidden_bidirectional = bidirectional_rnn(drop_batch)\n",
    "print(f\"Shape of rnn_out (bidirectional): {rnn_out_bidirectional.shape}\")\n",
    "# The size of the final hidden state\n",
    "print(f\"Shape of rnn_hidden (bidirectional): {rnn_hidden_bidirectional.shape}\")"
   ]
  },
  {
   "cell_type": "markdown",
   "metadata": {},
   "source": [
    "Note that all recurrent layers can also use dropout to randomly remove some of the inner RNN weights. This only makes sense if `n_layers` > 1, otherwise you'll get a warning.\n",
    "\n",
    "#### LSTM\n",
    "\n",
    "The basic RNN suffers from the gradient vanishing problem, so we will instead use a variant of it called *long short-term memory* (LSTM) networks. The key idea of LSTM is that it has an extra hidden feature called a *cell state* which allows the network to \"remember\" which part of the input sequence is useful or not, and therefore to avoid backpropagating the gradient throughout the whole sequence, thus avoiding gradient vanishing.\n",
    "\n",
    "The formula for the [LSTM](https://pytorch.org/docs/stable/generated/torch.nn.LSTM.html#torch.nn.LSTM) is therefore: $(h_t, c_t) = \\text{LSTM}(x_t, h_{t-1}, c_{t-1})$ where $c_t$ is this extra cell state."
   ]
  },
  {
   "cell_type": "code",
   "execution_count": 34,
   "metadata": {},
   "outputs": [
    {
     "name": "stdout",
     "output_type": "stream",
     "text": [
      "torch.Size([34, 32, 100])\n",
      "torch.Size([4, 32, 50])\n",
      "torch.Size([4, 32, 50])\n"
     ]
    }
   ],
   "source": [
    "# Define an LSTM\n",
    "hidden_size = 50\n",
    "n_layers = 2\n",
    "lstm = nn.LSTM(emb_size, hidden_size, n_layers, bidirectional=True)\n",
    "\n",
    "# Apply the LSTM to the embedded batch\n",
    "lstm_out, (lstm_hidden, lstm_cell) = lstm(embedded_batch)\n",
    "\n",
    "# The shape of the output and final hidden state are the same as before.\n",
    "# The final cell state as the same size as the final hidden state.\n",
    "print(lstm_out.shape)\n",
    "print(lstm_hidden.shape)\n",
    "print(lstm_cell.shape)"
   ]
  },
  {
   "cell_type": "markdown",
   "metadata": {},
   "source": [
    "#### GRU\n",
    "\n",
    "The last main type of recurrent layer is the gated reccurent unit (GRU). It is sort of a simplified LSTM: it also has some memory mechanism to avoid gradient vanishing, but it outputs only a single hidden state vector (instead of the additional cell state in LSTM). It generally performs similarly with LSTM (but this depends on applications). Writting a [GRU in pytorch](https://pytorch.org/docs/stable/generated/torch.nn.GRU.html#torch.nn.GRU) is similar to a basic RNN."
   ]
  },
  {
   "cell_type": "code",
   "execution_count": 35,
   "metadata": {},
   "outputs": [
    {
     "name": "stdout",
     "output_type": "stream",
     "text": [
      "Shape of GRU output: torch.Size([34, 32, 100])\n",
      "Shape of GRU hidden state: torch.Size([4, 32, 50])\n"
     ]
    }
   ],
   "source": [
    "# TO DO: using the doc, write a GRU layer with a hidden size of 50 and 2 layers.\n",
    "# Apply it to the embedded batch as before, and print the size of the output and final hidden state.\n",
    "\n",
    "hidden_size = 50\n",
    "n_layers = 2\n",
    "gru = nn.GRU(emb_size, hidden_size, n_layers, bidirectional=True)\n",
    "\n",
    "# Apply the GRU to the embedded batch\n",
    "gru_out, gru_hidden = gru(embedded_batch)\n",
    "\n",
    "print(f\"Shape of GRU output: {gru_out.shape}\")\n",
    "print(f\"Shape of GRU hidden state: {gru_hidden.shape}\") "
   ]
  },
  {
   "cell_type": "markdown",
   "metadata": {},
   "source": [
    "<span style=\"color:red\">**Exercice 2**</span> Display the number of parameters of a monodirectional RNN, GRU, and LSTM network with `hidden_size=32` and `n_layers=2` (same `emb_size` as before)."
   ]
  },
  {
   "cell_type": "code",
   "execution_count": 36,
   "metadata": {},
   "outputs": [
    {
     "name": "stdout",
     "output_type": "stream",
     "text": [
      "Number of params in the RNN: 4224\n",
      "Number of params in the GRU: 12672\n",
      "Number of params in the LSTM: 16896\n"
     ]
    }
   ],
   "source": [
    "hidden_size = 32\n",
    "n_layers = 2\n",
    "emb_size = 32\n",
    "\n",
    "# models\n",
    "rnn = nn.RNN(emb_size, hidden_size, n_layers, bidirectional=False)\n",
    "gru = nn.GRU(emb_size, hidden_size, n_layers, bidirectional=False)\n",
    "lstm = nn.LSTM(emb_size, hidden_size, n_layers, bidirectional=False)\n",
    "\n",
    "# Count the number of parameters for each model\n",
    "def count_parameters(model):\n",
    "    return sum(p.numel() for p in model.parameters() if p.requires_grad)\n",
    "\n",
    "print(f\"Number of params in the RNN: {count_parameters(rnn)}\")\n",
    "print(f\"Number of params in the GRU: {count_parameters(gru)}\")\n",
    "print(f\"Number of params in the LSTM: {count_parameters(lstm)}\")"
   ]
  },
  {
   "cell_type": "markdown",
   "metadata": {},
   "source": [
    "## Building the classifier\n",
    "\n",
    "We now have all the basic blocks to build our text classification model. \n",
    "\n",
    "<center><a href=\"https://www.tensorflow.org/text/tutorials/text_classification_rnn?hl=fr\">\n",
    "    <img src=\"https://www.tensorflow.org/text/tutorials/images/bidirectional.png?hl=fr\"></a></center>\n",
    "\n",
    "Since the data is already vectorized, the model consists of:\n",
    "\n",
    "- an embedding layer (+ dropout, eventually) to transform token indices into word vectors,\n",
    "- a bidirectional RNN, to summarize the whole sentence into a single context vector,\n",
    "- a linear layer, to compute the class probability from the context vector (followed by a Sigmoid, to ensure probabilities range between 0 and 1).\n",
    "\n",
    "**Note**: A few remarks can be made for the specific case of *binary* classification vs. more general classification tasks with an arbitrary number of classes (as we have seen until now).\n",
    "\n",
    "- While for general classifiers the output has shape `[batch_size, num_classes]`, for binary classification the model does not need to output `[batch_size, 2]`. Indeed, the linear layer simply outputs a single probability $p$ (for each element in the batch) corresponding to label 1, since the probability corresponding to label 0 is fully determined by $1-p$. Thus the output has shape `[batch_size, 1]`.\n",
    "\n",
    "- As for general classifiers, the output does not need to be explicitly normalized as a probability in \\[0,1\\] (which could be done with, e.g., a Sigmoid). General classifiers are trained with the [CrossEntropyLoss](https://pytorch.org/docs/stable/generated/torch.nn.CrossEntropyLoss.html#crossentropyloss) function, which incorporates such a normalization. The same applies to binary classifiers: these are usually trained with the [BCEWithLogitsLoss](https://pytorch.org/docs/stable/generated/torch.nn.BCEWithLogitsLoss.html#bcewithlogitsloss) function, which incorporates a Sigmoid activation function."
   ]
  },
  {
   "cell_type": "code",
   "execution_count": 40,
   "metadata": {},
   "outputs": [],
   "source": [
    "class RNNClassifier(nn.Module):\n",
    "    def __init__(self, input_size, emb_size, hidden_size, n_layers, dropout_rate, bidir=True):\n",
    "        super().__init__()\n",
    "        \n",
    "        # parameters as class attributes\n",
    "        self.input_size = input_size\n",
    "        self.emb_size = emb_size\n",
    "        self.hidden_size = hidden_size\n",
    "        self.n_layers = n_layers\n",
    "        self.dropout_rate = dropout_rate\n",
    "        self.bidir = bidir\n",
    "\n",
    "        # embedding layer\n",
    "        self.embedding = nn.Embedding(input_size, emb_size)\n",
    "\n",
    "        # dropout layer\n",
    "        self.dropout = nn.Dropout(dropout_rate)\n",
    "\n",
    "        # RNN (bidirectional if bidir=True)\n",
    "        self.rnn = nn.RNN(\n",
    "            emb_size, hidden_size, n_layers, bidirectional=bidir, batch_first=False\n",
    "        )\n",
    "        output_size = hidden_size * 2 if bidir else hidden_size\n",
    "\n",
    "        # linear layer\n",
    "        self.fc = nn.Linear(output_size, 1)\n",
    "\n",
    "    def forward(self, src):\n",
    "        embeddings = self.embedding(src)\n",
    "        # dropout to the embeddings\n",
    "        embeddings = self.dropout(embeddings)\n",
    "    \n",
    "        rnn_out, hidden = self.rnn(embeddings)\n",
    "        # get the last hidden state\n",
    "        if self.bidir:\n",
    "            # Concatenate the last hidden states from both directions\n",
    "            hidden = torch.cat((hidden[-2], hidden[-1]), dim=1)\n",
    "        else:\n",
    "            hidden = hidden[-1]\n",
    "    \n",
    "        # apply the linear layer\n",
    "        out = self.fc(hidden)\n",
    "    \n",
    "        return out"
   ]
  },
  {
   "cell_type": "code",
   "execution_count": 41,
   "metadata": {},
   "outputs": [],
   "source": [
    "# Network parameters\n",
    "input_size = len(en_vocab)\n",
    "emb_size_enc = 32\n",
    "hidden_size = 32\n",
    "n_layers = 2\n",
    "dropout_rate = 0.2"
   ]
  },
  {
   "cell_type": "code",
   "execution_count": 42,
   "metadata": {},
   "outputs": [],
   "source": [
    "# Initialization function for the network's parameters\n",
    "def init_params(m, seed=0):\n",
    "    if isinstance(m, nn.Linear):\n",
    "        nn.init.xavier_uniform_(m.weight.data, generator=torch.manual_seed(seed))\n",
    "        if m.bias is not None:\n",
    "            m.bias.data.fill_(0.01)\n",
    "    elif isinstance(m, nn.Embedding):\n",
    "        nn.init.xavier_uniform_(m.weight.data, generator=torch.manual_seed(seed))\n",
    "    elif isinstance(m, nn.RNN) or isinstance(m, nn.GRU) or isinstance(m, nn.LSTM):\n",
    "        for param in m.parameters():\n",
    "            if len(param.shape) >= 2:\n",
    "                nn.init.orthogonal_(param.data, generator=torch.manual_seed(seed))\n",
    "            else:\n",
    "                nn.init.normal_(param.data, generator=torch.manual_seed(seed))\n",
    "    return"
   ]
  },
  {
   "cell_type": "markdown",
   "metadata": {},
   "source": [
    "<span style=\"color:red\">**Exercice 3**</span> Instanciate the classifier, and print the number of trainable parameters. Then, pass the `example_batch` to the model, and print the size of the output `out`."
   ]
  },
  {
   "cell_type": "code",
   "execution_count": 54,
   "metadata": {},
   "outputs": [
    {
     "name": "stdout",
     "output_type": "stream",
     "text": [
      "Output shape: torch.Size([32, 1])\n"
     ]
    }
   ],
   "source": [
    "model = RNNClassifier(\n",
    "    input_size=input_size,\n",
    "    emb_size=emb_size_enc,\n",
    "    hidden_size=hidden_size,\n",
    "    n_layers=n_layers,\n",
    "    dropout_rate=dropout_rate,\n",
    "    bidir=True\n",
    ")\n",
    "\n",
    "model.apply(lambda m: init_params(m, seed=0))\n",
    "\n",
    "# Test the model with an example batch\n",
    "out = model(example_batch[\"en_ids\"])\n",
    "print(f\"Output shape: {output.shape}\")"
   ]
  },
  {
   "cell_type": "code",
   "execution_count": 57,
   "metadata": {},
   "outputs": [
    {
     "name": "stdout",
     "output_type": "stream",
     "text": [
      "Number of trainable parameters: 537505\n"
     ]
    }
   ],
   "source": [
    "num_parameters = count_parameters(model)\n",
    "print(f\"Number of trainable parameters: {num_parameters}\")"
   ]
  },
  {
   "cell_type": "markdown",
   "metadata": {},
   "source": [
    "**Note**: If you display `out` and compute it again, you should obtain a different result! This is due to the dropout that performs some random operations. This is why it is important to disable dropout when evaluating the model (via `model.eval()`)"
   ]
  },
  {
   "cell_type": "code",
   "execution_count": 56,
   "metadata": {},
   "outputs": [
    {
     "name": "stdout",
     "output_type": "stream",
     "text": [
      "tensor([-2.5816], grad_fn=<SelectBackward0>)\n",
      "tensor([-2.5820], grad_fn=<SelectBackward0>)\n",
      "tensor([-2.5804], grad_fn=<SelectBackward0>)\n",
      "tensor([-2.5804], grad_fn=<SelectBackward0>)\n"
     ]
    }
   ],
   "source": [
    "# Get different values because of dropout\n",
    "print(out[0])\n",
    "out = model(example_batch['en_ids'])\n",
    "print(out[0])\n",
    "\n",
    "model.eval()\n",
    "# If the model is in eval mode, then the output stays the same\n",
    "out = model(example_batch['en_ids'])\n",
    "print(out[0])\n",
    "out = model(example_batch['en_ids'])\n",
    "print(out[0])"
   ]
  },
  {
   "cell_type": "markdown",
   "metadata": {},
   "source": [
    "## Training and evaluation\n",
    "\n",
    "We provide the training and evaluation functions, since these are the same as for the classifiers we have seen before."
   ]
  },
  {
   "cell_type": "code",
   "execution_count": 61,
   "metadata": {},
   "outputs": [],
   "source": [
    "def evaluate_rnnclassif(model, eval_dataloader):\n",
    "\n",
    "    # Set the model in 'eval' mode (disable dropout layer)\n",
    "    model.eval()\n",
    "    \n",
    "    # Initialize the eval loss\n",
    "    eval_loss = 0\n",
    "    \n",
    "    # In test phase, we don't need to compute gradients (for memory efficiency)\n",
    "    with torch.no_grad():\n",
    "        # initialize the total and correct number of labels to compute the accuracy\n",
    "        correct_labels = 0\n",
    "        total_labels = 0\n",
    "        \n",
    "        # loop over batches\n",
    "        for i, batch in enumerate(eval_dataloader):\n",
    "\n",
    "            # Get the text and true label\n",
    "            x, labels = batch['en_ids'], batch['labels']\n",
    "            labels = labels.to(torch.float32).T\n",
    "\n",
    "            # Apply the model and get the labels by thresholding\n",
    "            label_predicted = model(x)\n",
    "            #label_predicted = label_predicted > 0.5 # if the model outputs a probability (training with BCELoss)\n",
    "            label_predicted = label_predicted > 0 # if the model outputs a logit (training with BCEWithLogitsLoss)\n",
    "            \n",
    "            # Compute accuracy: count the total number of samples, and the correct labels (compare the true and predicted labels)\n",
    "            total_labels += labels.size(0)\n",
    "            correct_labels += (label_predicted == labels).sum().item()\n",
    "    \n",
    "    accuracy = 100 * correct_labels / total_labels\n",
    "    \n",
    "    return accuracy"
   ]
  },
  {
   "cell_type": "code",
   "execution_count": 62,
   "metadata": {},
   "outputs": [],
   "source": [
    "def training_rnnclassif(model, train_dataloader, valid_dataloader, num_epochs, loss_fn, learning_rate, verbose=True):\n",
    "    \n",
    "    # Make a copy of the model (avoid changing the model outside this function)\n",
    "    model_tr = copy.deepcopy(model)\n",
    "\n",
    "    # define the optimizer (Adam)\n",
    "    optimizer = torch.optim.Adam(model_tr.parameters(), lr=learning_rate)\n",
    "    \n",
    "    # Initialize lists for storing the training and validation losses over epochs\n",
    "    train_losses = []\n",
    "    val_accuracies = []\n",
    "    \n",
    "    # Initialize the optimal validation accuracy at 0\n",
    "    val_acc_opt = 0\n",
    "\n",
    "    for epoch in range(num_epochs):\n",
    "        tr_loss = 0\n",
    "        \n",
    "        # Set the model in 'training' mode (ensures all parameters' gradients are computed)\n",
    "        model_tr.train()\n",
    "\n",
    "        for i, batch in enumerate(train_dataloader):\n",
    "\n",
    "            # Get the source and target sentence, and the target sentence length (varies from batch to batch)\n",
    "            x, labels = batch['en_ids'], batch['labels']\n",
    "            labels = labels.to(torch.float32).T\n",
    "            \n",
    "            # Set the gradients at 0\n",
    "            optimizer.zero_grad()\n",
    "\n",
    "            # Apply the model\n",
    "            pred_labels = model_tr(x)\n",
    "            \n",
    "            # Backpropagation\n",
    "            loss = loss_fn(pred_labels, labels)\n",
    "            loss.backward()\n",
    "            optimizer.step()\n",
    "\n",
    "            # Update the current epoch loss\n",
    "            tr_loss += loss.item()\n",
    "            \n",
    "        # At the end of each epoch, get the average training loss and store it\n",
    "        tr_loss = tr_loss/len(train_dataloader)\n",
    "        train_losses.append(tr_loss)\n",
    "\n",
    "        # Compute the accuracy on the validation set and store it\n",
    "        val_acc = evaluate_rnnclassif(model_tr, valid_dataloader)\n",
    "        val_accuracies.append(val_acc)\n",
    "        \n",
    "        # Display the training loss and validation accuracy\n",
    "        if verbose:\n",
    "            print('Epoch [{}/{}], Training loss: {:.4f} ; Validation accuracy: {:.4f}'\n",
    "                  .format(epoch+1, num_epochs, tr_loss, val_acc))\n",
    "\n",
    "        # Record the model if the validation accuracy is higher than the \"optimal\" value\n",
    "        if val_acc > val_acc_opt:\n",
    "            model_opt = copy.deepcopy(model_tr)\n",
    "            val_acc_opt = val_acc\n",
    "            \n",
    "    return model_opt, train_losses, val_accuracies"
   ]
  },
  {
   "cell_type": "code",
   "execution_count": 63,
   "metadata": {},
   "outputs": [
    {
     "data": {
      "text/plain": [
       "RNNClassifier(\n",
       "  (embedding): Embedding(16467, 32)\n",
       "  (dropout): Dropout(p=0.2, inplace=False)\n",
       "  (rnn): RNN(32, 32, num_layers=2, bidirectional=True)\n",
       "  (fc): Linear(in_features=64, out_features=1, bias=True)\n",
       ")"
      ]
     },
     "execution_count": 63,
     "metadata": {},
     "output_type": "execute_result"
    }
   ],
   "source": [
    "# Training parameters\n",
    "learning_rate = 0.001\n",
    "num_epochs = 30\n",
    "\n",
    "# We use the binary cross entropy (with logits) as loss function\n",
    "loss_fn = nn.BCEWithLogitsLoss()\n",
    "\n",
    "# Re-instanciate a classifier and initialize its parameters\n",
    "model = RNNClassifier(input_size, emb_size_enc, hidden_size, n_layers, dropout_rate)\n",
    "model.apply(init_params)"
   ]
  },
  {
   "cell_type": "code",
   "execution_count": 64,
   "metadata": {},
   "outputs": [
    {
     "name": "stdout",
     "output_type": "stream",
     "text": [
      "Epoch [1/30], Training loss: 0.8053 ; Validation accuracy: 46.0000\n",
      "Epoch [2/30], Training loss: 0.6935 ; Validation accuracy: 46.0000\n",
      "Epoch [3/30], Training loss: 0.6899 ; Validation accuracy: 54.0000\n",
      "Epoch [4/30], Training loss: 0.6555 ; Validation accuracy: 58.0000\n",
      "Epoch [5/30], Training loss: 0.4551 ; Validation accuracy: 57.0000\n",
      "Epoch [6/30], Training loss: 0.2402 ; Validation accuracy: 51.0000\n",
      "Epoch [7/30], Training loss: 0.1384 ; Validation accuracy: 54.0000\n",
      "Epoch [8/30], Training loss: 0.0910 ; Validation accuracy: 52.0000\n",
      "Epoch [9/30], Training loss: 0.0597 ; Validation accuracy: 55.0000\n",
      "Epoch [10/30], Training loss: 0.0426 ; Validation accuracy: 55.0000\n",
      "Epoch [11/30], Training loss: 0.0314 ; Validation accuracy: 53.0000\n",
      "Epoch [12/30], Training loss: 0.0236 ; Validation accuracy: 52.0000\n",
      "Epoch [13/30], Training loss: 0.0171 ; Validation accuracy: 52.0000\n",
      "Epoch [14/30], Training loss: 0.0239 ; Validation accuracy: 53.0000\n",
      "Epoch [15/30], Training loss: 0.0181 ; Validation accuracy: 53.0000\n",
      "Epoch [16/30], Training loss: 0.0281 ; Validation accuracy: 56.0000\n",
      "Epoch [17/30], Training loss: 0.0199 ; Validation accuracy: 53.0000\n",
      "Epoch [18/30], Training loss: 0.0144 ; Validation accuracy: 51.0000\n",
      "Epoch [19/30], Training loss: 0.0106 ; Validation accuracy: 55.0000\n",
      "Epoch [20/30], Training loss: 0.0117 ; Validation accuracy: 53.0000\n",
      "Epoch [21/30], Training loss: 0.0117 ; Validation accuracy: 55.0000\n",
      "Epoch [22/30], Training loss: 0.0092 ; Validation accuracy: 55.0000\n",
      "Epoch [23/30], Training loss: 0.0137 ; Validation accuracy: 53.0000\n",
      "Epoch [24/30], Training loss: 0.0127 ; Validation accuracy: 51.0000\n",
      "Epoch [25/30], Training loss: 0.0074 ; Validation accuracy: 55.0000\n",
      "Epoch [26/30], Training loss: 0.0090 ; Validation accuracy: 56.0000\n",
      "Epoch [27/30], Training loss: 0.0041 ; Validation accuracy: 55.0000\n",
      "Epoch [28/30], Training loss: 0.0032 ; Validation accuracy: 55.0000\n",
      "Epoch [29/30], Training loss: 0.0105 ; Validation accuracy: 50.0000\n",
      "Epoch [30/30], Training loss: 0.0114 ; Validation accuracy: 52.0000\n"
     ]
    }
   ],
   "source": [
    "# TO DO: train the model, and plot the training loss and validation accuracy (on two different subplots)\n",
    "# Train the model\n",
    "trained_model, train_losses, val_accuracies = training_rnnclassif(\n",
    "    model, train_data_loader, valid_data_loader, num_epochs, loss_fn, learning_rate\n",
    ")\n"
   ]
  },
  {
   "cell_type": "code",
   "execution_count": 65,
   "metadata": {},
   "outputs": [
    {
     "data": {
      "image/png": "[encoded data removed]",
      "text/plain": [
       "<Figure size 1200x600 with 2 Axes>"
      ]
     },
     "metadata": {},
     "output_type": "display_data"
    }
   ],
   "source": [
    "import matplotlib.pyplot as plt\n",
    "\n",
    "# Plot training loss and validation accuracy\n",
    "plt.figure(figsize=(12, 6))\n",
    "\n",
    "# Training loss subplot\n",
    "plt.subplot(1, 2, 1)\n",
    "plt.plot(range(1, num_epochs + 1), train_losses, label='Training Loss')\n",
    "plt.xlabel('Epochs')\n",
    "plt.ylabel('Loss')\n",
    "plt.title('Training Loss')\n",
    "plt.legend()\n",
    "\n",
    "# Validation accuracy subplot\n",
    "plt.subplot(1, 2, 2)\n",
    "plt.plot(range(1, num_epochs + 1), val_accuracies, label='Validation Accuracy', color='orange')\n",
    "plt.xlabel('Epochs')\n",
    "plt.ylabel('Accuracy (%)')\n",
    "plt.title('Validation Accuracy')\n",
    "plt.legend()\n",
    "\n",
    "plt.tight_layout()\n",
    "plt.show()"
   ]
  },
  {
   "cell_type": "code",
   "execution_count": 66,
   "metadata": {},
   "outputs": [
    {
     "name": "stdout",
     "output_type": "stream",
     "text": [
      "Accuracy on the test set: 60.00%\n"
     ]
    }
   ],
   "source": [
    "# TO DO: Compute the accuracy on the test set\n",
    "\n",
    "test_accuracy = evaluate_rnnclassif(trained_model, test_data_loader)\n",
    "print(f\"Accuracy on the test set: {test_accuracy:.2f}%\")"
   ]
  },
  {
   "cell_type": "markdown",
   "metadata": {},
   "source": [
    "## Alternative networks\n",
    "\n",
    "You can see that the basic RNN above does not yield a great performance (it's roughly the same as random classification). One possible reason is the [vanishing gradient](https://www.baeldung.com/cs/lstm-vanishing-gradient-prevention) problem. To alleviate this issue, instead of the basic RNN we test the gated variants of recurrent networks (GRU and LSTM).\n",
    "\n",
    "To that end, we write a `GeneralClassifier` class that is very similar to the `RNNClassifier`, but it takes an additional input argument `net_type` that can be `'rnn'`, `'gru'`, or `'lstm'`. Remember that unlike the basic RNN and GRU, the LSTM outputs an additional cell state, so be careful when implementing the `forward` pass (here the classifier only uses the hidden state, so the cell state can be discarded)."
   ]
  },
  {
   "cell_type": "code",
   "execution_count": 67,
   "metadata": {},
   "outputs": [],
   "source": [
    "# TO DO: write the GeneralClassifier class described above\n",
    "class GeneralClassifier(nn.Module):\n",
    "    def __init__(self, input_size, emb_size, hidden_size, n_layers, dropout_rate, bidir=True, net_type='rnn'):\n",
    "        super().__init__()\n",
    "        \n",
    "        # Store parameters\n",
    "        self.input_size = input_size\n",
    "        self.emb_size = emb_size\n",
    "        self.hidden_size = hidden_size\n",
    "        self.n_layers = n_layers\n",
    "        self.dropout_rate = dropout_rate\n",
    "        self.bidir = bidir\n",
    "        self.net_type = net_type.lower()  # Ensure the net type is lowercase\n",
    "\n",
    "        # Embedding layer\n",
    "        self.embedding = nn.Embedding(input_size, emb_size)\n",
    "\n",
    "        # Dropout layer\n",
    "        self.dropout = nn.Dropout(dropout_rate)\n",
    "\n",
    "        # Recurrent layer (RNN, GRU, or LSTM)\n",
    "        if self.net_type == 'rnn':\n",
    "            self.rnn = nn.RNN(emb_size, hidden_size, n_layers, bidirectional=bidir, batch_first=False)\n",
    "        elif self.net_type == 'gru':\n",
    "            self.rnn = nn.GRU(emb_size, hidden_size, n_layers, bidirectional=bidir, batch_first=False)\n",
    "        elif self.net_type == 'lstm':\n",
    "            self.rnn = nn.LSTM(emb_size, hidden_size, n_layers, bidirectional=bidir, batch_first=False)\n",
    "        else:\n",
    "            raise ValueError(\"net_type must be 'rnn', 'gru', or 'lstm'\")\n",
    "\n",
    "        # Output size depends on bidirectionality\n",
    "        output_size = hidden_size * 2 if bidir else hidden_size\n",
    "\n",
    "        # Fully connected layer\n",
    "        self.fc = nn.Linear(output_size, 1)\n",
    "\n",
    "    def forward(self, src):\n",
    "        # Embedding layer\n",
    "        embeddings = self.embedding(src)\n",
    "\n",
    "        # Apply dropout to embeddings\n",
    "        embeddings = self.dropout(embeddings)\n",
    "\n",
    "        # Apply recurrent layer\n",
    "        if self.net_type == 'lstm':\n",
    "            rnn_out, (hidden, _) = self.rnn(embeddings)  \n",
    "        else:\n",
    "            rnn_out, hidden = self.rnn(embeddings)\n",
    "\n",
    "        # Get the last hidden state\n",
    "        if self.bidir:\n",
    "            # Concatenate the last hidden states from both directions\n",
    "            hidden = torch.cat((hidden[-2], hidden[-1]), dim=1)\n",
    "        else:\n",
    "            hidden = hidden[-1]\n",
    "\n",
    "        # Apply the fully connected layer\n",
    "        out = self.fc(hidden)\n",
    "\n",
    "        return out\n"
   ]
  },
  {
   "cell_type": "markdown",
   "metadata": {},
   "source": [
    "<span style=\"color:red\">**Exercice 4**</span> For each network type (RNN, GRU, LSTM), instanciate and initialize the model, print the number of parameters, train it, and compute the test accuracy. Which one do you recommend to use?"
   ]
  },
  {
   "cell_type": "code",
   "execution_count": 68,
   "metadata": {},
   "outputs": [
    {
     "name": "stdout",
     "output_type": "stream",
     "text": [
      "\n",
      "Initializing model with RNN network...\n",
      "\n",
      "\n",
      "Initializing model with GRU network...\n",
      "\n",
      "\n",
      "Initializing model with LSTM network...\n",
      "\n",
      "Number of trainable parameters in the RNN model: 537505\n",
      "Number of trainable parameters in the GRU model: 558497\n",
      "Number of trainable parameters in the LSTM model: 568993\n"
     ]
    }
   ],
   "source": [
    "network_types = ['rnn', 'gru', 'lstm']\n",
    "\n",
    "models = {}\n",
    "\n",
    "for net_type in network_types:\n",
    "    print(f\"\\nInitializing model with {net_type.upper()} network...\\n\")\n",
    "    \n",
    "    # Instantiate the model\n",
    "    model = GeneralClassifier(\n",
    "        input_size=input_size,\n",
    "        emb_size=emb_size_enc,\n",
    "        hidden_size=hidden_size,\n",
    "        n_layers=n_layers,\n",
    "        dropout_rate=dropout_rate,\n",
    "        bidir=True,\n",
    "        net_type=net_type\n",
    "    )\n",
    "    \n",
    "    # Initialize the model's parameters\n",
    "    model.apply(lambda m: init_params(m, seed=0))\n",
    "    \n",
    "    # Store the model\n",
    "    models[net_type] = model\n",
    "\n",
    "for net_type, model in models.items():\n",
    "    num_params = count_parameters(model)\n",
    "    print(f\"Number of trainable parameters in the {net_type.upper()} model: {num_params}\")"
   ]
  },
  {
   "cell_type": "code",
   "execution_count": 69,
   "metadata": {},
   "outputs": [
    {
     "name": "stdout",
     "output_type": "stream",
     "text": [
      "\n",
      "Training RNN model...\n",
      "\n",
      "Epoch [1/30], Training loss: 0.8053 ; Validation accuracy: 46.0000\n",
      "Epoch [2/30], Training loss: 0.6935 ; Validation accuracy: 46.0000\n",
      "Epoch [3/30], Training loss: 0.6899 ; Validation accuracy: 54.0000\n",
      "Epoch [4/30], Training loss: 0.6555 ; Validation accuracy: 58.0000\n",
      "Epoch [5/30], Training loss: 0.4551 ; Validation accuracy: 57.0000\n",
      "Epoch [6/30], Training loss: 0.2402 ; Validation accuracy: 51.0000\n",
      "Epoch [7/30], Training loss: 0.1384 ; Validation accuracy: 54.0000\n",
      "Epoch [8/30], Training loss: 0.0910 ; Validation accuracy: 52.0000\n",
      "Epoch [9/30], Training loss: 0.0597 ; Validation accuracy: 55.0000\n",
      "Epoch [10/30], Training loss: 0.0426 ; Validation accuracy: 55.0000\n",
      "Epoch [11/30], Training loss: 0.0314 ; Validation accuracy: 53.0000\n",
      "Epoch [12/30], Training loss: 0.0236 ; Validation accuracy: 52.0000\n",
      "Epoch [13/30], Training loss: 0.0171 ; Validation accuracy: 52.0000\n",
      "Epoch [14/30], Training loss: 0.0239 ; Validation accuracy: 53.0000\n",
      "Epoch [15/30], Training loss: 0.0181 ; Validation accuracy: 53.0000\n",
      "Epoch [16/30], Training loss: 0.0281 ; Validation accuracy: 56.0000\n",
      "Epoch [17/30], Training loss: 0.0199 ; Validation accuracy: 53.0000\n",
      "Epoch [18/30], Training loss: 0.0144 ; Validation accuracy: 51.0000\n",
      "Epoch [19/30], Training loss: 0.0106 ; Validation accuracy: 55.0000\n",
      "Epoch [20/30], Training loss: 0.0117 ; Validation accuracy: 53.0000\n",
      "Epoch [21/30], Training loss: 0.0117 ; Validation accuracy: 55.0000\n",
      "Epoch [22/30], Training loss: 0.0092 ; Validation accuracy: 55.0000\n",
      "Epoch [23/30], Training loss: 0.0137 ; Validation accuracy: 53.0000\n",
      "Epoch [24/30], Training loss: 0.0127 ; Validation accuracy: 51.0000\n",
      "Epoch [25/30], Training loss: 0.0074 ; Validation accuracy: 55.0000\n",
      "Epoch [26/30], Training loss: 0.0090 ; Validation accuracy: 56.0000\n",
      "Epoch [27/30], Training loss: 0.0041 ; Validation accuracy: 55.0000\n",
      "Epoch [28/30], Training loss: 0.0032 ; Validation accuracy: 55.0000\n",
      "Epoch [29/30], Training loss: 0.0105 ; Validation accuracy: 50.0000\n",
      "Epoch [30/30], Training loss: 0.0114 ; Validation accuracy: 52.0000\n",
      "\n",
      "Training GRU model...\n",
      "\n",
      "Epoch [1/30], Training loss: 0.7297 ; Validation accuracy: 46.0000\n",
      "Epoch [2/30], Training loss: 0.7008 ; Validation accuracy: 46.0000\n",
      "Epoch [3/30], Training loss: 0.6913 ; Validation accuracy: 68.0000\n",
      "Epoch [4/30], Training loss: 0.6841 ; Validation accuracy: 54.0000\n",
      "Epoch [5/30], Training loss: 0.6478 ; Validation accuracy: 65.0000\n",
      "Epoch [6/30], Training loss: 0.4750 ; Validation accuracy: 71.0000\n",
      "Epoch [7/30], Training loss: 0.2130 ; Validation accuracy: 79.0000\n",
      "Epoch [8/30], Training loss: 0.1196 ; Validation accuracy: 80.0000\n",
      "Epoch [9/30], Training loss: 0.0667 ; Validation accuracy: 78.0000\n",
      "Epoch [10/30], Training loss: 0.0369 ; Validation accuracy: 81.0000\n",
      "Epoch [11/30], Training loss: 0.0198 ; Validation accuracy: 81.0000\n",
      "Epoch [12/30], Training loss: 0.0121 ; Validation accuracy: 79.0000\n",
      "Epoch [13/30], Training loss: 0.0080 ; Validation accuracy: 79.0000\n",
      "Epoch [14/30], Training loss: 0.0075 ; Validation accuracy: 80.0000\n",
      "Epoch [15/30], Training loss: 0.0065 ; Validation accuracy: 79.0000\n",
      "Epoch [16/30], Training loss: 0.0077 ; Validation accuracy: 80.0000\n",
      "Epoch [17/30], Training loss: 0.0143 ; Validation accuracy: 81.0000\n",
      "Epoch [18/30], Training loss: 0.0059 ; Validation accuracy: 81.0000\n",
      "Epoch [19/30], Training loss: 0.0030 ; Validation accuracy: 82.0000\n",
      "Epoch [20/30], Training loss: 0.0018 ; Validation accuracy: 83.0000\n",
      "Epoch [21/30], Training loss: 0.0016 ; Validation accuracy: 83.0000\n",
      "Epoch [22/30], Training loss: 0.0014 ; Validation accuracy: 82.0000\n",
      "Epoch [23/30], Training loss: 0.0013 ; Validation accuracy: 82.0000\n",
      "Epoch [24/30], Training loss: 0.0012 ; Validation accuracy: 82.0000\n",
      "Epoch [25/30], Training loss: 0.0011 ; Validation accuracy: 82.0000\n",
      "Epoch [26/30], Training loss: 0.0010 ; Validation accuracy: 82.0000\n",
      "Epoch [27/30], Training loss: 0.0009 ; Validation accuracy: 82.0000\n",
      "Epoch [28/30], Training loss: 0.0009 ; Validation accuracy: 82.0000\n",
      "Epoch [29/30], Training loss: 0.0008 ; Validation accuracy: 82.0000\n",
      "Epoch [30/30], Training loss: 0.0008 ; Validation accuracy: 82.0000\n",
      "\n",
      "Training LSTM model...\n",
      "\n",
      "Epoch [1/30], Training loss: 0.6933 ; Validation accuracy: 46.0000\n",
      "Epoch [2/30], Training loss: 0.6880 ; Validation accuracy: 54.0000\n",
      "Epoch [3/30], Training loss: 0.6186 ; Validation accuracy: 76.0000\n",
      "Epoch [4/30], Training loss: 0.3847 ; Validation accuracy: 71.0000\n",
      "Epoch [5/30], Training loss: 0.1750 ; Validation accuracy: 80.0000\n",
      "Epoch [6/30], Training loss: 0.0893 ; Validation accuracy: 79.0000\n",
      "Epoch [7/30], Training loss: 0.0541 ; Validation accuracy: 80.0000\n",
      "Epoch [8/30], Training loss: 0.0215 ; Validation accuracy: 81.0000\n",
      "Epoch [9/30], Training loss: 0.0083 ; Validation accuracy: 79.0000\n",
      "Epoch [10/30], Training loss: 0.0173 ; Validation accuracy: 79.0000\n",
      "Epoch [11/30], Training loss: 0.0132 ; Validation accuracy: 80.0000\n",
      "Epoch [12/30], Training loss: 0.0033 ; Validation accuracy: 82.0000\n",
      "Epoch [13/30], Training loss: 0.0021 ; Validation accuracy: 80.0000\n",
      "Epoch [14/30], Training loss: 0.0014 ; Validation accuracy: 79.0000\n",
      "Epoch [15/30], Training loss: 0.0012 ; Validation accuracy: 79.0000\n",
      "Epoch [16/30], Training loss: 0.0010 ; Validation accuracy: 79.0000\n",
      "Epoch [17/30], Training loss: 0.0009 ; Validation accuracy: 79.0000\n",
      "Epoch [18/30], Training loss: 0.0007 ; Validation accuracy: 79.0000\n",
      "Epoch [19/30], Training loss: 0.0007 ; Validation accuracy: 79.0000\n",
      "Epoch [20/30], Training loss: 0.0006 ; Validation accuracy: 79.0000\n",
      "Epoch [21/30], Training loss: 0.0005 ; Validation accuracy: 79.0000\n",
      "Epoch [22/30], Training loss: 0.0005 ; Validation accuracy: 79.0000\n",
      "Epoch [23/30], Training loss: 0.0005 ; Validation accuracy: 79.0000\n",
      "Epoch [24/30], Training loss: 0.0004 ; Validation accuracy: 79.0000\n",
      "Epoch [25/30], Training loss: 0.0004 ; Validation accuracy: 79.0000\n",
      "Epoch [26/30], Training loss: 0.0004 ; Validation accuracy: 79.0000\n",
      "Epoch [27/30], Training loss: 0.0003 ; Validation accuracy: 79.0000\n",
      "Epoch [28/30], Training loss: 0.0003 ; Validation accuracy: 79.0000\n",
      "Epoch [29/30], Training loss: 0.0003 ; Validation accuracy: 79.0000\n",
      "Epoch [30/30], Training loss: 0.0003 ; Validation accuracy: 79.0000\n"
     ]
    }
   ],
   "source": [
    "learning_rate = 0.001\n",
    "num_epochs = 30\n",
    "loss_fn = nn.BCEWithLogitsLoss()\n",
    "\n",
    "# Dictionaries to store training history and trained models\n",
    "trained_models = {}\n",
    "training_histories = {}\n",
    "\n",
    "for net_type, model in models.items():\n",
    "    print(f\"\\nTraining {net_type.upper()} model...\\n\")\n",
    "    \n",
    "    # Train the model\n",
    "    trained_model, train_losses, val_accuracies = training_rnnclassif(\n",
    "        model, train_data_loader, valid_data_loader, num_epochs, loss_fn, learning_rate\n",
    "    )\n",
    "    \n",
    "    # Store the trained model and training history\n",
    "    trained_models[net_type] = trained_model\n",
    "    training_histories[net_type] = {\n",
    "        'train_losses': train_losses,\n",
    "        'val_accuracies': val_accuracies\n",
    "    }"
   ]
  },
  {
   "cell_type": "code",
   "execution_count": 70,
   "metadata": {},
   "outputs": [
    {
     "data": {
      "image/png": "[encoded data removed]",
      "text/plain": [
       "<Figure size 1200x500 with 2 Axes>"
      ]
     },
     "metadata": {},
     "output_type": "display_data"
    },
    {
     "data": {
      "image/png": "[encoded data removed]",
      "text/plain": [
       "<Figure size 1200x500 with 2 Axes>"
      ]
     },
     "metadata": {},
     "output_type": "display_data"
    },
    {
     "data": {
      "image/png": "[encoded data removed]",
      "text/plain": [
       "<Figure size 1200x500 with 2 Axes>"
      ]
     },
     "metadata": {},
     "output_type": "display_data"
    }
   ],
   "source": [
    "import matplotlib.pyplot as plt\n",
    "\n",
    "for net_type in network_types:\n",
    "    history = training_histories[net_type]\n",
    "    train_losses = history['train_losses']\n",
    "    val_accuracies = history['val_accuracies']\n",
    "    \n",
    "    # Plotting\n",
    "    plt.figure(figsize=(12, 5))\n",
    "    \n",
    "    # Training loss\n",
    "    plt.subplot(1, 2, 1)\n",
    "    plt.plot(range(1, num_epochs + 1), train_losses, label=f'{net_type.upper()} Training Loss')\n",
    "    plt.xlabel('Epochs')\n",
    "    plt.ylabel('Loss')\n",
    "    plt.title(f'{net_type.upper()} Training Loss')\n",
    "    plt.legend()\n",
    "    \n",
    "    # Validation accuracy\n",
    "    plt.subplot(1, 2, 2)\n",
    "    plt.plot(range(1, num_epochs + 1), val_accuracies, label=f'{net_type.upper()} Validation Accuracy')\n",
    "    plt.xlabel('Epochs')\n",
    "    plt.ylabel('Accuracy (%)')\n",
    "    plt.title(f'{net_type.upper()} Validation Accuracy')\n",
    "    plt.legend()\n",
    "    \n",
    "    plt.tight_layout()\n",
    "    plt.show()"
   ]
  },
  {
   "cell_type": "code",
   "execution_count": 71,
   "metadata": {},
   "outputs": [
    {
     "name": "stdout",
     "output_type": "stream",
     "text": [
      "Test accuracy of the RNN model: 60.00%\n",
      "Test accuracy of the GRU model: 75.00%\n",
      "Test accuracy of the LSTM model: 81.00%\n"
     ]
    }
   ],
   "source": [
    "# Test Accuracy\n",
    "for net_type, model in trained_models.items():\n",
    "    test_accuracy = evaluate_rnnclassif(model, test_data_loader)\n",
    "    print(f\"Test accuracy of the {net_type.upper()} model: {test_accuracy:.2f}%\")"
   ]
  },
  {
   "cell_type": "markdown",
   "metadata": {},
   "source": [
    "The LSTM model demonstrates the best performance with a test accuracy of 81.00% and ability to handle sequential data effectively, followed by the GRU model at 75.00%, and finally, the RNN model at 60.00%.  "
   ]
  }
 ],
 "metadata": {
  "kernelspec": {
   "display_name": "Python 3 (ipykernel)",
   "language": "python",
   "name": "python3"
  },
  "language_info": {
   "codemirror_mode": {
    "name": "ipython",
    "version": 3
   },
   "file_extension": ".py",
   "mimetype": "text/x-python",
   "name": "python",
   "nbconvert_exporter": "python",
   "pygments_lexer": "ipython3",
   "version": "3.11.9"
  }
 },
 "nbformat": 4,
 "nbformat_minor": 4
}
