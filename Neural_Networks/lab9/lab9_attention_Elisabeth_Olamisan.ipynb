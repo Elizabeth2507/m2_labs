{
  "cells": [
    {
      "cell_type": "markdown",
      "metadata": {
        "id": "8CfPf3r8ZLJJ"
      },
      "source": [
        "# RNNs with Attention\n",
        "\n",
        "In lab 8, we have implemented a seq2seq model based on the encoder-decoder structure, which operates as follows:\n",
        "\n",
        "- The input sentence (source) is passed as input to the encoder, which compresses the information it contains into a *context vector* (= the final hidden/cell state of the encoder).\n",
        "- This context vector is then passed to the decoder, which sequentially decodes and updates it and produces the translated output sentence (target).\n",
        "\n",
        "However, there might be a limitation in this process: at a given step of decoding, it might be preferrable to have access to *all* the hidden states from the encoder rather than a single hidden state. This would allow to know which parts of the input sentence are the most relevent to generate the current word in the output sentence.\n",
        "\n",
        "This can be implemented using a mechanism called **attention**, which is the topic of this lab.\n",
        "\n",
        "Note: As in the previous lab, we'll talk about context and attention *vectors*. In practice, these are not vectors but tensors, since we operate on batches of data. Nevertheless we'll talk about *vectors* since it is consistent with the underlying theory.\n",
        "\n",
        "<center><a href=\"https://medium.com/swlh/a-simple-overview-of-rnn-lstm-and-attention-mechanism-9e844763d07b\">\n",
        "    <img src=\"https://miro.medium.com/max/2000/1*FP3zFjdFhNUWEJ9hxeIYOA.png\" width=\"800\"></a></center>\n"
      ]
    },
    {
      "cell_type": "code",
      "execution_count": 62,
      "metadata": {
        "id": "SZ1o6KAaZLJT"
      },
      "outputs": [],
      "source": [
        "import torch\n",
        "import torch.nn as nn\n",
        "from torch.utils.data import DataLoader, Subset\n",
        "import copy\n",
        "from matplotlib import pyplot as plt\n",
        "import matplotlib.ticker as ticker\n",
        "import datasets\n",
        "import spacy\n",
        "from torchtext.vocab import build_vocab_from_iterator"
      ]
    },
    {
      "cell_type": "code",
      "execution_count": 63,
      "metadata": {
        "id": "2hZNYAeMZLJY"
      },
      "outputs": [],
      "source": [
        "# Initialization function for the network's parameters\n",
        "def init_params(m, seed=0):\n",
        "    if isinstance(m, nn.Linear):\n",
        "        nn.init.xavier_uniform_(m.weight.data, generator=torch.manual_seed(seed))\n",
        "        if m.bias is not None:\n",
        "            m.bias.data.fill_(0.01)\n",
        "    elif isinstance(m, nn.Embedding):\n",
        "        nn.init.xavier_uniform_(m.weight.data, generator=torch.manual_seed(seed))\n",
        "    elif isinstance(m, nn.LSTM) or isinstance(m, nn.GRU) or isinstance(m, nn.RNN):\n",
        "        for param in m.parameters():\n",
        "            if len(param.shape) >= 2:\n",
        "                nn.init.orthogonal_(param.data, generator=torch.manual_seed(seed))\n",
        "            else:\n",
        "                nn.init.normal_(param.data, generator=torch.manual_seed(seed))\n",
        "    return"
      ]
    },
    {
      "cell_type": "code",
      "execution_count": 108,
      "metadata": {
        "id": "az-hAbhbZLJa"
      },
      "outputs": [],
      "source": [
        "# Main dataset and pretrained model path - If needed, you can change it HERE but NOWHERE ELSE in the notebook!\n",
        "data_dir = 'MyDrive/datasets/'\n",
        "pretrained_model_path = \"./datasets/model_attention_large.pt\""
      ]
    },
    {
      "cell_type": "code",
      "source": [
        "# from google.colab import drive\n",
        "# drive.mount('/content/drive')"
      ],
      "metadata": {
        "colab": {
          "base_uri": "https://localhost:8080/"
        },
        "id": "y4yx-lv6hek8",
        "outputId": "3426e67e-9262-40d3-c139-0f9029307d30"
      },
      "execution_count": 6,
      "outputs": [
        {
          "output_type": "stream",
          "name": "stdout",
          "text": [
            "Mounted at /content/drive\n"
          ]
        }
      ]
    },
    {
      "cell_type": "markdown",
      "metadata": {
        "id": "s4zBckKIZLJb"
      },
      "source": [
        "## Dataset and preprocessing\n",
        "\n",
        "The dataset and preprocessing are the same as in lab 8."
      ]
    },
    {
      "cell_type": "code",
      "source": [
        "!python -m spacy download en_core_web_sm"
      ],
      "metadata": {
        "collapsed": true,
        "colab": {
          "base_uri": "https://localhost:8080/"
        },
        "id": "MBZgtg75kVmu",
        "outputId": "5974d9ca-83f7-4f70-be0d-7dddd7c7acaa"
      },
      "execution_count": 8,
      "outputs": [
        {
          "output_type": "stream",
          "name": "stdout",
          "text": [
            "Collecting en-core-web-sm==3.7.1\n",
            "  Downloading https://github.com/explosion/spacy-models/releases/download/en_core_web_sm-3.7.1/en_core_web_sm-3.7.1-py3-none-any.whl (12.8 MB)\n",
            "\u001b[2K     \u001b[90m━━━━━━━━━━━━━━━━━━━━━━━━━━━━━━━━━━━━━━━━\u001b[0m \u001b[32m12.8/12.8 MB\u001b[0m \u001b[31m35.3 MB/s\u001b[0m eta \u001b[36m0:00:00\u001b[0m\n",
            "\u001b[?25hRequirement already satisfied: spacy<3.8.0,>=3.7.2 in /usr/local/lib/python3.10/dist-packages (from en-core-web-sm==3.7.1) (3.7.5)\n",
            "Requirement already satisfied: spacy-legacy<3.1.0,>=3.0.11 in /usr/local/lib/python3.10/dist-packages (from spacy<3.8.0,>=3.7.2->en-core-web-sm==3.7.1) (3.0.12)\n",
            "Requirement already satisfied: spacy-loggers<2.0.0,>=1.0.0 in /usr/local/lib/python3.10/dist-packages (from spacy<3.8.0,>=3.7.2->en-core-web-sm==3.7.1) (1.0.5)\n",
            "Requirement already satisfied: murmurhash<1.1.0,>=0.28.0 in /usr/local/lib/python3.10/dist-packages (from spacy<3.8.0,>=3.7.2->en-core-web-sm==3.7.1) (1.0.11)\n",
            "Requirement already satisfied: cymem<2.1.0,>=2.0.2 in /usr/local/lib/python3.10/dist-packages (from spacy<3.8.0,>=3.7.2->en-core-web-sm==3.7.1) (2.0.10)\n",
            "Requirement already satisfied: preshed<3.1.0,>=3.0.2 in /usr/local/lib/python3.10/dist-packages (from spacy<3.8.0,>=3.7.2->en-core-web-sm==3.7.1) (3.0.9)\n",
            "Requirement already satisfied: thinc<8.3.0,>=8.2.2 in /usr/local/lib/python3.10/dist-packages (from spacy<3.8.0,>=3.7.2->en-core-web-sm==3.7.1) (8.2.5)\n",
            "Requirement already satisfied: wasabi<1.2.0,>=0.9.1 in /usr/local/lib/python3.10/dist-packages (from spacy<3.8.0,>=3.7.2->en-core-web-sm==3.7.1) (1.1.3)\n",
            "Requirement already satisfied: srsly<3.0.0,>=2.4.3 in /usr/local/lib/python3.10/dist-packages (from spacy<3.8.0,>=3.7.2->en-core-web-sm==3.7.1) (2.5.0)\n",
            "Requirement already satisfied: catalogue<2.1.0,>=2.0.6 in /usr/local/lib/python3.10/dist-packages (from spacy<3.8.0,>=3.7.2->en-core-web-sm==3.7.1) (2.0.10)\n",
            "Requirement already satisfied: weasel<0.5.0,>=0.1.0 in /usr/local/lib/python3.10/dist-packages (from spacy<3.8.0,>=3.7.2->en-core-web-sm==3.7.1) (0.4.1)\n",
            "Requirement already satisfied: typer<1.0.0,>=0.3.0 in /usr/local/lib/python3.10/dist-packages (from spacy<3.8.0,>=3.7.2->en-core-web-sm==3.7.1) (0.15.1)\n",
            "Requirement already satisfied: tqdm<5.0.0,>=4.38.0 in /usr/local/lib/python3.10/dist-packages (from spacy<3.8.0,>=3.7.2->en-core-web-sm==3.7.1) (4.66.6)\n",
            "Requirement already satisfied: requests<3.0.0,>=2.13.0 in /usr/local/lib/python3.10/dist-packages (from spacy<3.8.0,>=3.7.2->en-core-web-sm==3.7.1) (2.32.3)\n",
            "Requirement already satisfied: pydantic!=1.8,!=1.8.1,<3.0.0,>=1.7.4 in /usr/local/lib/python3.10/dist-packages (from spacy<3.8.0,>=3.7.2->en-core-web-sm==3.7.1) (2.10.3)\n",
            "Requirement already satisfied: jinja2 in /usr/local/lib/python3.10/dist-packages (from spacy<3.8.0,>=3.7.2->en-core-web-sm==3.7.1) (3.1.4)\n",
            "Requirement already satisfied: setuptools in /usr/local/lib/python3.10/dist-packages (from spacy<3.8.0,>=3.7.2->en-core-web-sm==3.7.1) (75.1.0)\n",
            "Requirement already satisfied: packaging>=20.0 in /usr/local/lib/python3.10/dist-packages (from spacy<3.8.0,>=3.7.2->en-core-web-sm==3.7.1) (24.2)\n",
            "Requirement already satisfied: langcodes<4.0.0,>=3.2.0 in /usr/local/lib/python3.10/dist-packages (from spacy<3.8.0,>=3.7.2->en-core-web-sm==3.7.1) (3.5.0)\n",
            "Requirement already satisfied: numpy>=1.19.0 in /usr/local/lib/python3.10/dist-packages (from spacy<3.8.0,>=3.7.2->en-core-web-sm==3.7.1) (1.26.4)\n",
            "Requirement already satisfied: language-data>=1.2 in /usr/local/lib/python3.10/dist-packages (from langcodes<4.0.0,>=3.2.0->spacy<3.8.0,>=3.7.2->en-core-web-sm==3.7.1) (1.3.0)\n",
            "Requirement already satisfied: annotated-types>=0.6.0 in /usr/local/lib/python3.10/dist-packages (from pydantic!=1.8,!=1.8.1,<3.0.0,>=1.7.4->spacy<3.8.0,>=3.7.2->en-core-web-sm==3.7.1) (0.7.0)\n",
            "Requirement already satisfied: pydantic-core==2.27.1 in /usr/local/lib/python3.10/dist-packages (from pydantic!=1.8,!=1.8.1,<3.0.0,>=1.7.4->spacy<3.8.0,>=3.7.2->en-core-web-sm==3.7.1) (2.27.1)\n",
            "Requirement already satisfied: typing-extensions>=4.12.2 in /usr/local/lib/python3.10/dist-packages (from pydantic!=1.8,!=1.8.1,<3.0.0,>=1.7.4->spacy<3.8.0,>=3.7.2->en-core-web-sm==3.7.1) (4.12.2)\n",
            "Requirement already satisfied: charset-normalizer<4,>=2 in /usr/local/lib/python3.10/dist-packages (from requests<3.0.0,>=2.13.0->spacy<3.8.0,>=3.7.2->en-core-web-sm==3.7.1) (3.4.0)\n",
            "Requirement already satisfied: idna<4,>=2.5 in /usr/local/lib/python3.10/dist-packages (from requests<3.0.0,>=2.13.0->spacy<3.8.0,>=3.7.2->en-core-web-sm==3.7.1) (3.10)\n",
            "Requirement already satisfied: urllib3<3,>=1.21.1 in /usr/local/lib/python3.10/dist-packages (from requests<3.0.0,>=2.13.0->spacy<3.8.0,>=3.7.2->en-core-web-sm==3.7.1) (2.2.3)\n",
            "Requirement already satisfied: certifi>=2017.4.17 in /usr/local/lib/python3.10/dist-packages (from requests<3.0.0,>=2.13.0->spacy<3.8.0,>=3.7.2->en-core-web-sm==3.7.1) (2024.8.30)\n",
            "Requirement already satisfied: blis<0.8.0,>=0.7.8 in /usr/local/lib/python3.10/dist-packages (from thinc<8.3.0,>=8.2.2->spacy<3.8.0,>=3.7.2->en-core-web-sm==3.7.1) (0.7.11)\n",
            "Requirement already satisfied: confection<1.0.0,>=0.0.1 in /usr/local/lib/python3.10/dist-packages (from thinc<8.3.0,>=8.2.2->spacy<3.8.0,>=3.7.2->en-core-web-sm==3.7.1) (0.1.5)\n",
            "Requirement already satisfied: click>=8.0.0 in /usr/local/lib/python3.10/dist-packages (from typer<1.0.0,>=0.3.0->spacy<3.8.0,>=3.7.2->en-core-web-sm==3.7.1) (8.1.7)\n",
            "Requirement already satisfied: shellingham>=1.3.0 in /usr/local/lib/python3.10/dist-packages (from typer<1.0.0,>=0.3.0->spacy<3.8.0,>=3.7.2->en-core-web-sm==3.7.1) (1.5.4)\n",
            "Requirement already satisfied: rich>=10.11.0 in /usr/local/lib/python3.10/dist-packages (from typer<1.0.0,>=0.3.0->spacy<3.8.0,>=3.7.2->en-core-web-sm==3.7.1) (13.9.4)\n",
            "Requirement already satisfied: cloudpathlib<1.0.0,>=0.7.0 in /usr/local/lib/python3.10/dist-packages (from weasel<0.5.0,>=0.1.0->spacy<3.8.0,>=3.7.2->en-core-web-sm==3.7.1) (0.20.0)\n",
            "Requirement already satisfied: smart-open<8.0.0,>=5.2.1 in /usr/local/lib/python3.10/dist-packages (from weasel<0.5.0,>=0.1.0->spacy<3.8.0,>=3.7.2->en-core-web-sm==3.7.1) (7.0.5)\n",
            "Requirement already satisfied: MarkupSafe>=2.0 in /usr/local/lib/python3.10/dist-packages (from jinja2->spacy<3.8.0,>=3.7.2->en-core-web-sm==3.7.1) (3.0.2)\n",
            "Requirement already satisfied: marisa-trie>=1.1.0 in /usr/local/lib/python3.10/dist-packages (from language-data>=1.2->langcodes<4.0.0,>=3.2.0->spacy<3.8.0,>=3.7.2->en-core-web-sm==3.7.1) (1.2.1)\n",
            "Requirement already satisfied: markdown-it-py>=2.2.0 in /usr/local/lib/python3.10/dist-packages (from rich>=10.11.0->typer<1.0.0,>=0.3.0->spacy<3.8.0,>=3.7.2->en-core-web-sm==3.7.1) (3.0.0)\n",
            "Requirement already satisfied: pygments<3.0.0,>=2.13.0 in /usr/local/lib/python3.10/dist-packages (from rich>=10.11.0->typer<1.0.0,>=0.3.0->spacy<3.8.0,>=3.7.2->en-core-web-sm==3.7.1) (2.18.0)\n",
            "Requirement already satisfied: wrapt in /usr/local/lib/python3.10/dist-packages (from smart-open<8.0.0,>=5.2.1->weasel<0.5.0,>=0.1.0->spacy<3.8.0,>=3.7.2->en-core-web-sm==3.7.1) (1.17.0)\n",
            "Requirement already satisfied: mdurl~=0.1 in /usr/local/lib/python3.10/dist-packages (from markdown-it-py>=2.2.0->rich>=10.11.0->typer<1.0.0,>=0.3.0->spacy<3.8.0,>=3.7.2->en-core-web-sm==3.7.1) (0.1.2)\n",
            "\u001b[38;5;2m✔ Download and installation successful\u001b[0m\n",
            "You can now load the package via spacy.load('en_core_web_sm')\n",
            "\u001b[38;5;3m⚠ Restart to reload dependencies\u001b[0m\n",
            "If you are in a Jupyter or Colab notebook, you may need to restart Python in\n",
            "order to load all the package's dependencies. You can do this by selecting the\n",
            "'Restart kernel' or 'Restart runtime' option.\n"
          ]
        }
      ]
    },
    {
      "cell_type": "code",
      "source": [
        "!python -m spacy download de_core_news_sm"
      ],
      "metadata": {
        "colab": {
          "base_uri": "https://localhost:8080/"
        },
        "id": "5r7KAp3rkZ4V",
        "outputId": "d254a210-8d46-418c-8ed8-c162613319e4"
      },
      "execution_count": 9,
      "outputs": [
        {
          "output_type": "stream",
          "name": "stdout",
          "text": [
            "Collecting de-core-news-sm==3.7.0\n",
            "  Downloading https://github.com/explosion/spacy-models/releases/download/de_core_news_sm-3.7.0/de_core_news_sm-3.7.0-py3-none-any.whl (14.6 MB)\n",
            "\u001b[2K     \u001b[90m━━━━━━━━━━━━━━━━━━━━━━━━━━━━━━━━━━━━━━━━\u001b[0m \u001b[32m14.6/14.6 MB\u001b[0m \u001b[31m96.9 MB/s\u001b[0m eta \u001b[36m0:00:00\u001b[0m\n",
            "\u001b[?25hRequirement already satisfied: spacy<3.8.0,>=3.7.0 in /usr/local/lib/python3.10/dist-packages (from de-core-news-sm==3.7.0) (3.7.5)\n",
            "Requirement already satisfied: spacy-legacy<3.1.0,>=3.0.11 in /usr/local/lib/python3.10/dist-packages (from spacy<3.8.0,>=3.7.0->de-core-news-sm==3.7.0) (3.0.12)\n",
            "Requirement already satisfied: spacy-loggers<2.0.0,>=1.0.0 in /usr/local/lib/python3.10/dist-packages (from spacy<3.8.0,>=3.7.0->de-core-news-sm==3.7.0) (1.0.5)\n",
            "Requirement already satisfied: murmurhash<1.1.0,>=0.28.0 in /usr/local/lib/python3.10/dist-packages (from spacy<3.8.0,>=3.7.0->de-core-news-sm==3.7.0) (1.0.11)\n",
            "Requirement already satisfied: cymem<2.1.0,>=2.0.2 in /usr/local/lib/python3.10/dist-packages (from spacy<3.8.0,>=3.7.0->de-core-news-sm==3.7.0) (2.0.10)\n",
            "Requirement already satisfied: preshed<3.1.0,>=3.0.2 in /usr/local/lib/python3.10/dist-packages (from spacy<3.8.0,>=3.7.0->de-core-news-sm==3.7.0) (3.0.9)\n",
            "Requirement already satisfied: thinc<8.3.0,>=8.2.2 in /usr/local/lib/python3.10/dist-packages (from spacy<3.8.0,>=3.7.0->de-core-news-sm==3.7.0) (8.2.5)\n",
            "Requirement already satisfied: wasabi<1.2.0,>=0.9.1 in /usr/local/lib/python3.10/dist-packages (from spacy<3.8.0,>=3.7.0->de-core-news-sm==3.7.0) (1.1.3)\n",
            "Requirement already satisfied: srsly<3.0.0,>=2.4.3 in /usr/local/lib/python3.10/dist-packages (from spacy<3.8.0,>=3.7.0->de-core-news-sm==3.7.0) (2.5.0)\n",
            "Requirement already satisfied: catalogue<2.1.0,>=2.0.6 in /usr/local/lib/python3.10/dist-packages (from spacy<3.8.0,>=3.7.0->de-core-news-sm==3.7.0) (2.0.10)\n",
            "Requirement already satisfied: weasel<0.5.0,>=0.1.0 in /usr/local/lib/python3.10/dist-packages (from spacy<3.8.0,>=3.7.0->de-core-news-sm==3.7.0) (0.4.1)\n",
            "Requirement already satisfied: typer<1.0.0,>=0.3.0 in /usr/local/lib/python3.10/dist-packages (from spacy<3.8.0,>=3.7.0->de-core-news-sm==3.7.0) (0.15.1)\n",
            "Requirement already satisfied: tqdm<5.0.0,>=4.38.0 in /usr/local/lib/python3.10/dist-packages (from spacy<3.8.0,>=3.7.0->de-core-news-sm==3.7.0) (4.66.6)\n",
            "Requirement already satisfied: requests<3.0.0,>=2.13.0 in /usr/local/lib/python3.10/dist-packages (from spacy<3.8.0,>=3.7.0->de-core-news-sm==3.7.0) (2.32.3)\n",
            "Requirement already satisfied: pydantic!=1.8,!=1.8.1,<3.0.0,>=1.7.4 in /usr/local/lib/python3.10/dist-packages (from spacy<3.8.0,>=3.7.0->de-core-news-sm==3.7.0) (2.10.3)\n",
            "Requirement already satisfied: jinja2 in /usr/local/lib/python3.10/dist-packages (from spacy<3.8.0,>=3.7.0->de-core-news-sm==3.7.0) (3.1.4)\n",
            "Requirement already satisfied: setuptools in /usr/local/lib/python3.10/dist-packages (from spacy<3.8.0,>=3.7.0->de-core-news-sm==3.7.0) (75.1.0)\n",
            "Requirement already satisfied: packaging>=20.0 in /usr/local/lib/python3.10/dist-packages (from spacy<3.8.0,>=3.7.0->de-core-news-sm==3.7.0) (24.2)\n",
            "Requirement already satisfied: langcodes<4.0.0,>=3.2.0 in /usr/local/lib/python3.10/dist-packages (from spacy<3.8.0,>=3.7.0->de-core-news-sm==3.7.0) (3.5.0)\n",
            "Requirement already satisfied: numpy>=1.19.0 in /usr/local/lib/python3.10/dist-packages (from spacy<3.8.0,>=3.7.0->de-core-news-sm==3.7.0) (1.26.4)\n",
            "Requirement already satisfied: language-data>=1.2 in /usr/local/lib/python3.10/dist-packages (from langcodes<4.0.0,>=3.2.0->spacy<3.8.0,>=3.7.0->de-core-news-sm==3.7.0) (1.3.0)\n",
            "Requirement already satisfied: annotated-types>=0.6.0 in /usr/local/lib/python3.10/dist-packages (from pydantic!=1.8,!=1.8.1,<3.0.0,>=1.7.4->spacy<3.8.0,>=3.7.0->de-core-news-sm==3.7.0) (0.7.0)\n",
            "Requirement already satisfied: pydantic-core==2.27.1 in /usr/local/lib/python3.10/dist-packages (from pydantic!=1.8,!=1.8.1,<3.0.0,>=1.7.4->spacy<3.8.0,>=3.7.0->de-core-news-sm==3.7.0) (2.27.1)\n",
            "Requirement already satisfied: typing-extensions>=4.12.2 in /usr/local/lib/python3.10/dist-packages (from pydantic!=1.8,!=1.8.1,<3.0.0,>=1.7.4->spacy<3.8.0,>=3.7.0->de-core-news-sm==3.7.0) (4.12.2)\n",
            "Requirement already satisfied: charset-normalizer<4,>=2 in /usr/local/lib/python3.10/dist-packages (from requests<3.0.0,>=2.13.0->spacy<3.8.0,>=3.7.0->de-core-news-sm==3.7.0) (3.4.0)\n",
            "Requirement already satisfied: idna<4,>=2.5 in /usr/local/lib/python3.10/dist-packages (from requests<3.0.0,>=2.13.0->spacy<3.8.0,>=3.7.0->de-core-news-sm==3.7.0) (3.10)\n",
            "Requirement already satisfied: urllib3<3,>=1.21.1 in /usr/local/lib/python3.10/dist-packages (from requests<3.0.0,>=2.13.0->spacy<3.8.0,>=3.7.0->de-core-news-sm==3.7.0) (2.2.3)\n",
            "Requirement already satisfied: certifi>=2017.4.17 in /usr/local/lib/python3.10/dist-packages (from requests<3.0.0,>=2.13.0->spacy<3.8.0,>=3.7.0->de-core-news-sm==3.7.0) (2024.8.30)\n",
            "Requirement already satisfied: blis<0.8.0,>=0.7.8 in /usr/local/lib/python3.10/dist-packages (from thinc<8.3.0,>=8.2.2->spacy<3.8.0,>=3.7.0->de-core-news-sm==3.7.0) (0.7.11)\n",
            "Requirement already satisfied: confection<1.0.0,>=0.0.1 in /usr/local/lib/python3.10/dist-packages (from thinc<8.3.0,>=8.2.2->spacy<3.8.0,>=3.7.0->de-core-news-sm==3.7.0) (0.1.5)\n",
            "Requirement already satisfied: click>=8.0.0 in /usr/local/lib/python3.10/dist-packages (from typer<1.0.0,>=0.3.0->spacy<3.8.0,>=3.7.0->de-core-news-sm==3.7.0) (8.1.7)\n",
            "Requirement already satisfied: shellingham>=1.3.0 in /usr/local/lib/python3.10/dist-packages (from typer<1.0.0,>=0.3.0->spacy<3.8.0,>=3.7.0->de-core-news-sm==3.7.0) (1.5.4)\n",
            "Requirement already satisfied: rich>=10.11.0 in /usr/local/lib/python3.10/dist-packages (from typer<1.0.0,>=0.3.0->spacy<3.8.0,>=3.7.0->de-core-news-sm==3.7.0) (13.9.4)\n",
            "Requirement already satisfied: cloudpathlib<1.0.0,>=0.7.0 in /usr/local/lib/python3.10/dist-packages (from weasel<0.5.0,>=0.1.0->spacy<3.8.0,>=3.7.0->de-core-news-sm==3.7.0) (0.20.0)\n",
            "Requirement already satisfied: smart-open<8.0.0,>=5.2.1 in /usr/local/lib/python3.10/dist-packages (from weasel<0.5.0,>=0.1.0->spacy<3.8.0,>=3.7.0->de-core-news-sm==3.7.0) (7.0.5)\n",
            "Requirement already satisfied: MarkupSafe>=2.0 in /usr/local/lib/python3.10/dist-packages (from jinja2->spacy<3.8.0,>=3.7.0->de-core-news-sm==3.7.0) (3.0.2)\n",
            "Requirement already satisfied: marisa-trie>=1.1.0 in /usr/local/lib/python3.10/dist-packages (from language-data>=1.2->langcodes<4.0.0,>=3.2.0->spacy<3.8.0,>=3.7.0->de-core-news-sm==3.7.0) (1.2.1)\n",
            "Requirement already satisfied: markdown-it-py>=2.2.0 in /usr/local/lib/python3.10/dist-packages (from rich>=10.11.0->typer<1.0.0,>=0.3.0->spacy<3.8.0,>=3.7.0->de-core-news-sm==3.7.0) (3.0.0)\n",
            "Requirement already satisfied: pygments<3.0.0,>=2.13.0 in /usr/local/lib/python3.10/dist-packages (from rich>=10.11.0->typer<1.0.0,>=0.3.0->spacy<3.8.0,>=3.7.0->de-core-news-sm==3.7.0) (2.18.0)\n",
            "Requirement already satisfied: wrapt in /usr/local/lib/python3.10/dist-packages (from smart-open<8.0.0,>=5.2.1->weasel<0.5.0,>=0.1.0->spacy<3.8.0,>=3.7.0->de-core-news-sm==3.7.0) (1.17.0)\n",
            "Requirement already satisfied: mdurl~=0.1 in /usr/local/lib/python3.10/dist-packages (from markdown-it-py>=2.2.0->rich>=10.11.0->typer<1.0.0,>=0.3.0->spacy<3.8.0,>=3.7.0->de-core-news-sm==3.7.0) (0.1.2)\n",
            "Installing collected packages: de-core-news-sm\n",
            "Successfully installed de-core-news-sm-3.7.0\n",
            "\u001b[38;5;2m✔ Download and installation successful\u001b[0m\n",
            "You can now load the package via spacy.load('de_core_news_sm')\n",
            "\u001b[38;5;3m⚠ Restart to reload dependencies\u001b[0m\n",
            "If you are in a Jupyter or Colab notebook, you may need to restart Python in\n",
            "order to load all the package's dependencies. You can do this by selecting the\n",
            "'Restart kernel' or 'Restart runtime' option.\n"
          ]
        }
      ]
    },
    {
      "cell_type": "code",
      "execution_count": 67,
      "metadata": {
        "colab": {
          "base_uri": "https://localhost:8080/"
        },
        "id": "gET2Gn1UZLJc",
        "outputId": "eb9107ca-d530-4fd8-bf62-6e77816c8e36"
      },
      "outputs": [
        {
          "output_type": "stream",
          "name": "stderr",
          "text": [
            "/usr/local/lib/python3.10/dist-packages/spacy/util.py:1740: UserWarning: [W111] Jupyter notebook detected: if using `prefer_gpu()` or `require_gpu()`, include it in the same cell right before `spacy.load()` to ensure that the model is loaded on the correct device. More information: http://spacy.io/usage/v3#jupyter-notebook-gpu\n",
            "  warnings.warn(Warnings.W111)\n"
          ]
        }
      ],
      "source": [
        "# Load the NLP pipelines\n",
        "en_nlp = spacy.load('en_core_web_sm')\n",
        "de_nlp = spacy.load('de_core_news_sm')\n",
        "\n",
        "# Load (eventually download) the dataset\n",
        "dataset = datasets.load_dataset(\"bentrevett/multi30k\", cache_dir=data_dir)\n",
        "train_data, valid_data, test_data = (dataset[\"train\"], dataset[\"validation\"], dataset[\"test\"])"
      ]
    },
    {
      "cell_type": "code",
      "execution_count": 68,
      "metadata": {
        "colab": {
          "base_uri": "https://localhost:8080/",
          "height": 81,
          "referenced_widgets": [
            "8b97dda0983040e5bff4232ab0bb9b58",
            "75eae8a1130b41b9ba055f8da87eac50",
            "1a1a94e536fc4c4cafabd752f0cd23b0",
            "3c762ccaa1c441e0bf892e5be621c481",
            "d47f1ce22b2e4f02a1d01c8bb0a46660",
            "0148e9d5d7e7445ea5ccd1f3cf345435",
            "cb553010a6c641f293e1f63d1fb47912",
            "fcc50a99780444469caff35cc726bebd",
            "c6ee2455b31f499481b44957d43fd0e9",
            "2d894d449e014a43b1a54716dbbf471d",
            "d8c1b61abab24d628c453b06c41aadec",
            "5734eca14e3d4a16b4b80334ecc67747",
            "90cabe8f49b941f0a4b313521b5b74e4",
            "586eb02fdea844fa8515c20fbee4abc7",
            "698db97c84a244be977fa06f87d0a3c3",
            "0caeb25b3147441da882c90982716b9d",
            "76621caa27bb44aeb0a6852ef76a8f3b",
            "fe6e37a638a343b0b4af73db31d2666c",
            "5c3c90418b3d4c3ba24bb4270c7cc665",
            "69845e3230ac4815bfd758f5dde5e97e",
            "44d479877c1e48588bd9c43aecf2e5ea",
            "baf889206d2d41ad815511a333a77ebe"
          ]
        },
        "id": "VImT1ey_ZLJd",
        "outputId": "51aecd1a-6cf7-4644-9533-a195fb9c9988"
      },
      "outputs": [
        {
          "output_type": "display_data",
          "data": {
            "text/plain": [
              "Map:   0%|          | 0/1014 [00:00<?, ? examples/s]"
            ],
            "application/vnd.jupyter.widget-view+json": {
              "version_major": 2,
              "version_minor": 0,
              "model_id": "8b97dda0983040e5bff4232ab0bb9b58"
            }
          },
          "metadata": {}
        },
        {
          "output_type": "display_data",
          "data": {
            "text/plain": [
              "Map:   0%|          | 0/1000 [00:00<?, ? examples/s]"
            ],
            "application/vnd.jupyter.widget-view+json": {
              "version_major": 2,
              "version_minor": 0,
              "model_id": "5734eca14e3d4a16b4b80334ecc67747"
            }
          },
          "metadata": {}
        }
      ],
      "source": [
        "# Tokenization\n",
        "def tokenize_example(example, en_nlp, de_nlp, lower=True, sos_token='<sos>', eos_token='<eos>'):\n",
        "    en_tokens = [token.text for token in en_nlp.tokenizer(example[\"en\"])]\n",
        "    de_tokens = [token.text for token in de_nlp.tokenizer(example[\"de\"])]\n",
        "    if lower:\n",
        "        en_tokens = [token.lower() for token in en_tokens]\n",
        "        de_tokens = [token.lower() for token in de_tokens]\n",
        "    en_tokens = [sos_token] + en_tokens + [eos_token]\n",
        "    de_tokens = [sos_token] + de_tokens + [eos_token]\n",
        "    return {\"en_tokens\": en_tokens, \"de_tokens\": de_tokens}\n",
        "\n",
        "train_data = train_data.map(tokenize_example, fn_kwargs={\"en_nlp\": en_nlp,\"de_nlp\": de_nlp})\n",
        "valid_data = valid_data.map(tokenize_example, fn_kwargs={\"en_nlp\": en_nlp,\"de_nlp\": de_nlp})\n",
        "test_data = test_data.map(tokenize_example, fn_kwargs={\"en_nlp\": en_nlp,\"de_nlp\": de_nlp})"
      ]
    },
    {
      "cell_type": "code",
      "execution_count": 69,
      "metadata": {
        "colab": {
          "base_uri": "https://localhost:8080/",
          "height": 81,
          "referenced_widgets": [
            "3eb65f7703e24c789b6f7edee0098520",
            "2f4611ea440047c89232eb31b394b39d",
            "607ff8f8739f494bab0a01042b3e9e4e",
            "1e2c2edcfa9842aba9301ea90fb4580d",
            "d54fce18c8b14cc580ca72890460cbe8",
            "3e6d3b0718a341758394e746fe99e617",
            "ae6a87fc1cbd4af0b59159fe8f6fe6e9",
            "a957ecfc8dea4539bfbf2cef76789ccc",
            "8199d594e514463bbf90289173a8a059",
            "61f8fc3c8cc24ffe970101e1110aabd2",
            "80a1d68ce936430296573ed5da72a207",
            "66af9878c9f84c4a8a3a770269e3e8ec",
            "dce70e1b409f48efa275d516fb7bf430",
            "6782c776b7714b5aac5f9e4a8fcdb1a1",
            "ae857e0a50684317a680a0e2a1fb580a",
            "06d4bb6188324484bb0fc23c775ab32d",
            "ae6d4c31412e4354a532cd1875c88b86",
            "79128ef599ba4dcfa7c262988bc339a5",
            "92a868023a1e444c9cdde112de745fba",
            "b000e1e703544f95acc75ca55635fed0",
            "6632430c81d04750a41498973d8e20b8",
            "2c6faf0cf82b4484a4bab81f1119fcc7"
          ]
        },
        "id": "vc-LImKXZLJh",
        "outputId": "08b9d927-2882-495a-9c81-fff9b91fe0e1"
      },
      "outputs": [
        {
          "output_type": "display_data",
          "data": {
            "text/plain": [
              "Map:   0%|          | 0/1014 [00:00<?, ? examples/s]"
            ],
            "application/vnd.jupyter.widget-view+json": {
              "version_major": 2,
              "version_minor": 0,
              "model_id": "3eb65f7703e24c789b6f7edee0098520"
            }
          },
          "metadata": {}
        },
        {
          "output_type": "display_data",
          "data": {
            "text/plain": [
              "Map:   0%|          | 0/1000 [00:00<?, ? examples/s]"
            ],
            "application/vnd.jupyter.widget-view+json": {
              "version_major": 2,
              "version_minor": 0,
              "model_id": "66af9878c9f84c4a8a3a770269e3e8ec"
            }
          },
          "metadata": {}
        }
      ],
      "source": [
        "# Vocabularies\n",
        "min_freq = 2\n",
        "en_vocab = build_vocab_from_iterator(\n",
        "    train_data[\"en_tokens\"],\n",
        "    min_freq=min_freq,\n",
        "    specials=[\"<unk>\", \"<pad>\", \"<sos>\", \"<eos>\"],\n",
        ")\n",
        "de_vocab = build_vocab_from_iterator(\n",
        "    train_data[\"de_tokens\"],\n",
        "    min_freq=min_freq,\n",
        "    specials=[\"<unk>\", \"<pad>\", \"<sos>\", \"<eos>\"],\n",
        ")\n",
        "en_vocab.set_default_index(0)\n",
        "de_vocab.set_default_index(0)\n",
        "\n",
        "# Numericalization\n",
        "def numericalize_example(example, en_vocab, de_vocab):\n",
        "    en_ids = en_vocab.lookup_indices(example[\"en_tokens\"])\n",
        "    de_ids = de_vocab.lookup_indices(example[\"de_tokens\"])\n",
        "    return {\"en_ids\": en_ids, \"de_ids\": de_ids}\n",
        "train_data = train_data.map(numericalize_example, fn_kwargs={\"en_vocab\": en_vocab, \"de_vocab\": de_vocab})\n",
        "valid_data = valid_data.map(numericalize_example, fn_kwargs={\"en_vocab\": en_vocab, \"de_vocab\": de_vocab})\n",
        "test_data = test_data.map(numericalize_example, fn_kwargs={\"en_vocab\": en_vocab, \"de_vocab\": de_vocab})\n",
        "\n",
        "# Type (torch tensors)\n",
        "train_data = train_data.with_format(type=\"torch\", columns=[\"en_ids\", \"de_ids\"], output_all_columns=True)\n",
        "valid_data = valid_data.with_format(type=\"torch\", columns=[\"en_ids\", \"de_ids\"], output_all_columns=True)\n",
        "test_data = test_data.with_format(type=\"torch\", columns=[\"en_ids\", \"de_ids\"], output_all_columns=True)"
      ]
    },
    {
      "cell_type": "code",
      "execution_count": 70,
      "metadata": {
        "id": "RMthWs1dZLJj"
      },
      "outputs": [],
      "source": [
        "# Take a subset of the datasets for faster training\n",
        "train_data = Subset(train_data, range(500))\n",
        "valid_data = Subset(valid_data, range(50))\n",
        "test_data = Subset(test_data, range(50))"
      ]
    },
    {
      "cell_type": "code",
      "execution_count": 71,
      "metadata": {
        "id": "IurenryGZLJk"
      },
      "outputs": [],
      "source": [
        "# Dataloader\n",
        "def get_collate_fn(pad_index):\n",
        "    def collate_fn(batch):\n",
        "        batch_en_ids = [example[\"en_ids\"] for example in batch]\n",
        "        batch_de_ids = [example[\"de_ids\"] for example in batch]\n",
        "        batch_en_ids = nn.utils.rnn.pad_sequence(batch_en_ids, padding_value=pad_index)\n",
        "        batch_de_ids = nn.utils.rnn.pad_sequence(batch_de_ids, padding_value=pad_index)\n",
        "        batch = {\n",
        "            \"en_ids\": batch_en_ids,\n",
        "            \"de_ids\": batch_de_ids,\n",
        "        }\n",
        "        return batch\n",
        "\n",
        "    return collate_fn\n",
        "\n",
        "def get_data_loader(dataset, batch_size, shuffle=False, pad_index=1, seed=0):\n",
        "    collate_fn = get_collate_fn(pad_index)\n",
        "    data_loader = DataLoader(\n",
        "        dataset=dataset,\n",
        "        batch_size=batch_size,\n",
        "        collate_fn=collate_fn,\n",
        "        shuffle=shuffle,\n",
        "        generator=torch.manual_seed(seed)\n",
        "    )\n",
        "    return data_loader\n",
        "\n",
        "batch_size = 32\n",
        "train_dataloader = get_data_loader(train_data, batch_size, shuffle=True)\n",
        "valid_dataloader = get_data_loader(valid_data, batch_size)\n",
        "test_dataloader = get_data_loader(test_data, batch_size)"
      ]
    },
    {
      "cell_type": "code",
      "execution_count": 72,
      "metadata": {
        "colab": {
          "base_uri": "https://localhost:8080/"
        },
        "id": "bZtXZYaZZLJl",
        "outputId": "24874dcc-8603-45ed-a82e-9d539017cb38"
      },
      "outputs": [
        {
          "output_type": "stream",
          "name": "stdout",
          "text": [
            "torch.Size([22, 32])\n",
            "tensor([   2,   48,   30,   17,  400,   51,    4,    0,    8,    4,  331, 2353,\n",
            "           5,    3,    1,    1,    1,    1,    1,    1,    1,    1])\n"
          ]
        }
      ],
      "source": [
        "# Get an example batch\n",
        "example_batch = next(iter(train_dataloader))\n",
        "example_batch_src, example_batch_trg = example_batch['en_ids'], example_batch['de_ids']\n",
        "print(example_batch_src.shape)\n",
        "print(example_batch_src[:, 0])"
      ]
    },
    {
      "cell_type": "code",
      "execution_count": 73,
      "metadata": {
        "id": "glPVsn6hZLJn"
      },
      "outputs": [],
      "source": [
        "# Define all the parameters of the network (small model for speed)\n",
        "input_size = len(en_vocab)\n",
        "output_size = len(de_vocab)\n",
        "emb_size_enc = 32\n",
        "emb_size_dec = 32\n",
        "hidden_size = 50\n",
        "n_layers = 1\n",
        "dropout_rate = 0.5"
      ]
    },
    {
      "cell_type": "markdown",
      "metadata": {
        "id": "fx8FKlIwZLJo"
      },
      "source": [
        "## GRU encoder\n",
        "\n",
        "We use a similar encoder to the previous lab. The main difference is that it needs to output the whole sequence of hidden states (not only the final hidden state / context vector) because we will use it in the attention module."
      ]
    },
    {
      "cell_type": "code",
      "execution_count": 74,
      "metadata": {
        "id": "JADwnhuhZLJo"
      },
      "outputs": [],
      "source": [
        "class Encoder(nn.Module):\n",
        "    def __init__(self, input_size, emb_size_enc, hidden_size, n_layers, dropout_rate):\n",
        "        super().__init__()\n",
        "\n",
        "        # TO DO:\n",
        "        # - store the input parameters as class attributes\n",
        "        # - create the embedding, dropout, and GRU layers (the GRU layer does not use recurrent dropout)\n",
        "        self.input_size = input_size\n",
        "        self.emb_size_enc = emb_size_enc\n",
        "        self.hidden_size = hidden_size\n",
        "        self.n_layers = n_layers\n",
        "        self.dropout_rate = dropout_rate\n",
        "\n",
        "        self.embedding = nn.Embedding(input_size, emb_size_enc)\n",
        "        self.gru = nn.GRU(emb_size_enc, hidden_size, n_layers)\n",
        "        self.dropout = nn.Dropout(dropout_rate)\n",
        "\n",
        "    def forward(self, src):\n",
        "\n",
        "        # TO DO:\n",
        "        # - write the forward pass\n",
        "        # - return both outputs of the GRU (call them 'enc_outputs' and 'enc_context')\n",
        "        embedded = self.embedding(src)\n",
        "        embedded = self.dropout(embedded)\n",
        "        enc_outputs, enc_context = self.gru(embedded)\n",
        "\n",
        "        return enc_outputs, enc_context"
      ]
    },
    {
      "cell_type": "markdown",
      "metadata": {
        "id": "Kf_EBuKUZLJp"
      },
      "source": [
        "<span style=\"color:red\">**Exercice 1**</span> Instanciate the encoder and print the number of parameters. Apply the encoder to the example batch and print the shapes of the outputs."
      ]
    },
    {
      "cell_type": "code",
      "execution_count": 75,
      "metadata": {
        "colab": {
          "base_uri": "https://localhost:8080/"
        },
        "id": "UlN3U-XuZLJq",
        "outputId": "4f7fae7a-77f9-4bf0-9b60-2c895092a710"
      },
      "outputs": [
        {
          "output_type": "stream",
          "name": "stdout",
          "text": [
            "Total number of parameters: 201176\n",
            "Shape of enc_outputs: torch.Size([22, 32, 50])\n",
            "Shape of enc_context: torch.Size([1, 32, 50])\n"
          ]
        }
      ],
      "source": [
        "encoder = Encoder(input_size, emb_size_enc, hidden_size, n_layers, dropout_rate)\n",
        "print(f'Total number of parameters: {sum(p.numel() for p in encoder.parameters() if p.requires_grad)}')\n",
        "\n",
        "enc_outputs, enc_context = encoder(example_batch_src)\n",
        "\n",
        "print(f\"Shape of enc_outputs: {enc_outputs.shape}\")\n",
        "print(f\"Shape of enc_context: {enc_context.shape}\")"
      ]
    },
    {
      "cell_type": "markdown",
      "metadata": {
        "id": "OHvcykh0ZLJr"
      },
      "source": [
        "## The attention mechanism\n",
        "\n",
        "We now implement the attention mechanism. Intuitively, the idea behind attention is to identify which word of the source sentence is the most important to generate the current word at decoding.\n",
        "\n",
        "Mathematically, let's note $t'$ the current decoding step, $s_{t'-1}$ the previous hidden state of the decoder, and $H = \\{h_1, h_2,...,h_T \\}$  the set of all encoder outputs at the last layer. The attention vector $a_{t'}$ will therefore be calculated from $s_{t'-1}$ and $H$ through a set of operation with learnable parameters.\n",
        "\n",
        "### An example\n",
        "\n",
        "For the very first target token, the previous hidden state is given by $s_0$ = $z$ (= the context vector). The attention mechanism is illustrated below in this case, and we will consider it as example.\n",
        "\n",
        "<center><a href=\"https://github.com/bentrevett/pytorch-seq2seq/blob/master/3%20-%20Neural%20Machine%20Translation%20by%20Jointly%20Learning%20to%20Align%20and%20Translate.ipynb\">\n",
        "    <img src=\"https://github.com/bentrevett/pytorch-seq2seq/raw/49df8404d938a6edbf729876405558cc2c2b3013//assets/seq2seq9.png\" width=\"500\"></a></center>\n"
      ]
    },
    {
      "cell_type": "code",
      "execution_count": 76,
      "metadata": {
        "id": "h3P_Rm14ZLJs"
      },
      "outputs": [],
      "source": [
        "# Take the context vector of the encoder and treat it as the first hidden state to the decoder\n",
        "dec_hidden = enc_context"
      ]
    },
    {
      "cell_type": "markdown",
      "metadata": {
        "id": "X41fQL6PZLJt"
      },
      "source": [
        "The first step is to assemble / combine the current hidden state of the decoder $s_{t'-1}$ (here, it's simply the context vector) and the encoder outputs into a single tensor. There are many ways to do so (addition, multiplication...), here we simply concatenate them.\n",
        "\n",
        "**Note**: this is easy to implement when the recurrent part uses 1 layer; otherwise the computation would be more involved as we'd need to consider the extra dimension corresponding to the number of layers. We leave that to further exploration.\n",
        "\n",
        "Currently (on this example):\n",
        "- `enc_outputs` has a size of `[src_len, batch_size, hidden_size]`\n",
        "- `dec_hidden` has a size of `[1, batch_size, hidden_size]`\n",
        "\n",
        "We want to concatenate them along the last dimension, so first we need to repeat `dec_hidden` along the first dimension `src_len` times. Then, we can perform the concatenation. Finally, we permute the combined tensor so it has a size of `[batch_size, src_len, 2 * hidden_size]`."
      ]
    },
    {
      "cell_type": "code",
      "execution_count": 77,
      "metadata": {
        "colab": {
          "base_uri": "https://localhost:8080/"
        },
        "id": "k2cAPZbSZLJu",
        "outputId": "f1933564-8c65-4803-9549-7d6fba3b75b4"
      },
      "outputs": [
        {
          "output_type": "stream",
          "name": "stdout",
          "text": [
            "Shape of combined input: torch.Size([32, 22, 100])\n"
          ]
        }
      ],
      "source": [
        "# TO DO: compute this concatenation:\n",
        "# - repeat it using the 'repeat' function (check the doc!)\n",
        "# - concatenate the features using the 'cat' function\n",
        "# - permute the dimensions so the resulting combined input has shape [batch_size, src_len, 2*hidden_size]\n",
        "src_len = enc_outputs.shape[0]\n",
        "dec_hidden_rep = dec_hidden.repeat(src_len, 1, 1)\n",
        "\n",
        "comb_inputs = torch.cat((dec_hidden_rep, enc_outputs), dim = 2)\n",
        "\n",
        "comb_inputs = comb_inputs.permute(1, 0, 2)\n",
        "print(f'Shape of combined input: {comb_inputs.shape}')"
      ]
    },
    {
      "cell_type": "markdown",
      "metadata": {
        "id": "xP_zfYo-ZLJw"
      },
      "source": [
        "We then write a network to compute attention from this combined tensor: $a = f(c)$. This network depends on two parameters values, which are:\n",
        " - `input_size_att`, which is the length of the input combined tensor, thus it's equal to `2 * hidden_size`.\n",
        " - `hidden_size_att`, which corresponds to the intermediate length used in computing the attention vector.\n",
        "\n",
        "The architecture of the network is as follows:\n",
        "\n",
        "- a linear layer that goes from size `input_size_att` to `hidden_size_att`\n",
        "- a tanh activation\n",
        "- a second linear layer, that goes from size `hidden_size_att` to `1`, and does not use bias\n",
        "- a softmax layer that acts along `dim=1`, to ensure that the attention vector sums to 1 for every sentence in the batch"
      ]
    },
    {
      "cell_type": "code",
      "execution_count": 78,
      "metadata": {
        "colab": {
          "base_uri": "https://localhost:8080/"
        },
        "id": "0qd444Y8ZLJw",
        "outputId": "ae86a3e9-8ab0-4e69-b904-06cc476a9be3"
      },
      "outputs": [
        {
          "output_type": "stream",
          "name": "stdout",
          "text": [
            "Shape of attention output after squeeze: torch.Size([32, 22])\n"
          ]
        }
      ],
      "source": [
        "# TO DO:\n",
        "# - define the attention network parameters ('input_size_att', and 'hidden_size_att'=50)\n",
        "# - write the attention module\n",
        "# - apply it to the combined input tensor 'comb_inputs'\n",
        "# - squeeze the output and print its shape\n",
        "\n",
        "input_size_att = 2 * hidden_size\n",
        "hidden_size_att = 50\n",
        "\n",
        "class Attention(nn.Module):\n",
        "    def __init__(self, input_size_att, hidden_size_att):\n",
        "        super().__init__()\n",
        "\n",
        "        # Define parameters\n",
        "        self.input_size_att = input_size_att\n",
        "        self.hidden_size_att = hidden_size_att\n",
        "\n",
        "        # Define layers of the attention network\n",
        "        self.fc1 = nn.Linear(self.input_size_att, self.hidden_size_att)\n",
        "        self.tanh = nn.Tanh()\n",
        "        self.fc2 = nn.Linear(self.hidden_size_att, 1, bias=False)\n",
        "        self.softmax = nn.Softmax(dim=1)\n",
        "\n",
        "    def forward(self, comb_inputs):\n",
        "        # Apply the attention network\n",
        "        x = self.fc1(comb_inputs)\n",
        "        x = self.tanh(x)\n",
        "        x = self.fc2(x)\n",
        "        attn = self.softmax(x)\n",
        "        attn = attn.squeeze()\n",
        "\n",
        "        return attn\n",
        "\n",
        "attention = Attention(input_size_att, hidden_size_att)\n",
        "attn_output = attention(comb_inputs)\n",
        "\n",
        "# Print the shape of the attention output\n",
        "print(f\"Shape of attention output after squeeze: {attn_output.shape}\")"
      ]
    },
    {
      "cell_type": "markdown",
      "metadata": {
        "id": "nYF9zCmeZLJy"
      },
      "source": [
        "### The attention module\n",
        "\n",
        "Now, we can use what we did above on the example to write the full attention module in the general case."
      ]
    },
    {
      "cell_type": "code",
      "source": [
        "import torch\n",
        "import torch.nn as nn\n",
        "\n",
        "class Attention(nn.Module):\n",
        "    def __init__(self, input_size_att, hidden_size_att):\n",
        "        super().__init__()\n",
        "\n",
        "        # TO DO: store the input parameters as attributes and define the network\n",
        "\n",
        "        self.input_size_att = input_size_att\n",
        "        self.hidden_size_att = hidden_size_att\n",
        "\n",
        "        self.fc1 = nn.Linear(self.input_size_att, self.hidden_size_att)\n",
        "        self.tanh = nn.Tanh()\n",
        "        self.fc2 = nn.Linear(self.hidden_size_att, 1, bias=False)\n",
        "        self.softmax = nn.Softmax(dim=1)\n",
        "\n",
        "    def forward(self, dec_hidden, enc_outputs):\n",
        "\n",
        "        # TO DO: write the forward method to compute the attention vector\n",
        "\n",
        "        # Match dimensions of dec_hidden and enc_outputs\n",
        "        src_len = enc_outputs.shape[0]\n",
        "        dec_hidden = dec_hidden.expand(src_len, -1, -1)\n",
        "\n",
        "        # Concatenate decoder hidden state and encoder outputs\n",
        "        comb_inputs = torch.cat((dec_hidden, enc_outputs), dim=2)\n",
        "        comb_inputs = comb_inputs.permute(1, 0, 2)\n",
        "\n",
        "        # Apply the attention network\n",
        "        x = self.fc1(comb_inputs)\n",
        "        x = self.tanh(x)\n",
        "        x = self.fc2(x)\n",
        "        attn = self.softmax(x).squeeze(2)\n",
        "\n",
        "        return attn"
      ],
      "metadata": {
        "id": "m8PAKSa5md3m"
      },
      "execution_count": 79,
      "outputs": []
    },
    {
      "cell_type": "markdown",
      "metadata": {
        "id": "X9Iua-aQZLJ0"
      },
      "source": [
        "<span style=\"color:red\">**Exercice 2**</span> Instanciate an attention module, apply it to `dec_hidden` and `enc_outputs`, and print the size of the attention vector."
      ]
    },
    {
      "cell_type": "code",
      "execution_count": 80,
      "metadata": {
        "colab": {
          "base_uri": "https://localhost:8080/"
        },
        "id": "Pa19GM5YZLJ2",
        "outputId": "74219585-a115-414f-e04c-51c112ab3b1a"
      },
      "outputs": [
        {
          "output_type": "stream",
          "name": "stdout",
          "text": [
            "Shape of the attention vector: torch.Size([32, 22])\n"
          ]
        }
      ],
      "source": [
        "myatten = Attention(input_size_att, hidden_size_att)\n",
        "a = myatten(dec_hidden, enc_outputs)\n",
        "print(f\"Shape of the attention vector: {a.shape}\")"
      ]
    },
    {
      "cell_type": "markdown",
      "metadata": {
        "id": "oi9Y0odaZLJ4"
      },
      "source": [
        "## Decoder with attention\n",
        "\n",
        "At the decoding step, we can now use the attention vector by applying it to the encoder outputs. This results in the *weighted* vector which is the average of encoder outputs scaled by attention:\n",
        "\n",
        "$$\n",
        "w = \\sum_t a_t \\times h_t\n",
        "$$"
      ]
    },
    {
      "cell_type": "code",
      "execution_count": 81,
      "metadata": {
        "colab": {
          "base_uri": "https://localhost:8080/"
        },
        "id": "CxjbxgxGZLJ4",
        "outputId": "10782322-6730-400c-f4c4-4cac3c6ba6d3"
      },
      "outputs": [
        {
          "output_type": "stream",
          "name": "stdout",
          "text": [
            "Shape of the weighted vector: torch.Size([1, 32, 50])\n"
          ]
        }
      ],
      "source": [
        "# TO DO: Compute the weighted vector.\n",
        "# - you need to expand/unsqueeze the attention vector 'a' so it has size [batch_size, 1, src_len]\n",
        "# - you also need to permute the enc_outputs vector so it has size [batch_size, src_len, hidden_size]\n",
        "# - perform multiplication using 'torch.bmm' (no need to use a for loop)\n",
        "# - permute the result so the weighted vector has size [1, batch_size, hidden_size]\n",
        "\n",
        "attention_weights = a.unsqueeze(1)\n",
        "encoder_outputs_transposed = enc_outputs.permute(1, 0, 2)\n",
        "\n",
        "weighted_vector = torch.bmm(attention_weights, encoder_outputs_transposed)\n",
        "weighted_vector = weighted_vector.permute(1, 0, 2)\n",
        "\n",
        "print(f\"Shape of the weighted vector: {weighted_vector.shape}\")\n"
      ]
    },
    {
      "cell_type": "markdown",
      "metadata": {
        "id": "pwL3svWVZLJ5"
      },
      "source": [
        "Finally, we need to take this weighted vector into account when using the RNN (which here is a GRU). We remind that without attention, the recurrent computation is simply $s_{t'} = \\text{GRU}(y_{t'}, s_{t'-1})$ where $y_{t'}$ is the embedding after dropout. When using attention, the formula becomes:\n",
        "\n",
        "$$\n",
        "s_{t'} = \\text{GRU}([y_{t'}, w], s_{t'-1})\n",
        "$$\n",
        "\n",
        "This means the input of the GRU in the decoder is obtained by concatenating the weighted vector with the embedding after dropout $y_{t'}$.\n",
        "\n",
        "**Note**: using this concatenation changes the size of the GRU input: the input size should no longer be `emb_size_dec`, but `emb_size_dec + hidden_size`."
      ]
    },
    {
      "cell_type": "code",
      "execution_count": 82,
      "metadata": {
        "id": "mjfW_adlZLJ6"
      },
      "outputs": [],
      "source": [
        "class Decoder(nn.Module):\n",
        "    def __init__(self, output_size, emb_size_dec, hidden_size, hidden_size_att, n_layers, dropout_rate):\n",
        "        super().__init__()\n",
        "\n",
        "        # Store input parameters as class attributes\n",
        "        self.output_size = output_size\n",
        "        self.emb_size_dec = emb_size_dec\n",
        "        self.hidden_size = hidden_size\n",
        "        self.hidden_size_att = hidden_size_att\n",
        "        self.n_layers = n_layers\n",
        "        self.dropout_rate = dropout_rate\n",
        "\n",
        "        # TO DO: Create the decoder layers and the attention module\n",
        "        self.embedding_layer = nn.Embedding(output_size, emb_size_dec)\n",
        "        self.dropout_layer = nn.Dropout(dropout_rate)\n",
        "        self.gru = nn.GRU(emb_size_dec + hidden_size, hidden_size, n_layers)\n",
        "        self.linear_layer = nn.Linear(hidden_size, output_size)\n",
        "        self.attention = Attention(2*hidden_size, hidden_size_att)\n",
        "\n",
        "    def forward(self, input_idx, input_hidden, enc_outputs):\n",
        "\n",
        "        # Get the embeddings for the input token (same as in the previous lab)\n",
        "        y = self.dropout_layer(self.embedding_layer(input_idx))\n",
        "        y = y.unsqueeze(0)\n",
        "\n",
        "        # TO DO:\n",
        "        # - compute the attention vector\n",
        "        # - compute the weighted vector\n",
        "        # - concatenate the embedding (after dropout) and the weighted vector\n",
        "        # - apply the GRU layer\n",
        "        # - squeeze the output of the GRU and pass it to the linear layer to have the predicted probabilites\n",
        "        # - return the predicted probabilites, the hidden state of the GRU, and the attention vector 'a'\n",
        "        a = self.attention(input_hidden, enc_outputs)\n",
        "        a = a.unsqueeze(1)\n",
        "        enc_outputs = enc_outputs.permute(1, 0, 2)\n",
        "        weighted = torch.bmm(a, enc_outputs)\n",
        "        weighted = weighted.permute(1, 0, 2)\n",
        "\n",
        "        rnn_input = torch.cat((y, weighted), dim=2)\n",
        "        output, hidden = self.gru(rnn_input, input_hidden)\n",
        "\n",
        "        output = output.squeeze(0)\n",
        "        pred_proba = self.linear_layer(output)\n",
        "\n",
        "        return pred_proba, hidden, a"
      ]
    },
    {
      "cell_type": "markdown",
      "metadata": {
        "id": "pYOftE6MZLJ7"
      },
      "source": [
        "<span style=\"color:red\">**Exercice 3**</span> Instanciate the decoder and print the number of parameters."
      ]
    },
    {
      "cell_type": "code",
      "source": [
        "decoder = Decoder(output_size, emb_size_dec, hidden_size, hidden_size_att, n_layers, dropout_rate)\n",
        "print('Number of parameters in the decoder:', sum(p.numel() for p in decoder.parameters()))"
      ],
      "metadata": {
        "colab": {
          "base_uri": "https://localhost:8080/"
        },
        "id": "Yo95ChqVn4sK",
        "outputId": "af088a99-3b41-4f6c-8bb9-ba56d5d1ec1f"
      },
      "execution_count": 83,
      "outputs": [
        {
          "output_type": "stream",
          "name": "stdout",
          "text": [
            "Number of parameters in the decoder: 676999\n"
          ]
        }
      ]
    },
    {
      "cell_type": "code",
      "execution_count": 84,
      "metadata": {
        "colab": {
          "base_uri": "https://localhost:8080/"
        },
        "id": "IcLfKw1RZLJ7",
        "outputId": "02166020-62b9-4ebe-f736-164a575c4c7a"
      },
      "outputs": [
        {
          "output_type": "stream",
          "name": "stdout",
          "text": [
            "torch.Size([1, 32, 50])\n",
            "torch.Size([1, 32, 50])\n",
            "torch.Size([32, 1, 22])\n"
          ]
        }
      ],
      "source": [
        "# Initialize an input index tensor (corresponds to <sos>)\n",
        "current_batch_size = a.shape[0]\n",
        "input_idx = torch.ones(current_batch_size).int() * 2\n",
        "\n",
        "# Apply the decoder, print the shape of the outputs\n",
        "pred_proba, hidden, a = decoder(input_idx, enc_context, enc_outputs)\n",
        "\n",
        "print(enc_context.shape)\n",
        "print(hidden.shape)\n",
        "print(a.shape)"
      ]
    },
    {
      "cell_type": "code",
      "execution_count": 85,
      "metadata": {
        "colab": {
          "base_uri": "https://localhost:8080/"
        },
        "id": "lancbec7ZLJ9",
        "outputId": "d2d3438e-f829-4f6a-8a37-fdb95bba0c16"
      },
      "outputs": [
        {
          "output_type": "stream",
          "name": "stdout",
          "text": [
            "torch.Size([1, 32, 50])\n",
            "torch.Size([1, 32, 50])\n",
            "torch.Size([32, 1, 22])\n"
          ]
        }
      ],
      "source": [
        "# Initialize an input index tensor (corresponds to <sos>)\n",
        "current_batch_size = a.shape[0]\n",
        "input_idx = torch.ones(current_batch_size).int() * 2\n",
        "\n",
        "# Apply the decoder, print the shape of the outputs\n",
        "pred_proba, hidden, a = decoder(input_idx, enc_context, enc_outputs)\n",
        "\n",
        "print(enc_context.shape)\n",
        "print(hidden.shape)\n",
        "print(a.shape)"
      ]
    },
    {
      "cell_type": "markdown",
      "metadata": {
        "id": "ZhNCyB1oZLJ_"
      },
      "source": [
        "## Full model\n",
        "\n",
        "The full model is the same as in the previous lab. The only difference comes from the fact that we store the attention vector at every step."
      ]
    },
    {
      "cell_type": "code",
      "execution_count": 86,
      "metadata": {
        "id": "XS-6Fmj9ZLKA"
      },
      "outputs": [],
      "source": [
        "class Seq2Seq(nn.Module):\n",
        "    def __init__(self, encoder, decoder):\n",
        "        super().__init__()\n",
        "\n",
        "        self.encoder = encoder\n",
        "        self.decoder = decoder\n",
        "        self.trg_vocab_size = decoder.output_size  # Target vocabulary size\n",
        "\n",
        "    def forward(self, src, trg_len):\n",
        "        # Initialize parameters\n",
        "        batch_size = src.shape[-1]\n",
        "        src_len = src.shape[0]\n",
        "\n",
        "        pred_probas_all = torch.zeros(trg_len, batch_size, self.trg_vocab_size)\n",
        "        attention_all = torch.zeros(batch_size, src_len, trg_len)\n",
        "\n",
        "        pred_probas_all[0, :, 2] = 1\n",
        "\n",
        "        # Encoder forward pass\n",
        "        enc_outputs, enc_context = self.encoder(src)\n",
        "        dec_hidden = enc_context\n",
        "\n",
        "        input_idx = torch.ones(batch_size).int() * 2\n",
        "\n",
        "        for t in range(1, trg_len):\n",
        "            # Decoder forward pass\n",
        "            pred_proba_t, dec_hidden, attn_weights = self.decoder(input_idx, dec_hidden, enc_outputs)\n",
        "\n",
        "            # Store predicted probabilities and attention weights\n",
        "            pred_probas_all[t, :, :] = pred_proba_t\n",
        "            attention_all[:, :, t] = attn_weights.squeeze()\n",
        "\n",
        "            # The next input token\n",
        "            input_idx = pred_proba_t.argmax(dim=-1)\n",
        "\n",
        "        return pred_probas_all, attention_all"
      ]
    },
    {
      "cell_type": "code",
      "execution_count": 87,
      "metadata": {
        "id": "EKvvLqbQZLKA"
      },
      "outputs": [],
      "source": [
        "# Instanciate and initialize the encoder and decoder, then instanciate the full model, and print its number of parameters\n",
        "encoder = Encoder(input_size, emb_size_enc, hidden_size, n_layers, dropout_rate)\n",
        "encoder.apply(init_params)\n",
        "decoder = Decoder(output_size, emb_size_dec, hidden_size, hidden_size_att, n_layers, dropout_rate)\n",
        "decoder.apply(init_params)\n",
        "model = Seq2Seq(encoder, decoder)"
      ]
    },
    {
      "cell_type": "code",
      "execution_count": 88,
      "metadata": {
        "colab": {
          "base_uri": "https://localhost:8080/"
        },
        "id": "ajAwK2kaZLKB",
        "outputId": "04ae3f00-7aa0-4531-ecff-1cdfdc74eed7"
      },
      "outputs": [
        {
          "output_type": "stream",
          "name": "stdout",
          "text": [
            "torch.Size([25, 32, 7853])\n",
            "torch.Size([32, 22, 25])\n"
          ]
        }
      ],
      "source": [
        "# Apply it to the example_batch, and print the output shapes\n",
        "trg_len = example_batch_trg.shape[0]\n",
        "pred_probas_all, attention_all = model(example_batch_src, trg_len)\n",
        "print(pred_probas_all.shape)\n",
        "print(attention_all.shape)"
      ]
    },
    {
      "cell_type": "markdown",
      "metadata": {
        "id": "FOK8UqkxZLKC"
      },
      "source": [
        "## Training (with validation) and evaluation\n",
        "\n",
        "We provide below the evaluation and training functions, since they're the same as in the previous lab (except we have to handle the fact that the model returns two outputs: `pred_probas_all` and `attention_all`)."
      ]
    },
    {
      "cell_type": "code",
      "execution_count": 89,
      "metadata": {
        "id": "gZ2HU5C2ZLKC"
      },
      "outputs": [],
      "source": [
        "def evaluate_seq2seq(model, eval_dataloader, loss_fn):\n",
        "\n",
        "    # Set the model in 'eval' mode (disable dropout layer)\n",
        "    model.eval()\n",
        "\n",
        "    # Initialize the eval loss\n",
        "    eval_loss = 0\n",
        "\n",
        "    # In test phase, we don't need to compute gradients (for memory efficiency)\n",
        "    with torch.no_grad():\n",
        "        # loop over batches\n",
        "        for i, batch in enumerate(eval_dataloader):\n",
        "\n",
        "            # Get the source and target sentence, and the target sentence length (varies from batch to batch)\n",
        "            src, trg = batch['en_ids'], batch['de_ids']\n",
        "            trg_len = trg.shape[0]\n",
        "\n",
        "            # Apply the model\n",
        "            pred_probas, _ = model(src, trg_len)\n",
        "\n",
        "            # Remove the first token (always <sos>) to compute the loss\n",
        "            output_size = pred_probas.shape[-1]\n",
        "            pred_probas = pred_probas[1:]\n",
        "\n",
        "            # Reshape the pred_probas and target so that they have appropriate sizes\n",
        "            pred_probas = pred_probas.view(-1, output_size)\n",
        "            trg = trg[1:].view(-1)\n",
        "\n",
        "            # Compute the loss\n",
        "            loss = loss_fn(pred_probas, trg)\n",
        "\n",
        "            # Record the loss\n",
        "            eval_loss += loss.item()\n",
        "\n",
        "    # Get the average evaluation loss\n",
        "    eval_loss = eval_loss / len(eval_dataloader)\n",
        "\n",
        "    return eval_loss"
      ]
    },
    {
      "cell_type": "code",
      "execution_count": 90,
      "metadata": {
        "id": "nW1cy-LWZLKE"
      },
      "outputs": [],
      "source": [
        "def training_val_seq2seq(model, train_dataloader, valid_dataloader, num_epochs, loss_fn, learning_rate, verbose=True):\n",
        "\n",
        "    # Make a copy of the model (avoid changing the model outside this function)\n",
        "    model_tr = copy.deepcopy(model)\n",
        "\n",
        "    # define the optimizer (Adam)\n",
        "    optimizer = torch.optim.Adam(model_tr.parameters(), lr=learning_rate)\n",
        "\n",
        "    # Initialize lists for storing the training and validation losses over epochs\n",
        "    train_losses = []\n",
        "    val_losses = []\n",
        "\n",
        "    # Initialize the optimal validation loss at +Inf\n",
        "    val_loss_opt = torch.inf\n",
        "\n",
        "    for epoch in range(num_epochs):\n",
        "        tr_loss = 0\n",
        "\n",
        "        # Set the model in 'training' mode (ensures all parameters' gradients are computed)\n",
        "        model_tr.train()\n",
        "\n",
        "        for i, batch in enumerate(train_dataloader):\n",
        "\n",
        "            # Get the source and target sentence, and the target sentence length (varies from batch to batch)\n",
        "            src, trg = batch['en_ids'], batch['de_ids']\n",
        "            trg_len = trg.shape[0]\n",
        "\n",
        "            # Set the gradients at 0\n",
        "            optimizer.zero_grad()\n",
        "\n",
        "            # Apply the model\n",
        "            pred_probas, _ = model_tr(src, trg_len)\n",
        "\n",
        "            # Remove the first token (always <sos>) to compute the loss\n",
        "            output_dim = pred_probas.shape[-1]\n",
        "            pred_probas = pred_probas[1:]\n",
        "\n",
        "            # Reshape the pred_probas and target\n",
        "            pred_probas = pred_probas.view(-1, output_dim)\n",
        "            trg = trg[1:].view(-1)\n",
        "\n",
        "            # Backpropagation\n",
        "            loss = loss_fn(pred_probas, trg)\n",
        "            loss.backward()\n",
        "            torch.nn.utils.clip_grad_norm_(model_tr.parameters(), 1.0)\n",
        "            optimizer.step()\n",
        "\n",
        "            # Record the loss\n",
        "            tr_loss += loss.item()\n",
        "\n",
        "        # At the end of each epoch, get the average training loss and store it\n",
        "        tr_loss = tr_loss/len(train_dataloader)\n",
        "        train_losses.append(tr_loss)\n",
        "\n",
        "        # Compute the validation loss and store it\n",
        "        val_loss = evaluate_seq2seq(model_tr, valid_dataloader, loss_fn)\n",
        "        val_losses.append(val_loss)\n",
        "\n",
        "        # Display the training and validation losses at the current epoch\n",
        "        if verbose:\n",
        "            print('Epoch [{}/{}], Training loss: {:.4f} ; Validation loss: {:.4f}'\n",
        "                   .format(epoch+1, num_epochs, tr_loss, val_loss))\n",
        "\n",
        "        # Save the current model as optimal only if validation loss decreases\n",
        "        if val_loss<val_loss_opt:\n",
        "            model_opt = copy.deepcopy(model_tr)\n",
        "            val_loss_opt = val_loss\n",
        "\n",
        "    return model_opt, train_losses, val_losses"
      ]
    },
    {
      "cell_type": "code",
      "execution_count": 91,
      "metadata": {
        "id": "NPoN7KBpZLKF"
      },
      "outputs": [],
      "source": [
        "# Training parameters\n",
        "num_epochs = 15\n",
        "learning_rate = 0.001\n",
        "loss_fn = nn.CrossEntropyLoss(ignore_index=1)"
      ]
    },
    {
      "cell_type": "markdown",
      "metadata": {
        "id": "3m3oydVpZLKG"
      },
      "source": [
        "<span style=\"color:red\">**Exercice 4**</span> Train the model, plot the training and validation losses, and compute the test loss."
      ]
    },
    {
      "cell_type": "code",
      "execution_count": 92,
      "metadata": {
        "colab": {
          "base_uri": "https://localhost:8080/",
          "height": 765
        },
        "id": "v7tCTOwFZLKH",
        "outputId": "a7f9db68-02fc-4257-d4e4-6e8bf02f290f"
      },
      "outputs": [
        {
          "output_type": "stream",
          "name": "stdout",
          "text": [
            "Epoch [1/15], Training loss: 8.5808 ; Validation loss: 8.0508\n",
            "Epoch [2/15], Training loss: 7.4121 ; Validation loss: 7.0083\n",
            "Epoch [3/15], Training loss: 6.3932 ; Validation loss: 6.2922\n",
            "Epoch [4/15], Training loss: 5.7488 ; Validation loss: 5.9069\n",
            "Epoch [5/15], Training loss: 5.4213 ; Validation loss: 5.7364\n",
            "Epoch [6/15], Training loss: 5.2811 ; Validation loss: 5.6951\n",
            "Epoch [7/15], Training loss: 5.2265 ; Validation loss: 5.6973\n",
            "Epoch [8/15], Training loss: 5.2199 ; Validation loss: 5.7076\n",
            "Epoch [9/15], Training loss: 5.2010 ; Validation loss: 5.7206\n",
            "Epoch [10/15], Training loss: 5.1983 ; Validation loss: 5.7276\n",
            "Epoch [11/15], Training loss: 5.1884 ; Validation loss: 5.7412\n",
            "Epoch [12/15], Training loss: 5.1891 ; Validation loss: 5.7541\n",
            "Epoch [13/15], Training loss: 5.1805 ; Validation loss: 5.7669\n",
            "Epoch [14/15], Training loss: 5.1787 ; Validation loss: 5.7746\n",
            "Epoch [15/15], Training loss: 5.1788 ; Validation loss: 5.7852\n"
          ]
        },
        {
          "output_type": "display_data",
          "data": {
            "text/plain": [
              "<Figure size 800x500 with 1 Axes>"
            ],
            "image/png": "[encoded data removed]"
          },
          "metadata": {}
        },
        {
          "output_type": "stream",
          "name": "stdout",
          "text": [
            "Test Loss: 5.6248\n"
          ]
        }
      ],
      "source": [
        "model_opt, train_losses, val_losses = training_val_seq2seq(\n",
        "    model,\n",
        "    train_dataloader,\n",
        "    valid_dataloader,\n",
        "    num_epochs,\n",
        "    loss_fn,\n",
        "    learning_rate,\n",
        "    verbose=True\n",
        ")\n",
        "\n",
        "plt.figure(figsize=(8, 5))\n",
        "plt.plot(range(1, num_epochs + 1), train_losses, label=\"Training Loss\")\n",
        "plt.plot(range(1, num_epochs + 1), val_losses, label=\"Validation Loss\")\n",
        "plt.xlabel(\"Epoch\")\n",
        "plt.ylabel(\"Loss\")\n",
        "plt.title(\"Training and Validation Losses\")\n",
        "plt.legend()\n",
        "plt.grid(True)\n",
        "plt.show()\n",
        "\n",
        "test_loss = evaluate_seq2seq(model_opt, test_dataloader, loss_fn)\n",
        "\n",
        "print(f\"Test Loss: {test_loss:.4f}\")"
      ]
    },
    {
      "cell_type": "markdown",
      "metadata": {
        "id": "DsaDa1CzZLKI"
      },
      "source": [
        "## Perspectives\n",
        "\n",
        "Let's quickly check the results on one example from the test set."
      ]
    },
    {
      "cell_type": "code",
      "execution_count": 105,
      "metadata": {
        "id": "kgg_SM3-ZLKJ"
      },
      "outputs": [],
      "source": [
        "def translate_sentence(\n",
        "    sentence,\n",
        "    model,\n",
        "    en_nlp,\n",
        "    en_vocab,\n",
        "    de_vocab,\n",
        "    sos_token='<sos>',\n",
        "    eos_token='<eos>',\n",
        "    device='cpu',\n",
        "    output_length=15,\n",
        "):\n",
        "    model.eval()\n",
        "\n",
        "    # prepare the input sentence (tokenization, numericalization)\n",
        "    en_tokens = [token.text for token in en_nlp.tokenizer(sentence)]\n",
        "    en_tokens = [token.lower() for token in en_tokens]\n",
        "    en_tokens = [sos_token] + en_tokens + [eos_token]\n",
        "    ids = en_vocab.lookup_indices(en_tokens)\n",
        "    tensor = torch.LongTensor(ids).unsqueeze(-1).to(device)\n",
        "\n",
        "    # Compute the translation using the model\n",
        "    with torch.no_grad():\n",
        "        outputs, _ = model(tensor, output_length)\n",
        "        outputs = torch.argmax(outputs, -1)\n",
        "    outputs = [x.item() for x in outputs]\n",
        "\n",
        "    translated = de_vocab.lookup_tokens(outputs)\n",
        "\n",
        "    return translated"
      ]
    },
    {
      "cell_type": "code",
      "execution_count": 106,
      "metadata": {
        "colab": {
          "base_uri": "https://localhost:8080/"
        },
        "id": "ClGcweh-ZLKK",
        "outputId": "8a233e4b-3620-4b82-9c59-409298701947"
      },
      "outputs": [
        {
          "output_type": "stream",
          "name": "stdout",
          "text": [
            "Sentence:               A man in an orange hat starring at something.\n",
            "True translation:       Ein Mann mit einem orangefarbenen Hut, der etwas anstarrt.\n",
            "Predicted translation:  ['<sos>', '<eos>', '<eos>', '<eos>', '<eos>', '<eos>', '<eos>', '<eos>', '<eos>', '<eos>', '<eos>']\n"
          ]
        }
      ],
      "source": [
        "# Get an example sentence and its translation\n",
        "sentence = test_data[0][\"en\"]\n",
        "true_translation = test_data[0][\"de\"]\n",
        "\n",
        "# Get the true length of the (tokenized) translated sentence\n",
        "trg_len = len([token.text for token in de_nlp.tokenizer(true_translation)])\n",
        "\n",
        "# Translate the sentence\n",
        "pred_translation = translate_sentence(\n",
        "    sentence,\n",
        "    model_opt,\n",
        "    en_nlp,\n",
        "    en_vocab,\n",
        "    de_vocab,\n",
        "    output_length=trg_len\n",
        ")\n",
        "\n",
        "print('Sentence:              ', sentence)\n",
        "print('True translation:      ', true_translation)\n",
        "print('Predicted translation: ', pred_translation)"
      ]
    },
    {
      "cell_type": "markdown",
      "metadata": {
        "id": "RH7QtcYVZLKK"
      },
      "source": [
        "As you can see on the example above, the results are not satisfactory. This can be explained by a variety of factors, but mainly because we consider a very small subset of the data and because we used a very light network. We provide the pretrained weights of a model with larger hidden and embedding sizes, and trained on the whole dataset (you can reproduce it using the provided parameters and using a batch size of 128)."
      ]
    },
    {
      "cell_type": "code",
      "execution_count": 109,
      "metadata": {
        "colab": {
          "base_uri": "https://localhost:8080/"
        },
        "id": "fpEeLscfZLKL",
        "outputId": "9cb313c3-a615-4278-8cb4-0f8c202ed4ec"
      },
      "outputs": [
        {
          "output_type": "stream",
          "name": "stdout",
          "text": [
            "Sentence:               A man in an orange hat starring at something.\n",
            "True translation:       Ein Mann mit einem orangefarbenen Hut, der etwas anstarrt.\n",
            "Predicted translation:  ['<sos>', 'ein', 'mann', 'mit', 'einem', 'kopfbedeckung', 'starrt', 'etwas', 'etwas', 'etwas', '.']\n"
          ]
        }
      ],
      "source": [
        "# Load the large pretrained model\n",
        "model_large = torch.jit.load(pretrained_model_path)\n",
        "\n",
        "# Translate the sentence\n",
        "pred_translation = translate_sentence(\n",
        "    sentence,\n",
        "    model_large,\n",
        "    en_nlp,\n",
        "    en_vocab,\n",
        "    de_vocab,\n",
        "    output_length=trg_len\n",
        ")\n",
        "\n",
        "print('Sentence:              ', sentence)\n",
        "print('True translation:      ', true_translation)\n",
        "print('Predicted translation: ', pred_translation)"
      ]
    },
    {
      "cell_type": "markdown",
      "metadata": {
        "id": "691wQLzgZLKM"
      },
      "source": [
        "The results are much better with this larger network, although not perfect since both the network structure and training protocol are rather basic. There are many other strategies to improve this task's performance (but also many other text processing / NLP tasks based on RNNs - or not):\n",
        "\n",
        "- using *bi-directionnal* recurrent networks to better account for the whole context of the sentence.\n",
        "- *skip-filtering*, which means feeding each RNN cell with the whole context vector instead of just the previous hidden state (done [here](https://github.com/bentrevett/pytorch-seq2seq/blob/master/2%20-%20Learning%20Phrase%20Representations%20using%20RNN%20Encoder-Decoder%20for%20Statistical%20Machine%20Translation.ipynb)).\n",
        "- *teacher forcing* when training the decoder, which means using the ground truth token as input to each decoding step, instead of the predicted token from the previous step (done [here](https://github.com/bentrevett/pytorch-seq2seq/blob/master/1%20-%20Sequence%20to%20Sequence%20Learning%20with%20Neural%20Networks.ipynb)).\n",
        "- *packed padded sentences* with masking, which allows to skip the `<pad>` token in the encoder and save time (done [here](https://github.com/bentrevett/pytorch-seq2seq/blob/main/legacy/4%20-%20Packed%20Padded%20Sequences%2C%20Masking%2C%20Inference%20and%20BLEU.ipynb)).\n",
        "- *self-attention*, a key component in [transformers](https://arxiv.org/pdf/1706.03762.pdf), which are state-of-the-art architectures for machine translation (see a simplified version implemented [here](https://github.com/bentrevett/pytorch-seq2seq/blob/main/legacy/6%20-%20Attention%20is%20All%20You%20Need.ipynb)).\n",
        "\n",
        "And many more - research continues to advance!"
      ]
    }
  ],
  "metadata": {
    "kernelspec": {
      "display_name": "Python 3",
      "name": "python3"
    },
    "language_info": {
      "codemirror_mode": {
        "name": "ipython",
        "version": 3
      },
      "file_extension": ".py",
      "mimetype": "text/x-python",
      "name": "python",
      "nbconvert_exporter": "python",
      "pygments_lexer": "ipython3",
      "version": "3.11.0"
    },
    "colab": {
      "provenance": [],
      "gpuType": "T4"
    },
    "accelerator": "GPU",
    "widgets": {
      "application/vnd.jupyter.widget-state+json": {
        "8b97dda0983040e5bff4232ab0bb9b58": {
          "model_module": "@jupyter-widgets/controls",
          "model_name": "HBoxModel",
          "model_module_version": "1.5.0",
          "state": {
            "_dom_classes": [],
            "_model_module": "@jupyter-widgets/controls",
            "_model_module_version": "1.5.0",
            "_model_name": "HBoxModel",
            "_view_count": null,
            "_view_module": "@jupyter-widgets/controls",
            "_view_module_version": "1.5.0",
            "_view_name": "HBoxView",
            "box_style": "",
            "children": [
              "IPY_MODEL_75eae8a1130b41b9ba055f8da87eac50",
              "IPY_MODEL_1a1a94e536fc4c4cafabd752f0cd23b0",
              "IPY_MODEL_3c762ccaa1c441e0bf892e5be621c481"
            ],
            "layout": "IPY_MODEL_d47f1ce22b2e4f02a1d01c8bb0a46660"
          }
        },
        "75eae8a1130b41b9ba055f8da87eac50": {
          "model_module": "@jupyter-widgets/controls",
          "model_name": "HTMLModel",
          "model_module_version": "1.5.0",
          "state": {
            "_dom_classes": [],
            "_model_module": "@jupyter-widgets/controls",
            "_model_module_version": "1.5.0",
            "_model_name": "HTMLModel",
            "_view_count": null,
            "_view_module": "@jupyter-widgets/controls",
            "_view_module_version": "1.5.0",
            "_view_name": "HTMLView",
            "description": "",
            "description_tooltip": null,
            "layout": "IPY_MODEL_0148e9d5d7e7445ea5ccd1f3cf345435",
            "placeholder": "​",
            "style": "IPY_MODEL_cb553010a6c641f293e1f63d1fb47912",
            "value": "Map: 100%"
          }
        },
        "1a1a94e536fc4c4cafabd752f0cd23b0": {
          "model_module": "@jupyter-widgets/controls",
          "model_name": "FloatProgressModel",
          "model_module_version": "1.5.0",
          "state": {
            "_dom_classes": [],
            "_model_module": "@jupyter-widgets/controls",
            "_model_module_version": "1.5.0",
            "_model_name": "FloatProgressModel",
            "_view_count": null,
            "_view_module": "@jupyter-widgets/controls",
            "_view_module_version": "1.5.0",
            "_view_name": "ProgressView",
            "bar_style": "success",
            "description": "",
            "description_tooltip": null,
            "layout": "IPY_MODEL_fcc50a99780444469caff35cc726bebd",
            "max": 1014,
            "min": 0,
            "orientation": "horizontal",
            "style": "IPY_MODEL_c6ee2455b31f499481b44957d43fd0e9",
            "value": 1014
          }
        },
        "3c762ccaa1c441e0bf892e5be621c481": {
          "model_module": "@jupyter-widgets/controls",
          "model_name": "HTMLModel",
          "model_module_version": "1.5.0",
          "state": {
            "_dom_classes": [],
            "_model_module": "@jupyter-widgets/controls",
            "_model_module_version": "1.5.0",
            "_model_name": "HTMLModel",
            "_view_count": null,
            "_view_module": "@jupyter-widgets/controls",
            "_view_module_version": "1.5.0",
            "_view_name": "HTMLView",
            "description": "",
            "description_tooltip": null,
            "layout": "IPY_MODEL_2d894d449e014a43b1a54716dbbf471d",
            "placeholder": "​",
            "style": "IPY_MODEL_d8c1b61abab24d628c453b06c41aadec",
            "value": " 1014/1014 [00:00&lt;00:00, 2066.52 examples/s]"
          }
        },
        "d47f1ce22b2e4f02a1d01c8bb0a46660": {
          "model_module": "@jupyter-widgets/base",
          "model_name": "LayoutModel",
          "model_module_version": "1.2.0",
          "state": {
            "_model_module": "@jupyter-widgets/base",
            "_model_module_version": "1.2.0",
            "_model_name": "LayoutModel",
            "_view_count": null,
            "_view_module": "@jupyter-widgets/base",
            "_view_module_version": "1.2.0",
            "_view_name": "LayoutView",
            "align_content": null,
            "align_items": null,
            "align_self": null,
            "border": null,
            "bottom": null,
            "display": null,
            "flex": null,
            "flex_flow": null,
            "grid_area": null,
            "grid_auto_columns": null,
            "grid_auto_flow": null,
            "grid_auto_rows": null,
            "grid_column": null,
            "grid_gap": null,
            "grid_row": null,
            "grid_template_areas": null,
            "grid_template_columns": null,
            "grid_template_rows": null,
            "height": null,
            "justify_content": null,
            "justify_items": null,
            "left": null,
            "margin": null,
            "max_height": null,
            "max_width": null,
            "min_height": null,
            "min_width": null,
            "object_fit": null,
            "object_position": null,
            "order": null,
            "overflow": null,
            "overflow_x": null,
            "overflow_y": null,
            "padding": null,
            "right": null,
            "top": null,
            "visibility": null,
            "width": null
          }
        },
        "0148e9d5d7e7445ea5ccd1f3cf345435": {
          "model_module": "@jupyter-widgets/base",
          "model_name": "LayoutModel",
          "model_module_version": "1.2.0",
          "state": {
            "_model_module": "@jupyter-widgets/base",
            "_model_module_version": "1.2.0",
            "_model_name": "LayoutModel",
            "_view_count": null,
            "_view_module": "@jupyter-widgets/base",
            "_view_module_version": "1.2.0",
            "_view_name": "LayoutView",
            "align_content": null,
            "align_items": null,
            "align_self": null,
            "border": null,
            "bottom": null,
            "display": null,
            "flex": null,
            "flex_flow": null,
            "grid_area": null,
            "grid_auto_columns": null,
            "grid_auto_flow": null,
            "grid_auto_rows": null,
            "grid_column": null,
            "grid_gap": null,
            "grid_row": null,
            "grid_template_areas": null,
            "grid_template_columns": null,
            "grid_template_rows": null,
            "height": null,
            "justify_content": null,
            "justify_items": null,
            "left": null,
            "margin": null,
            "max_height": null,
            "max_width": null,
            "min_height": null,
            "min_width": null,
            "object_fit": null,
            "object_position": null,
            "order": null,
            "overflow": null,
            "overflow_x": null,
            "overflow_y": null,
            "padding": null,
            "right": null,
            "top": null,
            "visibility": null,
            "width": null
          }
        },
        "cb553010a6c641f293e1f63d1fb47912": {
          "model_module": "@jupyter-widgets/controls",
          "model_name": "DescriptionStyleModel",
          "model_module_version": "1.5.0",
          "state": {
            "_model_module": "@jupyter-widgets/controls",
            "_model_module_version": "1.5.0",
            "_model_name": "DescriptionStyleModel",
            "_view_count": null,
            "_view_module": "@jupyter-widgets/base",
            "_view_module_version": "1.2.0",
            "_view_name": "StyleView",
            "description_width": ""
          }
        },
        "fcc50a99780444469caff35cc726bebd": {
          "model_module": "@jupyter-widgets/base",
          "model_name": "LayoutModel",
          "model_module_version": "1.2.0",
          "state": {
            "_model_module": "@jupyter-widgets/base",
            "_model_module_version": "1.2.0",
            "_model_name": "LayoutModel",
            "_view_count": null,
            "_view_module": "@jupyter-widgets/base",
            "_view_module_version": "1.2.0",
            "_view_name": "LayoutView",
            "align_content": null,
            "align_items": null,
            "align_self": null,
            "border": null,
            "bottom": null,
            "display": null,
            "flex": null,
            "flex_flow": null,
            "grid_area": null,
            "grid_auto_columns": null,
            "grid_auto_flow": null,
            "grid_auto_rows": null,
            "grid_column": null,
            "grid_gap": null,
            "grid_row": null,
            "grid_template_areas": null,
            "grid_template_columns": null,
            "grid_template_rows": null,
            "height": null,
            "justify_content": null,
            "justify_items": null,
            "left": null,
            "margin": null,
            "max_height": null,
            "max_width": null,
            "min_height": null,
            "min_width": null,
            "object_fit": null,
            "object_position": null,
            "order": null,
            "overflow": null,
            "overflow_x": null,
            "overflow_y": null,
            "padding": null,
            "right": null,
            "top": null,
            "visibility": null,
            "width": null
          }
        },
        "c6ee2455b31f499481b44957d43fd0e9": {
          "model_module": "@jupyter-widgets/controls",
          "model_name": "ProgressStyleModel",
          "model_module_version": "1.5.0",
          "state": {
            "_model_module": "@jupyter-widgets/controls",
            "_model_module_version": "1.5.0",
            "_model_name": "ProgressStyleModel",
            "_view_count": null,
            "_view_module": "@jupyter-widgets/base",
            "_view_module_version": "1.2.0",
            "_view_name": "StyleView",
            "bar_color": null,
            "description_width": ""
          }
        },
        "2d894d449e014a43b1a54716dbbf471d": {
          "model_module": "@jupyter-widgets/base",
          "model_name": "LayoutModel",
          "model_module_version": "1.2.0",
          "state": {
            "_model_module": "@jupyter-widgets/base",
            "_model_module_version": "1.2.0",
            "_model_name": "LayoutModel",
            "_view_count": null,
            "_view_module": "@jupyter-widgets/base",
            "_view_module_version": "1.2.0",
            "_view_name": "LayoutView",
            "align_content": null,
            "align_items": null,
            "align_self": null,
            "border": null,
            "bottom": null,
            "display": null,
            "flex": null,
            "flex_flow": null,
            "grid_area": null,
            "grid_auto_columns": null,
            "grid_auto_flow": null,
            "grid_auto_rows": null,
            "grid_column": null,
            "grid_gap": null,
            "grid_row": null,
            "grid_template_areas": null,
            "grid_template_columns": null,
            "grid_template_rows": null,
            "height": null,
            "justify_content": null,
            "justify_items": null,
            "left": null,
            "margin": null,
            "max_height": null,
            "max_width": null,
            "min_height": null,
            "min_width": null,
            "object_fit": null,
            "object_position": null,
            "order": null,
            "overflow": null,
            "overflow_x": null,
            "overflow_y": null,
            "padding": null,
            "right": null,
            "top": null,
            "visibility": null,
            "width": null
          }
        },
        "d8c1b61abab24d628c453b06c41aadec": {
          "model_module": "@jupyter-widgets/controls",
          "model_name": "DescriptionStyleModel",
          "model_module_version": "1.5.0",
          "state": {
            "_model_module": "@jupyter-widgets/controls",
            "_model_module_version": "1.5.0",
            "_model_name": "DescriptionStyleModel",
            "_view_count": null,
            "_view_module": "@jupyter-widgets/base",
            "_view_module_version": "1.2.0",
            "_view_name": "StyleView",
            "description_width": ""
          }
        },
        "5734eca14e3d4a16b4b80334ecc67747": {
          "model_module": "@jupyter-widgets/controls",
          "model_name": "HBoxModel",
          "model_module_version": "1.5.0",
          "state": {
            "_dom_classes": [],
            "_model_module": "@jupyter-widgets/controls",
            "_model_module_version": "1.5.0",
            "_model_name": "HBoxModel",
            "_view_count": null,
            "_view_module": "@jupyter-widgets/controls",
            "_view_module_version": "1.5.0",
            "_view_name": "HBoxView",
            "box_style": "",
            "children": [
              "IPY_MODEL_90cabe8f49b941f0a4b313521b5b74e4",
              "IPY_MODEL_586eb02fdea844fa8515c20fbee4abc7",
              "IPY_MODEL_698db97c84a244be977fa06f87d0a3c3"
            ],
            "layout": "IPY_MODEL_0caeb25b3147441da882c90982716b9d"
          }
        },
        "90cabe8f49b941f0a4b313521b5b74e4": {
          "model_module": "@jupyter-widgets/controls",
          "model_name": "HTMLModel",
          "model_module_version": "1.5.0",
          "state": {
            "_dom_classes": [],
            "_model_module": "@jupyter-widgets/controls",
            "_model_module_version": "1.5.0",
            "_model_name": "HTMLModel",
            "_view_count": null,
            "_view_module": "@jupyter-widgets/controls",
            "_view_module_version": "1.5.0",
            "_view_name": "HTMLView",
            "description": "",
            "description_tooltip": null,
            "layout": "IPY_MODEL_76621caa27bb44aeb0a6852ef76a8f3b",
            "placeholder": "​",
            "style": "IPY_MODEL_fe6e37a638a343b0b4af73db31d2666c",
            "value": "Map: 100%"
          }
        },
        "586eb02fdea844fa8515c20fbee4abc7": {
          "model_module": "@jupyter-widgets/controls",
          "model_name": "FloatProgressModel",
          "model_module_version": "1.5.0",
          "state": {
            "_dom_classes": [],
            "_model_module": "@jupyter-widgets/controls",
            "_model_module_version": "1.5.0",
            "_model_name": "FloatProgressModel",
            "_view_count": null,
            "_view_module": "@jupyter-widgets/controls",
            "_view_module_version": "1.5.0",
            "_view_name": "ProgressView",
            "bar_style": "success",
            "description": "",
            "description_tooltip": null,
            "layout": "IPY_MODEL_5c3c90418b3d4c3ba24bb4270c7cc665",
            "max": 1000,
            "min": 0,
            "orientation": "horizontal",
            "style": "IPY_MODEL_69845e3230ac4815bfd758f5dde5e97e",
            "value": 1000
          }
        },
        "698db97c84a244be977fa06f87d0a3c3": {
          "model_module": "@jupyter-widgets/controls",
          "model_name": "HTMLModel",
          "model_module_version": "1.5.0",
          "state": {
            "_dom_classes": [],
            "_model_module": "@jupyter-widgets/controls",
            "_model_module_version": "1.5.0",
            "_model_name": "HTMLModel",
            "_view_count": null,
            "_view_module": "@jupyter-widgets/controls",
            "_view_module_version": "1.5.0",
            "_view_name": "HTMLView",
            "description": "",
            "description_tooltip": null,
            "layout": "IPY_MODEL_44d479877c1e48588bd9c43aecf2e5ea",
            "placeholder": "​",
            "style": "IPY_MODEL_baf889206d2d41ad815511a333a77ebe",
            "value": " 1000/1000 [00:00&lt;00:00, 1848.40 examples/s]"
          }
        },
        "0caeb25b3147441da882c90982716b9d": {
          "model_module": "@jupyter-widgets/base",
          "model_name": "LayoutModel",
          "model_module_version": "1.2.0",
          "state": {
            "_model_module": "@jupyter-widgets/base",
            "_model_module_version": "1.2.0",
            "_model_name": "LayoutModel",
            "_view_count": null,
            "_view_module": "@jupyter-widgets/base",
            "_view_module_version": "1.2.0",
            "_view_name": "LayoutView",
            "align_content": null,
            "align_items": null,
            "align_self": null,
            "border": null,
            "bottom": null,
            "display": null,
            "flex": null,
            "flex_flow": null,
            "grid_area": null,
            "grid_auto_columns": null,
            "grid_auto_flow": null,
            "grid_auto_rows": null,
            "grid_column": null,
            "grid_gap": null,
            "grid_row": null,
            "grid_template_areas": null,
            "grid_template_columns": null,
            "grid_template_rows": null,
            "height": null,
            "justify_content": null,
            "justify_items": null,
            "left": null,
            "margin": null,
            "max_height": null,
            "max_width": null,
            "min_height": null,
            "min_width": null,
            "object_fit": null,
            "object_position": null,
            "order": null,
            "overflow": null,
            "overflow_x": null,
            "overflow_y": null,
            "padding": null,
            "right": null,
            "top": null,
            "visibility": null,
            "width": null
          }
        },
        "76621caa27bb44aeb0a6852ef76a8f3b": {
          "model_module": "@jupyter-widgets/base",
          "model_name": "LayoutModel",
          "model_module_version": "1.2.0",
          "state": {
            "_model_module": "@jupyter-widgets/base",
            "_model_module_version": "1.2.0",
            "_model_name": "LayoutModel",
            "_view_count": null,
            "_view_module": "@jupyter-widgets/base",
            "_view_module_version": "1.2.0",
            "_view_name": "LayoutView",
            "align_content": null,
            "align_items": null,
            "align_self": null,
            "border": null,
            "bottom": null,
            "display": null,
            "flex": null,
            "flex_flow": null,
            "grid_area": null,
            "grid_auto_columns": null,
            "grid_auto_flow": null,
            "grid_auto_rows": null,
            "grid_column": null,
            "grid_gap": null,
            "grid_row": null,
            "grid_template_areas": null,
            "grid_template_columns": null,
            "grid_template_rows": null,
            "height": null,
            "justify_content": null,
            "justify_items": null,
            "left": null,
            "margin": null,
            "max_height": null,
            "max_width": null,
            "min_height": null,
            "min_width": null,
            "object_fit": null,
            "object_position": null,
            "order": null,
            "overflow": null,
            "overflow_x": null,
            "overflow_y": null,
            "padding": null,
            "right": null,
            "top": null,
            "visibility": null,
            "width": null
          }
        },
        "fe6e37a638a343b0b4af73db31d2666c": {
          "model_module": "@jupyter-widgets/controls",
          "model_name": "DescriptionStyleModel",
          "model_module_version": "1.5.0",
          "state": {
            "_model_module": "@jupyter-widgets/controls",
            "_model_module_version": "1.5.0",
            "_model_name": "DescriptionStyleModel",
            "_view_count": null,
            "_view_module": "@jupyter-widgets/base",
            "_view_module_version": "1.2.0",
            "_view_name": "StyleView",
            "description_width": ""
          }
        },
        "5c3c90418b3d4c3ba24bb4270c7cc665": {
          "model_module": "@jupyter-widgets/base",
          "model_name": "LayoutModel",
          "model_module_version": "1.2.0",
          "state": {
            "_model_module": "@jupyter-widgets/base",
            "_model_module_version": "1.2.0",
            "_model_name": "LayoutModel",
            "_view_count": null,
            "_view_module": "@jupyter-widgets/base",
            "_view_module_version": "1.2.0",
            "_view_name": "LayoutView",
            "align_content": null,
            "align_items": null,
            "align_self": null,
            "border": null,
            "bottom": null,
            "display": null,
            "flex": null,
            "flex_flow": null,
            "grid_area": null,
            "grid_auto_columns": null,
            "grid_auto_flow": null,
            "grid_auto_rows": null,
            "grid_column": null,
            "grid_gap": null,
            "grid_row": null,
            "grid_template_areas": null,
            "grid_template_columns": null,
            "grid_template_rows": null,
            "height": null,
            "justify_content": null,
            "justify_items": null,
            "left": null,
            "margin": null,
            "max_height": null,
            "max_width": null,
            "min_height": null,
            "min_width": null,
            "object_fit": null,
            "object_position": null,
            "order": null,
            "overflow": null,
            "overflow_x": null,
            "overflow_y": null,
            "padding": null,
            "right": null,
            "top": null,
            "visibility": null,
            "width": null
          }
        },
        "69845e3230ac4815bfd758f5dde5e97e": {
          "model_module": "@jupyter-widgets/controls",
          "model_name": "ProgressStyleModel",
          "model_module_version": "1.5.0",
          "state": {
            "_model_module": "@jupyter-widgets/controls",
            "_model_module_version": "1.5.0",
            "_model_name": "ProgressStyleModel",
            "_view_count": null,
            "_view_module": "@jupyter-widgets/base",
            "_view_module_version": "1.2.0",
            "_view_name": "StyleView",
            "bar_color": null,
            "description_width": ""
          }
        },
        "44d479877c1e48588bd9c43aecf2e5ea": {
          "model_module": "@jupyter-widgets/base",
          "model_name": "LayoutModel",
          "model_module_version": "1.2.0",
          "state": {
            "_model_module": "@jupyter-widgets/base",
            "_model_module_version": "1.2.0",
            "_model_name": "LayoutModel",
            "_view_count": null,
            "_view_module": "@jupyter-widgets/base",
            "_view_module_version": "1.2.0",
            "_view_name": "LayoutView",
            "align_content": null,
            "align_items": null,
            "align_self": null,
            "border": null,
            "bottom": null,
            "display": null,
            "flex": null,
            "flex_flow": null,
            "grid_area": null,
            "grid_auto_columns": null,
            "grid_auto_flow": null,
            "grid_auto_rows": null,
            "grid_column": null,
            "grid_gap": null,
            "grid_row": null,
            "grid_template_areas": null,
            "grid_template_columns": null,
            "grid_template_rows": null,
            "height": null,
            "justify_content": null,
            "justify_items": null,
            "left": null,
            "margin": null,
            "max_height": null,
            "max_width": null,
            "min_height": null,
            "min_width": null,
            "object_fit": null,
            "object_position": null,
            "order": null,
            "overflow": null,
            "overflow_x": null,
            "overflow_y": null,
            "padding": null,
            "right": null,
            "top": null,
            "visibility": null,
            "width": null
          }
        },
        "baf889206d2d41ad815511a333a77ebe": {
          "model_module": "@jupyter-widgets/controls",
          "model_name": "DescriptionStyleModel",
          "model_module_version": "1.5.0",
          "state": {
            "_model_module": "@jupyter-widgets/controls",
            "_model_module_version": "1.5.0",
            "_model_name": "DescriptionStyleModel",
            "_view_count": null,
            "_view_module": "@jupyter-widgets/base",
            "_view_module_version": "1.2.0",
            "_view_name": "StyleView",
            "description_width": ""
          }
        },
        "3eb65f7703e24c789b6f7edee0098520": {
          "model_module": "@jupyter-widgets/controls",
          "model_name": "HBoxModel",
          "model_module_version": "1.5.0",
          "state": {
            "_dom_classes": [],
            "_model_module": "@jupyter-widgets/controls",
            "_model_module_version": "1.5.0",
            "_model_name": "HBoxModel",
            "_view_count": null,
            "_view_module": "@jupyter-widgets/controls",
            "_view_module_version": "1.5.0",
            "_view_name": "HBoxView",
            "box_style": "",
            "children": [
              "IPY_MODEL_2f4611ea440047c89232eb31b394b39d",
              "IPY_MODEL_607ff8f8739f494bab0a01042b3e9e4e",
              "IPY_MODEL_1e2c2edcfa9842aba9301ea90fb4580d"
            ],
            "layout": "IPY_MODEL_d54fce18c8b14cc580ca72890460cbe8"
          }
        },
        "2f4611ea440047c89232eb31b394b39d": {
          "model_module": "@jupyter-widgets/controls",
          "model_name": "HTMLModel",
          "model_module_version": "1.5.0",
          "state": {
            "_dom_classes": [],
            "_model_module": "@jupyter-widgets/controls",
            "_model_module_version": "1.5.0",
            "_model_name": "HTMLModel",
            "_view_count": null,
            "_view_module": "@jupyter-widgets/controls",
            "_view_module_version": "1.5.0",
            "_view_name": "HTMLView",
            "description": "",
            "description_tooltip": null,
            "layout": "IPY_MODEL_3e6d3b0718a341758394e746fe99e617",
            "placeholder": "​",
            "style": "IPY_MODEL_ae6a87fc1cbd4af0b59159fe8f6fe6e9",
            "value": "Map: 100%"
          }
        },
        "607ff8f8739f494bab0a01042b3e9e4e": {
          "model_module": "@jupyter-widgets/controls",
          "model_name": "FloatProgressModel",
          "model_module_version": "1.5.0",
          "state": {
            "_dom_classes": [],
            "_model_module": "@jupyter-widgets/controls",
            "_model_module_version": "1.5.0",
            "_model_name": "FloatProgressModel",
            "_view_count": null,
            "_view_module": "@jupyter-widgets/controls",
            "_view_module_version": "1.5.0",
            "_view_name": "ProgressView",
            "bar_style": "success",
            "description": "",
            "description_tooltip": null,
            "layout": "IPY_MODEL_a957ecfc8dea4539bfbf2cef76789ccc",
            "max": 1014,
            "min": 0,
            "orientation": "horizontal",
            "style": "IPY_MODEL_8199d594e514463bbf90289173a8a059",
            "value": 1014
          }
        },
        "1e2c2edcfa9842aba9301ea90fb4580d": {
          "model_module": "@jupyter-widgets/controls",
          "model_name": "HTMLModel",
          "model_module_version": "1.5.0",
          "state": {
            "_dom_classes": [],
            "_model_module": "@jupyter-widgets/controls",
            "_model_module_version": "1.5.0",
            "_model_name": "HTMLModel",
            "_view_count": null,
            "_view_module": "@jupyter-widgets/controls",
            "_view_module_version": "1.5.0",
            "_view_name": "HTMLView",
            "description": "",
            "description_tooltip": null,
            "layout": "IPY_MODEL_61f8fc3c8cc24ffe970101e1110aabd2",
            "placeholder": "​",
            "style": "IPY_MODEL_80a1d68ce936430296573ed5da72a207",
            "value": " 1014/1014 [00:00&lt;00:00, 4002.78 examples/s]"
          }
        },
        "d54fce18c8b14cc580ca72890460cbe8": {
          "model_module": "@jupyter-widgets/base",
          "model_name": "LayoutModel",
          "model_module_version": "1.2.0",
          "state": {
            "_model_module": "@jupyter-widgets/base",
            "_model_module_version": "1.2.0",
            "_model_name": "LayoutModel",
            "_view_count": null,
            "_view_module": "@jupyter-widgets/base",
            "_view_module_version": "1.2.0",
            "_view_name": "LayoutView",
            "align_content": null,
            "align_items": null,
            "align_self": null,
            "border": null,
            "bottom": null,
            "display": null,
            "flex": null,
            "flex_flow": null,
            "grid_area": null,
            "grid_auto_columns": null,
            "grid_auto_flow": null,
            "grid_auto_rows": null,
            "grid_column": null,
            "grid_gap": null,
            "grid_row": null,
            "grid_template_areas": null,
            "grid_template_columns": null,
            "grid_template_rows": null,
            "height": null,
            "justify_content": null,
            "justify_items": null,
            "left": null,
            "margin": null,
            "max_height": null,
            "max_width": null,
            "min_height": null,
            "min_width": null,
            "object_fit": null,
            "object_position": null,
            "order": null,
            "overflow": null,
            "overflow_x": null,
            "overflow_y": null,
            "padding": null,
            "right": null,
            "top": null,
            "visibility": null,
            "width": null
          }
        },
        "3e6d3b0718a341758394e746fe99e617": {
          "model_module": "@jupyter-widgets/base",
          "model_name": "LayoutModel",
          "model_module_version": "1.2.0",
          "state": {
            "_model_module": "@jupyter-widgets/base",
            "_model_module_version": "1.2.0",
            "_model_name": "LayoutModel",
            "_view_count": null,
            "_view_module": "@jupyter-widgets/base",
            "_view_module_version": "1.2.0",
            "_view_name": "LayoutView",
            "align_content": null,
            "align_items": null,
            "align_self": null,
            "border": null,
            "bottom": null,
            "display": null,
            "flex": null,
            "flex_flow": null,
            "grid_area": null,
            "grid_auto_columns": null,
            "grid_auto_flow": null,
            "grid_auto_rows": null,
            "grid_column": null,
            "grid_gap": null,
            "grid_row": null,
            "grid_template_areas": null,
            "grid_template_columns": null,
            "grid_template_rows": null,
            "height": null,
            "justify_content": null,
            "justify_items": null,
            "left": null,
            "margin": null,
            "max_height": null,
            "max_width": null,
            "min_height": null,
            "min_width": null,
            "object_fit": null,
            "object_position": null,
            "order": null,
            "overflow": null,
            "overflow_x": null,
            "overflow_y": null,
            "padding": null,
            "right": null,
            "top": null,
            "visibility": null,
            "width": null
          }
        },
        "ae6a87fc1cbd4af0b59159fe8f6fe6e9": {
          "model_module": "@jupyter-widgets/controls",
          "model_name": "DescriptionStyleModel",
          "model_module_version": "1.5.0",
          "state": {
            "_model_module": "@jupyter-widgets/controls",
            "_model_module_version": "1.5.0",
            "_model_name": "DescriptionStyleModel",
            "_view_count": null,
            "_view_module": "@jupyter-widgets/base",
            "_view_module_version": "1.2.0",
            "_view_name": "StyleView",
            "description_width": ""
          }
        },
        "a957ecfc8dea4539bfbf2cef76789ccc": {
          "model_module": "@jupyter-widgets/base",
          "model_name": "LayoutModel",
          "model_module_version": "1.2.0",
          "state": {
            "_model_module": "@jupyter-widgets/base",
            "_model_module_version": "1.2.0",
            "_model_name": "LayoutModel",
            "_view_count": null,
            "_view_module": "@jupyter-widgets/base",
            "_view_module_version": "1.2.0",
            "_view_name": "LayoutView",
            "align_content": null,
            "align_items": null,
            "align_self": null,
            "border": null,
            "bottom": null,
            "display": null,
            "flex": null,
            "flex_flow": null,
            "grid_area": null,
            "grid_auto_columns": null,
            "grid_auto_flow": null,
            "grid_auto_rows": null,
            "grid_column": null,
            "grid_gap": null,
            "grid_row": null,
            "grid_template_areas": null,
            "grid_template_columns": null,
            "grid_template_rows": null,
            "height": null,
            "justify_content": null,
            "justify_items": null,
            "left": null,
            "margin": null,
            "max_height": null,
            "max_width": null,
            "min_height": null,
            "min_width": null,
            "object_fit": null,
            "object_position": null,
            "order": null,
            "overflow": null,
            "overflow_x": null,
            "overflow_y": null,
            "padding": null,
            "right": null,
            "top": null,
            "visibility": null,
            "width": null
          }
        },
        "8199d594e514463bbf90289173a8a059": {
          "model_module": "@jupyter-widgets/controls",
          "model_name": "ProgressStyleModel",
          "model_module_version": "1.5.0",
          "state": {
            "_model_module": "@jupyter-widgets/controls",
            "_model_module_version": "1.5.0",
            "_model_name": "ProgressStyleModel",
            "_view_count": null,
            "_view_module": "@jupyter-widgets/base",
            "_view_module_version": "1.2.0",
            "_view_name": "StyleView",
            "bar_color": null,
            "description_width": ""
          }
        },
        "61f8fc3c8cc24ffe970101e1110aabd2": {
          "model_module": "@jupyter-widgets/base",
          "model_name": "LayoutModel",
          "model_module_version": "1.2.0",
          "state": {
            "_model_module": "@jupyter-widgets/base",
            "_model_module_version": "1.2.0",
            "_model_name": "LayoutModel",
            "_view_count": null,
            "_view_module": "@jupyter-widgets/base",
            "_view_module_version": "1.2.0",
            "_view_name": "LayoutView",
            "align_content": null,
            "align_items": null,
            "align_self": null,
            "border": null,
            "bottom": null,
            "display": null,
            "flex": null,
            "flex_flow": null,
            "grid_area": null,
            "grid_auto_columns": null,
            "grid_auto_flow": null,
            "grid_auto_rows": null,
            "grid_column": null,
            "grid_gap": null,
            "grid_row": null,
            "grid_template_areas": null,
            "grid_template_columns": null,
            "grid_template_rows": null,
            "height": null,
            "justify_content": null,
            "justify_items": null,
            "left": null,
            "margin": null,
            "max_height": null,
            "max_width": null,
            "min_height": null,
            "min_width": null,
            "object_fit": null,
            "object_position": null,
            "order": null,
            "overflow": null,
            "overflow_x": null,
            "overflow_y": null,
            "padding": null,
            "right": null,
            "top": null,
            "visibility": null,
            "width": null
          }
        },
        "80a1d68ce936430296573ed5da72a207": {
          "model_module": "@jupyter-widgets/controls",
          "model_name": "DescriptionStyleModel",
          "model_module_version": "1.5.0",
          "state": {
            "_model_module": "@jupyter-widgets/controls",
            "_model_module_version": "1.5.0",
            "_model_name": "DescriptionStyleModel",
            "_view_count": null,
            "_view_module": "@jupyter-widgets/base",
            "_view_module_version": "1.2.0",
            "_view_name": "StyleView",
            "description_width": ""
          }
        },
        "66af9878c9f84c4a8a3a770269e3e8ec": {
          "model_module": "@jupyter-widgets/controls",
          "model_name": "HBoxModel",
          "model_module_version": "1.5.0",
          "state": {
            "_dom_classes": [],
            "_model_module": "@jupyter-widgets/controls",
            "_model_module_version": "1.5.0",
            "_model_name": "HBoxModel",
            "_view_count": null,
            "_view_module": "@jupyter-widgets/controls",
            "_view_module_version": "1.5.0",
            "_view_name": "HBoxView",
            "box_style": "",
            "children": [
              "IPY_MODEL_dce70e1b409f48efa275d516fb7bf430",
              "IPY_MODEL_6782c776b7714b5aac5f9e4a8fcdb1a1",
              "IPY_MODEL_ae857e0a50684317a680a0e2a1fb580a"
            ],
            "layout": "IPY_MODEL_06d4bb6188324484bb0fc23c775ab32d"
          }
        },
        "dce70e1b409f48efa275d516fb7bf430": {
          "model_module": "@jupyter-widgets/controls",
          "model_name": "HTMLModel",
          "model_module_version": "1.5.0",
          "state": {
            "_dom_classes": [],
            "_model_module": "@jupyter-widgets/controls",
            "_model_module_version": "1.5.0",
            "_model_name": "HTMLModel",
            "_view_count": null,
            "_view_module": "@jupyter-widgets/controls",
            "_view_module_version": "1.5.0",
            "_view_name": "HTMLView",
            "description": "",
            "description_tooltip": null,
            "layout": "IPY_MODEL_ae6d4c31412e4354a532cd1875c88b86",
            "placeholder": "​",
            "style": "IPY_MODEL_79128ef599ba4dcfa7c262988bc339a5",
            "value": "Map: 100%"
          }
        },
        "6782c776b7714b5aac5f9e4a8fcdb1a1": {
          "model_module": "@jupyter-widgets/controls",
          "model_name": "FloatProgressModel",
          "model_module_version": "1.5.0",
          "state": {
            "_dom_classes": [],
            "_model_module": "@jupyter-widgets/controls",
            "_model_module_version": "1.5.0",
            "_model_name": "FloatProgressModel",
            "_view_count": null,
            "_view_module": "@jupyter-widgets/controls",
            "_view_module_version": "1.5.0",
            "_view_name": "ProgressView",
            "bar_style": "success",
            "description": "",
            "description_tooltip": null,
            "layout": "IPY_MODEL_92a868023a1e444c9cdde112de745fba",
            "max": 1000,
            "min": 0,
            "orientation": "horizontal",
            "style": "IPY_MODEL_b000e1e703544f95acc75ca55635fed0",
            "value": 1000
          }
        },
        "ae857e0a50684317a680a0e2a1fb580a": {
          "model_module": "@jupyter-widgets/controls",
          "model_name": "HTMLModel",
          "model_module_version": "1.5.0",
          "state": {
            "_dom_classes": [],
            "_model_module": "@jupyter-widgets/controls",
            "_model_module_version": "1.5.0",
            "_model_name": "HTMLModel",
            "_view_count": null,
            "_view_module": "@jupyter-widgets/controls",
            "_view_module_version": "1.5.0",
            "_view_name": "HTMLView",
            "description": "",
            "description_tooltip": null,
            "layout": "IPY_MODEL_6632430c81d04750a41498973d8e20b8",
            "placeholder": "​",
            "style": "IPY_MODEL_2c6faf0cf82b4484a4bab81f1119fcc7",
            "value": " 1000/1000 [00:00&lt;00:00, 4833.96 examples/s]"
          }
        },
        "06d4bb6188324484bb0fc23c775ab32d": {
          "model_module": "@jupyter-widgets/base",
          "model_name": "LayoutModel",
          "model_module_version": "1.2.0",
          "state": {
            "_model_module": "@jupyter-widgets/base",
            "_model_module_version": "1.2.0",
            "_model_name": "LayoutModel",
            "_view_count": null,
            "_view_module": "@jupyter-widgets/base",
            "_view_module_version": "1.2.0",
            "_view_name": "LayoutView",
            "align_content": null,
            "align_items": null,
            "align_self": null,
            "border": null,
            "bottom": null,
            "display": null,
            "flex": null,
            "flex_flow": null,
            "grid_area": null,
            "grid_auto_columns": null,
            "grid_auto_flow": null,
            "grid_auto_rows": null,
            "grid_column": null,
            "grid_gap": null,
            "grid_row": null,
            "grid_template_areas": null,
            "grid_template_columns": null,
            "grid_template_rows": null,
            "height": null,
            "justify_content": null,
            "justify_items": null,
            "left": null,
            "margin": null,
            "max_height": null,
            "max_width": null,
            "min_height": null,
            "min_width": null,
            "object_fit": null,
            "object_position": null,
            "order": null,
            "overflow": null,
            "overflow_x": null,
            "overflow_y": null,
            "padding": null,
            "right": null,
            "top": null,
            "visibility": null,
            "width": null
          }
        },
        "ae6d4c31412e4354a532cd1875c88b86": {
          "model_module": "@jupyter-widgets/base",
          "model_name": "LayoutModel",
          "model_module_version": "1.2.0",
          "state": {
            "_model_module": "@jupyter-widgets/base",
            "_model_module_version": "1.2.0",
            "_model_name": "LayoutModel",
            "_view_count": null,
            "_view_module": "@jupyter-widgets/base",
            "_view_module_version": "1.2.0",
            "_view_name": "LayoutView",
            "align_content": null,
            "align_items": null,
            "align_self": null,
            "border": null,
            "bottom": null,
            "display": null,
            "flex": null,
            "flex_flow": null,
            "grid_area": null,
            "grid_auto_columns": null,
            "grid_auto_flow": null,
            "grid_auto_rows": null,
            "grid_column": null,
            "grid_gap": null,
            "grid_row": null,
            "grid_template_areas": null,
            "grid_template_columns": null,
            "grid_template_rows": null,
            "height": null,
            "justify_content": null,
            "justify_items": null,
            "left": null,
            "margin": null,
            "max_height": null,
            "max_width": null,
            "min_height": null,
            "min_width": null,
            "object_fit": null,
            "object_position": null,
            "order": null,
            "overflow": null,
            "overflow_x": null,
            "overflow_y": null,
            "padding": null,
            "right": null,
            "top": null,
            "visibility": null,
            "width": null
          }
        },
        "79128ef599ba4dcfa7c262988bc339a5": {
          "model_module": "@jupyter-widgets/controls",
          "model_name": "DescriptionStyleModel",
          "model_module_version": "1.5.0",
          "state": {
            "_model_module": "@jupyter-widgets/controls",
            "_model_module_version": "1.5.0",
            "_model_name": "DescriptionStyleModel",
            "_view_count": null,
            "_view_module": "@jupyter-widgets/base",
            "_view_module_version": "1.2.0",
            "_view_name": "StyleView",
            "description_width": ""
          }
        },
        "92a868023a1e444c9cdde112de745fba": {
          "model_module": "@jupyter-widgets/base",
          "model_name": "LayoutModel",
          "model_module_version": "1.2.0",
          "state": {
            "_model_module": "@jupyter-widgets/base",
            "_model_module_version": "1.2.0",
            "_model_name": "LayoutModel",
            "_view_count": null,
            "_view_module": "@jupyter-widgets/base",
            "_view_module_version": "1.2.0",
            "_view_name": "LayoutView",
            "align_content": null,
            "align_items": null,
            "align_self": null,
            "border": null,
            "bottom": null,
            "display": null,
            "flex": null,
            "flex_flow": null,
            "grid_area": null,
            "grid_auto_columns": null,
            "grid_auto_flow": null,
            "grid_auto_rows": null,
            "grid_column": null,
            "grid_gap": null,
            "grid_row": null,
            "grid_template_areas": null,
            "grid_template_columns": null,
            "grid_template_rows": null,
            "height": null,
            "justify_content": null,
            "justify_items": null,
            "left": null,
            "margin": null,
            "max_height": null,
            "max_width": null,
            "min_height": null,
            "min_width": null,
            "object_fit": null,
            "object_position": null,
            "order": null,
            "overflow": null,
            "overflow_x": null,
            "overflow_y": null,
            "padding": null,
            "right": null,
            "top": null,
            "visibility": null,
            "width": null
          }
        },
        "b000e1e703544f95acc75ca55635fed0": {
          "model_module": "@jupyter-widgets/controls",
          "model_name": "ProgressStyleModel",
          "model_module_version": "1.5.0",
          "state": {
            "_model_module": "@jupyter-widgets/controls",
            "_model_module_version": "1.5.0",
            "_model_name": "ProgressStyleModel",
            "_view_count": null,
            "_view_module": "@jupyter-widgets/base",
            "_view_module_version": "1.2.0",
            "_view_name": "StyleView",
            "bar_color": null,
            "description_width": ""
          }
        },
        "6632430c81d04750a41498973d8e20b8": {
          "model_module": "@jupyter-widgets/base",
          "model_name": "LayoutModel",
          "model_module_version": "1.2.0",
          "state": {
            "_model_module": "@jupyter-widgets/base",
            "_model_module_version": "1.2.0",
            "_model_name": "LayoutModel",
            "_view_count": null,
            "_view_module": "@jupyter-widgets/base",
            "_view_module_version": "1.2.0",
            "_view_name": "LayoutView",
            "align_content": null,
            "align_items": null,
            "align_self": null,
            "border": null,
            "bottom": null,
            "display": null,
            "flex": null,
            "flex_flow": null,
            "grid_area": null,
            "grid_auto_columns": null,
            "grid_auto_flow": null,
            "grid_auto_rows": null,
            "grid_column": null,
            "grid_gap": null,
            "grid_row": null,
            "grid_template_areas": null,
            "grid_template_columns": null,
            "grid_template_rows": null,
            "height": null,
            "justify_content": null,
            "justify_items": null,
            "left": null,
            "margin": null,
            "max_height": null,
            "max_width": null,
            "min_height": null,
            "min_width": null,
            "object_fit": null,
            "object_position": null,
            "order": null,
            "overflow": null,
            "overflow_x": null,
            "overflow_y": null,
            "padding": null,
            "right": null,
            "top": null,
            "visibility": null,
            "width": null
          }
        },
        "2c6faf0cf82b4484a4bab81f1119fcc7": {
          "model_module": "@jupyter-widgets/controls",
          "model_name": "DescriptionStyleModel",
          "model_module_version": "1.5.0",
          "state": {
            "_model_module": "@jupyter-widgets/controls",
            "_model_module_version": "1.5.0",
            "_model_name": "DescriptionStyleModel",
            "_view_count": null,
            "_view_module": "@jupyter-widgets/base",
            "_view_module_version": "1.2.0",
            "_view_name": "StyleView",
            "description_width": ""
          }
        }
      }
    }
  },
  "nbformat": 4,
  "nbformat_minor": 0
}