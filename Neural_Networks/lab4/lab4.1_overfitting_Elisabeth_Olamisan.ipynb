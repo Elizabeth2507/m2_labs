{
 "cells": [
  {
   "cell_type": "markdown",
   "metadata": {},
   "source": [
    "# An introduction to overfitting\n",
    "\n",
    "In the previous lab we have designed an MLP network for image classification, and we have trained it in a rather straightforward fashion, which in practice is a bit risky. Indeed, our model was designed and trained for minimizing the loss on the training set for a given number of epochs. As such, we might end up with a model that is very good at predicting the data from this training set, but is unable to *generalize* to unseen/new data (e.g., from the test set). This behavior is called **overfitting** and is a major problem in deep learning, wich we adress in this script.\n",
    "\n",
    "<center><a href=\"https://medium.com/geekculture/investigating-underfitting-and-overfitting-70382835e45c\">\n",
    "    <img src=\"https://miro.medium.com/max/1400/1*OeJVQ7sEvOJGxfGSCpbzyA.png\" width=\"600\"></a></center>\n",
    "    \n",
    "More specifically, we study two common sources of overfitting:\n",
    "\n",
    "- Training for too many epochs.\n",
    "- Using an over-parametrized (i.e., too large) model (this corresponds to the figure above)."
   ]
  },
  {
   "cell_type": "code",
   "execution_count": 1,
   "metadata": {},
   "outputs": [],
   "source": [
    "import torch\n",
    "import torch.nn as nn\n",
    "import torchvision\n",
    "import os\n",
    "import matplotlib.pyplot as plt\n",
    "from torch.utils.data import DataLoader, Subset, random_split\n",
    "import copy"
   ]
  },
  {
   "cell_type": "markdown",
   "metadata": {},
   "source": [
    "## Dataset and model\n",
    "\n",
    "As in the previous lab, we work with the MNIST dataset and we use a simple 3-layer MLP. We provide the code below."
   ]
  },
  {
   "cell_type": "code",
   "execution_count": 2,
   "metadata": {},
   "outputs": [],
   "source": [
    "# Dataset repository - remember to change it according to your folder structure\n",
    "data_dir = '../datasets/'\n",
    "\n",
    "# Load the MNIST training dataset (in this script we don't need the test set), and take a small subset\n",
    "data_transforms = torchvision.transforms.Compose([torchvision.transforms.ToTensor(),\n",
    "                                                  torchvision.transforms.Normalize((0.1307,), (0.3081,))])\n",
    "train_data = torchvision.datasets.MNIST(data_dir, train=True, download=True, transform=data_transforms)\n",
    "num_classes = len(train_data.classes)\n",
    "train_data = Subset(train_data, torch.arange(500))"
   ]
  },
  {
   "cell_type": "code",
   "execution_count": 3,
   "metadata": {},
   "outputs": [],
   "source": [
    "# MLP classifier\n",
    "class MLPClassif(nn.Module):\n",
    "    def __init__(self, input_size, hidden_size, output_size):\n",
    "        super().__init__()\n",
    "        self.input_layer = nn.Sequential(nn.Linear(input_size, hidden_size), nn.ReLU())\n",
    "        self.hidden_layer = nn.Sequential(nn.Linear(hidden_size, hidden_size), nn.ReLU())\n",
    "        self.output_layer = nn.Linear(hidden_size, output_size)\n",
    "    \n",
    "    def forward(self, x):\n",
    "        y = self.input_layer(x)\n",
    "        y = self.hidden_layer(y)\n",
    "        out = self.output_layer(y)\n",
    "        return out"
   ]
  },
  {
   "cell_type": "code",
   "execution_count": 4,
   "metadata": {},
   "outputs": [],
   "source": [
    "# Initialization function for the network's parameters\n",
    "def init_params(m, seed=0):\n",
    "    if isinstance(m, nn.Linear):\n",
    "        nn.init.xavier_uniform_(m.weight.data, generator=torch.manual_seed(seed))\n",
    "        if m.bias is not None:\n",
    "            m.bias.data.fill_(0.01)\n",
    "    return"
   ]
  },
  {
   "cell_type": "code",
   "execution_count": 5,
   "metadata": {},
   "outputs": [
    {
     "data": {
      "text/plain": [
       "MLPClassif(\n",
       "  (input_layer): Sequential(\n",
       "    (0): Linear(in_features=784, out_features=10, bias=True)\n",
       "    (1): ReLU()\n",
       "  )\n",
       "  (hidden_layer): Sequential(\n",
       "    (0): Linear(in_features=10, out_features=10, bias=True)\n",
       "    (1): ReLU()\n",
       "  )\n",
       "  (output_layer): Linear(in_features=10, out_features=10, bias=True)\n",
       ")"
      ]
     },
     "execution_count": 5,
     "metadata": {},
     "output_type": "execute_result"
    }
   ],
   "source": [
    "# Instanciate the network and initialize the parameters for reproducibility\n",
    "input_size = train_data[0][0][0].shape[0]*train_data[0][0][0].shape[1]\n",
    "hidden_size = 10\n",
    "output_size = num_classes\n",
    "model = MLPClassif(input_size, hidden_size, output_size)\n",
    "model.apply(init_params)"
   ]
  },
  {
   "cell_type": "markdown",
   "metadata": {},
   "source": [
    "## The validation set\n",
    "\n",
    "Until now, we have splitted our data into two sets: training and testing. A key ingredient in avoiding overfitting is the usage of an additional *validation* (or *development*) set. The data is then split into:\n",
    "\n",
    "- the *training set*, used to train the model's parameters.\n",
    "- the *validation set*, used to evaluate the capacity of the model to generalize to unseen data.\n",
    "- the *test set*, used to compare different baselines / methods after training.\n",
    "\n",
    "<center><a href=\"https://www.v7labs.com/blog/train-validation-test-set\">\n",
    "    <img src=\"https://assets-global.website-files.com/5d7b77b063a9066d83e1209c/61568656a13218cdde7f6166_training-data-validation-test.png\" width=\"400\"></a></center>"
   ]
  },
  {
   "cell_type": "code",
   "execution_count": 6,
   "metadata": {},
   "outputs": [
    {
     "name": "stdout",
     "output_type": "stream",
     "text": [
      "400 100\n"
     ]
    }
   ],
   "source": [
    "# Define the validation set by splitting the training data into 2 subsets (80% training and 20% validation)\n",
    "n_train_examples = int(len(train_data)*0.8)\n",
    "n_valid_examples = len(train_data) - n_train_examples\n",
    "train_data, valid_data = random_split(train_data, [n_train_examples, n_valid_examples], generator=torch.manual_seed(0))\n",
    "print(len(train_data), len(valid_data))\n",
    "\n",
    "# Create the corresponding dataloaders\n",
    "batch_size = 8\n",
    "train_dataloader = DataLoader(train_data, batch_size=batch_size, shuffle=True, generator=torch.manual_seed(0))\n",
    "valid_dataloader = DataLoader(valid_data, batch_size=batch_size)"
   ]
  },
  {
   "cell_type": "markdown",
   "metadata": {},
   "source": [
    "## Training with validation\n",
    "\n",
    "A first simple approach to avoid overfitting is to monitor the performance of the model on the validation set over epochs when training. At each epoch we compute the loss on the validation set, and check how it behaves: if the validation loss decreases, then we can continue training. Conversely, if the validation loss increases, it means the model has overfitted, so we need to stop training. Here, we run training with a specified maximum number of epochs, and we save the model yielding the lowest validation loss as the optimal/best one.\n",
    "\n",
    "<center><a href=\"https://theaisummer.com/regularization/\">\n",
    "    <img src=\"https://theaisummer.com/static/7a6353ed78b045f32e4ac39b0b4d66d2/a878e/early-stopping.png\" width=\"400\"></a></center>\n",
    "    \n",
    "\n",
    "**Note**: In practice, instead of computing the validation *loss/error* (which ideally should decrease), we can compute the validation *accuracy* (which ideally should increase). The concept is the same, but it is usually better to use a validation metric that is as close as possible or equal to the test metric (here: accuracy)."
   ]
  },
  {
   "cell_type": "code",
   "execution_count": 7,
   "metadata": {},
   "outputs": [],
   "source": [
    "# Evaluation function\n",
    "def eval_mlp_classifier(model, eval_dataloader):\n",
    "    \n",
    "    # Set the model in 'evaluation' mode (this disables some layers (batch norm, dropout...) which are not needed when testing)\n",
    "    model.eval() \n",
    "\n",
    "    # In evaluation phase, we don't need to compute gradients (for memory efficiency)\n",
    "    with torch.no_grad():\n",
    "        # initialize the total and correct number of labels to compute the accuracy\n",
    "        correct_labels = 0\n",
    "        total_labels = 0\n",
    "        \n",
    "        # Iterate over the dataset using the dataloader\n",
    "        for images, labels in eval_dataloader:\n",
    "\n",
    "            # Get the predicted labels\n",
    "            images = images.reshape(images.shape[0], -1)\n",
    "            y_predicted = model(images)\n",
    "            \n",
    "            # To get the predicted labels, we need to get the max over all possible classes\n",
    "            _, label_predicted = torch.max(y_predicted.data, 1)\n",
    "            \n",
    "            # Compute accuracy: count the total number of samples, and the correct labels (compare the true and predicted labels)\n",
    "            total_labels += labels.size(0)\n",
    "            correct_labels += (label_predicted == labels).sum().item()\n",
    "    \n",
    "    accuracy = 100 * correct_labels / total_labels\n",
    "    \n",
    "    return accuracy"
   ]
  },
  {
   "cell_type": "markdown",
   "metadata": {},
   "source": [
    "The training function is very similar to what we did in the previous lab, so feel free to reuse it. There are a few main differences:\n",
    "\n",
    "- The function now takes an extra input argument: the validation dataloader.\n",
    "- Instead of SGD, we we use the [Adam](https://pytorch.org/docs/stable/generated/torch.optim.Adam.html) optimizer, which is a more efficient algorithm (the pytorch code is similar: you need to provide the model's parameters and the learning rate).\n",
    "- At the end of each epoch, compute the accuracy on the validation set (use the provided eval function): if the accuracy is increasing, then store the current model as the optimal one.\n",
    "- The function should return the *optimal model* (that is, the model corresponding to the best validation accuracy), the list of training losses over epochs, and the list of validation accuracy over epochs.\n",
    "\n",
    "<span style=\"color:red\">**Exercice 1**</span> Write the training function with validation. Using the training parameters below, train the model, and plot the training loss and validation accuracy (on two different subplots). What do you remark? Is it beneficial to monitor the validation accuracy?"
   ]
  },
  {
   "cell_type": "code",
   "execution_count": 8,
   "metadata": {},
   "outputs": [],
   "source": [
    "# Training parameters\n",
    "loss_fn = nn.CrossEntropyLoss()\n",
    "num_epochs = 50\n",
    "learning_rate = 0.001"
   ]
  },
  {
   "cell_type": "markdown",
   "metadata": {},
   "source": [
    "**Note**: We conducted training for all epochs, and we simply recorded the best performing model. Proper early stopping would mean that we interrupt training when no improvement is observed after the best validation loss has been obtained (this number of epochs is called a *patience* parameter, since it corresponds to the \"waiting time\" after the best validation score is obtained).\n",
    "This allows to reduce the computational time in addition to yielding the best model.\n",
    "\n",
    "\n",
    "## Adjusting the model's capacity\n",
    "\n",
    "The number of parameters in the network (i.e., the model's *capacity*) is expected to have a major impact on performance. Too few parameters might yield bad performance (underfitting), while too many might hamper the ability of the network to generalize (overfitting).\n",
    "\n",
    "\n",
    "<center><a href=\"https://classic.d2l.ai/chapter_multilayer-perceptrons/underfit-overfit.html\">\n",
    "    <img src=\"https://classic.d2l.ai/_images/capacity-vs-error.svg\" width=\"400\"></a></center>\n",
    "    \n",
    "\n",
    "Here, we study it by varying the number of hidden layers and checking how the validation accuracy behaves.\n",
    "\n",
    "Below we consider a general classifier module, where the number of hidden layers is passed as an input parameter. To create and stack together several layers, we can use the [ModuleList](https://pytorch.org/docs/stable/generated/torch.nn.ModuleList.html) object, along with a simple loop."
   ]
  },
  {
   "cell_type": "code",
   "execution_count": 9,
   "metadata": {},
   "outputs": [
    {
     "name": "stdout",
     "output_type": "stream",
     "text": [
      "ModuleList(\n",
      "  (0-4): 5 x Sequential(\n",
      "    (0): Linear(in_features=10, out_features=10, bias=True)\n",
      "    (1): ReLU()\n",
      "  )\n",
      ")\n"
     ]
    }
   ],
   "source": [
    "# On this example, we stack 5 {Linear + Relu} layers\n",
    "list_layer = nn.ModuleList([nn.Sequential(nn.Linear(10, 10), nn.ReLU()) for l in range(5)])\n",
    "print(list_layer)"
   ]
  },
  {
   "cell_type": "code",
   "execution_count": 12,
   "metadata": {},
   "outputs": [],
   "source": [
    "import torch\n",
    "import torch.nn as nn\n",
    "\n",
    "class MLPClassif(nn.Module):\n",
    "    def __init__(self, input_size, hidden_size, output_size, num_hidden_layers):\n",
    "        super().__init__()\n",
    "        \n",
    "        # input layer\n",
    "        self.input_layer = nn.Sequential(\n",
    "            nn.Linear(input_size, hidden_size),\n",
    "            nn.ReLU()  # activation\n",
    "        )\n",
    "        \n",
    "        # hidden layers\n",
    "        self.hidden_layers = nn.ModuleList()  # list of hidden layers\n",
    "        for _ in range(num_hidden_layers):\n",
    "            self.hidden_layers.append(\n",
    "                nn.Sequential(\n",
    "                    nn.Linear(hidden_size, hidden_size),\n",
    "                    nn.ReLU()  # # activation\n",
    "                )\n",
    "            )\n",
    "        \n",
    "        # output layer\n",
    "        self.output_layer = nn.Linear(hidden_size, output_size)  #  maps from hidden_size to output_size.\n",
    "    \n",
    "    def forward(self, x):\n",
    "        # flatten the input if it's an image\n",
    "        if x.dim() > 2:\n",
    "            x = x.view(x.size(0), -1)\n",
    "        \n",
    "        # to input layer\n",
    "        x = self.input_layer(x)\n",
    "        \n",
    "        # iterates over hidden layesr\n",
    "        for layer in self.hidden_layers:\n",
    "            x = layer(x)\n",
    "        \n",
    "        # to output layer\n",
    "        out = self.output_layer(x)\n",
    "        return out"
   ]
  },
  {
   "cell_type": "code",
   "execution_count": 13,
   "metadata": {},
   "outputs": [],
   "source": [
    "# TO DO: Set hidden_size=16 (better performance) and instanciate an MLP classifier with 2 layers. Print the number of parameters\n",
    "\n",
    "input_size = 28 * 28   # MNIST images 28x28 pixels\n",
    "hidden_size = 16       \n",
    "output_size = 10       # number of classes in MNIST (digits 0-9)\n",
    "num_hidden_layers = 2  \n",
    "\n",
    "# instantiate the model\n",
    "model = MLPClassif(input_size, hidden_size, output_size, num_hidden_layers)\n",
    "\n",
    "# calculate and print the number of parameters\n",
    "def print_num_params(model):\n",
    "    total_params = sum(p.numel() for p in model.parameters())\n",
    "    print(f'Total number of parameters: {total_params}')\n",
    "    return total_params"
   ]
  },
  {
   "cell_type": "code",
   "execution_count": 14,
   "metadata": {},
   "outputs": [
    {
     "name": "stdout",
     "output_type": "stream",
     "text": [
      "Total number of parameters: 13274\n"
     ]
    }
   ],
   "source": [
    "# initialize the model params\n",
    "model.apply(init_params)\n",
    "\n",
    "# print the num of params\n",
    "total_params = print_num_params(model)"
   ]
  },
  {
   "cell_type": "markdown",
   "metadata": {},
   "source": [
    "<span style=\"color:red\">**Exercice 2**</span> For a number of hidden layers equal to 1, 3, and 5:\n",
    "- Instanciate a model (remember to **initialize** the parameters to ensure reproducibility)\n",
    "- Train the model and record the validation accuracy\n",
    "- Display the maximum validation accuracy over epochs (either print the value, or plot the max accuracy vs. number of hidden layers)\n",
    "\n",
    "What do you observe? What's the best model / number of hidden layers to use?"
   ]
  },
  {
   "cell_type": "code",
   "execution_count": 15,
   "metadata": {},
   "outputs": [],
   "source": [
    "import copy\n",
    "\n",
    "def train_with_validation(model, train_dataloader, valid_dataloader, loss_fn, optimizer, num_epochs):\n",
    "    best_model = None\n",
    "    best_val_accuracy = 0.0\n",
    "    train_losses = []\n",
    "    val_accuracies = []\n",
    "    \n",
    "    for epoch in range(num_epochs):\n",
    "        model.train()  # training mode\n",
    "        running_loss = 0.0\n",
    "        \n",
    "        for images, labels in train_dataloader:\n",
    "            # flatten images\n",
    "            images = images.view(images.size(0), -1)\n",
    "            \n",
    "            # forward pass\n",
    "            outputs = model(images)\n",
    "            loss = loss_fn(outputs, labels)\n",
    "            \n",
    "            # backward and optimize\n",
    "            optimizer.zero_grad()\n",
    "            loss.backward()\n",
    "            optimizer.step()\n",
    "            \n",
    "            running_loss += loss.item()\n",
    "        \n",
    "        # avg loss over the epoch\n",
    "        epoch_loss = running_loss / len(train_dataloader)\n",
    "        train_losses.append(epoch_loss)\n",
    "        \n",
    "        # evaluate on validation set\n",
    "        val_accuracy = eval_mlp_classifier(model, valid_dataloader)\n",
    "        val_accuracies.append(val_accuracy)\n",
    "        \n",
    "        # track the best model\n",
    "        if val_accuracy > best_val_accuracy:\n",
    "            best_val_accuracy = val_accuracy\n",
    "            best_model = copy.deepcopy(model)\n",
    "        \n",
    "        print(f'Epoch [{epoch+1}/{num_epochs}], Loss: {epoch_loss:.4f}, Validation Accuracy: {val_accuracy:.2f}%')\n",
    "    \n",
    "    return best_model, train_losses, val_accuracies"
   ]
  },
  {
   "cell_type": "code",
   "execution_count": 16,
   "metadata": {},
   "outputs": [
    {
     "name": "stdout",
     "output_type": "stream",
     "text": [
      "\n",
      "Training model with 1 hidden layer(s)\n",
      "Epoch [1/50], Loss: 2.1201, Validation Accuracy: 16.00%\n",
      "Epoch [2/50], Loss: 1.5080, Validation Accuracy: 49.00%\n",
      "Epoch [3/50], Loss: 0.9965, Validation Accuracy: 57.00%\n",
      "Epoch [4/50], Loss: 0.6725, Validation Accuracy: 72.00%\n",
      "Epoch [5/50], Loss: 0.4700, Validation Accuracy: 76.00%\n",
      "Epoch [6/50], Loss: 0.3220, Validation Accuracy: 74.00%\n",
      "Epoch [7/50], Loss: 0.2550, Validation Accuracy: 78.00%\n",
      "Epoch [8/50], Loss: 0.1845, Validation Accuracy: 79.00%\n",
      "Epoch [9/50], Loss: 0.1415, Validation Accuracy: 79.00%\n",
      "Epoch [10/50], Loss: 0.1104, Validation Accuracy: 78.00%\n",
      "Epoch [11/50], Loss: 0.0889, Validation Accuracy: 77.00%\n",
      "Epoch [12/50], Loss: 0.0720, Validation Accuracy: 78.00%\n",
      "Epoch [13/50], Loss: 0.0564, Validation Accuracy: 79.00%\n",
      "Epoch [14/50], Loss: 0.0444, Validation Accuracy: 78.00%\n",
      "Epoch [15/50], Loss: 0.0382, Validation Accuracy: 77.00%\n",
      "Epoch [16/50], Loss: 0.0317, Validation Accuracy: 78.00%\n",
      "Epoch [17/50], Loss: 0.0245, Validation Accuracy: 78.00%\n",
      "Epoch [18/50], Loss: 0.0211, Validation Accuracy: 79.00%\n",
      "Epoch [19/50], Loss: 0.0177, Validation Accuracy: 78.00%\n",
      "Epoch [20/50], Loss: 0.0154, Validation Accuracy: 79.00%\n",
      "Epoch [21/50], Loss: 0.0137, Validation Accuracy: 78.00%\n",
      "Epoch [22/50], Loss: 0.0119, Validation Accuracy: 78.00%\n",
      "Epoch [23/50], Loss: 0.0105, Validation Accuracy: 79.00%\n",
      "Epoch [24/50], Loss: 0.0094, Validation Accuracy: 79.00%\n",
      "Epoch [25/50], Loss: 0.0084, Validation Accuracy: 79.00%\n",
      "Epoch [26/50], Loss: 0.0077, Validation Accuracy: 79.00%\n",
      "Epoch [27/50], Loss: 0.0068, Validation Accuracy: 79.00%\n",
      "Epoch [28/50], Loss: 0.0063, Validation Accuracy: 78.00%\n",
      "Epoch [29/50], Loss: 0.0057, Validation Accuracy: 79.00%\n",
      "Epoch [30/50], Loss: 0.0052, Validation Accuracy: 79.00%\n",
      "Epoch [31/50], Loss: 0.0048, Validation Accuracy: 80.00%\n",
      "Epoch [32/50], Loss: 0.0044, Validation Accuracy: 79.00%\n",
      "Epoch [33/50], Loss: 0.0041, Validation Accuracy: 79.00%\n",
      "Epoch [34/50], Loss: 0.0038, Validation Accuracy: 79.00%\n",
      "Epoch [35/50], Loss: 0.0035, Validation Accuracy: 79.00%\n",
      "Epoch [36/50], Loss: 0.0033, Validation Accuracy: 79.00%\n",
      "Epoch [37/50], Loss: 0.0031, Validation Accuracy: 80.00%\n",
      "Epoch [38/50], Loss: 0.0029, Validation Accuracy: 80.00%\n",
      "Epoch [39/50], Loss: 0.0027, Validation Accuracy: 79.00%\n",
      "Epoch [40/50], Loss: 0.0025, Validation Accuracy: 80.00%\n",
      "Epoch [41/50], Loss: 0.0024, Validation Accuracy: 79.00%\n",
      "Epoch [42/50], Loss: 0.0023, Validation Accuracy: 79.00%\n",
      "Epoch [43/50], Loss: 0.0021, Validation Accuracy: 79.00%\n",
      "Epoch [44/50], Loss: 0.0020, Validation Accuracy: 80.00%\n",
      "Epoch [45/50], Loss: 0.0019, Validation Accuracy: 80.00%\n",
      "Epoch [46/50], Loss: 0.0017, Validation Accuracy: 80.00%\n",
      "Epoch [47/50], Loss: 0.0016, Validation Accuracy: 79.00%\n",
      "Epoch [48/50], Loss: 0.0015, Validation Accuracy: 79.00%\n",
      "Epoch [49/50], Loss: 0.0015, Validation Accuracy: 80.00%\n",
      "Epoch [50/50], Loss: 0.0014, Validation Accuracy: 79.00%\n",
      "Max Validation Accuracy for 1 hidden layer(s): 80.00%\n",
      "\n",
      "Training model with 3 hidden layer(s)\n",
      "Epoch [1/50], Loss: 2.2429, Validation Accuracy: 14.00%\n",
      "Epoch [2/50], Loss: 1.8982, Validation Accuracy: 25.00%\n",
      "Epoch [3/50], Loss: 1.4943, Validation Accuracy: 29.00%\n",
      "Epoch [4/50], Loss: 1.1399, Validation Accuracy: 49.00%\n",
      "Epoch [5/50], Loss: 0.8152, Validation Accuracy: 68.00%\n",
      "Epoch [6/50], Loss: 0.5550, Validation Accuracy: 70.00%\n",
      "Epoch [7/50], Loss: 0.3823, Validation Accuracy: 79.00%\n",
      "Epoch [8/50], Loss: 0.2838, Validation Accuracy: 72.00%\n",
      "Epoch [9/50], Loss: 0.2149, Validation Accuracy: 74.00%\n",
      "Epoch [10/50], Loss: 0.1716, Validation Accuracy: 77.00%\n",
      "Epoch [11/50], Loss: 0.1343, Validation Accuracy: 78.00%\n",
      "Epoch [12/50], Loss: 0.0952, Validation Accuracy: 79.00%\n",
      "Epoch [13/50], Loss: 0.0694, Validation Accuracy: 77.00%\n",
      "Epoch [14/50], Loss: 0.0564, Validation Accuracy: 80.00%\n",
      "Epoch [15/50], Loss: 0.0434, Validation Accuracy: 83.00%\n",
      "Epoch [16/50], Loss: 0.0328, Validation Accuracy: 81.00%\n",
      "Epoch [17/50], Loss: 0.0238, Validation Accuracy: 80.00%\n",
      "Epoch [18/50], Loss: 0.0204, Validation Accuracy: 81.00%\n",
      "Epoch [19/50], Loss: 0.0153, Validation Accuracy: 80.00%\n",
      "Epoch [20/50], Loss: 0.0132, Validation Accuracy: 82.00%\n",
      "Epoch [21/50], Loss: 0.0100, Validation Accuracy: 81.00%\n",
      "Epoch [22/50], Loss: 0.0086, Validation Accuracy: 80.00%\n",
      "Epoch [23/50], Loss: 0.0070, Validation Accuracy: 80.00%\n",
      "Epoch [24/50], Loss: 0.0064, Validation Accuracy: 83.00%\n",
      "Epoch [25/50], Loss: 0.0055, Validation Accuracy: 81.00%\n",
      "Epoch [26/50], Loss: 0.0049, Validation Accuracy: 82.00%\n",
      "Epoch [27/50], Loss: 0.0044, Validation Accuracy: 82.00%\n",
      "Epoch [28/50], Loss: 0.0039, Validation Accuracy: 82.00%\n",
      "Epoch [29/50], Loss: 0.0034, Validation Accuracy: 82.00%\n",
      "Epoch [30/50], Loss: 0.0030, Validation Accuracy: 82.00%\n",
      "Epoch [31/50], Loss: 0.0028, Validation Accuracy: 83.00%\n",
      "Epoch [32/50], Loss: 0.0025, Validation Accuracy: 82.00%\n",
      "Epoch [33/50], Loss: 0.0023, Validation Accuracy: 82.00%\n",
      "Epoch [34/50], Loss: 0.0021, Validation Accuracy: 82.00%\n",
      "Epoch [35/50], Loss: 0.0019, Validation Accuracy: 83.00%\n",
      "Epoch [36/50], Loss: 0.0018, Validation Accuracy: 83.00%\n",
      "Epoch [37/50], Loss: 0.0016, Validation Accuracy: 82.00%\n",
      "Epoch [38/50], Loss: 0.0015, Validation Accuracy: 82.00%\n",
      "Epoch [39/50], Loss: 0.0014, Validation Accuracy: 82.00%\n",
      "Epoch [40/50], Loss: 0.0013, Validation Accuracy: 83.00%\n",
      "Epoch [41/50], Loss: 0.0012, Validation Accuracy: 82.00%\n",
      "Epoch [42/50], Loss: 0.0012, Validation Accuracy: 82.00%\n",
      "Epoch [43/50], Loss: 0.0011, Validation Accuracy: 82.00%\n",
      "Epoch [44/50], Loss: 0.0010, Validation Accuracy: 83.00%\n",
      "Epoch [45/50], Loss: 0.0010, Validation Accuracy: 82.00%\n",
      "Epoch [46/50], Loss: 0.0009, Validation Accuracy: 82.00%\n",
      "Epoch [47/50], Loss: 0.0008, Validation Accuracy: 83.00%\n",
      "Epoch [48/50], Loss: 0.0008, Validation Accuracy: 83.00%\n",
      "Epoch [49/50], Loss: 0.0008, Validation Accuracy: 83.00%\n",
      "Epoch [50/50], Loss: 0.0007, Validation Accuracy: 82.00%\n",
      "Max Validation Accuracy for 3 hidden layer(s): 83.00%\n",
      "\n",
      "Training model with 5 hidden layer(s)\n",
      "Epoch [1/50], Loss: 2.2489, Validation Accuracy: 8.00%\n",
      "Epoch [2/50], Loss: 2.0945, Validation Accuracy: 12.00%\n",
      "Epoch [3/50], Loss: 1.8320, Validation Accuracy: 28.00%\n",
      "Epoch [4/50], Loss: 1.6085, Validation Accuracy: 33.00%\n",
      "Epoch [5/50], Loss: 1.3976, Validation Accuracy: 42.00%\n",
      "Epoch [6/50], Loss: 1.1273, Validation Accuracy: 55.00%\n",
      "Epoch [7/50], Loss: 0.8561, Validation Accuracy: 59.00%\n",
      "Epoch [8/50], Loss: 0.6577, Validation Accuracy: 58.00%\n",
      "Epoch [9/50], Loss: 0.5138, Validation Accuracy: 68.00%\n",
      "Epoch [10/50], Loss: 0.3647, Validation Accuracy: 78.00%\n",
      "Epoch [11/50], Loss: 0.2568, Validation Accuracy: 74.00%\n",
      "Epoch [12/50], Loss: 0.1904, Validation Accuracy: 78.00%\n",
      "Epoch [13/50], Loss: 0.1288, Validation Accuracy: 75.00%\n",
      "Epoch [14/50], Loss: 0.0938, Validation Accuracy: 76.00%\n",
      "Epoch [15/50], Loss: 0.0677, Validation Accuracy: 76.00%\n",
      "Epoch [16/50], Loss: 0.0542, Validation Accuracy: 78.00%\n",
      "Epoch [17/50], Loss: 0.0459, Validation Accuracy: 77.00%\n",
      "Epoch [18/50], Loss: 0.0427, Validation Accuracy: 75.00%\n",
      "Epoch [19/50], Loss: 0.0336, Validation Accuracy: 79.00%\n",
      "Epoch [20/50], Loss: 0.0272, Validation Accuracy: 77.00%\n",
      "Epoch [21/50], Loss: 0.0220, Validation Accuracy: 79.00%\n",
      "Epoch [22/50], Loss: 0.0214, Validation Accuracy: 79.00%\n",
      "Epoch [23/50], Loss: 0.0182, Validation Accuracy: 76.00%\n",
      "Epoch [24/50], Loss: 0.0142, Validation Accuracy: 79.00%\n",
      "Epoch [25/50], Loss: 0.0119, Validation Accuracy: 77.00%\n",
      "Epoch [26/50], Loss: 0.0134, Validation Accuracy: 77.00%\n",
      "Epoch [27/50], Loss: 0.0164, Validation Accuracy: 76.00%\n",
      "Epoch [28/50], Loss: 0.0100, Validation Accuracy: 76.00%\n",
      "Epoch [29/50], Loss: 0.0071, Validation Accuracy: 76.00%\n",
      "Epoch [30/50], Loss: 0.0055, Validation Accuracy: 76.00%\n",
      "Epoch [31/50], Loss: 0.0043, Validation Accuracy: 76.00%\n",
      "Epoch [32/50], Loss: 0.0042, Validation Accuracy: 75.00%\n",
      "Epoch [33/50], Loss: 0.0033, Validation Accuracy: 74.00%\n",
      "Epoch [34/50], Loss: 0.0029, Validation Accuracy: 75.00%\n",
      "Epoch [35/50], Loss: 0.0025, Validation Accuracy: 75.00%\n",
      "Epoch [36/50], Loss: 0.0021, Validation Accuracy: 75.00%\n",
      "Epoch [37/50], Loss: 0.0019, Validation Accuracy: 75.00%\n",
      "Epoch [38/50], Loss: 0.0017, Validation Accuracy: 75.00%\n",
      "Epoch [39/50], Loss: 0.0015, Validation Accuracy: 76.00%\n",
      "Epoch [40/50], Loss: 0.0014, Validation Accuracy: 75.00%\n",
      "Epoch [41/50], Loss: 0.0013, Validation Accuracy: 77.00%\n",
      "Epoch [42/50], Loss: 0.0012, Validation Accuracy: 75.00%\n",
      "Epoch [43/50], Loss: 0.0010, Validation Accuracy: 75.00%\n",
      "Epoch [44/50], Loss: 0.0010, Validation Accuracy: 76.00%\n",
      "Epoch [45/50], Loss: 0.0009, Validation Accuracy: 76.00%\n",
      "Epoch [46/50], Loss: 0.0008, Validation Accuracy: 76.00%\n",
      "Epoch [47/50], Loss: 0.0007, Validation Accuracy: 76.00%\n",
      "Epoch [48/50], Loss: 0.0007, Validation Accuracy: 76.00%\n",
      "Epoch [49/50], Loss: 0.0006, Validation Accuracy: 76.00%\n",
      "Epoch [50/50], Loss: 0.0006, Validation Accuracy: 76.00%\n",
      "Max Validation Accuracy for 5 hidden layer(s): 79.00%\n"
     ]
    }
   ],
   "source": [
    "# list to store the maximum validation accuracies for each model\n",
    "max_val_accuracies = []\n",
    "hidden_layers_list = [1, 3, 5]\n",
    "\n",
    "for num_hidden_layers in hidden_layers_list:\n",
    "    print(f'\\nTraining model with {num_hidden_layers} hidden layer(s)')\n",
    "    \n",
    "    # instantiate the model\n",
    "    model = MLPClassif(input_size, hidden_size, output_size, num_hidden_layers)\n",
    "    \n",
    "    # initialize params for reproducibility\n",
    "    torch.manual_seed(0)\n",
    "    model.apply(init_params)\n",
    "    \n",
    "    # Adam optimizer\n",
    "    optimizer = torch.optim.Adam(model.parameters(), lr=learning_rate)\n",
    "    \n",
    "    # train\n",
    "    best_model, train_losses, val_accuracies = train_with_validation(\n",
    "        model, train_dataloader, valid_dataloader, loss_fn, optimizer, num_epochs\n",
    "    )\n",
    "    \n",
    "    # store the max validation accuracy\n",
    "    max_val_accuracy = max(val_accuracies)\n",
    "    max_val_accuracies.append(max_val_accuracy)\n",
    "    \n",
    "    print(f'Max Validation Accuracy for {num_hidden_layers} hidden layer(s): {max_val_accuracy:.2f}%')"
   ]
  },
  {
   "cell_type": "code",
   "execution_count": 17,
   "metadata": {},
   "outputs": [
    {
     "data": {
      "image/png": "[encoded data removed]",
      "text/plain": [
       "<Figure size 800x600 with 1 Axes>"
      ]
     },
     "metadata": {},
     "output_type": "display_data"
    }
   ],
   "source": [
    "import matplotlib.pyplot as plt\n",
    "\n",
    "# plot the max validation accuracy vs. number of hidden layers\n",
    "plt.figure(figsize=(8, 6))\n",
    "plt.plot(hidden_layers_list, max_val_accuracies, marker='o')\n",
    "plt.title('Max Validation Accuracy vs Number of Hidden Layers')\n",
    "plt.xlabel('Number of Hidden Layers')\n",
    "plt.ylabel('Max Validation Accuracy (%)')\n",
    "plt.xticks(hidden_layers_list)\n",
    "plt.grid(True)\n",
    "plt.show()"
   ]
  },
  {
   "cell_type": "markdown",
   "metadata": {},
   "source": [
    "The model with 3 hidden layers achieved the highest validation accuracy of 83%. The model with 1 hidden layer reached a slightly lower accuracy of 80%, while the model with 5 hidden layers performed worse, achieving only 79% accuracy. This indicates that increasing the number of hidden layers beyond a certain point can lead to overfitting, where the model becomes too specialized to the training data and performs poorly on new data. \n",
    "\n",
    "Therefore, the best model to use is the one with 3 hidden layers, as it provides the optimal balance between model complexity and generalization to unseen data."
   ]
  }
 ],
 "metadata": {
  "kernelspec": {
   "display_name": "Python 3 (ipykernel)",
   "language": "python",
   "name": "python3"
  },
  "language_info": {
   "codemirror_mode": {
    "name": "ipython",
    "version": 3
   },
   "file_extension": ".py",
   "mimetype": "text/x-python",
   "name": "python",
   "nbconvert_exporter": "python",
   "pygments_lexer": "ipython3",
   "version": "3.11.9"
  }
 },
 "nbformat": 4,
 "nbformat_minor": 4
}
